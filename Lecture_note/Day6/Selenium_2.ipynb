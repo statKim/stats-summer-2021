{
 "cells": [
  {
   "cell_type": "markdown",
   "id": "f228f1c0-026c-4051-a564-b4c907021733",
   "metadata": {},
   "source": [
    "# 예제3) 네이버 뉴스 제목 크롤링\n",
    "- `과학 일반`에서 제목과 url, 신문사 정보 가져오기\n",
    "- 근데 이건 셀레니움 아니어도 되지 않음??\n",
    "- 제목, url, 신문사(?) 등 데이터프레임으로 만들어서 csv 파일로 저장"
   ]
  },
  {
   "cell_type": "code",
   "execution_count": 68,
   "id": "50e49d45-ed36-4db6-8938-71620b298139",
   "metadata": {},
   "outputs": [],
   "source": [
    "# 라이브러리 불러오기\n",
    "from selenium import webdriver\n",
    "import pandas as pd"
   ]
  },
  {
   "cell_type": "code",
   "execution_count": 69,
   "id": "4370d970-5c90-4d80-bca6-cf2db8774930",
   "metadata": {},
   "outputs": [],
   "source": [
    "# # 윈도우\n",
    "# driver_path = \"../driver/chromedriver.exe\"\n",
    "# 맥\n",
    "driver_path = \"../driver/chromedriver\"\n",
    "\n",
    "driver = webdriver.Chrome(driver_path)"
   ]
  },
  {
   "cell_type": "code",
   "execution_count": 70,
   "id": "908e8e67-ce96-4e91-bf5f-0d363b3138e1",
   "metadata": {},
   "outputs": [],
   "source": [
    "# 네이버 뉴스로 이동\n",
    "url_page = \"https://news.naver.com/main/list.nhn?mode=LS2D&mid=shm&sid1=105&sid2=228\"\n",
    "driver.get(url_page)\n",
    "driver.implicitly_wait(1)   # 잠시 기다리기"
   ]
  },
  {
   "cell_type": "markdown",
   "id": "13b7d022-4ca7-40b0-a197-905a461263bf",
   "metadata": {},
   "source": [
    "## 기사 제목 가져오기"
   ]
  },
  {
   "cell_type": "code",
   "execution_count": 71,
   "id": "af38a47f-d161-464f-a027-4af42bc9cac0",
   "metadata": {},
   "outputs": [
    {
     "data": {
      "text/plain": [
       "[<selenium.webdriver.remote.webelement.WebElement (session=\"fc634ffd85d63286cecd0917b36275d1\", element=\"92a2cd1c-6a76-47f3-ac63-75eedcc9ce83\")>,\n",
       " <selenium.webdriver.remote.webelement.WebElement (session=\"fc634ffd85d63286cecd0917b36275d1\", element=\"eeef4782-ee30-4961-9931-34d743938f2a\")>,\n",
       " <selenium.webdriver.remote.webelement.WebElement (session=\"fc634ffd85d63286cecd0917b36275d1\", element=\"a125c719-db60-4782-b93e-ba3f41c6dcdb\")>,\n",
       " <selenium.webdriver.remote.webelement.WebElement (session=\"fc634ffd85d63286cecd0917b36275d1\", element=\"468ff259-55de-42eb-a2a7-4d893a5a1b10\")>,\n",
       " <selenium.webdriver.remote.webelement.WebElement (session=\"fc634ffd85d63286cecd0917b36275d1\", element=\"3b7b1ed5-efd8-496d-a3c3-efc9233caa60\")>,\n",
       " <selenium.webdriver.remote.webelement.WebElement (session=\"fc634ffd85d63286cecd0917b36275d1\", element=\"e89a3283-d268-44d1-83b1-cb60c0ae3aa9\")>,\n",
       " <selenium.webdriver.remote.webelement.WebElement (session=\"fc634ffd85d63286cecd0917b36275d1\", element=\"88b38412-59e8-4c33-ac86-53586c65b13c\")>,\n",
       " <selenium.webdriver.remote.webelement.WebElement (session=\"fc634ffd85d63286cecd0917b36275d1\", element=\"3c7063ba-8ed5-44e4-9961-4247c7f8b636\")>,\n",
       " <selenium.webdriver.remote.webelement.WebElement (session=\"fc634ffd85d63286cecd0917b36275d1\", element=\"db5af2c5-aa10-432f-b27e-805afc1ac2a5\")>,\n",
       " <selenium.webdriver.remote.webelement.WebElement (session=\"fc634ffd85d63286cecd0917b36275d1\", element=\"ab1b5638-6e4b-4818-9ec9-536d6e2652a7\")>,\n",
       " <selenium.webdriver.remote.webelement.WebElement (session=\"fc634ffd85d63286cecd0917b36275d1\", element=\"967f7373-b257-4420-a370-9acec1accb13\")>,\n",
       " <selenium.webdriver.remote.webelement.WebElement (session=\"fc634ffd85d63286cecd0917b36275d1\", element=\"4cd0dc62-3903-48ae-839a-1ae93f70814c\")>,\n",
       " <selenium.webdriver.remote.webelement.WebElement (session=\"fc634ffd85d63286cecd0917b36275d1\", element=\"3890c3e8-a005-4569-8ed2-94b1083492fe\")>,\n",
       " <selenium.webdriver.remote.webelement.WebElement (session=\"fc634ffd85d63286cecd0917b36275d1\", element=\"9b36e400-a433-4a91-8087-7e7b36d2c82f\")>,\n",
       " <selenium.webdriver.remote.webelement.WebElement (session=\"fc634ffd85d63286cecd0917b36275d1\", element=\"de08b258-9bd4-4851-b0b7-0c24c0664caa\")>,\n",
       " <selenium.webdriver.remote.webelement.WebElement (session=\"fc634ffd85d63286cecd0917b36275d1\", element=\"4da40af5-c990-4f54-9748-190b89977053\")>,\n",
       " <selenium.webdriver.remote.webelement.WebElement (session=\"fc634ffd85d63286cecd0917b36275d1\", element=\"f85ccdcd-8ed3-46c6-ada5-37ffa5a6bc88\")>]"
      ]
     },
     "execution_count": 71,
     "metadata": {},
     "output_type": "execute_result"
    }
   ],
   "source": [
    "# 삽질 1\n",
    "driver.find_elements_by_css_selector(\"#main_content > div.list_body.newsflash_body > ul.type06_headline > li > dl > dt > a\")"
   ]
  },
  {
   "cell_type": "code",
   "execution_count": 72,
   "id": "301dd5b4-952e-44d2-a12a-7ee04697a8cb",
   "metadata": {},
   "outputs": [
    {
     "data": {
      "text/plain": [
       "['',\n",
       " '임혜숙 과기정통부 장관 “ICT 인재부족 심각···민·관·학 인재육성 플랫폼 구축할 것\"',\n",
       " '',\n",
       " '충북도 K-바이오 랩허브 1차 관문 통과…9일 최종 결정',\n",
       " '',\n",
       " '\\'4전5기\\' 변리사 특허 소송대리법 이번엔?...국회 \"공청회 등 논의 확대 필요\"',\n",
       " '',\n",
       " 'SD바이오센서 \"조만간 M&A 본격화…유통사·신기술 기업 관심\"',\n",
       " '유비케어, 휴대용 단말기·EMR 연동 기술 국내 특허 획득',\n",
       " '[인사] 경희의료원',\n",
       " '',\n",
       " '제넥신-툴젠, CAR-NK세포 유전자치료제 공동연구개발 계약',\n",
       " '',\n",
       " '셀트리온 코로나19 항체치료제 브라질 변이에도 효과',\n",
       " '',\n",
       " '[일문일답]임혜숙 장관, \"대한민국 과학기술·ICT 최고 되도록 지원하겠다\"',\n",
       " '고바이오랩, 궤양성대장염 마이크로바이옴 신약 FDA 2a상 승인']"
      ]
     },
     "execution_count": 72,
     "metadata": {},
     "output_type": "execute_result"
    }
   ],
   "source": [
    "[i.text for i in driver.find_elements_by_css_selector(\"#main_content > div.list_body.newsflash_body > ul.type06_headline > li > dl > dt > a\")]"
   ]
  },
  {
   "cell_type": "code",
   "execution_count": 73,
   "id": "ba76023f-a330-4d74-b62a-44a4dc903163",
   "metadata": {},
   "outputs": [
    {
     "data": {
      "text/plain": [
       "[<selenium.webdriver.remote.webelement.WebElement (session=\"fc634ffd85d63286cecd0917b36275d1\", element=\"92a2cd1c-6a76-47f3-ac63-75eedcc9ce83\")>,\n",
       " <selenium.webdriver.remote.webelement.WebElement (session=\"fc634ffd85d63286cecd0917b36275d1\", element=\"eeef4782-ee30-4961-9931-34d743938f2a\")>,\n",
       " <selenium.webdriver.remote.webelement.WebElement (session=\"fc634ffd85d63286cecd0917b36275d1\", element=\"a125c719-db60-4782-b93e-ba3f41c6dcdb\")>,\n",
       " <selenium.webdriver.remote.webelement.WebElement (session=\"fc634ffd85d63286cecd0917b36275d1\", element=\"468ff259-55de-42eb-a2a7-4d893a5a1b10\")>,\n",
       " <selenium.webdriver.remote.webelement.WebElement (session=\"fc634ffd85d63286cecd0917b36275d1\", element=\"3b7b1ed5-efd8-496d-a3c3-efc9233caa60\")>,\n",
       " <selenium.webdriver.remote.webelement.WebElement (session=\"fc634ffd85d63286cecd0917b36275d1\", element=\"e89a3283-d268-44d1-83b1-cb60c0ae3aa9\")>,\n",
       " <selenium.webdriver.remote.webelement.WebElement (session=\"fc634ffd85d63286cecd0917b36275d1\", element=\"88b38412-59e8-4c33-ac86-53586c65b13c\")>,\n",
       " <selenium.webdriver.remote.webelement.WebElement (session=\"fc634ffd85d63286cecd0917b36275d1\", element=\"3c7063ba-8ed5-44e4-9961-4247c7f8b636\")>,\n",
       " <selenium.webdriver.remote.webelement.WebElement (session=\"fc634ffd85d63286cecd0917b36275d1\", element=\"db5af2c5-aa10-432f-b27e-805afc1ac2a5\")>,\n",
       " <selenium.webdriver.remote.webelement.WebElement (session=\"fc634ffd85d63286cecd0917b36275d1\", element=\"ab1b5638-6e4b-4818-9ec9-536d6e2652a7\")>,\n",
       " <selenium.webdriver.remote.webelement.WebElement (session=\"fc634ffd85d63286cecd0917b36275d1\", element=\"967f7373-b257-4420-a370-9acec1accb13\")>,\n",
       " <selenium.webdriver.remote.webelement.WebElement (session=\"fc634ffd85d63286cecd0917b36275d1\", element=\"4cd0dc62-3903-48ae-839a-1ae93f70814c\")>,\n",
       " <selenium.webdriver.remote.webelement.WebElement (session=\"fc634ffd85d63286cecd0917b36275d1\", element=\"3890c3e8-a005-4569-8ed2-94b1083492fe\")>,\n",
       " <selenium.webdriver.remote.webelement.WebElement (session=\"fc634ffd85d63286cecd0917b36275d1\", element=\"9b36e400-a433-4a91-8087-7e7b36d2c82f\")>,\n",
       " <selenium.webdriver.remote.webelement.WebElement (session=\"fc634ffd85d63286cecd0917b36275d1\", element=\"de08b258-9bd4-4851-b0b7-0c24c0664caa\")>,\n",
       " <selenium.webdriver.remote.webelement.WebElement (session=\"fc634ffd85d63286cecd0917b36275d1\", element=\"4da40af5-c990-4f54-9748-190b89977053\")>,\n",
       " <selenium.webdriver.remote.webelement.WebElement (session=\"fc634ffd85d63286cecd0917b36275d1\", element=\"f85ccdcd-8ed3-46c6-ada5-37ffa5a6bc88\")>,\n",
       " <selenium.webdriver.remote.webelement.WebElement (session=\"fc634ffd85d63286cecd0917b36275d1\", element=\"177d6920-ffc7-4e48-ae4e-a52afe48ac4b\")>,\n",
       " <selenium.webdriver.remote.webelement.WebElement (session=\"fc634ffd85d63286cecd0917b36275d1\", element=\"5c420775-10cd-4931-9650-56800d3d0986\")>,\n",
       " <selenium.webdriver.remote.webelement.WebElement (session=\"fc634ffd85d63286cecd0917b36275d1\", element=\"9745917c-1048-4255-8581-0fc55c1ecb28\")>,\n",
       " <selenium.webdriver.remote.webelement.WebElement (session=\"fc634ffd85d63286cecd0917b36275d1\", element=\"e0e72239-fa42-4ac0-a69b-04dcbf3e38d6\")>,\n",
       " <selenium.webdriver.remote.webelement.WebElement (session=\"fc634ffd85d63286cecd0917b36275d1\", element=\"b51c2a12-c247-468f-9d3e-deec173d005c\")>,\n",
       " <selenium.webdriver.remote.webelement.WebElement (session=\"fc634ffd85d63286cecd0917b36275d1\", element=\"7550c22c-28cc-49cb-b73f-3f1578008e0d\")>,\n",
       " <selenium.webdriver.remote.webelement.WebElement (session=\"fc634ffd85d63286cecd0917b36275d1\", element=\"7c370df4-ea72-4d21-bd54-e66251a22e72\")>,\n",
       " <selenium.webdriver.remote.webelement.WebElement (session=\"fc634ffd85d63286cecd0917b36275d1\", element=\"fd22da47-4c02-4671-825b-9536daa43983\")>,\n",
       " <selenium.webdriver.remote.webelement.WebElement (session=\"fc634ffd85d63286cecd0917b36275d1\", element=\"c4ce15c0-3cb6-44d4-8d3f-7cfec00072f4\")>,\n",
       " <selenium.webdriver.remote.webelement.WebElement (session=\"fc634ffd85d63286cecd0917b36275d1\", element=\"a56cc7fa-18ac-4abc-bba3-8104e0d73fc9\")>,\n",
       " <selenium.webdriver.remote.webelement.WebElement (session=\"fc634ffd85d63286cecd0917b36275d1\", element=\"7aa6b8b9-73ef-478c-bae1-157e757c5e33\")>,\n",
       " <selenium.webdriver.remote.webelement.WebElement (session=\"fc634ffd85d63286cecd0917b36275d1\", element=\"818e737d-1bd3-4faa-841b-f9ad890494d9\")>,\n",
       " <selenium.webdriver.remote.webelement.WebElement (session=\"fc634ffd85d63286cecd0917b36275d1\", element=\"90eabdcd-832d-4c0d-9aff-79873b0eaa66\")>,\n",
       " <selenium.webdriver.remote.webelement.WebElement (session=\"fc634ffd85d63286cecd0917b36275d1\", element=\"b3dfa43f-a379-41bb-a0b0-7d15892b8b8e\")>,\n",
       " <selenium.webdriver.remote.webelement.WebElement (session=\"fc634ffd85d63286cecd0917b36275d1\", element=\"9a7076a3-b572-4bc1-a7c5-74ab90d2424b\")>,\n",
       " <selenium.webdriver.remote.webelement.WebElement (session=\"fc634ffd85d63286cecd0917b36275d1\", element=\"21880028-c65b-45ac-bf83-ceb3b9a81ec2\")>,\n",
       " <selenium.webdriver.remote.webelement.WebElement (session=\"fc634ffd85d63286cecd0917b36275d1\", element=\"2727fa42-ec96-4dfc-94c9-d183f9b3e215\")>,\n",
       " <selenium.webdriver.remote.webelement.WebElement (session=\"fc634ffd85d63286cecd0917b36275d1\", element=\"939949de-1d41-4050-b661-169e38f2225b\")>]"
      ]
     },
     "execution_count": 73,
     "metadata": {},
     "output_type": "execute_result"
    }
   ],
   "source": [
    "# 성공! but 뭔가 너무 많음\n",
    "driver.find_elements_by_css_selector(\"li > dl > dt > a\")"
   ]
  },
  {
   "cell_type": "code",
   "execution_count": 74,
   "id": "3ea8a3fd-5844-4025-ae56-4c2ebca7a9ae",
   "metadata": {},
   "outputs": [
    {
     "data": {
      "text/plain": [
       "['',\n",
       " '임혜숙 과기정통부 장관 “ICT 인재부족 심각···민·관·학 인재육성 플랫폼 구축할 것\"',\n",
       " '',\n",
       " '충북도 K-바이오 랩허브 1차 관문 통과…9일 최종 결정',\n",
       " '',\n",
       " '\\'4전5기\\' 변리사 특허 소송대리법 이번엔?...국회 \"공청회 등 논의 확대 필요\"',\n",
       " '',\n",
       " 'SD바이오센서 \"조만간 M&A 본격화…유통사·신기술 기업 관심\"',\n",
       " '유비케어, 휴대용 단말기·EMR 연동 기술 국내 특허 획득',\n",
       " '[인사] 경희의료원',\n",
       " '',\n",
       " '제넥신-툴젠, CAR-NK세포 유전자치료제 공동연구개발 계약',\n",
       " '',\n",
       " '셀트리온 코로나19 항체치료제 브라질 변이에도 효과',\n",
       " '',\n",
       " '[일문일답]임혜숙 장관, \"대한민국 과학기술·ICT 최고 되도록 지원하겠다\"',\n",
       " '고바이오랩, 궤양성대장염 마이크로바이옴 신약 FDA 2a상 승인',\n",
       " '',\n",
       " '[일문일답]\"네·카·라·쿠·배에 취업할 젊은 인재들 양성에 총력\"',\n",
       " '피씨엘 \"100억원대 손배 국제중재신청 제기…사실 아니다\"',\n",
       " '',\n",
       " '에이비엘바이오 \"이중항체 리뷰 논문, 국제학술지 등재\"',\n",
       " '',\n",
       " '[일문일답] 임혜숙 과기장관 \"28㎓ 5G 공동구축, 좋은 아이디어 아냐\"',\n",
       " '',\n",
       " '임혜숙 장관 \"앞으로 1년 과기정통부 할 일 세 가지 있다\"',\n",
       " '',\n",
       " '[속보] 국내 접종완료자 변이유행국 방문 안했다면 귀국 때 PCR 4회→2회',\n",
       " '',\n",
       " '\"한국, 화이자·모더나와 백신 생산 협의…한미·큐라티스 거론\"',\n",
       " '',\n",
       " '임혜숙 “도전적이지 못해 누리호 개량형 예타 통과 못했다”',\n",
       " '차백신연구소, 면역증강제 활용 항암제 개발 정부과제 선정',\n",
       " '',\n",
       " '임혜숙 장관, \"누리호 개량형 예타, 도전성 보완해 재도전 해야\"']"
      ]
     },
     "execution_count": 74,
     "metadata": {},
     "output_type": "execute_result"
    }
   ],
   "source": [
    "# 글자만 뽑아서 확인\n",
    "title = [i.text for i in driver.find_elements_by_css_selector(\"li > dl > dt > a\")]\n",
    "title"
   ]
  },
  {
   "cell_type": "code",
   "execution_count": 75,
   "id": "a27d64bc-b28a-4f02-99e2-6e7aed01da68",
   "metadata": {},
   "outputs": [
    {
     "data": {
      "text/plain": [
       "['임혜숙 과기정통부 장관 “ICT 인재부족 심각···민·관·학 인재육성 플랫폼 구축할 것\"',\n",
       " '충북도 K-바이오 랩허브 1차 관문 통과…9일 최종 결정',\n",
       " '\\'4전5기\\' 변리사 특허 소송대리법 이번엔?...국회 \"공청회 등 논의 확대 필요\"',\n",
       " 'SD바이오센서 \"조만간 M&A 본격화…유통사·신기술 기업 관심\"',\n",
       " '유비케어, 휴대용 단말기·EMR 연동 기술 국내 특허 획득',\n",
       " '[인사] 경희의료원',\n",
       " '제넥신-툴젠, CAR-NK세포 유전자치료제 공동연구개발 계약',\n",
       " '셀트리온 코로나19 항체치료제 브라질 변이에도 효과',\n",
       " '[일문일답]임혜숙 장관, \"대한민국 과학기술·ICT 최고 되도록 지원하겠다\"',\n",
       " '고바이오랩, 궤양성대장염 마이크로바이옴 신약 FDA 2a상 승인',\n",
       " '[일문일답]\"네·카·라·쿠·배에 취업할 젊은 인재들 양성에 총력\"',\n",
       " '피씨엘 \"100억원대 손배 국제중재신청 제기…사실 아니다\"',\n",
       " '에이비엘바이오 \"이중항체 리뷰 논문, 국제학술지 등재\"',\n",
       " '[일문일답] 임혜숙 과기장관 \"28㎓ 5G 공동구축, 좋은 아이디어 아냐\"',\n",
       " '임혜숙 장관 \"앞으로 1년 과기정통부 할 일 세 가지 있다\"',\n",
       " '[속보] 국내 접종완료자 변이유행국 방문 안했다면 귀국 때 PCR 4회→2회',\n",
       " '\"한국, 화이자·모더나와 백신 생산 협의…한미·큐라티스 거론\"',\n",
       " '임혜숙 “도전적이지 못해 누리호 개량형 예타 통과 못했다”',\n",
       " '차백신연구소, 면역증강제 활용 항암제 개발 정부과제 선정',\n",
       " '임혜숙 장관, \"누리호 개량형 예타, 도전성 보완해 재도전 해야\"']"
      ]
     },
     "execution_count": 75,
     "metadata": {},
     "output_type": "execute_result"
    }
   ],
   "source": [
    "# 불필요한 원소 제거\n",
    "title = [i for i in title if i != \"\"]\n",
    "title"
   ]
  },
  {
   "cell_type": "code",
   "execution_count": 76,
   "id": "57643608-130f-48dc-9cf8-1c85892b444a",
   "metadata": {},
   "outputs": [
    {
     "data": {
      "text/plain": [
       "20"
      ]
     },
     "execution_count": 76,
     "metadata": {},
     "output_type": "execute_result"
    }
   ],
   "source": [
    "# 정상적으로 20개 생성\n",
    "len(title)"
   ]
  },
  {
   "cell_type": "markdown",
   "id": "9ea51202-3b24-434b-ab03-8e25c6882842",
   "metadata": {},
   "source": [
    "## 기사 url 가져오기"
   ]
  },
  {
   "cell_type": "code",
   "execution_count": 77,
   "id": "87269d10-72ca-4060-a630-06472a8b0c31",
   "metadata": {},
   "outputs": [
    {
     "data": {
      "text/plain": [
       "35"
      ]
     },
     "execution_count": 77,
     "metadata": {},
     "output_type": "execute_result"
    }
   ],
   "source": [
    "# 아까 찾은 규칙을 이용\n",
    "url = [i.get_attribute(\"href\") for i in driver.find_elements_by_css_selector(\"li > dl > dt > a\")]\n",
    "len(url)"
   ]
  },
  {
   "cell_type": "code",
   "execution_count": 78,
   "id": "72d35790-60b8-4fd9-842a-1024671b70c9",
   "metadata": {},
   "outputs": [
    {
     "data": {
      "text/plain": [
       "20"
      ]
     },
     "execution_count": 78,
     "metadata": {},
     "output_type": "execute_result"
    }
   ],
   "source": [
    "# set이라는 중복을 허용하지 않는 자료구조를 이용하여 중복제거 후 다시 리스트로 변환\n",
    "url = list(set(url))\n",
    "len(url)"
   ]
  },
  {
   "cell_type": "code",
   "execution_count": 79,
   "id": "356ca4a7-4662-4144-84a7-c7c0550d7383",
   "metadata": {},
   "outputs": [
    {
     "data": {
      "text/plain": [
       "['https://news.naver.com/main/read.nhn?mode=LS2D&mid=shm&sid1=105&sid2=228&oid=031&aid=0000608715',\n",
       " 'https://news.naver.com/main/read.nhn?mode=LS2D&mid=shm&sid1=105&sid2=228&oid=009&aid=0004819343',\n",
       " 'https://news.naver.com/main/read.nhn?mode=LS2D&mid=shm&sid1=105&sid2=228&oid=277&aid=0004932066',\n",
       " 'https://news.naver.com/main/read.nhn?mode=LS2D&mid=shm&sid1=105&sid2=228&oid=015&aid=0004572952',\n",
       " 'https://news.naver.com/main/read.nhn?mode=LS2D&mid=shm&sid1=105&sid2=228&oid=015&aid=0004573072',\n",
       " 'https://news.naver.com/main/read.nhn?mode=LS2D&mid=shm&sid1=105&sid2=228&oid=001&aid=0012504203',\n",
       " 'https://news.naver.com/main/read.nhn?mode=LS2D&mid=shm&sid1=105&sid2=228&oid=421&aid=0005457356',\n",
       " 'https://news.naver.com/main/read.nhn?mode=LS2D&mid=shm&sid1=105&sid2=228&oid=584&aid=0000014961',\n",
       " 'https://news.naver.com/main/read.nhn?mode=LS2D&mid=shm&sid1=105&sid2=228&oid=015&aid=0004573019',\n",
       " 'https://news.naver.com/main/read.nhn?mode=LS2D&mid=shm&sid1=105&sid2=228&oid=015&aid=0004572993',\n",
       " 'https://news.naver.com/main/read.nhn?mode=LS2D&mid=shm&sid1=105&sid2=228&oid=011&aid=0003932408',\n",
       " 'https://news.naver.com/main/read.nhn?mode=LS2D&mid=shm&sid1=105&sid2=228&oid=421&aid=0005457737',\n",
       " 'https://news.naver.com/main/read.nhn?mode=LS2D&mid=shm&sid1=105&sid2=228&oid=015&aid=0004572981',\n",
       " 'https://news.naver.com/main/read.nhn?mode=LS2D&mid=shm&sid1=105&sid2=228&oid=030&aid=0002955608',\n",
       " 'https://news.naver.com/main/read.nhn?mode=LS2D&mid=shm&sid1=105&sid2=228&oid=366&aid=0000742911',\n",
       " 'https://news.naver.com/main/read.nhn?mode=LS2D&mid=shm&sid1=105&sid2=228&oid=015&aid=0004572968',\n",
       " 'https://news.naver.com/main/read.nhn?mode=LS2D&mid=shm&sid1=105&sid2=228&oid=001&aid=0012504695',\n",
       " 'https://news.naver.com/main/read.nhn?mode=LS2D&mid=shm&sid1=105&sid2=228&oid=584&aid=0000014958',\n",
       " 'https://news.naver.com/main/read.nhn?mode=LS2D&mid=shm&sid1=105&sid2=228&oid=009&aid=0004819340',\n",
       " 'https://news.naver.com/main/read.nhn?mode=LS2D&mid=shm&sid1=105&sid2=228&oid=015&aid=0004573074']"
      ]
     },
     "execution_count": 79,
     "metadata": {},
     "output_type": "execute_result"
    }
   ],
   "source": [
    "url"
   ]
  },
  {
   "cell_type": "markdown",
   "id": "a4b3d9f5-6db2-4a25-9649-018e19b4077a",
   "metadata": {},
   "source": [
    "## 신문사 가져오기"
   ]
  },
  {
   "cell_type": "code",
   "execution_count": 80,
   "id": "f030eb1e-4834-45cf-8bdd-89ad8cf64dd2",
   "metadata": {},
   "outputs": [
    {
     "data": {
      "text/plain": [
       "[<selenium.webdriver.remote.webelement.WebElement (session=\"fc634ffd85d63286cecd0917b36275d1\", element=\"5c1613f1-3a36-45df-92a5-e0a38d16ff34\")>,\n",
       " <selenium.webdriver.remote.webelement.WebElement (session=\"fc634ffd85d63286cecd0917b36275d1\", element=\"74b2bf70-34d7-4449-90a2-d6ecbb107406\")>,\n",
       " <selenium.webdriver.remote.webelement.WebElement (session=\"fc634ffd85d63286cecd0917b36275d1\", element=\"ff08d0aa-dd49-4c78-9497-1e5769c97127\")>,\n",
       " <selenium.webdriver.remote.webelement.WebElement (session=\"fc634ffd85d63286cecd0917b36275d1\", element=\"b37c836f-7a7d-43ac-8ba4-0203bad5558c\")>,\n",
       " <selenium.webdriver.remote.webelement.WebElement (session=\"fc634ffd85d63286cecd0917b36275d1\", element=\"b9bc474d-82f2-4102-8a86-5e75427e5cd2\")>,\n",
       " <selenium.webdriver.remote.webelement.WebElement (session=\"fc634ffd85d63286cecd0917b36275d1\", element=\"de7b195b-ee3c-4aee-ade4-946029c4f579\")>,\n",
       " <selenium.webdriver.remote.webelement.WebElement (session=\"fc634ffd85d63286cecd0917b36275d1\", element=\"55f38032-6898-417c-aa29-738733c963f1\")>,\n",
       " <selenium.webdriver.remote.webelement.WebElement (session=\"fc634ffd85d63286cecd0917b36275d1\", element=\"609249fa-b29d-4d78-b628-0c5f5dbcad04\")>,\n",
       " <selenium.webdriver.remote.webelement.WebElement (session=\"fc634ffd85d63286cecd0917b36275d1\", element=\"9ae709a5-c439-44e2-8e72-c5d2233c1f4c\")>,\n",
       " <selenium.webdriver.remote.webelement.WebElement (session=\"fc634ffd85d63286cecd0917b36275d1\", element=\"dea5f600-eaef-4beb-82cf-f4b31bc8d5ca\")>,\n",
       " <selenium.webdriver.remote.webelement.WebElement (session=\"fc634ffd85d63286cecd0917b36275d1\", element=\"523ea55a-4adb-43da-bffd-57a895be151c\")>,\n",
       " <selenium.webdriver.remote.webelement.WebElement (session=\"fc634ffd85d63286cecd0917b36275d1\", element=\"10591f1e-36fd-4903-8740-2f97008eaf3c\")>,\n",
       " <selenium.webdriver.remote.webelement.WebElement (session=\"fc634ffd85d63286cecd0917b36275d1\", element=\"5176ccc3-9a43-4e51-849a-3a4e0c1576e9\")>,\n",
       " <selenium.webdriver.remote.webelement.WebElement (session=\"fc634ffd85d63286cecd0917b36275d1\", element=\"4c84445f-5603-4c20-bd59-3fb39ef60c05\")>,\n",
       " <selenium.webdriver.remote.webelement.WebElement (session=\"fc634ffd85d63286cecd0917b36275d1\", element=\"52c8a9c5-ce64-4c10-9ecf-16a3545f3e81\")>,\n",
       " <selenium.webdriver.remote.webelement.WebElement (session=\"fc634ffd85d63286cecd0917b36275d1\", element=\"d4524f47-d1ed-4c47-bb27-8dbbde0fd1b0\")>,\n",
       " <selenium.webdriver.remote.webelement.WebElement (session=\"fc634ffd85d63286cecd0917b36275d1\", element=\"720a702c-9eaa-4daf-b49b-dcf159f188f3\")>,\n",
       " <selenium.webdriver.remote.webelement.WebElement (session=\"fc634ffd85d63286cecd0917b36275d1\", element=\"4f059d18-e222-4b40-a9fc-638e556ef05e\")>,\n",
       " <selenium.webdriver.remote.webelement.WebElement (session=\"fc634ffd85d63286cecd0917b36275d1\", element=\"8473beea-a4c0-474b-af2a-8db76c22b444\")>,\n",
       " <selenium.webdriver.remote.webelement.WebElement (session=\"fc634ffd85d63286cecd0917b36275d1\", element=\"0114b060-12c5-43a9-ba12-00947cfd5f8d\")>]"
      ]
     },
     "execution_count": 80,
     "metadata": {},
     "output_type": "execute_result"
    }
   ],
   "source": [
    "driver.find_elements_by_class_name(\"writing\")"
   ]
  },
  {
   "cell_type": "code",
   "execution_count": 81,
   "id": "3c66ae93-fdc8-4322-89d3-55c5230b1b65",
   "metadata": {},
   "outputs": [
    {
     "data": {
      "text/plain": [
       "20"
      ]
     },
     "execution_count": 81,
     "metadata": {},
     "output_type": "execute_result"
    }
   ],
   "source": [
    "writer = [i.text for i in driver.find_elements_by_class_name(\"writing\")]\n",
    "len(writer)"
   ]
  },
  {
   "cell_type": "code",
   "execution_count": 82,
   "id": "2a08c41b-b003-42c3-92ef-59ab3b881e2c",
   "metadata": {},
   "outputs": [
    {
     "data": {
      "text/plain": [
       "['서울경제',\n",
       " '연합뉴스',\n",
       " '전자신문',\n",
       " '한국경제',\n",
       " '한국경제',\n",
       " '동아사이언스',\n",
       " '매일경제',\n",
       " '매일경제',\n",
       " '뉴스1',\n",
       " '한국경제',\n",
       " '아시아경제',\n",
       " '한국경제',\n",
       " '한국경제',\n",
       " '연합뉴스',\n",
       " '동아사이언스',\n",
       " '조선비즈',\n",
       " '한국경제',\n",
       " '아이뉴스24',\n",
       " '한국경제',\n",
       " '뉴스1']"
      ]
     },
     "execution_count": 82,
     "metadata": {},
     "output_type": "execute_result"
    }
   ],
   "source": [
    "writer"
   ]
  },
  {
   "cell_type": "markdown",
   "id": "9fcbcb24-be2c-4517-8b0a-2d5bb46ff420",
   "metadata": {},
   "source": [
    "## 데이터프레임으로 만들기"
   ]
  },
  {
   "cell_type": "code",
   "execution_count": 83,
   "id": "c0d1e7e5-8be1-4f49-963e-ecd3babdf429",
   "metadata": {},
   "outputs": [
    {
     "data": {
      "text/html": [
       "<div>\n",
       "<style scoped>\n",
       "    .dataframe tbody tr th:only-of-type {\n",
       "        vertical-align: middle;\n",
       "    }\n",
       "\n",
       "    .dataframe tbody tr th {\n",
       "        vertical-align: top;\n",
       "    }\n",
       "\n",
       "    .dataframe thead th {\n",
       "        text-align: right;\n",
       "    }\n",
       "</style>\n",
       "<table border=\"1\" class=\"dataframe\">\n",
       "  <thead>\n",
       "    <tr style=\"text-align: right;\">\n",
       "      <th></th>\n",
       "      <th>제목</th>\n",
       "      <th>링크</th>\n",
       "      <th>신문사</th>\n",
       "    </tr>\n",
       "  </thead>\n",
       "  <tbody>\n",
       "    <tr>\n",
       "      <th>0</th>\n",
       "      <td>임혜숙 과기정통부 장관 “ICT 인재부족 심각···민·관·학 인재육성 플랫폼 구축할 것\"</td>\n",
       "      <td>https://news.naver.com/main/read.nhn?mode=LS2D...</td>\n",
       "      <td>서울경제</td>\n",
       "    </tr>\n",
       "    <tr>\n",
       "      <th>1</th>\n",
       "      <td>충북도 K-바이오 랩허브 1차 관문 통과…9일 최종 결정</td>\n",
       "      <td>https://news.naver.com/main/read.nhn?mode=LS2D...</td>\n",
       "      <td>연합뉴스</td>\n",
       "    </tr>\n",
       "    <tr>\n",
       "      <th>2</th>\n",
       "      <td>'4전5기' 변리사 특허 소송대리법 이번엔?...국회 \"공청회 등 논의 확대 필요\"</td>\n",
       "      <td>https://news.naver.com/main/read.nhn?mode=LS2D...</td>\n",
       "      <td>전자신문</td>\n",
       "    </tr>\n",
       "    <tr>\n",
       "      <th>3</th>\n",
       "      <td>SD바이오센서 \"조만간 M&amp;A 본격화…유통사·신기술 기업 관심\"</td>\n",
       "      <td>https://news.naver.com/main/read.nhn?mode=LS2D...</td>\n",
       "      <td>한국경제</td>\n",
       "    </tr>\n",
       "    <tr>\n",
       "      <th>4</th>\n",
       "      <td>유비케어, 휴대용 단말기·EMR 연동 기술 국내 특허 획득</td>\n",
       "      <td>https://news.naver.com/main/read.nhn?mode=LS2D...</td>\n",
       "      <td>한국경제</td>\n",
       "    </tr>\n",
       "    <tr>\n",
       "      <th>5</th>\n",
       "      <td>[인사] 경희의료원</td>\n",
       "      <td>https://news.naver.com/main/read.nhn?mode=LS2D...</td>\n",
       "      <td>동아사이언스</td>\n",
       "    </tr>\n",
       "    <tr>\n",
       "      <th>6</th>\n",
       "      <td>제넥신-툴젠, CAR-NK세포 유전자치료제 공동연구개발 계약</td>\n",
       "      <td>https://news.naver.com/main/read.nhn?mode=LS2D...</td>\n",
       "      <td>매일경제</td>\n",
       "    </tr>\n",
       "    <tr>\n",
       "      <th>7</th>\n",
       "      <td>셀트리온 코로나19 항체치료제 브라질 변이에도 효과</td>\n",
       "      <td>https://news.naver.com/main/read.nhn?mode=LS2D...</td>\n",
       "      <td>매일경제</td>\n",
       "    </tr>\n",
       "    <tr>\n",
       "      <th>8</th>\n",
       "      <td>[일문일답]임혜숙 장관, \"대한민국 과학기술·ICT 최고 되도록 지원하겠다\"</td>\n",
       "      <td>https://news.naver.com/main/read.nhn?mode=LS2D...</td>\n",
       "      <td>뉴스1</td>\n",
       "    </tr>\n",
       "    <tr>\n",
       "      <th>9</th>\n",
       "      <td>고바이오랩, 궤양성대장염 마이크로바이옴 신약 FDA 2a상 승인</td>\n",
       "      <td>https://news.naver.com/main/read.nhn?mode=LS2D...</td>\n",
       "      <td>한국경제</td>\n",
       "    </tr>\n",
       "    <tr>\n",
       "      <th>10</th>\n",
       "      <td>[일문일답]\"네·카·라·쿠·배에 취업할 젊은 인재들 양성에 총력\"</td>\n",
       "      <td>https://news.naver.com/main/read.nhn?mode=LS2D...</td>\n",
       "      <td>아시아경제</td>\n",
       "    </tr>\n",
       "    <tr>\n",
       "      <th>11</th>\n",
       "      <td>피씨엘 \"100억원대 손배 국제중재신청 제기…사실 아니다\"</td>\n",
       "      <td>https://news.naver.com/main/read.nhn?mode=LS2D...</td>\n",
       "      <td>한국경제</td>\n",
       "    </tr>\n",
       "    <tr>\n",
       "      <th>12</th>\n",
       "      <td>에이비엘바이오 \"이중항체 리뷰 논문, 국제학술지 등재\"</td>\n",
       "      <td>https://news.naver.com/main/read.nhn?mode=LS2D...</td>\n",
       "      <td>한국경제</td>\n",
       "    </tr>\n",
       "    <tr>\n",
       "      <th>13</th>\n",
       "      <td>[일문일답] 임혜숙 과기장관 \"28㎓ 5G 공동구축, 좋은 아이디어 아냐\"</td>\n",
       "      <td>https://news.naver.com/main/read.nhn?mode=LS2D...</td>\n",
       "      <td>연합뉴스</td>\n",
       "    </tr>\n",
       "    <tr>\n",
       "      <th>14</th>\n",
       "      <td>임혜숙 장관 \"앞으로 1년 과기정통부 할 일 세 가지 있다\"</td>\n",
       "      <td>https://news.naver.com/main/read.nhn?mode=LS2D...</td>\n",
       "      <td>동아사이언스</td>\n",
       "    </tr>\n",
       "    <tr>\n",
       "      <th>15</th>\n",
       "      <td>[속보] 국내 접종완료자 변이유행국 방문 안했다면 귀국 때 PCR 4회→2회</td>\n",
       "      <td>https://news.naver.com/main/read.nhn?mode=LS2D...</td>\n",
       "      <td>조선비즈</td>\n",
       "    </tr>\n",
       "    <tr>\n",
       "      <th>16</th>\n",
       "      <td>\"한국, 화이자·모더나와 백신 생산 협의…한미·큐라티스 거론\"</td>\n",
       "      <td>https://news.naver.com/main/read.nhn?mode=LS2D...</td>\n",
       "      <td>한국경제</td>\n",
       "    </tr>\n",
       "    <tr>\n",
       "      <th>17</th>\n",
       "      <td>임혜숙 “도전적이지 못해 누리호 개량형 예타 통과 못했다”</td>\n",
       "      <td>https://news.naver.com/main/read.nhn?mode=LS2D...</td>\n",
       "      <td>아이뉴스24</td>\n",
       "    </tr>\n",
       "    <tr>\n",
       "      <th>18</th>\n",
       "      <td>차백신연구소, 면역증강제 활용 항암제 개발 정부과제 선정</td>\n",
       "      <td>https://news.naver.com/main/read.nhn?mode=LS2D...</td>\n",
       "      <td>한국경제</td>\n",
       "    </tr>\n",
       "    <tr>\n",
       "      <th>19</th>\n",
       "      <td>임혜숙 장관, \"누리호 개량형 예타, 도전성 보완해 재도전 해야\"</td>\n",
       "      <td>https://news.naver.com/main/read.nhn?mode=LS2D...</td>\n",
       "      <td>뉴스1</td>\n",
       "    </tr>\n",
       "  </tbody>\n",
       "</table>\n",
       "</div>"
      ],
      "text/plain": [
       "                                                   제목  \\\n",
       "0   임혜숙 과기정통부 장관 “ICT 인재부족 심각···민·관·학 인재육성 플랫폼 구축할 것\"   \n",
       "1                     충북도 K-바이오 랩허브 1차 관문 통과…9일 최종 결정   \n",
       "2      '4전5기' 변리사 특허 소송대리법 이번엔?...국회 \"공청회 등 논의 확대 필요\"   \n",
       "3                 SD바이오센서 \"조만간 M&A 본격화…유통사·신기술 기업 관심\"   \n",
       "4                    유비케어, 휴대용 단말기·EMR 연동 기술 국내 특허 획득   \n",
       "5                                          [인사] 경희의료원   \n",
       "6                   제넥신-툴젠, CAR-NK세포 유전자치료제 공동연구개발 계약   \n",
       "7                        셀트리온 코로나19 항체치료제 브라질 변이에도 효과   \n",
       "8          [일문일답]임혜숙 장관, \"대한민국 과학기술·ICT 최고 되도록 지원하겠다\"   \n",
       "9                 고바이오랩, 궤양성대장염 마이크로바이옴 신약 FDA 2a상 승인   \n",
       "10               [일문일답]\"네·카·라·쿠·배에 취업할 젊은 인재들 양성에 총력\"   \n",
       "11                   피씨엘 \"100억원대 손배 국제중재신청 제기…사실 아니다\"   \n",
       "12                     에이비엘바이오 \"이중항체 리뷰 논문, 국제학술지 등재\"   \n",
       "13          [일문일답] 임혜숙 과기장관 \"28㎓ 5G 공동구축, 좋은 아이디어 아냐\"   \n",
       "14                  임혜숙 장관 \"앞으로 1년 과기정통부 할 일 세 가지 있다\"   \n",
       "15         [속보] 국내 접종완료자 변이유행국 방문 안했다면 귀국 때 PCR 4회→2회   \n",
       "16                 \"한국, 화이자·모더나와 백신 생산 협의…한미·큐라티스 거론\"   \n",
       "17                   임혜숙 “도전적이지 못해 누리호 개량형 예타 통과 못했다”   \n",
       "18                    차백신연구소, 면역증강제 활용 항암제 개발 정부과제 선정   \n",
       "19               임혜숙 장관, \"누리호 개량형 예타, 도전성 보완해 재도전 해야\"   \n",
       "\n",
       "                                                   링크     신문사  \n",
       "0   https://news.naver.com/main/read.nhn?mode=LS2D...    서울경제  \n",
       "1   https://news.naver.com/main/read.nhn?mode=LS2D...    연합뉴스  \n",
       "2   https://news.naver.com/main/read.nhn?mode=LS2D...    전자신문  \n",
       "3   https://news.naver.com/main/read.nhn?mode=LS2D...    한국경제  \n",
       "4   https://news.naver.com/main/read.nhn?mode=LS2D...    한국경제  \n",
       "5   https://news.naver.com/main/read.nhn?mode=LS2D...  동아사이언스  \n",
       "6   https://news.naver.com/main/read.nhn?mode=LS2D...    매일경제  \n",
       "7   https://news.naver.com/main/read.nhn?mode=LS2D...    매일경제  \n",
       "8   https://news.naver.com/main/read.nhn?mode=LS2D...     뉴스1  \n",
       "9   https://news.naver.com/main/read.nhn?mode=LS2D...    한국경제  \n",
       "10  https://news.naver.com/main/read.nhn?mode=LS2D...   아시아경제  \n",
       "11  https://news.naver.com/main/read.nhn?mode=LS2D...    한국경제  \n",
       "12  https://news.naver.com/main/read.nhn?mode=LS2D...    한국경제  \n",
       "13  https://news.naver.com/main/read.nhn?mode=LS2D...    연합뉴스  \n",
       "14  https://news.naver.com/main/read.nhn?mode=LS2D...  동아사이언스  \n",
       "15  https://news.naver.com/main/read.nhn?mode=LS2D...    조선비즈  \n",
       "16  https://news.naver.com/main/read.nhn?mode=LS2D...    한국경제  \n",
       "17  https://news.naver.com/main/read.nhn?mode=LS2D...  아이뉴스24  \n",
       "18  https://news.naver.com/main/read.nhn?mode=LS2D...    한국경제  \n",
       "19  https://news.naver.com/main/read.nhn?mode=LS2D...     뉴스1  "
      ]
     },
     "execution_count": 83,
     "metadata": {},
     "output_type": "execute_result"
    }
   ],
   "source": [
    "df = pd.DataFrame({\n",
    "    \"제목\": title,\n",
    "    \"링크\": url,\n",
    "    \"신문사\": writer\n",
    "})\n",
    "df"
   ]
  },
  {
   "cell_type": "markdown",
   "id": "58ee150d-d623-4a03-a5eb-a2728ec50edb",
   "metadata": {},
   "source": [
    "# 페이지 여러개에서 가져오기\n",
    "## 페이지 한 개에서 테스트\n",
    "- 페이지 넘버를 나타내는 규칙 찾기"
   ]
  },
  {
   "cell_type": "code",
   "execution_count": 84,
   "id": "53785e63-d2a5-46a0-ba1a-09b04275e0e0",
   "metadata": {},
   "outputs": [],
   "source": [
    "# 네이버 뉴스로 이동\n",
    "url_page = \"https://news.naver.com/main/list.nhn?mode=LS2D&mid=shm&sid2=228&sid1=105&page=\"\n",
    "page_number = 1\n",
    "driver.get(url_page + str(page_number))\n",
    "driver.implicitly_wait(1)   # 잠시 기다리기"
   ]
  },
  {
   "cell_type": "code",
   "execution_count": 85,
   "id": "457cc552-8e92-41e8-8ba6-73792e1465cd",
   "metadata": {},
   "outputs": [],
   "source": [
    "# 제목 가져와서 불필요한 원소 제거\n",
    "title = [i.text for i in driver.find_elements_by_css_selector(\"li > dl > dt > a\")]\n",
    "title = [i for i in title if i != \"\"]"
   ]
  },
  {
   "cell_type": "code",
   "execution_count": 86,
   "id": "39e3debb-25d4-4627-a85f-94022c811ecd",
   "metadata": {},
   "outputs": [],
   "source": [
    "# url 가져와서 중복제거\n",
    "url = [i.get_attribute(\"href\") for i in driver.find_elements_by_css_selector(\"li > dl > dt > a\")]\n",
    "url = list(set(url))"
   ]
  },
  {
   "cell_type": "code",
   "execution_count": 87,
   "id": "dc0b99d5-06ba-4130-a744-8949648c4e14",
   "metadata": {},
   "outputs": [],
   "source": [
    "# 신문사 가져오기\n",
    "writer = [i.text for i in driver.find_elements_by_class_name(\"writing\")]"
   ]
  },
  {
   "cell_type": "code",
   "execution_count": 88,
   "id": "186f8b93-28dc-434f-a958-ba433d0230ac",
   "metadata": {},
   "outputs": [
    {
     "data": {
      "text/html": [
       "<div>\n",
       "<style scoped>\n",
       "    .dataframe tbody tr th:only-of-type {\n",
       "        vertical-align: middle;\n",
       "    }\n",
       "\n",
       "    .dataframe tbody tr th {\n",
       "        vertical-align: top;\n",
       "    }\n",
       "\n",
       "    .dataframe thead th {\n",
       "        text-align: right;\n",
       "    }\n",
       "</style>\n",
       "<table border=\"1\" class=\"dataframe\">\n",
       "  <thead>\n",
       "    <tr style=\"text-align: right;\">\n",
       "      <th></th>\n",
       "      <th>제목</th>\n",
       "      <th>링크</th>\n",
       "      <th>신문사</th>\n",
       "    </tr>\n",
       "  </thead>\n",
       "  <tbody>\n",
       "    <tr>\n",
       "      <th>0</th>\n",
       "      <td>임혜숙 과기정통부 장관 “ICT 인재부족 심각···민·관·학 인재육성 플랫폼 구축할 것\"</td>\n",
       "      <td>https://news.naver.com/main/read.nhn?mode=LS2D...</td>\n",
       "      <td>서울경제</td>\n",
       "    </tr>\n",
       "    <tr>\n",
       "      <th>1</th>\n",
       "      <td>충북도 K-바이오 랩허브 1차 관문 통과…9일 최종 결정</td>\n",
       "      <td>https://news.naver.com/main/read.nhn?mode=LS2D...</td>\n",
       "      <td>연합뉴스</td>\n",
       "    </tr>\n",
       "    <tr>\n",
       "      <th>2</th>\n",
       "      <td>'4전5기' 변리사 특허 소송대리법 이번엔?...국회 \"공청회 등 논의 확대 필요\"</td>\n",
       "      <td>https://news.naver.com/main/read.nhn?mode=LS2D...</td>\n",
       "      <td>전자신문</td>\n",
       "    </tr>\n",
       "    <tr>\n",
       "      <th>3</th>\n",
       "      <td>SD바이오센서 \"조만간 M&amp;A 본격화…유통사·신기술 기업 관심\"</td>\n",
       "      <td>https://news.naver.com/main/read.nhn?mode=LS2D...</td>\n",
       "      <td>한국경제</td>\n",
       "    </tr>\n",
       "    <tr>\n",
       "      <th>4</th>\n",
       "      <td>유비케어, 휴대용 단말기·EMR 연동 기술 국내 특허 획득</td>\n",
       "      <td>https://news.naver.com/main/read.nhn?mode=LS2D...</td>\n",
       "      <td>한국경제</td>\n",
       "    </tr>\n",
       "    <tr>\n",
       "      <th>5</th>\n",
       "      <td>[인사] 경희의료원</td>\n",
       "      <td>https://news.naver.com/main/read.nhn?mode=LS2D...</td>\n",
       "      <td>동아사이언스</td>\n",
       "    </tr>\n",
       "    <tr>\n",
       "      <th>6</th>\n",
       "      <td>제넥신-툴젠, CAR-NK세포 유전자치료제 공동연구개발 계약</td>\n",
       "      <td>https://news.naver.com/main/read.nhn?mode=LS2D...</td>\n",
       "      <td>매일경제</td>\n",
       "    </tr>\n",
       "    <tr>\n",
       "      <th>7</th>\n",
       "      <td>셀트리온 코로나19 항체치료제 브라질 변이에도 효과</td>\n",
       "      <td>https://news.naver.com/main/read.nhn?mode=LS2D...</td>\n",
       "      <td>매일경제</td>\n",
       "    </tr>\n",
       "    <tr>\n",
       "      <th>8</th>\n",
       "      <td>[일문일답]임혜숙 장관, \"대한민국 과학기술·ICT 최고 되도록 지원하겠다\"</td>\n",
       "      <td>https://news.naver.com/main/read.nhn?mode=LS2D...</td>\n",
       "      <td>뉴스1</td>\n",
       "    </tr>\n",
       "    <tr>\n",
       "      <th>9</th>\n",
       "      <td>고바이오랩, 궤양성대장염 마이크로바이옴 신약 FDA 2a상 승인</td>\n",
       "      <td>https://news.naver.com/main/read.nhn?mode=LS2D...</td>\n",
       "      <td>한국경제</td>\n",
       "    </tr>\n",
       "    <tr>\n",
       "      <th>10</th>\n",
       "      <td>[일문일답]\"네·카·라·쿠·배에 취업할 젊은 인재들 양성에 총력\"</td>\n",
       "      <td>https://news.naver.com/main/read.nhn?mode=LS2D...</td>\n",
       "      <td>아시아경제</td>\n",
       "    </tr>\n",
       "    <tr>\n",
       "      <th>11</th>\n",
       "      <td>피씨엘 \"100억원대 손배 국제중재신청 제기…사실 아니다\"</td>\n",
       "      <td>https://news.naver.com/main/read.nhn?mode=LS2D...</td>\n",
       "      <td>한국경제</td>\n",
       "    </tr>\n",
       "    <tr>\n",
       "      <th>12</th>\n",
       "      <td>에이비엘바이오 \"이중항체 리뷰 논문, 국제학술지 등재\"</td>\n",
       "      <td>https://news.naver.com/main/read.nhn?mode=LS2D...</td>\n",
       "      <td>한국경제</td>\n",
       "    </tr>\n",
       "    <tr>\n",
       "      <th>13</th>\n",
       "      <td>[일문일답] 임혜숙 과기장관 \"28㎓ 5G 공동구축, 좋은 아이디어 아냐\"</td>\n",
       "      <td>https://news.naver.com/main/read.nhn?mode=LS2D...</td>\n",
       "      <td>연합뉴스</td>\n",
       "    </tr>\n",
       "    <tr>\n",
       "      <th>14</th>\n",
       "      <td>임혜숙 장관 \"앞으로 1년 과기정통부 할 일 세 가지 있다\"</td>\n",
       "      <td>https://news.naver.com/main/read.nhn?mode=LS2D...</td>\n",
       "      <td>동아사이언스</td>\n",
       "    </tr>\n",
       "    <tr>\n",
       "      <th>15</th>\n",
       "      <td>[속보] 국내 접종완료자 변이유행국 방문 안했다면 귀국 때 PCR 4회→2회</td>\n",
       "      <td>https://news.naver.com/main/read.nhn?mode=LS2D...</td>\n",
       "      <td>조선비즈</td>\n",
       "    </tr>\n",
       "    <tr>\n",
       "      <th>16</th>\n",
       "      <td>\"한국, 화이자·모더나와 백신 생산 협의…한미·큐라티스 거론\"</td>\n",
       "      <td>https://news.naver.com/main/read.nhn?mode=LS2D...</td>\n",
       "      <td>한국경제</td>\n",
       "    </tr>\n",
       "    <tr>\n",
       "      <th>17</th>\n",
       "      <td>임혜숙 “도전적이지 못해 누리호 개량형 예타 통과 못했다”</td>\n",
       "      <td>https://news.naver.com/main/read.nhn?mode=LS2D...</td>\n",
       "      <td>아이뉴스24</td>\n",
       "    </tr>\n",
       "    <tr>\n",
       "      <th>18</th>\n",
       "      <td>차백신연구소, 면역증강제 활용 항암제 개발 정부과제 선정</td>\n",
       "      <td>https://news.naver.com/main/read.nhn?mode=LS2D...</td>\n",
       "      <td>한국경제</td>\n",
       "    </tr>\n",
       "    <tr>\n",
       "      <th>19</th>\n",
       "      <td>임혜숙 장관, \"누리호 개량형 예타, 도전성 보완해 재도전 해야\"</td>\n",
       "      <td>https://news.naver.com/main/read.nhn?mode=LS2D...</td>\n",
       "      <td>뉴스1</td>\n",
       "    </tr>\n",
       "  </tbody>\n",
       "</table>\n",
       "</div>"
      ],
      "text/plain": [
       "                                                   제목  \\\n",
       "0   임혜숙 과기정통부 장관 “ICT 인재부족 심각···민·관·학 인재육성 플랫폼 구축할 것\"   \n",
       "1                     충북도 K-바이오 랩허브 1차 관문 통과…9일 최종 결정   \n",
       "2      '4전5기' 변리사 특허 소송대리법 이번엔?...국회 \"공청회 등 논의 확대 필요\"   \n",
       "3                 SD바이오센서 \"조만간 M&A 본격화…유통사·신기술 기업 관심\"   \n",
       "4                    유비케어, 휴대용 단말기·EMR 연동 기술 국내 특허 획득   \n",
       "5                                          [인사] 경희의료원   \n",
       "6                   제넥신-툴젠, CAR-NK세포 유전자치료제 공동연구개발 계약   \n",
       "7                        셀트리온 코로나19 항체치료제 브라질 변이에도 효과   \n",
       "8          [일문일답]임혜숙 장관, \"대한민국 과학기술·ICT 최고 되도록 지원하겠다\"   \n",
       "9                 고바이오랩, 궤양성대장염 마이크로바이옴 신약 FDA 2a상 승인   \n",
       "10               [일문일답]\"네·카·라·쿠·배에 취업할 젊은 인재들 양성에 총력\"   \n",
       "11                   피씨엘 \"100억원대 손배 국제중재신청 제기…사실 아니다\"   \n",
       "12                     에이비엘바이오 \"이중항체 리뷰 논문, 국제학술지 등재\"   \n",
       "13          [일문일답] 임혜숙 과기장관 \"28㎓ 5G 공동구축, 좋은 아이디어 아냐\"   \n",
       "14                  임혜숙 장관 \"앞으로 1년 과기정통부 할 일 세 가지 있다\"   \n",
       "15         [속보] 국내 접종완료자 변이유행국 방문 안했다면 귀국 때 PCR 4회→2회   \n",
       "16                 \"한국, 화이자·모더나와 백신 생산 협의…한미·큐라티스 거론\"   \n",
       "17                   임혜숙 “도전적이지 못해 누리호 개량형 예타 통과 못했다”   \n",
       "18                    차백신연구소, 면역증강제 활용 항암제 개발 정부과제 선정   \n",
       "19               임혜숙 장관, \"누리호 개량형 예타, 도전성 보완해 재도전 해야\"   \n",
       "\n",
       "                                                   링크     신문사  \n",
       "0   https://news.naver.com/main/read.nhn?mode=LS2D...    서울경제  \n",
       "1   https://news.naver.com/main/read.nhn?mode=LS2D...    연합뉴스  \n",
       "2   https://news.naver.com/main/read.nhn?mode=LS2D...    전자신문  \n",
       "3   https://news.naver.com/main/read.nhn?mode=LS2D...    한국경제  \n",
       "4   https://news.naver.com/main/read.nhn?mode=LS2D...    한국경제  \n",
       "5   https://news.naver.com/main/read.nhn?mode=LS2D...  동아사이언스  \n",
       "6   https://news.naver.com/main/read.nhn?mode=LS2D...    매일경제  \n",
       "7   https://news.naver.com/main/read.nhn?mode=LS2D...    매일경제  \n",
       "8   https://news.naver.com/main/read.nhn?mode=LS2D...     뉴스1  \n",
       "9   https://news.naver.com/main/read.nhn?mode=LS2D...    한국경제  \n",
       "10  https://news.naver.com/main/read.nhn?mode=LS2D...   아시아경제  \n",
       "11  https://news.naver.com/main/read.nhn?mode=LS2D...    한국경제  \n",
       "12  https://news.naver.com/main/read.nhn?mode=LS2D...    한국경제  \n",
       "13  https://news.naver.com/main/read.nhn?mode=LS2D...    연합뉴스  \n",
       "14  https://news.naver.com/main/read.nhn?mode=LS2D...  동아사이언스  \n",
       "15  https://news.naver.com/main/read.nhn?mode=LS2D...    조선비즈  \n",
       "16  https://news.naver.com/main/read.nhn?mode=LS2D...    한국경제  \n",
       "17  https://news.naver.com/main/read.nhn?mode=LS2D...  아이뉴스24  \n",
       "18  https://news.naver.com/main/read.nhn?mode=LS2D...    한국경제  \n",
       "19  https://news.naver.com/main/read.nhn?mode=LS2D...     뉴스1  "
      ]
     },
     "execution_count": 88,
     "metadata": {},
     "output_type": "execute_result"
    }
   ],
   "source": [
    "# 데이터프레임으로 만들기\n",
    "df = pd.DataFrame({\n",
    "    \"제목\": title,\n",
    "    \"링크\": url,\n",
    "    \"신문사\": writer\n",
    "})\n",
    "df"
   ]
  },
  {
   "cell_type": "code",
   "execution_count": null,
   "id": "b17d5333-3350-4c01-9680-11929cf8ed77",
   "metadata": {},
   "outputs": [],
   "source": [
    "# 브라우저 종료\n",
    "driver.close()"
   ]
  },
  {
   "cell_type": "markdown",
   "id": "7547bfde-ec10-4a8c-b0f0-130a6d0dffb6",
   "metadata": {},
   "source": [
    "## 앞에서 한 방법을 반복문으로 만들기"
   ]
  },
  {
   "cell_type": "code",
   "execution_count": 92,
   "id": "2add38ab-54ea-4aac-bfc2-454bd5796e53",
   "metadata": {},
   "outputs": [
    {
     "name": "stdout",
     "output_type": "stream",
     "text": [
      "1\n",
      "2\n",
      "3\n",
      "4\n",
      "4페이지가 마지막입니다.\n"
     ]
    }
   ],
   "source": [
    "# 라이브러리 불러오기\n",
    "from selenium import webdriver\n",
    "import pandas as pd\n",
    "\n",
    "### 크롬 브라우저 실행\n",
    "# # 윈도우\n",
    "# driver_path = \"../driver/chromedriver.exe\"\n",
    "# 맥\n",
    "driver_path = \"../driver/chromedriver\"\n",
    "driver = webdriver.Chrome(driver_path)\n",
    "\n",
    "max_page = 10   # 최대 페이지 설정\n",
    "\n",
    "# 페이지 수만큼 반복\n",
    "for page_number in range(1, max_page, 1):\n",
    "    print(page_number)\n",
    "    \n",
    "    # 네이버 뉴스로 이동\n",
    "    url_page = \"https://news.naver.com/main/list.nhn?mode=LS2D&mid=shm&sid2=228&sid1=105&page=\"\n",
    "    driver.get(url_page + str(page_number))\n",
    "    driver.implicitly_wait(1)   # 잠시 기다리기\n",
    "    \n",
    "    # 제목 가져와서 불필요한 원소 제거\n",
    "    title = [i.text for i in driver.find_elements_by_css_selector(\"li > dl > dt > a\")]\n",
    "    title = [i for i in title if i != \"\"]\n",
    "    \n",
    "    # url 가져와서 중복제거\n",
    "    url = [i.get_attribute(\"href\") for i in driver.find_elements_by_css_selector(\"li > dl > dt > a\")]\n",
    "    url = list(set(url))\n",
    "    \n",
    "    # 신문사 가져오기\n",
    "    writer = [i.text for i in driver.find_elements_by_class_name(\"writing\")]\n",
    "    \n",
    "    # 데이터프레임으로 만들기\n",
    "    df = pd.DataFrame({\n",
    "        \"제목\": title,\n",
    "        \"링크\": url,\n",
    "        \"신문사\": writer\n",
    "    })\n",
    "    \n",
    "    # 1페이지일 경우 df_news에 넣고, 이후 페이지의 경우에는 df_news 밑으로 계속 붙임\n",
    "    if (page_number == 1):\n",
    "        df_news = df\n",
    "    else:\n",
    "        df_news = df_news.append(df,\n",
    "                                 ignore_index = True)\n",
    "        \n",
    "    # 한 페이지에 20개씩 있는데 20개 미만의 기사만 있으면 마지막 페이지이기 때문에 종료\n",
    "    if len(title) < 20:\n",
    "        driver.close()   # 브라우저 종료\n",
    "        print(\"{}페이지가 마지막입니다.\".format(page_number))\n",
    "        break"
   ]
  },
  {
   "cell_type": "code",
   "execution_count": 90,
   "id": "e58d0f0a-230a-4656-837c-724a380d67ed",
   "metadata": {},
   "outputs": [
    {
     "data": {
      "text/html": [
       "<div>\n",
       "<style scoped>\n",
       "    .dataframe tbody tr th:only-of-type {\n",
       "        vertical-align: middle;\n",
       "    }\n",
       "\n",
       "    .dataframe tbody tr th {\n",
       "        vertical-align: top;\n",
       "    }\n",
       "\n",
       "    .dataframe thead th {\n",
       "        text-align: right;\n",
       "    }\n",
       "</style>\n",
       "<table border=\"1\" class=\"dataframe\">\n",
       "  <thead>\n",
       "    <tr style=\"text-align: right;\">\n",
       "      <th></th>\n",
       "      <th>제목</th>\n",
       "      <th>링크</th>\n",
       "      <th>신문사</th>\n",
       "    </tr>\n",
       "  </thead>\n",
       "  <tbody>\n",
       "    <tr>\n",
       "      <th>0</th>\n",
       "      <td>임혜숙 과기정통부 장관 “ICT 인재부족 심각···민·관·학 인재육성 플랫폼 구축할 것\"</td>\n",
       "      <td>https://news.naver.com/main/read.nhn?mode=LS2D...</td>\n",
       "      <td>서울경제</td>\n",
       "    </tr>\n",
       "    <tr>\n",
       "      <th>1</th>\n",
       "      <td>충북도 K-바이오 랩허브 1차 관문 통과…9일 최종 결정</td>\n",
       "      <td>https://news.naver.com/main/read.nhn?mode=LS2D...</td>\n",
       "      <td>연합뉴스</td>\n",
       "    </tr>\n",
       "    <tr>\n",
       "      <th>2</th>\n",
       "      <td>'4전5기' 변리사 특허 소송대리법 이번엔?...국회 \"공청회 등 논의 확대 필요\"</td>\n",
       "      <td>https://news.naver.com/main/read.nhn?mode=LS2D...</td>\n",
       "      <td>전자신문</td>\n",
       "    </tr>\n",
       "    <tr>\n",
       "      <th>3</th>\n",
       "      <td>SD바이오센서 \"조만간 M&amp;A 본격화…유통사·신기술 기업 관심\"</td>\n",
       "      <td>https://news.naver.com/main/read.nhn?mode=LS2D...</td>\n",
       "      <td>한국경제</td>\n",
       "    </tr>\n",
       "    <tr>\n",
       "      <th>4</th>\n",
       "      <td>유비케어, 휴대용 단말기·EMR 연동 기술 국내 특허 획득</td>\n",
       "      <td>https://news.naver.com/main/read.nhn?mode=LS2D...</td>\n",
       "      <td>한국경제</td>\n",
       "    </tr>\n",
       "    <tr>\n",
       "      <th>...</th>\n",
       "      <td>...</td>\n",
       "      <td>...</td>\n",
       "      <td>...</td>\n",
       "    </tr>\n",
       "    <tr>\n",
       "      <th>66</th>\n",
       "      <td>이수앱지스 \"알츠하이머 신약 개발 본격화…내년 美 임상 신청 추진”</td>\n",
       "      <td>https://news.naver.com/main/read.nhn?mode=LS2D...</td>\n",
       "      <td>한국경제</td>\n",
       "    </tr>\n",
       "    <tr>\n",
       "      <th>67</th>\n",
       "      <td>[1일IT템] 데이터센터가 10만배 빨라진다</td>\n",
       "      <td>https://news.naver.com/main/read.nhn?mode=LS2D...</td>\n",
       "      <td>파이낸셜뉴스</td>\n",
       "    </tr>\n",
       "    <tr>\n",
       "      <th>68</th>\n",
       "      <td>한화그룹 김승연 회장의 처남이 신라젠 인수한 까닭은?</td>\n",
       "      <td>https://news.naver.com/main/read.nhn?mode=LS2D...</td>\n",
       "      <td>연합뉴스</td>\n",
       "    </tr>\n",
       "    <tr>\n",
       "      <th>69</th>\n",
       "      <td>[과학게시판] 과학치안 아이디어 공모전 개최 外</td>\n",
       "      <td>https://news.naver.com/main/read.nhn?mode=LS2D...</td>\n",
       "      <td>동아사이언스</td>\n",
       "    </tr>\n",
       "    <tr>\n",
       "      <th>70</th>\n",
       "      <td>별 집어삼키는 블랙홀, 별 만들기도 한다</td>\n",
       "      <td>https://news.naver.com/main/read.nhn?mode=LS2D...</td>\n",
       "      <td>동아사이언스</td>\n",
       "    </tr>\n",
       "  </tbody>\n",
       "</table>\n",
       "<p>71 rows × 3 columns</p>\n",
       "</div>"
      ],
      "text/plain": [
       "                                                   제목  \\\n",
       "0   임혜숙 과기정통부 장관 “ICT 인재부족 심각···민·관·학 인재육성 플랫폼 구축할 것\"   \n",
       "1                     충북도 K-바이오 랩허브 1차 관문 통과…9일 최종 결정   \n",
       "2      '4전5기' 변리사 특허 소송대리법 이번엔?...국회 \"공청회 등 논의 확대 필요\"   \n",
       "3                 SD바이오센서 \"조만간 M&A 본격화…유통사·신기술 기업 관심\"   \n",
       "4                    유비케어, 휴대용 단말기·EMR 연동 기술 국내 특허 획득   \n",
       "..                                                ...   \n",
       "66              이수앱지스 \"알츠하이머 신약 개발 본격화…내년 美 임상 신청 추진”   \n",
       "67                           [1일IT템] 데이터센터가 10만배 빨라진다   \n",
       "68                      한화그룹 김승연 회장의 처남이 신라젠 인수한 까닭은?   \n",
       "69                         [과학게시판] 과학치안 아이디어 공모전 개최 外   \n",
       "70                             별 집어삼키는 블랙홀, 별 만들기도 한다   \n",
       "\n",
       "                                                   링크     신문사  \n",
       "0   https://news.naver.com/main/read.nhn?mode=LS2D...    서울경제  \n",
       "1   https://news.naver.com/main/read.nhn?mode=LS2D...    연합뉴스  \n",
       "2   https://news.naver.com/main/read.nhn?mode=LS2D...    전자신문  \n",
       "3   https://news.naver.com/main/read.nhn?mode=LS2D...    한국경제  \n",
       "4   https://news.naver.com/main/read.nhn?mode=LS2D...    한국경제  \n",
       "..                                                ...     ...  \n",
       "66  https://news.naver.com/main/read.nhn?mode=LS2D...    한국경제  \n",
       "67  https://news.naver.com/main/read.nhn?mode=LS2D...  파이낸셜뉴스  \n",
       "68  https://news.naver.com/main/read.nhn?mode=LS2D...    연합뉴스  \n",
       "69  https://news.naver.com/main/read.nhn?mode=LS2D...  동아사이언스  \n",
       "70  https://news.naver.com/main/read.nhn?mode=LS2D...  동아사이언스  \n",
       "\n",
       "[71 rows x 3 columns]"
      ]
     },
     "execution_count": 90,
     "metadata": {},
     "output_type": "execute_result"
    }
   ],
   "source": [
    "df_news"
   ]
  },
  {
   "cell_type": "code",
   "execution_count": 91,
   "id": "8f4f12cd-b5ed-47cb-b930-59e9acde17ae",
   "metadata": {},
   "outputs": [],
   "source": [
    "# 엑셀 파일로 저장\n",
    "df_news.to_excel(\"data/naver_news.xlsx\",\n",
    "                 index = False)"
   ]
  }
 ],
 "metadata": {
  "kernelspec": {
   "display_name": "Python 3",
   "language": "python",
   "name": "python3"
  },
  "language_info": {
   "codemirror_mode": {
    "name": "ipython",
    "version": 3
   },
   "file_extension": ".py",
   "mimetype": "text/x-python",
   "name": "python",
   "nbconvert_exporter": "python",
   "pygments_lexer": "ipython3",
   "version": "3.8.10"
  }
 },
 "nbformat": 4,
 "nbformat_minor": 5
}
