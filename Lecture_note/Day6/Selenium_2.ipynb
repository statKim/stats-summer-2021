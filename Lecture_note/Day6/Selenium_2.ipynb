{
 "cells": [
  {
   "cell_type": "markdown",
   "id": "f228f1c0-026c-4051-a564-b4c907021733",
   "metadata": {},
   "source": [
    "# 예제3) 네이버 뉴스 제목 크롤링\n",
    "> https://news.naver.com/main/list.nhn?mode=LS2D&mid=shm&sid1=105&sid2=228\n",
    "- `과학 일반`에서 제목과 url, 신문사 정보 가져오기"
   ]
  },
  {
   "cell_type": "code",
   "execution_count": 1,
   "id": "50e49d45-ed36-4db6-8938-71620b298139",
   "metadata": {},
   "outputs": [],
   "source": [
    "# 라이브러리 불러오기\n",
    "from selenium import webdriver\n",
    "import pandas as pd"
   ]
  },
  {
   "cell_type": "code",
   "execution_count": 2,
   "id": "4370d970-5c90-4d80-bca6-cf2db8774930",
   "metadata": {},
   "outputs": [],
   "source": [
    "# # 윈도우\n",
    "# driver_path = \"../driver/chromedriver.exe\"\n",
    "# 맥\n",
    "driver_path = \"../driver/chromedriver\"\n",
    "\n",
    "driver = webdriver.Chrome(driver_path)"
   ]
  },
  {
   "cell_type": "code",
   "execution_count": 3,
   "id": "908e8e67-ce96-4e91-bf5f-0d363b3138e1",
   "metadata": {},
   "outputs": [],
   "source": [
    "# 네이버 뉴스로 이동\n",
    "url_page = \"https://news.naver.com/main/list.nhn?mode=LS2D&mid=shm&sid1=105&sid2=228\"\n",
    "driver.get(url_page)\n",
    "driver.implicitly_wait(1)   # 잠시 기다리기"
   ]
  },
  {
   "cell_type": "markdown",
   "id": "13b7d022-4ca7-40b0-a197-905a461263bf",
   "metadata": {},
   "source": [
    "## 기사 제목 가져오기"
   ]
  },
  {
   "cell_type": "code",
   "execution_count": 4,
   "id": "af38a47f-d161-464f-a027-4af42bc9cac0",
   "metadata": {},
   "outputs": [
    {
     "data": {
      "text/plain": [
       "[<selenium.webdriver.remote.webelement.WebElement (session=\"b408ce4a8b57b42309bca1b28e27a9d2\", element=\"a9aa2b2d-ef82-413c-b1bc-59b1bfb327fc\")>,\n",
       " <selenium.webdriver.remote.webelement.WebElement (session=\"b408ce4a8b57b42309bca1b28e27a9d2\", element=\"110f82d7-426e-4961-a776-8872234e3752\")>,\n",
       " <selenium.webdriver.remote.webelement.WebElement (session=\"b408ce4a8b57b42309bca1b28e27a9d2\", element=\"a1999efd-d53a-4c76-a872-e537def6b0ab\")>,\n",
       " <selenium.webdriver.remote.webelement.WebElement (session=\"b408ce4a8b57b42309bca1b28e27a9d2\", element=\"48f06606-f028-4d79-81ea-fba0cf5f3bf1\")>,\n",
       " <selenium.webdriver.remote.webelement.WebElement (session=\"b408ce4a8b57b42309bca1b28e27a9d2\", element=\"f6ac015d-4ec8-4152-90f4-a321047dfee8\")>,\n",
       " <selenium.webdriver.remote.webelement.WebElement (session=\"b408ce4a8b57b42309bca1b28e27a9d2\", element=\"cb23a59e-98bc-43e1-855e-3096d265e9b6\")>,\n",
       " <selenium.webdriver.remote.webelement.WebElement (session=\"b408ce4a8b57b42309bca1b28e27a9d2\", element=\"1f554b87-c7b6-4020-9b27-a8a1a75f806d\")>,\n",
       " <selenium.webdriver.remote.webelement.WebElement (session=\"b408ce4a8b57b42309bca1b28e27a9d2\", element=\"95ab3d41-36d0-4579-88f9-6ec2de1b46d8\")>,\n",
       " <selenium.webdriver.remote.webelement.WebElement (session=\"b408ce4a8b57b42309bca1b28e27a9d2\", element=\"b0d05002-973f-4800-acfe-718115bb5596\")>,\n",
       " <selenium.webdriver.remote.webelement.WebElement (session=\"b408ce4a8b57b42309bca1b28e27a9d2\", element=\"a6671b4b-37d7-4850-ac49-c66703fac7f8\")>,\n",
       " <selenium.webdriver.remote.webelement.WebElement (session=\"b408ce4a8b57b42309bca1b28e27a9d2\", element=\"7910f027-b2a5-4fa4-864e-eb39bafe137b\")>,\n",
       " <selenium.webdriver.remote.webelement.WebElement (session=\"b408ce4a8b57b42309bca1b28e27a9d2\", element=\"3026c38d-d27f-4379-a134-90bbee0f8491\")>,\n",
       " <selenium.webdriver.remote.webelement.WebElement (session=\"b408ce4a8b57b42309bca1b28e27a9d2\", element=\"cefc0560-225d-4bf4-b35b-289943e71369\")>,\n",
       " <selenium.webdriver.remote.webelement.WebElement (session=\"b408ce4a8b57b42309bca1b28e27a9d2\", element=\"53368606-2ef2-475b-a095-507badbf3116\")>,\n",
       " <selenium.webdriver.remote.webelement.WebElement (session=\"b408ce4a8b57b42309bca1b28e27a9d2\", element=\"88406fa5-ffd8-49dd-9a4b-077d87fdedc4\")>,\n",
       " <selenium.webdriver.remote.webelement.WebElement (session=\"b408ce4a8b57b42309bca1b28e27a9d2\", element=\"aa86b223-c8f6-4242-a6e6-ab49f06742a4\")>,\n",
       " <selenium.webdriver.remote.webelement.WebElement (session=\"b408ce4a8b57b42309bca1b28e27a9d2\", element=\"48d384bd-cd5a-44f9-8f32-478abeef4c67\")>]"
      ]
     },
     "execution_count": 4,
     "metadata": {},
     "output_type": "execute_result"
    }
   ],
   "source": [
    "# 삽질 1\n",
    "#main_content > div.list_body.newsflash_body > ul.type06_headline > li:nth-child(1) > dl > dt:nth-child(2) > a\n",
    "driver.find_elements_by_css_selector(\"#main_content > div.list_body.newsflash_body > ul.type06_headline > li > dl > dt > a\")"
   ]
  },
  {
   "cell_type": "code",
   "execution_count": 5,
   "id": "47935bbd-bea7-46fa-aa48-04c95ae081d1",
   "metadata": {},
   "outputs": [
    {
     "data": {
      "text/plain": [
       "17"
      ]
     },
     "execution_count": 5,
     "metadata": {},
     "output_type": "execute_result"
    }
   ],
   "source": [
    "len(driver.find_elements_by_css_selector(\"#main_content > div.list_body.newsflash_body > ul.type06_headline > li > dl > dt > a\"))"
   ]
  },
  {
   "cell_type": "code",
   "execution_count": 6,
   "id": "301dd5b4-952e-44d2-a12a-7ee04697a8cb",
   "metadata": {},
   "outputs": [
    {
     "data": {
      "text/plain": [
       "['',\n",
       " '코로나 완치자, 장기 방어면역 10개월간 유지된다',\n",
       " '',\n",
       " '코로나 무증상·경증 환자도 장내 미생물 균형 파괴',\n",
       " '',\n",
       " '미세 플라스틱, 1시간내 온몸 퍼져 간 등에 쌓인다',\n",
       " '',\n",
       " \"바이러스·암 진단서 신약 개발까지···미래 바꿀 '꿈의 기술'\",\n",
       " '',\n",
       " '윤덕현 교수 \"킴리아 1회 투여하는데 5억…국산 맞춤 항암제 개발 시급\"',\n",
       " '',\n",
       " \"안트로젠, 희귀 피부질환 치료제 日서 '3상 투약'\",\n",
       " '휴온스, 러시아 백신 국내 판권 확보',\n",
       " '자폐스펙트럼장애증 신약, 팜캐드·뉴로벤티 공동연구',\n",
       " '',\n",
       " '\\'변이 위험\\' 경고에도…\"일상 회복\" 조급증 내다 최악 사태',\n",
       " 'ETRI \"일반인도 손쉽게 3D 영상 제작\"']"
      ]
     },
     "execution_count": 6,
     "metadata": {},
     "output_type": "execute_result"
    }
   ],
   "source": [
    "[i.text for i in driver.find_elements_by_css_selector(\"#main_content > div.list_body.newsflash_body > ul.type06_headline > li > dl > dt > a\")]"
   ]
  },
  {
   "cell_type": "code",
   "execution_count": 7,
   "id": "ba76023f-a330-4d74-b62a-44a4dc903163",
   "metadata": {},
   "outputs": [
    {
     "data": {
      "text/plain": [
       "[<selenium.webdriver.remote.webelement.WebElement (session=\"b408ce4a8b57b42309bca1b28e27a9d2\", element=\"a9aa2b2d-ef82-413c-b1bc-59b1bfb327fc\")>,\n",
       " <selenium.webdriver.remote.webelement.WebElement (session=\"b408ce4a8b57b42309bca1b28e27a9d2\", element=\"110f82d7-426e-4961-a776-8872234e3752\")>,\n",
       " <selenium.webdriver.remote.webelement.WebElement (session=\"b408ce4a8b57b42309bca1b28e27a9d2\", element=\"a1999efd-d53a-4c76-a872-e537def6b0ab\")>,\n",
       " <selenium.webdriver.remote.webelement.WebElement (session=\"b408ce4a8b57b42309bca1b28e27a9d2\", element=\"48f06606-f028-4d79-81ea-fba0cf5f3bf1\")>,\n",
       " <selenium.webdriver.remote.webelement.WebElement (session=\"b408ce4a8b57b42309bca1b28e27a9d2\", element=\"f6ac015d-4ec8-4152-90f4-a321047dfee8\")>,\n",
       " <selenium.webdriver.remote.webelement.WebElement (session=\"b408ce4a8b57b42309bca1b28e27a9d2\", element=\"cb23a59e-98bc-43e1-855e-3096d265e9b6\")>,\n",
       " <selenium.webdriver.remote.webelement.WebElement (session=\"b408ce4a8b57b42309bca1b28e27a9d2\", element=\"1f554b87-c7b6-4020-9b27-a8a1a75f806d\")>,\n",
       " <selenium.webdriver.remote.webelement.WebElement (session=\"b408ce4a8b57b42309bca1b28e27a9d2\", element=\"95ab3d41-36d0-4579-88f9-6ec2de1b46d8\")>,\n",
       " <selenium.webdriver.remote.webelement.WebElement (session=\"b408ce4a8b57b42309bca1b28e27a9d2\", element=\"b0d05002-973f-4800-acfe-718115bb5596\")>,\n",
       " <selenium.webdriver.remote.webelement.WebElement (session=\"b408ce4a8b57b42309bca1b28e27a9d2\", element=\"a6671b4b-37d7-4850-ac49-c66703fac7f8\")>,\n",
       " <selenium.webdriver.remote.webelement.WebElement (session=\"b408ce4a8b57b42309bca1b28e27a9d2\", element=\"7910f027-b2a5-4fa4-864e-eb39bafe137b\")>,\n",
       " <selenium.webdriver.remote.webelement.WebElement (session=\"b408ce4a8b57b42309bca1b28e27a9d2\", element=\"3026c38d-d27f-4379-a134-90bbee0f8491\")>,\n",
       " <selenium.webdriver.remote.webelement.WebElement (session=\"b408ce4a8b57b42309bca1b28e27a9d2\", element=\"cefc0560-225d-4bf4-b35b-289943e71369\")>,\n",
       " <selenium.webdriver.remote.webelement.WebElement (session=\"b408ce4a8b57b42309bca1b28e27a9d2\", element=\"53368606-2ef2-475b-a095-507badbf3116\")>,\n",
       " <selenium.webdriver.remote.webelement.WebElement (session=\"b408ce4a8b57b42309bca1b28e27a9d2\", element=\"88406fa5-ffd8-49dd-9a4b-077d87fdedc4\")>,\n",
       " <selenium.webdriver.remote.webelement.WebElement (session=\"b408ce4a8b57b42309bca1b28e27a9d2\", element=\"aa86b223-c8f6-4242-a6e6-ab49f06742a4\")>,\n",
       " <selenium.webdriver.remote.webelement.WebElement (session=\"b408ce4a8b57b42309bca1b28e27a9d2\", element=\"48d384bd-cd5a-44f9-8f32-478abeef4c67\")>,\n",
       " <selenium.webdriver.remote.webelement.WebElement (session=\"b408ce4a8b57b42309bca1b28e27a9d2\", element=\"146a3426-19e8-4303-8b23-254a70864541\")>,\n",
       " <selenium.webdriver.remote.webelement.WebElement (session=\"b408ce4a8b57b42309bca1b28e27a9d2\", element=\"8e15ac56-2931-402f-b439-f922d00cfac8\")>,\n",
       " <selenium.webdriver.remote.webelement.WebElement (session=\"b408ce4a8b57b42309bca1b28e27a9d2\", element=\"f99dcc5c-18ec-40e7-bb33-855a6ab7ad45\")>,\n",
       " <selenium.webdriver.remote.webelement.WebElement (session=\"b408ce4a8b57b42309bca1b28e27a9d2\", element=\"ec3c1376-64c5-494c-8155-f8872c0f1e5d\")>,\n",
       " <selenium.webdriver.remote.webelement.WebElement (session=\"b408ce4a8b57b42309bca1b28e27a9d2\", element=\"be66e318-e7f6-4e94-8188-7e51e3733e5b\")>,\n",
       " <selenium.webdriver.remote.webelement.WebElement (session=\"b408ce4a8b57b42309bca1b28e27a9d2\", element=\"40c36ba9-307f-41a5-b191-8918989e8205\")>,\n",
       " <selenium.webdriver.remote.webelement.WebElement (session=\"b408ce4a8b57b42309bca1b28e27a9d2\", element=\"2a63012a-8c00-4bf6-9bf5-c48b23ddffd7\")>,\n",
       " <selenium.webdriver.remote.webelement.WebElement (session=\"b408ce4a8b57b42309bca1b28e27a9d2\", element=\"8b37ad45-6b2e-4c50-8d70-0c509bbd935e\")>,\n",
       " <selenium.webdriver.remote.webelement.WebElement (session=\"b408ce4a8b57b42309bca1b28e27a9d2\", element=\"4830f37e-bd30-4c6e-8a82-3ce3b2f7cad2\")>,\n",
       " <selenium.webdriver.remote.webelement.WebElement (session=\"b408ce4a8b57b42309bca1b28e27a9d2\", element=\"47b8014e-b9b5-4432-b58f-641db78a64ad\")>,\n",
       " <selenium.webdriver.remote.webelement.WebElement (session=\"b408ce4a8b57b42309bca1b28e27a9d2\", element=\"08766f5a-198f-4341-9d10-59dbbf8252ce\")>,\n",
       " <selenium.webdriver.remote.webelement.WebElement (session=\"b408ce4a8b57b42309bca1b28e27a9d2\", element=\"c3bf1a99-f1ac-43ab-9596-4d4dd1a1289c\")>,\n",
       " <selenium.webdriver.remote.webelement.WebElement (session=\"b408ce4a8b57b42309bca1b28e27a9d2\", element=\"2e82bc4f-246b-4597-808e-793aa1d0c52c\")>,\n",
       " <selenium.webdriver.remote.webelement.WebElement (session=\"b408ce4a8b57b42309bca1b28e27a9d2\", element=\"7ac8f57e-4e60-418e-a624-a7740a135a7a\")>,\n",
       " <selenium.webdriver.remote.webelement.WebElement (session=\"b408ce4a8b57b42309bca1b28e27a9d2\", element=\"97ee0853-62b2-4179-80c6-a0dd09ffcd52\")>,\n",
       " <selenium.webdriver.remote.webelement.WebElement (session=\"b408ce4a8b57b42309bca1b28e27a9d2\", element=\"52a62fdd-9c65-4575-aa46-a8eb3757cbe0\")>,\n",
       " <selenium.webdriver.remote.webelement.WebElement (session=\"b408ce4a8b57b42309bca1b28e27a9d2\", element=\"161c5fd7-b14e-4ef3-8e32-40a7017dbc1c\")>,\n",
       " <selenium.webdriver.remote.webelement.WebElement (session=\"b408ce4a8b57b42309bca1b28e27a9d2\", element=\"93276dac-4504-4264-9b6f-707c5a71b255\")>,\n",
       " <selenium.webdriver.remote.webelement.WebElement (session=\"b408ce4a8b57b42309bca1b28e27a9d2\", element=\"0d304dfd-5258-4bdf-a133-d77fc0f42186\")>]"
      ]
     },
     "execution_count": 7,
     "metadata": {},
     "output_type": "execute_result"
    }
   ],
   "source": [
    "# 성공! but 뭔가 너무 많음\n",
    "driver.find_elements_by_css_selector(\"li > dl > dt > a\")"
   ]
  },
  {
   "cell_type": "code",
   "execution_count": 8,
   "id": "88b9328e-49be-44fd-af77-1009d6b86a1a",
   "metadata": {},
   "outputs": [
    {
     "data": {
      "text/plain": [
       "36"
      ]
     },
     "execution_count": 8,
     "metadata": {},
     "output_type": "execute_result"
    }
   ],
   "source": [
    "len(driver.find_elements_by_css_selector(\"li > dl > dt > a\"))"
   ]
  },
  {
   "cell_type": "code",
   "execution_count": 9,
   "id": "3ea8a3fd-5844-4025-ae56-4c2ebca7a9ae",
   "metadata": {},
   "outputs": [
    {
     "data": {
      "text/plain": [
       "['',\n",
       " '코로나 완치자, 장기 방어면역 10개월간 유지된다',\n",
       " '',\n",
       " '코로나 무증상·경증 환자도 장내 미생물 균형 파괴',\n",
       " '',\n",
       " '미세 플라스틱, 1시간내 온몸 퍼져 간 등에 쌓인다',\n",
       " '',\n",
       " \"바이러스·암 진단서 신약 개발까지···미래 바꿀 '꿈의 기술'\",\n",
       " '',\n",
       " '윤덕현 교수 \"킴리아 1회 투여하는데 5억…국산 맞춤 항암제 개발 시급\"',\n",
       " '',\n",
       " \"안트로젠, 희귀 피부질환 치료제 日서 '3상 투약'\",\n",
       " '휴온스, 러시아 백신 국내 판권 확보',\n",
       " '자폐스펙트럼장애증 신약, 팜캐드·뉴로벤티 공동연구',\n",
       " '',\n",
       " '\\'변이 위험\\' 경고에도…\"일상 회복\" 조급증 내다 최악 사태',\n",
       " 'ETRI \"일반인도 손쉽게 3D 영상 제작\"',\n",
       " '',\n",
       " \"K바이오, 차세대 줄기세포 기술 놓고 '격돌'\",\n",
       " '',\n",
       " \"파스처럼 붙이는 주사기 '마이크로니들' 뜬다\",\n",
       " '',\n",
       " '암세포의 세포막 때우는 기술, 거기에 치명적 약점이 있다',\n",
       " '',\n",
       " '충남권 지자체·대학·기업 함께 미래 이동수단 ICT 인재 키운다',\n",
       " '',\n",
       " '\"백신 접종률 낮고 변이 확산…접종자 포함 무조건 야외서 마스크 써야\"',\n",
       " '',\n",
       " '대한민국꿀잠프로젝트, 수면산업박람회 ‘슬립테크2021’ 오는 8~10일 코엑스서 개최',\n",
       " '',\n",
       " '휴온스, 러시아 1회 접종 백신 ‘스푸트니크 라이트’ 국내 판권 확보',\n",
       " '',\n",
       " \"가톨릭학원, 10년간 ‘기초의학' 발전에 2000억 투자\",\n",
       " 'saRNA 英 미나, 릴리로부터 1500만달러 추가 투자 유치',\n",
       " '',\n",
       " '방역 전문가 4人 “거리두기 전국으로 강화하고, 2030 백신 빨리 맞춰야”']"
      ]
     },
     "execution_count": 9,
     "metadata": {},
     "output_type": "execute_result"
    }
   ],
   "source": [
    "# 글자만 뽑아서 확인\n",
    "title = [i.text for i in driver.find_elements_by_css_selector(\"li > dl > dt > a\")]\n",
    "title"
   ]
  },
  {
   "cell_type": "code",
   "execution_count": 10,
   "id": "a27d64bc-b28a-4f02-99e2-6e7aed01da68",
   "metadata": {},
   "outputs": [
    {
     "data": {
      "text/plain": [
       "['코로나 완치자, 장기 방어면역 10개월간 유지된다',\n",
       " '코로나 무증상·경증 환자도 장내 미생물 균형 파괴',\n",
       " '미세 플라스틱, 1시간내 온몸 퍼져 간 등에 쌓인다',\n",
       " \"바이러스·암 진단서 신약 개발까지···미래 바꿀 '꿈의 기술'\",\n",
       " '윤덕현 교수 \"킴리아 1회 투여하는데 5억…국산 맞춤 항암제 개발 시급\"',\n",
       " \"안트로젠, 희귀 피부질환 치료제 日서 '3상 투약'\",\n",
       " '휴온스, 러시아 백신 국내 판권 확보',\n",
       " '자폐스펙트럼장애증 신약, 팜캐드·뉴로벤티 공동연구',\n",
       " '\\'변이 위험\\' 경고에도…\"일상 회복\" 조급증 내다 최악 사태',\n",
       " 'ETRI \"일반인도 손쉽게 3D 영상 제작\"',\n",
       " \"K바이오, 차세대 줄기세포 기술 놓고 '격돌'\",\n",
       " \"파스처럼 붙이는 주사기 '마이크로니들' 뜬다\",\n",
       " '암세포의 세포막 때우는 기술, 거기에 치명적 약점이 있다',\n",
       " '충남권 지자체·대학·기업 함께 미래 이동수단 ICT 인재 키운다',\n",
       " '\"백신 접종률 낮고 변이 확산…접종자 포함 무조건 야외서 마스크 써야\"',\n",
       " '대한민국꿀잠프로젝트, 수면산업박람회 ‘슬립테크2021’ 오는 8~10일 코엑스서 개최',\n",
       " '휴온스, 러시아 1회 접종 백신 ‘스푸트니크 라이트’ 국내 판권 확보',\n",
       " \"가톨릭학원, 10년간 ‘기초의학' 발전에 2000억 투자\",\n",
       " 'saRNA 英 미나, 릴리로부터 1500만달러 추가 투자 유치',\n",
       " '방역 전문가 4人 “거리두기 전국으로 강화하고, 2030 백신 빨리 맞춰야”']"
      ]
     },
     "execution_count": 10,
     "metadata": {},
     "output_type": "execute_result"
    }
   ],
   "source": [
    "# 불필요한 원소 제거\n",
    "title = [i for i in title if i != \"\"]\n",
    "title"
   ]
  },
  {
   "cell_type": "code",
   "execution_count": 11,
   "id": "57643608-130f-48dc-9cf8-1c85892b444a",
   "metadata": {},
   "outputs": [
    {
     "data": {
      "text/plain": [
       "20"
      ]
     },
     "execution_count": 11,
     "metadata": {},
     "output_type": "execute_result"
    }
   ],
   "source": [
    "# 정상적으로 20개 생성\n",
    "len(title)"
   ]
  },
  {
   "cell_type": "markdown",
   "id": "9ea51202-3b24-434b-ab03-8e25c6882842",
   "metadata": {},
   "source": [
    "## 기사 url 가져오기"
   ]
  },
  {
   "cell_type": "code",
   "execution_count": 12,
   "id": "87269d10-72ca-4060-a630-06472a8b0c31",
   "metadata": {},
   "outputs": [
    {
     "data": {
      "text/plain": [
       "36"
      ]
     },
     "execution_count": 12,
     "metadata": {},
     "output_type": "execute_result"
    }
   ],
   "source": [
    "# 아까 찾은 규칙을 이용\n",
    "url = [i.get_attribute(\"href\") for i in driver.find_elements_by_css_selector(\"li > dl > dt > a\")]\n",
    "len(url)"
   ]
  },
  {
   "cell_type": "code",
   "execution_count": 13,
   "id": "fb507d16-93e5-41b9-add0-9564d06aed33",
   "metadata": {},
   "outputs": [
    {
     "data": {
      "text/plain": [
       "['https://news.naver.com/main/read.nhn?mode=LS2D&mid=shm&sid1=105&sid2=228&oid=011&aid=0003933678',\n",
       " 'https://news.naver.com/main/read.nhn?mode=LS2D&mid=shm&sid1=105&sid2=228&oid=011&aid=0003933678',\n",
       " 'https://news.naver.com/main/read.nhn?mode=LS2D&mid=shm&sid1=105&sid2=228&oid=011&aid=0003933676',\n",
       " 'https://news.naver.com/main/read.nhn?mode=LS2D&mid=shm&sid1=105&sid2=228&oid=011&aid=0003933676',\n",
       " 'https://news.naver.com/main/read.nhn?mode=LS2D&mid=shm&sid1=105&sid2=228&oid=011&aid=0003933675',\n",
       " 'https://news.naver.com/main/read.nhn?mode=LS2D&mid=shm&sid1=105&sid2=228&oid=011&aid=0003933675',\n",
       " 'https://news.naver.com/main/read.nhn?mode=LS2D&mid=shm&sid1=105&sid2=228&oid=011&aid=0003933671',\n",
       " 'https://news.naver.com/main/read.nhn?mode=LS2D&mid=shm&sid1=105&sid2=228&oid=011&aid=0003933671',\n",
       " 'https://news.naver.com/main/read.nhn?mode=LS2D&mid=shm&sid1=105&sid2=228&oid=015&aid=0004574505',\n",
       " 'https://news.naver.com/main/read.nhn?mode=LS2D&mid=shm&sid1=105&sid2=228&oid=015&aid=0004574505',\n",
       " 'https://news.naver.com/main/read.nhn?mode=LS2D&mid=shm&sid1=105&sid2=228&oid=015&aid=0004574504',\n",
       " 'https://news.naver.com/main/read.nhn?mode=LS2D&mid=shm&sid1=105&sid2=228&oid=015&aid=0004574504',\n",
       " 'https://news.naver.com/main/read.nhn?mode=LS2D&mid=shm&sid1=105&sid2=228&oid=015&aid=0004574502',\n",
       " 'https://news.naver.com/main/read.nhn?mode=LS2D&mid=shm&sid1=105&sid2=228&oid=015&aid=0004574501',\n",
       " 'https://news.naver.com/main/read.nhn?mode=LS2D&mid=shm&sid1=105&sid2=228&oid=015&aid=0004574484',\n",
       " 'https://news.naver.com/main/read.nhn?mode=LS2D&mid=shm&sid1=105&sid2=228&oid=015&aid=0004574484',\n",
       " 'https://news.naver.com/main/read.nhn?mode=LS2D&mid=shm&sid1=105&sid2=228&oid=015&aid=0004574476',\n",
       " 'https://news.naver.com/main/read.nhn?mode=LS2D&mid=shm&sid1=105&sid2=228&oid=015&aid=0004574467',\n",
       " 'https://news.naver.com/main/read.nhn?mode=LS2D&mid=shm&sid1=105&sid2=228&oid=015&aid=0004574467',\n",
       " 'https://news.naver.com/main/read.nhn?mode=LS2D&mid=shm&sid1=105&sid2=228&oid=009&aid=0004820669',\n",
       " 'https://news.naver.com/main/read.nhn?mode=LS2D&mid=shm&sid1=105&sid2=228&oid=009&aid=0004820669',\n",
       " 'https://news.naver.com/main/read.nhn?mode=LS2D&mid=shm&sid1=105&sid2=228&oid=001&aid=0012510696',\n",
       " 'https://news.naver.com/main/read.nhn?mode=LS2D&mid=shm&sid1=105&sid2=228&oid=001&aid=0012510696',\n",
       " 'https://news.naver.com/main/read.nhn?mode=LS2D&mid=shm&sid1=105&sid2=228&oid=001&aid=0012510654',\n",
       " 'https://news.naver.com/main/read.nhn?mode=LS2D&mid=shm&sid1=105&sid2=228&oid=001&aid=0012510654',\n",
       " 'https://news.naver.com/main/read.nhn?mode=LS2D&mid=shm&sid1=105&sid2=228&oid=584&aid=0000015004',\n",
       " 'https://news.naver.com/main/read.nhn?mode=LS2D&mid=shm&sid1=105&sid2=228&oid=584&aid=0000015004',\n",
       " 'https://news.naver.com/main/read.nhn?mode=LS2D&mid=shm&sid1=105&sid2=228&oid=366&aid=0000744242',\n",
       " 'https://news.naver.com/main/read.nhn?mode=LS2D&mid=shm&sid1=105&sid2=228&oid=366&aid=0000744242',\n",
       " 'https://news.naver.com/main/read.nhn?mode=LS2D&mid=shm&sid1=105&sid2=228&oid=366&aid=0000744217',\n",
       " 'https://news.naver.com/main/read.nhn?mode=LS2D&mid=shm&sid1=105&sid2=228&oid=366&aid=0000744217',\n",
       " 'https://news.naver.com/main/read.nhn?mode=LS2D&mid=shm&sid1=105&sid2=228&oid=366&aid=0000744212',\n",
       " 'https://news.naver.com/main/read.nhn?mode=LS2D&mid=shm&sid1=105&sid2=228&oid=366&aid=0000744212',\n",
       " 'https://news.naver.com/main/read.nhn?mode=LS2D&mid=shm&sid1=105&sid2=228&oid=015&aid=0004574398',\n",
       " 'https://news.naver.com/main/read.nhn?mode=LS2D&mid=shm&sid1=105&sid2=228&oid=366&aid=0000744209',\n",
       " 'https://news.naver.com/main/read.nhn?mode=LS2D&mid=shm&sid1=105&sid2=228&oid=366&aid=0000744209']"
      ]
     },
     "execution_count": 13,
     "metadata": {},
     "output_type": "execute_result"
    }
   ],
   "source": [
    "url"
   ]
  },
  {
   "cell_type": "code",
   "execution_count": 14,
   "id": "72d35790-60b8-4fd9-842a-1024671b70c9",
   "metadata": {},
   "outputs": [
    {
     "data": {
      "text/plain": [
       "20"
      ]
     },
     "execution_count": 14,
     "metadata": {},
     "output_type": "execute_result"
    }
   ],
   "source": [
    "# set이라는 중복을 허용하지 않는 자료구조를 이용하여 중복제거 후 다시 리스트로 변환\n",
    "url = list(set(url))\n",
    "len(url)"
   ]
  },
  {
   "cell_type": "code",
   "execution_count": 15,
   "id": "356ca4a7-4662-4144-84a7-c7c0550d7383",
   "metadata": {},
   "outputs": [
    {
     "data": {
      "text/plain": [
       "['https://news.naver.com/main/read.nhn?mode=LS2D&mid=shm&sid1=105&sid2=228&oid=011&aid=0003933671',\n",
       " 'https://news.naver.com/main/read.nhn?mode=LS2D&mid=shm&sid1=105&sid2=228&oid=015&aid=0004574505',\n",
       " 'https://news.naver.com/main/read.nhn?mode=LS2D&mid=shm&sid1=105&sid2=228&oid=366&aid=0000744242',\n",
       " 'https://news.naver.com/main/read.nhn?mode=LS2D&mid=shm&sid1=105&sid2=228&oid=015&aid=0004574398',\n",
       " 'https://news.naver.com/main/read.nhn?mode=LS2D&mid=shm&sid1=105&sid2=228&oid=015&aid=0004574502',\n",
       " 'https://news.naver.com/main/read.nhn?mode=LS2D&mid=shm&sid1=105&sid2=228&oid=366&aid=0000744212',\n",
       " 'https://news.naver.com/main/read.nhn?mode=LS2D&mid=shm&sid1=105&sid2=228&oid=011&aid=0003933675',\n",
       " 'https://news.naver.com/main/read.nhn?mode=LS2D&mid=shm&sid1=105&sid2=228&oid=015&aid=0004574501',\n",
       " 'https://news.naver.com/main/read.nhn?mode=LS2D&mid=shm&sid1=105&sid2=228&oid=015&aid=0004574476',\n",
       " 'https://news.naver.com/main/read.nhn?mode=LS2D&mid=shm&sid1=105&sid2=228&oid=584&aid=0000015004',\n",
       " 'https://news.naver.com/main/read.nhn?mode=LS2D&mid=shm&sid1=105&sid2=228&oid=366&aid=0000744209',\n",
       " 'https://news.naver.com/main/read.nhn?mode=LS2D&mid=shm&sid1=105&sid2=228&oid=011&aid=0003933676',\n",
       " 'https://news.naver.com/main/read.nhn?mode=LS2D&mid=shm&sid1=105&sid2=228&oid=001&aid=0012510696',\n",
       " 'https://news.naver.com/main/read.nhn?mode=LS2D&mid=shm&sid1=105&sid2=228&oid=009&aid=0004820669',\n",
       " 'https://news.naver.com/main/read.nhn?mode=LS2D&mid=shm&sid1=105&sid2=228&oid=001&aid=0012510654',\n",
       " 'https://news.naver.com/main/read.nhn?mode=LS2D&mid=shm&sid1=105&sid2=228&oid=015&aid=0004574467',\n",
       " 'https://news.naver.com/main/read.nhn?mode=LS2D&mid=shm&sid1=105&sid2=228&oid=011&aid=0003933678',\n",
       " 'https://news.naver.com/main/read.nhn?mode=LS2D&mid=shm&sid1=105&sid2=228&oid=366&aid=0000744217',\n",
       " 'https://news.naver.com/main/read.nhn?mode=LS2D&mid=shm&sid1=105&sid2=228&oid=015&aid=0004574484',\n",
       " 'https://news.naver.com/main/read.nhn?mode=LS2D&mid=shm&sid1=105&sid2=228&oid=015&aid=0004574504']"
      ]
     },
     "execution_count": 15,
     "metadata": {},
     "output_type": "execute_result"
    }
   ],
   "source": [
    "url"
   ]
  },
  {
   "cell_type": "markdown",
   "id": "a4b3d9f5-6db2-4a25-9649-018e19b4077a",
   "metadata": {},
   "source": [
    "## 신문사 가져오기"
   ]
  },
  {
   "cell_type": "code",
   "execution_count": 16,
   "id": "f030eb1e-4834-45cf-8bdd-89ad8cf64dd2",
   "metadata": {},
   "outputs": [
    {
     "data": {
      "text/plain": [
       "[<selenium.webdriver.remote.webelement.WebElement (session=\"b408ce4a8b57b42309bca1b28e27a9d2\", element=\"2f94481b-7334-481b-ab09-41e0e9238614\")>,\n",
       " <selenium.webdriver.remote.webelement.WebElement (session=\"b408ce4a8b57b42309bca1b28e27a9d2\", element=\"9a9be72d-55a0-45d8-8c1b-692675f08269\")>,\n",
       " <selenium.webdriver.remote.webelement.WebElement (session=\"b408ce4a8b57b42309bca1b28e27a9d2\", element=\"c737a50b-7e39-422c-91ef-e670cf738309\")>,\n",
       " <selenium.webdriver.remote.webelement.WebElement (session=\"b408ce4a8b57b42309bca1b28e27a9d2\", element=\"f0174020-dedd-4b9f-acc2-47c43c747c29\")>,\n",
       " <selenium.webdriver.remote.webelement.WebElement (session=\"b408ce4a8b57b42309bca1b28e27a9d2\", element=\"3d88a265-eaeb-43de-a522-177942d4a416\")>,\n",
       " <selenium.webdriver.remote.webelement.WebElement (session=\"b408ce4a8b57b42309bca1b28e27a9d2\", element=\"123e7915-822d-4d40-89a0-d219a05d80bd\")>,\n",
       " <selenium.webdriver.remote.webelement.WebElement (session=\"b408ce4a8b57b42309bca1b28e27a9d2\", element=\"efb38945-5946-4452-a18b-1ecbff83d69f\")>,\n",
       " <selenium.webdriver.remote.webelement.WebElement (session=\"b408ce4a8b57b42309bca1b28e27a9d2\", element=\"8544848b-5642-402c-9b13-2edee384e94e\")>,\n",
       " <selenium.webdriver.remote.webelement.WebElement (session=\"b408ce4a8b57b42309bca1b28e27a9d2\", element=\"76967140-5bbb-4554-ad71-516af307744a\")>,\n",
       " <selenium.webdriver.remote.webelement.WebElement (session=\"b408ce4a8b57b42309bca1b28e27a9d2\", element=\"208d6f0b-94a1-4efa-9e89-34dcde080ecb\")>,\n",
       " <selenium.webdriver.remote.webelement.WebElement (session=\"b408ce4a8b57b42309bca1b28e27a9d2\", element=\"14b4cd47-6e8f-4842-a03e-f12e02757afe\")>,\n",
       " <selenium.webdriver.remote.webelement.WebElement (session=\"b408ce4a8b57b42309bca1b28e27a9d2\", element=\"8251c62f-4350-4883-a0d3-96f380829cf9\")>,\n",
       " <selenium.webdriver.remote.webelement.WebElement (session=\"b408ce4a8b57b42309bca1b28e27a9d2\", element=\"ebbf0ad8-420a-4ff5-9969-c7ca16287e4c\")>,\n",
       " <selenium.webdriver.remote.webelement.WebElement (session=\"b408ce4a8b57b42309bca1b28e27a9d2\", element=\"8ede043e-f97d-4a80-adf5-564c1ad5cc1b\")>,\n",
       " <selenium.webdriver.remote.webelement.WebElement (session=\"b408ce4a8b57b42309bca1b28e27a9d2\", element=\"6621c37b-ce50-4a66-a7af-2550849bb2c5\")>,\n",
       " <selenium.webdriver.remote.webelement.WebElement (session=\"b408ce4a8b57b42309bca1b28e27a9d2\", element=\"9c202fbb-7768-49b7-8a75-7e438bb8710f\")>,\n",
       " <selenium.webdriver.remote.webelement.WebElement (session=\"b408ce4a8b57b42309bca1b28e27a9d2\", element=\"229572fc-7e81-492d-9251-21a8502074b2\")>,\n",
       " <selenium.webdriver.remote.webelement.WebElement (session=\"b408ce4a8b57b42309bca1b28e27a9d2\", element=\"25fb687f-50c0-49e5-80d3-1ed5c78a5c9e\")>,\n",
       " <selenium.webdriver.remote.webelement.WebElement (session=\"b408ce4a8b57b42309bca1b28e27a9d2\", element=\"8947aa88-b858-448e-acbd-77d5dbc212f3\")>,\n",
       " <selenium.webdriver.remote.webelement.WebElement (session=\"b408ce4a8b57b42309bca1b28e27a9d2\", element=\"b4d570ed-7965-4a7c-abbe-fed5107962af\")>]"
      ]
     },
     "execution_count": 16,
     "metadata": {},
     "output_type": "execute_result"
    }
   ],
   "source": [
    "driver.find_elements_by_class_name(\"writing\")"
   ]
  },
  {
   "cell_type": "code",
   "execution_count": 17,
   "id": "772dc148-97a5-4892-a026-b1c820b38905",
   "metadata": {},
   "outputs": [
    {
     "data": {
      "text/plain": [
       "20"
      ]
     },
     "execution_count": 17,
     "metadata": {},
     "output_type": "execute_result"
    }
   ],
   "source": [
    "len(driver.find_elements_by_class_name(\"writing\"))"
   ]
  },
  {
   "cell_type": "code",
   "execution_count": 18,
   "id": "3c66ae93-fdc8-4322-89d3-55c5230b1b65",
   "metadata": {},
   "outputs": [
    {
     "data": {
      "text/plain": [
       "20"
      ]
     },
     "execution_count": 18,
     "metadata": {},
     "output_type": "execute_result"
    }
   ],
   "source": [
    "writer = [i.text for i in driver.find_elements_by_class_name(\"writing\")]\n",
    "len(writer)"
   ]
  },
  {
   "cell_type": "code",
   "execution_count": 19,
   "id": "2a08c41b-b003-42c3-92ef-59ab3b881e2c",
   "metadata": {},
   "outputs": [
    {
     "data": {
      "text/plain": [
       "['서울경제',\n",
       " '서울경제',\n",
       " '서울경제',\n",
       " '서울경제',\n",
       " '한국경제',\n",
       " '한국경제',\n",
       " '한국경제',\n",
       " '한국경제',\n",
       " '한국경제',\n",
       " '한국경제',\n",
       " '한국경제',\n",
       " '매일경제',\n",
       " '연합뉴스',\n",
       " '연합뉴스',\n",
       " '동아사이언스',\n",
       " '조선비즈',\n",
       " '조선비즈',\n",
       " '조선비즈',\n",
       " '한국경제',\n",
       " '조선비즈']"
      ]
     },
     "execution_count": 19,
     "metadata": {},
     "output_type": "execute_result"
    }
   ],
   "source": [
    "writer"
   ]
  },
  {
   "cell_type": "markdown",
   "id": "9fcbcb24-be2c-4517-8b0a-2d5bb46ff420",
   "metadata": {},
   "source": [
    "## 데이터프레임으로 만들기"
   ]
  },
  {
   "cell_type": "code",
   "execution_count": 20,
   "id": "c0d1e7e5-8be1-4f49-963e-ecd3babdf429",
   "metadata": {},
   "outputs": [
    {
     "data": {
      "text/html": [
       "<div>\n",
       "<style scoped>\n",
       "    .dataframe tbody tr th:only-of-type {\n",
       "        vertical-align: middle;\n",
       "    }\n",
       "\n",
       "    .dataframe tbody tr th {\n",
       "        vertical-align: top;\n",
       "    }\n",
       "\n",
       "    .dataframe thead th {\n",
       "        text-align: right;\n",
       "    }\n",
       "</style>\n",
       "<table border=\"1\" class=\"dataframe\">\n",
       "  <thead>\n",
       "    <tr style=\"text-align: right;\">\n",
       "      <th></th>\n",
       "      <th>제목</th>\n",
       "      <th>링크</th>\n",
       "      <th>신문사</th>\n",
       "    </tr>\n",
       "  </thead>\n",
       "  <tbody>\n",
       "    <tr>\n",
       "      <th>0</th>\n",
       "      <td>코로나 완치자, 장기 방어면역 10개월간 유지된다</td>\n",
       "      <td>https://news.naver.com/main/read.nhn?mode=LS2D...</td>\n",
       "      <td>서울경제</td>\n",
       "    </tr>\n",
       "    <tr>\n",
       "      <th>1</th>\n",
       "      <td>코로나 무증상·경증 환자도 장내 미생물 균형 파괴</td>\n",
       "      <td>https://news.naver.com/main/read.nhn?mode=LS2D...</td>\n",
       "      <td>서울경제</td>\n",
       "    </tr>\n",
       "    <tr>\n",
       "      <th>2</th>\n",
       "      <td>미세 플라스틱, 1시간내 온몸 퍼져 간 등에 쌓인다</td>\n",
       "      <td>https://news.naver.com/main/read.nhn?mode=LS2D...</td>\n",
       "      <td>서울경제</td>\n",
       "    </tr>\n",
       "    <tr>\n",
       "      <th>3</th>\n",
       "      <td>바이러스·암 진단서 신약 개발까지···미래 바꿀 '꿈의 기술'</td>\n",
       "      <td>https://news.naver.com/main/read.nhn?mode=LS2D...</td>\n",
       "      <td>서울경제</td>\n",
       "    </tr>\n",
       "    <tr>\n",
       "      <th>4</th>\n",
       "      <td>윤덕현 교수 \"킴리아 1회 투여하는데 5억…국산 맞춤 항암제 개발 시급\"</td>\n",
       "      <td>https://news.naver.com/main/read.nhn?mode=LS2D...</td>\n",
       "      <td>한국경제</td>\n",
       "    </tr>\n",
       "    <tr>\n",
       "      <th>5</th>\n",
       "      <td>안트로젠, 희귀 피부질환 치료제 日서 '3상 투약'</td>\n",
       "      <td>https://news.naver.com/main/read.nhn?mode=LS2D...</td>\n",
       "      <td>한국경제</td>\n",
       "    </tr>\n",
       "    <tr>\n",
       "      <th>6</th>\n",
       "      <td>휴온스, 러시아 백신 국내 판권 확보</td>\n",
       "      <td>https://news.naver.com/main/read.nhn?mode=LS2D...</td>\n",
       "      <td>한국경제</td>\n",
       "    </tr>\n",
       "    <tr>\n",
       "      <th>7</th>\n",
       "      <td>자폐스펙트럼장애증 신약, 팜캐드·뉴로벤티 공동연구</td>\n",
       "      <td>https://news.naver.com/main/read.nhn?mode=LS2D...</td>\n",
       "      <td>한국경제</td>\n",
       "    </tr>\n",
       "    <tr>\n",
       "      <th>8</th>\n",
       "      <td>'변이 위험' 경고에도…\"일상 회복\" 조급증 내다 최악 사태</td>\n",
       "      <td>https://news.naver.com/main/read.nhn?mode=LS2D...</td>\n",
       "      <td>한국경제</td>\n",
       "    </tr>\n",
       "    <tr>\n",
       "      <th>9</th>\n",
       "      <td>ETRI \"일반인도 손쉽게 3D 영상 제작\"</td>\n",
       "      <td>https://news.naver.com/main/read.nhn?mode=LS2D...</td>\n",
       "      <td>한국경제</td>\n",
       "    </tr>\n",
       "    <tr>\n",
       "      <th>10</th>\n",
       "      <td>K바이오, 차세대 줄기세포 기술 놓고 '격돌'</td>\n",
       "      <td>https://news.naver.com/main/read.nhn?mode=LS2D...</td>\n",
       "      <td>한국경제</td>\n",
       "    </tr>\n",
       "    <tr>\n",
       "      <th>11</th>\n",
       "      <td>파스처럼 붙이는 주사기 '마이크로니들' 뜬다</td>\n",
       "      <td>https://news.naver.com/main/read.nhn?mode=LS2D...</td>\n",
       "      <td>매일경제</td>\n",
       "    </tr>\n",
       "    <tr>\n",
       "      <th>12</th>\n",
       "      <td>암세포의 세포막 때우는 기술, 거기에 치명적 약점이 있다</td>\n",
       "      <td>https://news.naver.com/main/read.nhn?mode=LS2D...</td>\n",
       "      <td>연합뉴스</td>\n",
       "    </tr>\n",
       "    <tr>\n",
       "      <th>13</th>\n",
       "      <td>충남권 지자체·대학·기업 함께 미래 이동수단 ICT 인재 키운다</td>\n",
       "      <td>https://news.naver.com/main/read.nhn?mode=LS2D...</td>\n",
       "      <td>연합뉴스</td>\n",
       "    </tr>\n",
       "    <tr>\n",
       "      <th>14</th>\n",
       "      <td>\"백신 접종률 낮고 변이 확산…접종자 포함 무조건 야외서 마스크 써야\"</td>\n",
       "      <td>https://news.naver.com/main/read.nhn?mode=LS2D...</td>\n",
       "      <td>동아사이언스</td>\n",
       "    </tr>\n",
       "    <tr>\n",
       "      <th>15</th>\n",
       "      <td>대한민국꿀잠프로젝트, 수면산업박람회 ‘슬립테크2021’ 오는 8~10일 코엑스서 개최</td>\n",
       "      <td>https://news.naver.com/main/read.nhn?mode=LS2D...</td>\n",
       "      <td>조선비즈</td>\n",
       "    </tr>\n",
       "    <tr>\n",
       "      <th>16</th>\n",
       "      <td>휴온스, 러시아 1회 접종 백신 ‘스푸트니크 라이트’ 국내 판권 확보</td>\n",
       "      <td>https://news.naver.com/main/read.nhn?mode=LS2D...</td>\n",
       "      <td>조선비즈</td>\n",
       "    </tr>\n",
       "    <tr>\n",
       "      <th>17</th>\n",
       "      <td>가톨릭학원, 10년간 ‘기초의학' 발전에 2000억 투자</td>\n",
       "      <td>https://news.naver.com/main/read.nhn?mode=LS2D...</td>\n",
       "      <td>조선비즈</td>\n",
       "    </tr>\n",
       "    <tr>\n",
       "      <th>18</th>\n",
       "      <td>saRNA 英 미나, 릴리로부터 1500만달러 추가 투자 유치</td>\n",
       "      <td>https://news.naver.com/main/read.nhn?mode=LS2D...</td>\n",
       "      <td>한국경제</td>\n",
       "    </tr>\n",
       "    <tr>\n",
       "      <th>19</th>\n",
       "      <td>방역 전문가 4人 “거리두기 전국으로 강화하고, 2030 백신 빨리 맞춰야”</td>\n",
       "      <td>https://news.naver.com/main/read.nhn?mode=LS2D...</td>\n",
       "      <td>조선비즈</td>\n",
       "    </tr>\n",
       "  </tbody>\n",
       "</table>\n",
       "</div>"
      ],
      "text/plain": [
       "                                                 제목  \\\n",
       "0                       코로나 완치자, 장기 방어면역 10개월간 유지된다   \n",
       "1                       코로나 무증상·경증 환자도 장내 미생물 균형 파괴   \n",
       "2                      미세 플라스틱, 1시간내 온몸 퍼져 간 등에 쌓인다   \n",
       "3                바이러스·암 진단서 신약 개발까지···미래 바꿀 '꿈의 기술'   \n",
       "4          윤덕현 교수 \"킴리아 1회 투여하는데 5억…국산 맞춤 항암제 개발 시급\"   \n",
       "5                      안트로젠, 희귀 피부질환 치료제 日서 '3상 투약'   \n",
       "6                              휴온스, 러시아 백신 국내 판권 확보   \n",
       "7                       자폐스펙트럼장애증 신약, 팜캐드·뉴로벤티 공동연구   \n",
       "8                 '변이 위험' 경고에도…\"일상 회복\" 조급증 내다 최악 사태   \n",
       "9                          ETRI \"일반인도 손쉽게 3D 영상 제작\"   \n",
       "10                        K바이오, 차세대 줄기세포 기술 놓고 '격돌'   \n",
       "11                         파스처럼 붙이는 주사기 '마이크로니들' 뜬다   \n",
       "12                  암세포의 세포막 때우는 기술, 거기에 치명적 약점이 있다   \n",
       "13              충남권 지자체·대학·기업 함께 미래 이동수단 ICT 인재 키운다   \n",
       "14          \"백신 접종률 낮고 변이 확산…접종자 포함 무조건 야외서 마스크 써야\"   \n",
       "15  대한민국꿀잠프로젝트, 수면산업박람회 ‘슬립테크2021’ 오는 8~10일 코엑스서 개최   \n",
       "16           휴온스, 러시아 1회 접종 백신 ‘스푸트니크 라이트’ 국내 판권 확보   \n",
       "17                  가톨릭학원, 10년간 ‘기초의학' 발전에 2000억 투자   \n",
       "18               saRNA 英 미나, 릴리로부터 1500만달러 추가 투자 유치   \n",
       "19       방역 전문가 4人 “거리두기 전국으로 강화하고, 2030 백신 빨리 맞춰야”   \n",
       "\n",
       "                                                   링크     신문사  \n",
       "0   https://news.naver.com/main/read.nhn?mode=LS2D...    서울경제  \n",
       "1   https://news.naver.com/main/read.nhn?mode=LS2D...    서울경제  \n",
       "2   https://news.naver.com/main/read.nhn?mode=LS2D...    서울경제  \n",
       "3   https://news.naver.com/main/read.nhn?mode=LS2D...    서울경제  \n",
       "4   https://news.naver.com/main/read.nhn?mode=LS2D...    한국경제  \n",
       "5   https://news.naver.com/main/read.nhn?mode=LS2D...    한국경제  \n",
       "6   https://news.naver.com/main/read.nhn?mode=LS2D...    한국경제  \n",
       "7   https://news.naver.com/main/read.nhn?mode=LS2D...    한국경제  \n",
       "8   https://news.naver.com/main/read.nhn?mode=LS2D...    한국경제  \n",
       "9   https://news.naver.com/main/read.nhn?mode=LS2D...    한국경제  \n",
       "10  https://news.naver.com/main/read.nhn?mode=LS2D...    한국경제  \n",
       "11  https://news.naver.com/main/read.nhn?mode=LS2D...    매일경제  \n",
       "12  https://news.naver.com/main/read.nhn?mode=LS2D...    연합뉴스  \n",
       "13  https://news.naver.com/main/read.nhn?mode=LS2D...    연합뉴스  \n",
       "14  https://news.naver.com/main/read.nhn?mode=LS2D...  동아사이언스  \n",
       "15  https://news.naver.com/main/read.nhn?mode=LS2D...    조선비즈  \n",
       "16  https://news.naver.com/main/read.nhn?mode=LS2D...    조선비즈  \n",
       "17  https://news.naver.com/main/read.nhn?mode=LS2D...    조선비즈  \n",
       "18  https://news.naver.com/main/read.nhn?mode=LS2D...    한국경제  \n",
       "19  https://news.naver.com/main/read.nhn?mode=LS2D...    조선비즈  "
      ]
     },
     "execution_count": 20,
     "metadata": {},
     "output_type": "execute_result"
    }
   ],
   "source": [
    "df = pd.DataFrame({\n",
    "    \"제목\": title,\n",
    "    \"링크\": url,\n",
    "    \"신문사\": writer\n",
    "})\n",
    "df"
   ]
  },
  {
   "cell_type": "markdown",
   "id": "58ee150d-d623-4a03-a5eb-a2728ec50edb",
   "metadata": {},
   "source": [
    "# 페이지 여러개에서 가져오기\n",
    "## 페이지 한 개에서 테스트\n",
    "- 페이지 넘버를 나타내는 규칙 찾기"
   ]
  },
  {
   "cell_type": "code",
   "execution_count": 21,
   "id": "53785e63-d2a5-46a0-ba1a-09b04275e0e0",
   "metadata": {},
   "outputs": [
    {
     "data": {
      "text/plain": [
       "'https://news.naver.com/main/list.nhn?mode=LS2D&mid=shm&sid2=228&sid1=105&page=1'"
      ]
     },
     "execution_count": 21,
     "metadata": {},
     "output_type": "execute_result"
    }
   ],
   "source": [
    "# 네이버 뉴스로 이동\n",
    "url_page = \"https://news.naver.com/main/list.nhn?mode=LS2D&mid=shm&sid2=228&sid1=105&page=\"\n",
    "page_number = 1\n",
    "url_page + str(page_number)"
   ]
  },
  {
   "cell_type": "code",
   "execution_count": 22,
   "id": "c4677d2a-750f-4172-ba4f-739ae94b9aa3",
   "metadata": {},
   "outputs": [],
   "source": [
    "driver.get(url_page + str(page_number))\n",
    "driver.implicitly_wait(1)   # 잠시 기다리기"
   ]
  },
  {
   "cell_type": "code",
   "execution_count": 23,
   "id": "457cc552-8e92-41e8-8ba6-73792e1465cd",
   "metadata": {},
   "outputs": [],
   "source": [
    "# 제목 가져와서 불필요한 원소 제거\n",
    "title = [i.text for i in driver.find_elements_by_css_selector(\"li > dl > dt > a\")]\n",
    "title = [i for i in title if i != \"\"]"
   ]
  },
  {
   "cell_type": "code",
   "execution_count": 24,
   "id": "39e3debb-25d4-4627-a85f-94022c811ecd",
   "metadata": {},
   "outputs": [],
   "source": [
    "# url 가져와서 중복제거\n",
    "url = [i.get_attribute(\"href\") for i in driver.find_elements_by_css_selector(\"li > dl > dt > a\")]\n",
    "url = list(set(url))"
   ]
  },
  {
   "cell_type": "code",
   "execution_count": 25,
   "id": "dc0b99d5-06ba-4130-a744-8949648c4e14",
   "metadata": {},
   "outputs": [],
   "source": [
    "# 신문사 가져오기\n",
    "writer = [i.text for i in driver.find_elements_by_class_name(\"writing\")]"
   ]
  },
  {
   "cell_type": "code",
   "execution_count": 26,
   "id": "186f8b93-28dc-434f-a958-ba433d0230ac",
   "metadata": {},
   "outputs": [
    {
     "data": {
      "text/html": [
       "<div>\n",
       "<style scoped>\n",
       "    .dataframe tbody tr th:only-of-type {\n",
       "        vertical-align: middle;\n",
       "    }\n",
       "\n",
       "    .dataframe tbody tr th {\n",
       "        vertical-align: top;\n",
       "    }\n",
       "\n",
       "    .dataframe thead th {\n",
       "        text-align: right;\n",
       "    }\n",
       "</style>\n",
       "<table border=\"1\" class=\"dataframe\">\n",
       "  <thead>\n",
       "    <tr style=\"text-align: right;\">\n",
       "      <th></th>\n",
       "      <th>제목</th>\n",
       "      <th>링크</th>\n",
       "      <th>신문사</th>\n",
       "    </tr>\n",
       "  </thead>\n",
       "  <tbody>\n",
       "    <tr>\n",
       "      <th>0</th>\n",
       "      <td>“코로나19 경증·무증상 감염도 장내 미생물에 큰 영향”</td>\n",
       "      <td>https://news.naver.com/main/read.naver?mode=LS...</td>\n",
       "      <td>조선비즈</td>\n",
       "    </tr>\n",
       "    <tr>\n",
       "      <th>1</th>\n",
       "      <td>코로나 완치자, 장기 방어면역 10개월간 유지된다</td>\n",
       "      <td>https://news.naver.com/main/read.naver?mode=LS...</td>\n",
       "      <td>서울경제</td>\n",
       "    </tr>\n",
       "    <tr>\n",
       "      <th>2</th>\n",
       "      <td>코로나 무증상·경증 환자도 장내 미생물 균형 파괴</td>\n",
       "      <td>https://news.naver.com/main/read.naver?mode=LS...</td>\n",
       "      <td>서울경제</td>\n",
       "    </tr>\n",
       "    <tr>\n",
       "      <th>3</th>\n",
       "      <td>미세 플라스틱, 1시간내 온몸 퍼져 간 등에 쌓인다</td>\n",
       "      <td>https://news.naver.com/main/read.naver?mode=LS...</td>\n",
       "      <td>서울경제</td>\n",
       "    </tr>\n",
       "    <tr>\n",
       "      <th>4</th>\n",
       "      <td>바이러스·암 진단서 신약 개발까지···미래 바꿀 '꿈의 기술'</td>\n",
       "      <td>https://news.naver.com/main/read.naver?mode=LS...</td>\n",
       "      <td>서울경제</td>\n",
       "    </tr>\n",
       "    <tr>\n",
       "      <th>5</th>\n",
       "      <td>윤덕현 교수 \"킴리아 1회 투여하는데 5억…국산 맞춤 항암제 개발 시급\"</td>\n",
       "      <td>https://news.naver.com/main/read.naver?mode=LS...</td>\n",
       "      <td>한국경제</td>\n",
       "    </tr>\n",
       "    <tr>\n",
       "      <th>6</th>\n",
       "      <td>안트로젠, 희귀 피부질환 치료제 日서 '3상 투약'</td>\n",
       "      <td>https://news.naver.com/main/read.naver?mode=LS...</td>\n",
       "      <td>한국경제</td>\n",
       "    </tr>\n",
       "    <tr>\n",
       "      <th>7</th>\n",
       "      <td>휴온스, 러시아 백신 국내 판권 확보</td>\n",
       "      <td>https://news.naver.com/main/read.naver?mode=LS...</td>\n",
       "      <td>한국경제</td>\n",
       "    </tr>\n",
       "    <tr>\n",
       "      <th>8</th>\n",
       "      <td>자폐스펙트럼장애증 신약, 팜캐드·뉴로벤티 공동연구</td>\n",
       "      <td>https://news.naver.com/main/read.naver?mode=LS...</td>\n",
       "      <td>한국경제</td>\n",
       "    </tr>\n",
       "    <tr>\n",
       "      <th>9</th>\n",
       "      <td>'변이 위험' 경고에도…\"일상 회복\" 조급증 내다 최악 사태</td>\n",
       "      <td>https://news.naver.com/main/read.naver?mode=LS...</td>\n",
       "      <td>한국경제</td>\n",
       "    </tr>\n",
       "    <tr>\n",
       "      <th>10</th>\n",
       "      <td>ETRI \"일반인도 손쉽게 3D 영상 제작\"</td>\n",
       "      <td>https://news.naver.com/main/read.naver?mode=LS...</td>\n",
       "      <td>한국경제</td>\n",
       "    </tr>\n",
       "    <tr>\n",
       "      <th>11</th>\n",
       "      <td>K바이오, 차세대 줄기세포 기술 놓고 '격돌'</td>\n",
       "      <td>https://news.naver.com/main/read.naver?mode=LS...</td>\n",
       "      <td>한국경제</td>\n",
       "    </tr>\n",
       "    <tr>\n",
       "      <th>12</th>\n",
       "      <td>파스처럼 붙이는 주사기 '마이크로니들' 뜬다</td>\n",
       "      <td>https://news.naver.com/main/read.naver?mode=LS...</td>\n",
       "      <td>매일경제</td>\n",
       "    </tr>\n",
       "    <tr>\n",
       "      <th>13</th>\n",
       "      <td>암세포의 세포막 때우는 기술, 거기에 치명적 약점이 있다</td>\n",
       "      <td>https://news.naver.com/main/read.naver?mode=LS...</td>\n",
       "      <td>연합뉴스</td>\n",
       "    </tr>\n",
       "    <tr>\n",
       "      <th>14</th>\n",
       "      <td>충남권 지자체·대학·기업 함께 미래 이동수단 ICT 인재 키운다</td>\n",
       "      <td>https://news.naver.com/main/read.naver?mode=LS...</td>\n",
       "      <td>연합뉴스</td>\n",
       "    </tr>\n",
       "    <tr>\n",
       "      <th>15</th>\n",
       "      <td>\"백신 접종률 낮고 변이 확산…접종자 포함 무조건 야외서 마스크 써야\"</td>\n",
       "      <td>https://news.naver.com/main/read.naver?mode=LS...</td>\n",
       "      <td>동아사이언스</td>\n",
       "    </tr>\n",
       "    <tr>\n",
       "      <th>16</th>\n",
       "      <td>대한민국꿀잠프로젝트, 수면산업박람회 ‘슬립테크2021’ 오는 8~10일 코엑스서 개최</td>\n",
       "      <td>https://news.naver.com/main/read.naver?mode=LS...</td>\n",
       "      <td>조선비즈</td>\n",
       "    </tr>\n",
       "    <tr>\n",
       "      <th>17</th>\n",
       "      <td>휴온스, 러시아 1회 접종 백신 ‘스푸트니크 라이트’ 국내 판권 확보</td>\n",
       "      <td>https://news.naver.com/main/read.naver?mode=LS...</td>\n",
       "      <td>조선비즈</td>\n",
       "    </tr>\n",
       "    <tr>\n",
       "      <th>18</th>\n",
       "      <td>가톨릭학원, 10년간 ‘기초의학' 발전에 2000억 투자</td>\n",
       "      <td>https://news.naver.com/main/read.naver?mode=LS...</td>\n",
       "      <td>조선비즈</td>\n",
       "    </tr>\n",
       "    <tr>\n",
       "      <th>19</th>\n",
       "      <td>saRNA 英 미나, 릴리로부터 1500만달러 추가 투자 유치</td>\n",
       "      <td>https://news.naver.com/main/read.naver?mode=LS...</td>\n",
       "      <td>한국경제</td>\n",
       "    </tr>\n",
       "  </tbody>\n",
       "</table>\n",
       "</div>"
      ],
      "text/plain": [
       "                                                 제목  \\\n",
       "0                   “코로나19 경증·무증상 감염도 장내 미생물에 큰 영향”   \n",
       "1                       코로나 완치자, 장기 방어면역 10개월간 유지된다   \n",
       "2                       코로나 무증상·경증 환자도 장내 미생물 균형 파괴   \n",
       "3                      미세 플라스틱, 1시간내 온몸 퍼져 간 등에 쌓인다   \n",
       "4                바이러스·암 진단서 신약 개발까지···미래 바꿀 '꿈의 기술'   \n",
       "5          윤덕현 교수 \"킴리아 1회 투여하는데 5억…국산 맞춤 항암제 개발 시급\"   \n",
       "6                      안트로젠, 희귀 피부질환 치료제 日서 '3상 투약'   \n",
       "7                              휴온스, 러시아 백신 국내 판권 확보   \n",
       "8                       자폐스펙트럼장애증 신약, 팜캐드·뉴로벤티 공동연구   \n",
       "9                 '변이 위험' 경고에도…\"일상 회복\" 조급증 내다 최악 사태   \n",
       "10                         ETRI \"일반인도 손쉽게 3D 영상 제작\"   \n",
       "11                        K바이오, 차세대 줄기세포 기술 놓고 '격돌'   \n",
       "12                         파스처럼 붙이는 주사기 '마이크로니들' 뜬다   \n",
       "13                  암세포의 세포막 때우는 기술, 거기에 치명적 약점이 있다   \n",
       "14              충남권 지자체·대학·기업 함께 미래 이동수단 ICT 인재 키운다   \n",
       "15          \"백신 접종률 낮고 변이 확산…접종자 포함 무조건 야외서 마스크 써야\"   \n",
       "16  대한민국꿀잠프로젝트, 수면산업박람회 ‘슬립테크2021’ 오는 8~10일 코엑스서 개최   \n",
       "17           휴온스, 러시아 1회 접종 백신 ‘스푸트니크 라이트’ 국내 판권 확보   \n",
       "18                  가톨릭학원, 10년간 ‘기초의학' 발전에 2000억 투자   \n",
       "19               saRNA 英 미나, 릴리로부터 1500만달러 추가 투자 유치   \n",
       "\n",
       "                                                   링크     신문사  \n",
       "0   https://news.naver.com/main/read.naver?mode=LS...    조선비즈  \n",
       "1   https://news.naver.com/main/read.naver?mode=LS...    서울경제  \n",
       "2   https://news.naver.com/main/read.naver?mode=LS...    서울경제  \n",
       "3   https://news.naver.com/main/read.naver?mode=LS...    서울경제  \n",
       "4   https://news.naver.com/main/read.naver?mode=LS...    서울경제  \n",
       "5   https://news.naver.com/main/read.naver?mode=LS...    한국경제  \n",
       "6   https://news.naver.com/main/read.naver?mode=LS...    한국경제  \n",
       "7   https://news.naver.com/main/read.naver?mode=LS...    한국경제  \n",
       "8   https://news.naver.com/main/read.naver?mode=LS...    한국경제  \n",
       "9   https://news.naver.com/main/read.naver?mode=LS...    한국경제  \n",
       "10  https://news.naver.com/main/read.naver?mode=LS...    한국경제  \n",
       "11  https://news.naver.com/main/read.naver?mode=LS...    한국경제  \n",
       "12  https://news.naver.com/main/read.naver?mode=LS...    매일경제  \n",
       "13  https://news.naver.com/main/read.naver?mode=LS...    연합뉴스  \n",
       "14  https://news.naver.com/main/read.naver?mode=LS...    연합뉴스  \n",
       "15  https://news.naver.com/main/read.naver?mode=LS...  동아사이언스  \n",
       "16  https://news.naver.com/main/read.naver?mode=LS...    조선비즈  \n",
       "17  https://news.naver.com/main/read.naver?mode=LS...    조선비즈  \n",
       "18  https://news.naver.com/main/read.naver?mode=LS...    조선비즈  \n",
       "19  https://news.naver.com/main/read.naver?mode=LS...    한국경제  "
      ]
     },
     "execution_count": 26,
     "metadata": {},
     "output_type": "execute_result"
    }
   ],
   "source": [
    "# 데이터프레임으로 만들기\n",
    "df = pd.DataFrame({\n",
    "    \"제목\": title,\n",
    "    \"링크\": url,\n",
    "    \"신문사\": writer\n",
    "})\n",
    "df"
   ]
  },
  {
   "cell_type": "code",
   "execution_count": 27,
   "id": "b17d5333-3350-4c01-9680-11929cf8ed77",
   "metadata": {},
   "outputs": [],
   "source": [
    "# 브라우저 종료\n",
    "driver.close()"
   ]
  },
  {
   "cell_type": "markdown",
   "id": "7547bfde-ec10-4a8c-b0f0-130a6d0dffb6",
   "metadata": {},
   "source": [
    "## 앞에서 한 방법을 반복문으로 만들기"
   ]
  },
  {
   "cell_type": "code",
   "execution_count": 6,
   "id": "2add38ab-54ea-4aac-bfc2-454bd5796e53",
   "metadata": {},
   "outputs": [
    {
     "name": "stdout",
     "output_type": "stream",
     "text": [
      "1\n",
      "2\n",
      "3\n",
      "4\n",
      "5\n",
      "6\n",
      "7\n",
      "8\n",
      "7페이지가 마지막입니다.\n"
     ]
    }
   ],
   "source": [
    "# 라이브러리 불러오기\n",
    "from selenium import webdriver\n",
    "import pandas as pd\n",
    "\n",
    "### 크롬 브라우저 실행\n",
    "# # 윈도우\n",
    "# driver_path = \"../driver/chromedriver.exe\"\n",
    "# 맥\n",
    "driver_path = \"../driver/chromedriver\"\n",
    "driver = webdriver.Chrome(driver_path)\n",
    "\n",
    "max_page = 10   # 최대 페이지 설정\n",
    "\n",
    "# 페이지 수만큼 반복\n",
    "for page_number in range(1, max_page, 1):\n",
    "    print(page_number)\n",
    "    \n",
    "    # 네이버 뉴스로 이동\n",
    "    url_page = \"https://news.naver.com/main/list.nhn?mode=LS2D&mid=shm&sid2=228&sid1=105&page=\"\n",
    "    driver.get(url_page + str(page_number))\n",
    "    driver.implicitly_wait(1)   # 잠시 기다리기\n",
    "    \n",
    "    # 제목 가져와서 불필요한 원소 제거\n",
    "    title = [i.text for i in driver.find_elements_by_css_selector(\"li > dl > dt > a\")]\n",
    "    title = [i for i in title if (i != \"\") & (i != \"동영상기사\")]\n",
    "    \n",
    "    # url 가져와서 중복제거\n",
    "    url = [i.get_attribute(\"href\") for i in driver.find_elements_by_css_selector(\"li > dl > dt > a\")]\n",
    "    url = list(set(url))\n",
    "    \n",
    "    # 신문사 가져오기\n",
    "    writer = [i.text for i in driver.find_elements_by_class_name(\"writing\")]\n",
    "    \n",
    "    # 데이터프레임으로 만들기\n",
    "    df = pd.DataFrame({\n",
    "        \"제목\": title,\n",
    "        \"링크\": url,\n",
    "        \"신문사\": writer\n",
    "    })\n",
    "    \n",
    "   \n",
    "    # 1페이지일 경우 df_news에 넣고, 이후 페이지의 경우에는 df_news 밑으로 계속 붙임\n",
    "    if (page_number == 1):\n",
    "        df_news = df\n",
    "    else:\n",
    "        # page_number > 1일 뗴, 이번 페이지의 마지막 기사가 이전 페이지까지 크롤링해온 데이터의 마지막 기사와 같은 경우에는 종료\n",
    "        # 왜냐하면, 두 기사의 제목이 같다는 것은 같은 페이지를 크롤링한 것이기 때문\n",
    "        # 최대 페이지가 넘어갈 경우, 계속 마지막 페이지만을 보여줌\n",
    "        if (df.iloc[-1, 0] == df_news.iloc[-1, 0]):\n",
    "            driver.close()   # 브라우저 종료\n",
    "            print(\"{}페이지가 마지막입니다.\".format(page_number-1))\n",
    "            break\n",
    "        \n",
    "        df_news = df_news.append(df,\n",
    "                                 ignore_index = True)"
   ]
  },
  {
   "cell_type": "code",
   "execution_count": 7,
   "id": "e58d0f0a-230a-4656-837c-724a380d67ed",
   "metadata": {},
   "outputs": [
    {
     "data": {
      "text/html": [
       "<div>\n",
       "<style scoped>\n",
       "    .dataframe tbody tr th:only-of-type {\n",
       "        vertical-align: middle;\n",
       "    }\n",
       "\n",
       "    .dataframe tbody tr th {\n",
       "        vertical-align: top;\n",
       "    }\n",
       "\n",
       "    .dataframe thead th {\n",
       "        text-align: right;\n",
       "    }\n",
       "</style>\n",
       "<table border=\"1\" class=\"dataframe\">\n",
       "  <thead>\n",
       "    <tr style=\"text-align: right;\">\n",
       "      <th></th>\n",
       "      <th>제목</th>\n",
       "      <th>링크</th>\n",
       "      <th>신문사</th>\n",
       "    </tr>\n",
       "  </thead>\n",
       "  <tbody>\n",
       "    <tr>\n",
       "      <th>0</th>\n",
       "      <td>아리랑 1·2호 위성 본체 개발한 진익민 전 항우연 소장 별세</td>\n",
       "      <td>https://news.naver.com/main/read.nhn?mode=LS2D...</td>\n",
       "      <td>매일경제</td>\n",
       "    </tr>\n",
       "    <tr>\n",
       "      <th>1</th>\n",
       "      <td>연구재단, 대학 연구기반 조성 위한 국가 R&amp;D 정책 포럼 개최</td>\n",
       "      <td>https://news.naver.com/main/read.nhn?mode=LS2D...</td>\n",
       "      <td>전자신문</td>\n",
       "    </tr>\n",
       "    <tr>\n",
       "      <th>2</th>\n",
       "      <td>IBS-국립대구과학관, 과학문화 확산 위한 MOU 체결</td>\n",
       "      <td>https://news.naver.com/main/read.nhn?mode=LS2D...</td>\n",
       "      <td>전자신문</td>\n",
       "    </tr>\n",
       "    <tr>\n",
       "      <th>3</th>\n",
       "      <td>“코로나19 경증·무증상 감염도 장내 미생물에 큰 영향”</td>\n",
       "      <td>https://news.naver.com/main/read.nhn?mode=LS2D...</td>\n",
       "      <td>조선비즈</td>\n",
       "    </tr>\n",
       "    <tr>\n",
       "      <th>4</th>\n",
       "      <td>코로나 완치자, 장기 방어면역 10개월간 유지된다</td>\n",
       "      <td>https://news.naver.com/main/read.nhn?mode=LS2D...</td>\n",
       "      <td>서울경제</td>\n",
       "    </tr>\n",
       "    <tr>\n",
       "      <th>...</th>\n",
       "      <td>...</td>\n",
       "      <td>...</td>\n",
       "      <td>...</td>\n",
       "    </tr>\n",
       "    <tr>\n",
       "      <th>118</th>\n",
       "      <td>'인구 감소' 직격탄 맞는 지역 대학, \"기초학문·지역균형 위해 지원해야\"</td>\n",
       "      <td>https://news.naver.com/main/read.nhn?mode=LS2D...</td>\n",
       "      <td>뉴스1</td>\n",
       "    </tr>\n",
       "    <tr>\n",
       "      <th>119</th>\n",
       "      <td>TV서 춤추던 미모의 인플루언서 로지…사람 아니었다</td>\n",
       "      <td>https://news.naver.com/main/read.nhn?mode=LS2D...</td>\n",
       "      <td>국민일보</td>\n",
       "    </tr>\n",
       "    <tr>\n",
       "      <th>120</th>\n",
       "      <td>유럽인들 “기후변화가 감염병 확산보다 심각한 문제”</td>\n",
       "      <td>https://news.naver.com/main/read.nhn?mode=LS2D...</td>\n",
       "      <td>한겨레</td>\n",
       "    </tr>\n",
       "    <tr>\n",
       "      <th>121</th>\n",
       "      <td>[신문과 놀자!/어린이과학동아 별별과학백과]이윤만 좇는 기업은 오랫동안 살아남을 수...</td>\n",
       "      <td>https://news.naver.com/main/read.nhn?mode=LS2D...</td>\n",
       "      <td>동아일보</td>\n",
       "    </tr>\n",
       "    <tr>\n",
       "      <th>122</th>\n",
       "      <td>중세시대 남자들 사이에서 퍼진 유행병, 범인은 '뾰족구두'</td>\n",
       "      <td>https://news.naver.com/main/read.nhn?mode=LS2D...</td>\n",
       "      <td>동아사이언스</td>\n",
       "    </tr>\n",
       "  </tbody>\n",
       "</table>\n",
       "<p>123 rows × 3 columns</p>\n",
       "</div>"
      ],
      "text/plain": [
       "                                                    제목  \\\n",
       "0                   아리랑 1·2호 위성 본체 개발한 진익민 전 항우연 소장 별세   \n",
       "1                  연구재단, 대학 연구기반 조성 위한 국가 R&D 정책 포럼 개최   \n",
       "2                       IBS-국립대구과학관, 과학문화 확산 위한 MOU 체결   \n",
       "3                      “코로나19 경증·무증상 감염도 장내 미생물에 큰 영향”   \n",
       "4                          코로나 완치자, 장기 방어면역 10개월간 유지된다   \n",
       "..                                                 ...   \n",
       "118          '인구 감소' 직격탄 맞는 지역 대학, \"기초학문·지역균형 위해 지원해야\"   \n",
       "119                       TV서 춤추던 미모의 인플루언서 로지…사람 아니었다   \n",
       "120                       유럽인들 “기후변화가 감염병 확산보다 심각한 문제”   \n",
       "121  [신문과 놀자!/어린이과학동아 별별과학백과]이윤만 좇는 기업은 오랫동안 살아남을 수...   \n",
       "122                   중세시대 남자들 사이에서 퍼진 유행병, 범인은 '뾰족구두'   \n",
       "\n",
       "                                                    링크     신문사  \n",
       "0    https://news.naver.com/main/read.nhn?mode=LS2D...    매일경제  \n",
       "1    https://news.naver.com/main/read.nhn?mode=LS2D...    전자신문  \n",
       "2    https://news.naver.com/main/read.nhn?mode=LS2D...    전자신문  \n",
       "3    https://news.naver.com/main/read.nhn?mode=LS2D...    조선비즈  \n",
       "4    https://news.naver.com/main/read.nhn?mode=LS2D...    서울경제  \n",
       "..                                                 ...     ...  \n",
       "118  https://news.naver.com/main/read.nhn?mode=LS2D...     뉴스1  \n",
       "119  https://news.naver.com/main/read.nhn?mode=LS2D...    국민일보  \n",
       "120  https://news.naver.com/main/read.nhn?mode=LS2D...     한겨레  \n",
       "121  https://news.naver.com/main/read.nhn?mode=LS2D...    동아일보  \n",
       "122  https://news.naver.com/main/read.nhn?mode=LS2D...  동아사이언스  \n",
       "\n",
       "[123 rows x 3 columns]"
      ]
     },
     "execution_count": 7,
     "metadata": {},
     "output_type": "execute_result"
    }
   ],
   "source": [
    "df_news"
   ]
  },
  {
   "cell_type": "code",
   "execution_count": 8,
   "id": "8f4f12cd-b5ed-47cb-b930-59e9acde17ae",
   "metadata": {},
   "outputs": [],
   "source": [
    "# 엑셀 파일로 저장\n",
    "df_news.to_excel(\"data/naver_news.xlsx\",\n",
    "                 index = False)"
   ]
  },
  {
   "cell_type": "code",
   "execution_count": null,
   "id": "3ba7b7f6-a818-4fdd-a2d3-25159aa9f555",
   "metadata": {},
   "outputs": [],
   "source": []
  }
 ],
 "metadata": {
  "kernelspec": {
   "display_name": "Python 3",
   "language": "python",
   "name": "python3"
  },
  "language_info": {
   "codemirror_mode": {
    "name": "ipython",
    "version": 3
   },
   "file_extension": ".py",
   "mimetype": "text/x-python",
   "name": "python",
   "nbconvert_exporter": "python",
   "pygments_lexer": "ipython3",
   "version": "3.8.10"
  }
 },
 "nbformat": 4,
 "nbformat_minor": 5
}
