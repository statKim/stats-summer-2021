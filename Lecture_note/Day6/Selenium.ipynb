{
 "cells": [
  {
   "cell_type": "markdown",
   "id": "38a55b65-264c-4550-bf57-3b1aa95f5a1f",
   "metadata": {},
   "source": [
    "# Selenium\n",
    "\n",
    "## 크롤링에서 BeautifulSoup의 한계\n",
    "- 자바스크립트(Java Script)와 같이 동적으로 생성되는 웹페이지의 경우 값을 가져올 수 없음\n",
    "- 예를 들어, 네이버 카페의 경우는 게시글이나 옆의 배너를 아무리 눌러봐도 url이 바뀌지 않음\n",
    "> https://cafe.naver.com/joonggonara\n",
    "\n",
    "## Selenium이란?\n",
    "- Selenium은 BeautifulSoup의 한계를 극복하기 위해, 웹브라우저를 직접 띄운 후에 브라우저에 나타나고 있는 것들을 긁어옴\n",
    "- 따라서 동적으로 바뀌는 웹페이지의 경우에도 값을 가져올 수 있으며, BeautifulSoup에서 할 수 있던 것들도 당연하 시용이 가능\n",
    "- 단, 직접 브라우저를 띄워 값을 가져오기 때문에 속도는 느린편"
   ]
  },
  {
   "cell_type": "markdown",
   "id": "ddeaf26a-806f-43b3-a090-58559f5870d5",
   "metadata": {},
   "source": [
    "## Selenium을 사용하기 위한 준비\n",
    "- 크롬 설치\n",
    "-  크롬드라이버 설치\n",
    "    1. 크롬 버전 확인\n",
    "    2. 크롬 버전에 맞는 [드라이버](https://chromedriver.chromium.org/downloads) 설치\n",
    "\n",
    "    - [맥에서 크롬드라이버 권한 오류 뜰 경우 해결방법](https://somjang.tistory.com/entry/MAC-OSX-%EA%B0%9C%EB%B0%9C%EC%9E%90%EB%A5%BC-%ED%99%95%EC%9D%B8%ED%95%A0-%EC%88%98-%EC%97%86%EA%B8%B0-%EB%95%8C%EB%AC%B8%EC%97%90-chromedriver%EC%9D%84%EB%A5%BC-%EC%97%B4-%EC%88%98-%EC%97%86%EC%8A%B5%EB%8B%88%EB%8B%A4-%ED%95%B4%EA%B2%B0-%EB%B0%A9%EB%B2%95)"
   ]
  },
  {
   "cell_type": "code",
   "execution_count": 78,
   "id": "d933239f-80d7-4207-8485-20225d3eb914",
   "metadata": {},
   "outputs": [],
   "source": [
    "from bs4 import BeautifulSoup\n",
    "from selenium import webdriver"
   ]
  },
  {
   "cell_type": "code",
   "execution_count": 91,
   "id": "daf7f00f-0522-4587-bebc-3eacdea579d2",
   "metadata": {},
   "outputs": [],
   "source": [
    "# 웹드라이브로 크롬브라우저 띄우기\n",
    "\n",
    "# 윈도우\n",
    "driver_path = \"../driver/chromedriver.exe\"\n",
    "# 맥\n",
    "driver_path = \"../driver/chromedriver\"\n",
    "\n",
    "driver = webdriver.Chrome(executable_path = driver_path)"
   ]
  },
  {
   "cell_type": "code",
   "execution_count": 92,
   "id": "73f91cc5-f9d6-411f-9c51-b96f5a78b4bd",
   "metadata": {},
   "outputs": [],
   "source": [
    "# 페이지 이동해보기\n",
    "url_page = \"https://statkim.github.io/stats-summer-2021/\"\n",
    "driver.get(url_page)"
   ]
  },
  {
   "cell_type": "code",
   "execution_count": 93,
   "id": "a7cac04f-b1f4-439c-9b25-a272d9d553e0",
   "metadata": {},
   "outputs": [],
   "source": [
    "# 크롬 창 닫기\n",
    "driver.close()"
   ]
  },
  {
   "cell_type": "code",
   "execution_count": null,
   "id": "51cc1c36-531f-4835-9ec8-dc3bc952245d",
   "metadata": {},
   "outputs": [],
   "source": []
  },
  {
   "cell_type": "code",
   "execution_count": null,
   "id": "de81eb05-5a75-49e7-9b5c-0872de41ba98",
   "metadata": {},
   "outputs": [],
   "source": []
  },
  {
   "cell_type": "code",
   "execution_count": null,
   "id": "3c5919fa-9e0f-448b-bac3-b75fcfc4945d",
   "metadata": {},
   "outputs": [],
   "source": []
  },
  {
   "cell_type": "code",
   "execution_count": null,
   "id": "e186d7fa-1a7a-4854-8e11-234c94dd3a66",
   "metadata": {},
   "outputs": [],
   "source": []
  },
  {
   "cell_type": "code",
   "execution_count": null,
   "id": "565b1f6a-67e9-48ac-9a48-ef1f9d951cae",
   "metadata": {},
   "outputs": [],
   "source": []
  },
  {
   "cell_type": "code",
   "execution_count": null,
   "id": "a7553eb2-135c-4d7a-ba66-485364864c31",
   "metadata": {},
   "outputs": [],
   "source": []
  },
  {
   "cell_type": "markdown",
   "id": "660bce20-a2ec-4b49-8cb8-89f115ea7b8c",
   "metadata": {},
   "source": [
    "# Selenium으로 네이버 로그인 하기"
   ]
  },
  {
   "cell_type": "code",
   "execution_count": null,
   "id": "f4bfb911-b7d6-45e5-8de8-221e061b1bf8",
   "metadata": {},
   "outputs": [],
   "source": []
  },
  {
   "cell_type": "code",
   "execution_count": null,
   "id": "8adbabb8-e207-4b8b-9be1-71d94c9fef31",
   "metadata": {},
   "outputs": [],
   "source": []
  },
  {
   "cell_type": "code",
   "execution_count": null,
   "id": "2a8bf553-93ce-4a42-9714-66c1799d2a10",
   "metadata": {},
   "outputs": [],
   "source": []
  },
  {
   "cell_type": "markdown",
   "id": "57d1f089-f076-495f-806a-b2672aa2637e",
   "metadata": {},
   "source": [
    "# Selenium과 BeautifulSoup 같이 사용하기"
   ]
  },
  {
   "cell_type": "code",
   "execution_count": null,
   "id": "3ea84d3f-e0cf-4ad2-8cef-f6cf57fb1bf8",
   "metadata": {},
   "outputs": [],
   "source": []
  }
 ],
 "metadata": {
  "kernelspec": {
   "display_name": "Python 3",
   "language": "python",
   "name": "python3"
  },
  "language_info": {
   "codemirror_mode": {
    "name": "ipython",
    "version": 3
   },
   "file_extension": ".py",
   "mimetype": "text/x-python",
   "name": "python",
   "nbconvert_exporter": "python",
   "pygments_lexer": "ipython3",
   "version": "3.8.10"
  }
 },
 "nbformat": 4,
 "nbformat_minor": 5
}
