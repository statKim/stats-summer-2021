{
 "cells": [
  {
   "cell_type": "markdown",
   "id": "38a55b65-264c-4550-bf57-3b1aa95f5a1f",
   "metadata": {},
   "source": [
    "# Selenium\n",
    "\n",
    "## 크롤링에서 BeautifulSoup의 한계\n",
    "- 자바스크립트(JavaScript)와 같이 동적으로 생성되는 웹페이지의 경우 값을 가져올 수 없음\n",
    "- 예를 들어, 네이버 카페의 경우는 게시글이나 옆의 배너를 아무리 눌러봐도 url이 바뀌지 않음\n",
    "> https://cafe.naver.com/joonggonara\n",
    "\n",
    "## Selenium이란?\n",
    "- Selenium은 BeautifulSoup의 한계를 극복하기 위해, 웹브라우저를 직접 띄운 후에 브라우저에 나타나고 있는 것들을 긁어옴\n",
    "- 따라서 동적으로 바뀌는 웹페이지의 경우에도 값을 가져올 수 있으며, BeautifulSoup에서 할 수 있던 것들도 당연하 시용이 가능\n",
    "- 단, 직접 브라우저를 띄워 값을 가져오기 때문에 속도는 느린편"
   ]
  },
  {
   "cell_type": "markdown",
   "id": "ddeaf26a-806f-43b3-a090-58559f5870d5",
   "metadata": {},
   "source": [
    "## Selenium을 사용하기 위한 준비\n",
    "- 크롬 설치\n",
    "-  크롬드라이버 설치\n",
    "    1. 크롬 버전 확인\n",
    "    2. 크롬 버전에 맞는 [드라이버](https://chromedriver.chromium.org/downloads) 설치\n",
    "\n",
    "    - 참고) [맥에서 크롬드라이버 권한 오류 뜰 경우 해결방법](https://somjang.tistory.com/entry/MAC-OSX-%EA%B0%9C%EB%B0%9C%EC%9E%90%EB%A5%BC-%ED%99%95%EC%9D%B8%ED%95%A0-%EC%88%98-%EC%97%86%EA%B8%B0-%EB%95%8C%EB%AC%B8%EC%97%90-chromedriver%EC%9D%84%EB%A5%BC-%EC%97%B4-%EC%88%98-%EC%97%86%EC%8A%B5%EB%8B%88%EB%8B%A4-%ED%95%B4%EA%B2%B0-%EB%B0%A9%EB%B2%95)"
   ]
  },
  {
   "cell_type": "markdown",
   "id": "a87f5855-343e-46f3-a466-34b6de784eae",
   "metadata": {},
   "source": [
    "# Selenium을 이용한 크롤링"
   ]
  },
  {
   "cell_type": "code",
   "execution_count": 1,
   "id": "d933239f-80d7-4207-8485-20225d3eb914",
   "metadata": {},
   "outputs": [],
   "source": [
    "# 라이브러리 불러오기\n",
    "from selenium import webdriver"
   ]
  },
  {
   "cell_type": "markdown",
   "id": "7104a1b7-2ec4-4fc0-b802-21636db4f0ca",
   "metadata": {},
   "source": [
    "## 1. 크롬 브라우저 띄우기\n",
    "- `webdriver.Chrome(크롬드라이버_경로)`"
   ]
  },
  {
   "cell_type": "code",
   "execution_count": 2,
   "id": "daf7f00f-0522-4587-bebc-3eacdea579d2",
   "metadata": {},
   "outputs": [],
   "source": [
    "# # 윈도우\n",
    "# driver_path = \"../driver/chromedriver.exe\"\n",
    "# 맥\n",
    "driver_path = \"../driver/chromedriver\"\n",
    "\n",
    "driver = webdriver.Chrome(driver_path)"
   ]
  },
  {
   "cell_type": "markdown",
   "id": "76307c66-ee96-4afb-b7ce-e0282477518c",
   "metadata": {},
   "source": [
    "#### 크롬 브라우저가 실행되면서 `\"Chrome이 자동화된 테스트 소프트웨어에 의해 제어되고 있습니다.\"` 라는 문구를 볼 수 있다."
   ]
  },
  {
   "cell_type": "markdown",
   "id": "ed05e26e-38cc-4250-a126-6cfec7466e5a",
   "metadata": {},
   "source": [
    "## 2. URL 이동하기\n",
    "- `driver.get(URL)` : requests 모듈의 `request.get()`과 비슷한 기능 but 실제로 브라우저에서 페이지가 바뀌는 것을 확인할 수 있음"
   ]
  },
  {
   "cell_type": "code",
   "execution_count": 3,
   "id": "73f91cc5-f9d6-411f-9c51-b96f5a78b4bd",
   "metadata": {},
   "outputs": [],
   "source": [
    "# 페이지 이동해보기\n",
    "url_page = \"https://statkim.github.io/stats-summer-2021/\"\n",
    "driver.get(url_page)"
   ]
  },
  {
   "cell_type": "code",
   "execution_count": 4,
   "id": "eb15cd5c-0b64-4691-a19a-44b59c82a540",
   "metadata": {},
   "outputs": [],
   "source": [
    "# 페이지 이동해보기\n",
    "url_page = \"https://www.naver.com\"\n",
    "driver.get(url_page)"
   ]
  },
  {
   "cell_type": "markdown",
   "id": "18314f14-6e98-46b6-96be-a6597f211219",
   "metadata": {},
   "source": [
    "## 3. 값에 접근하기\n",
    "\n",
    "1. 값 하나만 가져오기 (`find_element_by_...`)\n",
    "```python\n",
    "find_element_by_name('태그_name')\n",
    "find_element_by_id('태그_id')\n",
    "find_element_by_xpath('xpath')\n",
    "find_element_by_css_selector('CSS selector')\n",
    "find_element_by_class_name('class name')\n",
    "find_element_by_tag_name('태그명')\n",
    "```\n",
    "\n",
    "\n",
    "2. 값 여러개 가져오기 (`find_elements_by_...`) => 리스트로 반환\n",
    "```python\n",
    "find_elements_by_name('태그_name')\n",
    "find_elements_by_id('태그_id')\n",
    "find_elements_by_xpath('xpath')\n",
    "find_elements_by_css_selector('CSS selector')\n",
    "find_elements_by_class_name('class name')\n",
    "find_elements_by_tag_name('태그명')\n",
    "```\n",
    "\n",
    "- 이렇게 값을 가져올 떄에는 많은 삽질(시행착오)이 필요!!\n",
    "- 항상 처음에는 값을 제대로 가져왔는지 하나하나 확인해야함!!\n",
    "- 실질적인 활용은 밑의 예시들에서 다루기로함"
   ]
  },
  {
   "cell_type": "markdown",
   "id": "646a2fec-113b-43f2-96c8-9235529dfb5d",
   "metadata": {},
   "source": [
    "## 4. 브라우저 종료\n",
    "- `driver.close()`"
   ]
  },
  {
   "cell_type": "code",
   "execution_count": 5,
   "id": "a7cac04f-b1f4-439c-9b25-a272d9d553e0",
   "metadata": {},
   "outputs": [],
   "source": [
    "# 크롬 창 닫기\n",
    "driver.close()"
   ]
  },
  {
   "cell_type": "markdown",
   "id": "3a9ca415-772e-473a-9dbc-e7cda9db35d0",
   "metadata": {},
   "source": [
    "# 예제1) 네이버 영화 제목과 평점 가져오기\n",
    "https://movie.naver.com/movie/sdb/rank/rmovie.nhn?sel=pnt&date=20210704"
   ]
  },
  {
   "cell_type": "code",
   "execution_count": 6,
   "id": "d54b7b07-682e-43c4-a467-58ba363ff5d3",
   "metadata": {},
   "outputs": [],
   "source": [
    "# 크롬 브라우저 열고 네이버 영화 랭킹 페이지로 이동하기\n",
    "driver = webdriver.Chrome(driver_path)\n",
    "driver.get(\"https://movie.naver.com/movie/sdb/rank/rmovie.nhn?sel=pnt\")\n",
    "\n",
    "# 3초 기다리기\n",
    "driver.implicitly_wait(3)"
   ]
  },
  {
   "cell_type": "markdown",
   "id": "c7c46511-5a8d-45a8-b529-77f13fdf59db",
   "metadata": {},
   "source": [
    "## 영화 제목 가져오기"
   ]
  },
  {
   "cell_type": "code",
   "execution_count": 7,
   "id": "294a8b72-51cc-45dd-9dd4-de9a6731d2e1",
   "metadata": {},
   "outputs": [
    {
     "data": {
      "text/plain": [
       "[<selenium.webdriver.remote.webelement.WebElement (session=\"f8e66b2555f41f273112fda4cbd412a3\", element=\"78b98b50-06ae-46b2-a820-f98f5c0b045a\")>,\n",
       " <selenium.webdriver.remote.webelement.WebElement (session=\"f8e66b2555f41f273112fda4cbd412a3\", element=\"2f0400ff-f97e-47a6-a45b-c077f39da1f7\")>,\n",
       " <selenium.webdriver.remote.webelement.WebElement (session=\"f8e66b2555f41f273112fda4cbd412a3\", element=\"b340b68c-91f8-4614-bb70-6bb49178a93f\")>,\n",
       " <selenium.webdriver.remote.webelement.WebElement (session=\"f8e66b2555f41f273112fda4cbd412a3\", element=\"44b840ba-7768-4c96-a679-af048362b5f8\")>,\n",
       " <selenium.webdriver.remote.webelement.WebElement (session=\"f8e66b2555f41f273112fda4cbd412a3\", element=\"42dfd248-1929-459a-839c-edf700c3fcff\")>,\n",
       " <selenium.webdriver.remote.webelement.WebElement (session=\"f8e66b2555f41f273112fda4cbd412a3\", element=\"672cd35c-1591-4af4-a107-3ea872b155d2\")>,\n",
       " <selenium.webdriver.remote.webelement.WebElement (session=\"f8e66b2555f41f273112fda4cbd412a3\", element=\"8e99bdef-b219-40fd-8636-f4a0679a4b2e\")>,\n",
       " <selenium.webdriver.remote.webelement.WebElement (session=\"f8e66b2555f41f273112fda4cbd412a3\", element=\"8779c772-145e-4f45-aae8-ccce0f21e430\")>,\n",
       " <selenium.webdriver.remote.webelement.WebElement (session=\"f8e66b2555f41f273112fda4cbd412a3\", element=\"83559086-685f-40e7-95f3-c462b38ecaee\")>,\n",
       " <selenium.webdriver.remote.webelement.WebElement (session=\"f8e66b2555f41f273112fda4cbd412a3\", element=\"137efdd7-265e-4a1e-874e-dc4107f77566\")>,\n",
       " <selenium.webdriver.remote.webelement.WebElement (session=\"f8e66b2555f41f273112fda4cbd412a3\", element=\"2ddbc28f-a2b9-49c3-8df4-4ed3228e4e3e\")>,\n",
       " <selenium.webdriver.remote.webelement.WebElement (session=\"f8e66b2555f41f273112fda4cbd412a3\", element=\"3f44fe99-1f97-4373-b09b-d410a4414c38\")>,\n",
       " <selenium.webdriver.remote.webelement.WebElement (session=\"f8e66b2555f41f273112fda4cbd412a3\", element=\"ec5f504d-6370-425d-b70e-80a0098b3203\")>,\n",
       " <selenium.webdriver.remote.webelement.WebElement (session=\"f8e66b2555f41f273112fda4cbd412a3\", element=\"328462ab-558c-4836-8204-3e0c230f572e\")>,\n",
       " <selenium.webdriver.remote.webelement.WebElement (session=\"f8e66b2555f41f273112fda4cbd412a3\", element=\"627d1160-b546-4d32-99e4-4d964dfd0160\")>,\n",
       " <selenium.webdriver.remote.webelement.WebElement (session=\"f8e66b2555f41f273112fda4cbd412a3\", element=\"b4a2425c-3aca-4fa6-b0b6-77d5c14f9eb6\")>,\n",
       " <selenium.webdriver.remote.webelement.WebElement (session=\"f8e66b2555f41f273112fda4cbd412a3\", element=\"0b966792-5976-4385-afe7-e974c5ff6bc8\")>,\n",
       " <selenium.webdriver.remote.webelement.WebElement (session=\"f8e66b2555f41f273112fda4cbd412a3\", element=\"e9f6e3b4-7d23-43b7-a8d0-d7bd37db8d4a\")>,\n",
       " <selenium.webdriver.remote.webelement.WebElement (session=\"f8e66b2555f41f273112fda4cbd412a3\", element=\"1d7bf417-f3af-4372-adb2-47ec771d89df\")>,\n",
       " <selenium.webdriver.remote.webelement.WebElement (session=\"f8e66b2555f41f273112fda4cbd412a3\", element=\"afca316c-d20c-45b1-a964-fccff4ac3c9f\")>,\n",
       " <selenium.webdriver.remote.webelement.WebElement (session=\"f8e66b2555f41f273112fda4cbd412a3\", element=\"f5b89206-4c22-443d-971f-b20953adc94b\")>,\n",
       " <selenium.webdriver.remote.webelement.WebElement (session=\"f8e66b2555f41f273112fda4cbd412a3\", element=\"b764d371-404b-42ed-9a40-9d166b769ef1\")>,\n",
       " <selenium.webdriver.remote.webelement.WebElement (session=\"f8e66b2555f41f273112fda4cbd412a3\", element=\"6a01d852-2d1a-486d-a0cd-5f1552468c62\")>,\n",
       " <selenium.webdriver.remote.webelement.WebElement (session=\"f8e66b2555f41f273112fda4cbd412a3\", element=\"56ca6e9f-6548-4dbe-91cc-6f44a9f3cefe\")>,\n",
       " <selenium.webdriver.remote.webelement.WebElement (session=\"f8e66b2555f41f273112fda4cbd412a3\", element=\"74d23e3b-a80d-46e6-92eb-3a34e34f4e2b\")>,\n",
       " <selenium.webdriver.remote.webelement.WebElement (session=\"f8e66b2555f41f273112fda4cbd412a3\", element=\"e2922860-0c72-42b2-93c5-cbc1bc5bd81b\")>,\n",
       " <selenium.webdriver.remote.webelement.WebElement (session=\"f8e66b2555f41f273112fda4cbd412a3\", element=\"fccb3382-9f24-4a85-83b5-700c95f554cc\")>,\n",
       " <selenium.webdriver.remote.webelement.WebElement (session=\"f8e66b2555f41f273112fda4cbd412a3\", element=\"dc13c345-f04e-440d-95ef-15cf747f6430\")>,\n",
       " <selenium.webdriver.remote.webelement.WebElement (session=\"f8e66b2555f41f273112fda4cbd412a3\", element=\"33325f21-af6a-46cc-9a59-ace291bc8d5f\")>,\n",
       " <selenium.webdriver.remote.webelement.WebElement (session=\"f8e66b2555f41f273112fda4cbd412a3\", element=\"231b5852-5e96-435b-b142-635c15b69d51\")>,\n",
       " <selenium.webdriver.remote.webelement.WebElement (session=\"f8e66b2555f41f273112fda4cbd412a3\", element=\"468a2017-22f4-4480-9d47-80b636b373e8\")>,\n",
       " <selenium.webdriver.remote.webelement.WebElement (session=\"f8e66b2555f41f273112fda4cbd412a3\", element=\"7711341b-ed9c-4c7f-9a58-713a1701321e\")>,\n",
       " <selenium.webdriver.remote.webelement.WebElement (session=\"f8e66b2555f41f273112fda4cbd412a3\", element=\"572a1608-251b-4afc-8f2d-4c7516f98344\")>,\n",
       " <selenium.webdriver.remote.webelement.WebElement (session=\"f8e66b2555f41f273112fda4cbd412a3\", element=\"e1c85398-f36d-483f-934f-9a7320fce01d\")>,\n",
       " <selenium.webdriver.remote.webelement.WebElement (session=\"f8e66b2555f41f273112fda4cbd412a3\", element=\"ec355e7b-08de-447f-a0bf-27ff629a458d\")>,\n",
       " <selenium.webdriver.remote.webelement.WebElement (session=\"f8e66b2555f41f273112fda4cbd412a3\", element=\"174f01e5-2ae3-4906-a7e8-076269e780ff\")>,\n",
       " <selenium.webdriver.remote.webelement.WebElement (session=\"f8e66b2555f41f273112fda4cbd412a3\", element=\"0502191b-1747-4838-9fac-b873384c2050\")>,\n",
       " <selenium.webdriver.remote.webelement.WebElement (session=\"f8e66b2555f41f273112fda4cbd412a3\", element=\"70f55468-c5c1-42cb-8fe1-81b7005a477e\")>,\n",
       " <selenium.webdriver.remote.webelement.WebElement (session=\"f8e66b2555f41f273112fda4cbd412a3\", element=\"4444fae7-7cf1-4e29-bef4-408f33a26cee\")>,\n",
       " <selenium.webdriver.remote.webelement.WebElement (session=\"f8e66b2555f41f273112fda4cbd412a3\", element=\"318f6394-ac43-4b3b-afd4-d6d6a19d7136\")>,\n",
       " <selenium.webdriver.remote.webelement.WebElement (session=\"f8e66b2555f41f273112fda4cbd412a3\", element=\"6edf9d0f-da0c-43bd-bcba-d74ec9679d12\")>,\n",
       " <selenium.webdriver.remote.webelement.WebElement (session=\"f8e66b2555f41f273112fda4cbd412a3\", element=\"8152671a-bb1f-4bc6-9c03-e724be5b85a2\")>,\n",
       " <selenium.webdriver.remote.webelement.WebElement (session=\"f8e66b2555f41f273112fda4cbd412a3\", element=\"62928fa2-204e-4103-83f6-2bcefdc4b38d\")>,\n",
       " <selenium.webdriver.remote.webelement.WebElement (session=\"f8e66b2555f41f273112fda4cbd412a3\", element=\"fec8cbac-d93b-4c29-91b9-0c9b361c0b1f\")>,\n",
       " <selenium.webdriver.remote.webelement.WebElement (session=\"f8e66b2555f41f273112fda4cbd412a3\", element=\"772cb8db-5909-4218-a6a9-abd7e501fe2b\")>,\n",
       " <selenium.webdriver.remote.webelement.WebElement (session=\"f8e66b2555f41f273112fda4cbd412a3\", element=\"b88ad706-8625-424e-b1c6-370c8ed9b9a5\")>,\n",
       " <selenium.webdriver.remote.webelement.WebElement (session=\"f8e66b2555f41f273112fda4cbd412a3\", element=\"00a7f410-15a9-4c99-8a59-c2217f07c687\")>,\n",
       " <selenium.webdriver.remote.webelement.WebElement (session=\"f8e66b2555f41f273112fda4cbd412a3\", element=\"b624fe52-77fb-42de-9cb8-ade1a45c7d6d\")>,\n",
       " <selenium.webdriver.remote.webelement.WebElement (session=\"f8e66b2555f41f273112fda4cbd412a3\", element=\"9aad0965-ab20-41fb-8db4-818f23803e6e\")>,\n",
       " <selenium.webdriver.remote.webelement.WebElement (session=\"f8e66b2555f41f273112fda4cbd412a3\", element=\"4dd7f58f-4b51-486e-b227-db81cdfd63dd\")>]"
      ]
     },
     "execution_count": 7,
     "metadata": {},
     "output_type": "execute_result"
    }
   ],
   "source": [
    "# class name으로 가져오기\n",
    "driver.find_elements_by_class_name(\"tit5\")"
   ]
  },
  {
   "cell_type": "code",
   "execution_count": 8,
   "id": "7b8bf4fa-99a7-45a1-b2d3-95cd747dac4e",
   "metadata": {},
   "outputs": [
    {
     "data": {
      "text/plain": [
       "50"
      ]
     },
     "execution_count": 8,
     "metadata": {},
     "output_type": "execute_result"
    }
   ],
   "source": [
    "len(driver.find_elements_by_class_name(\"tit5\"))"
   ]
  },
  {
   "cell_type": "code",
   "execution_count": 9,
   "id": "82eb2b54-7a43-4436-9e49-9b5c0a5c17c8",
   "metadata": {},
   "outputs": [
    {
     "data": {
      "text/plain": [
       "['그린 북',\n",
       " '가버나움',\n",
       " '디지몬 어드벤처 라스트 에볼루션 : 인연',\n",
       " '먼 훗날 우리',\n",
       " '베일리 어게인',\n",
       " '원더',\n",
       " '아일라',\n",
       " '당갈',\n",
       " '극장판 바이올렛 에버가든',\n",
       " '포드 V 페라리',\n",
       " '주전장',\n",
       " '그대, 고맙소 : 김호중 생애 첫 팬미팅 무비',\n",
       " '쇼생크 탈출',\n",
       " '터미네이터 2:오리지널',\n",
       " '나 홀로 집에',\n",
       " '덕구',\n",
       " '라이언 일병 구하기',\n",
       " '클래식',\n",
       " '월-E',\n",
       " '보헤미안 랩소디',\n",
       " '사운드 오브 뮤직',\n",
       " '포레스트 검프',\n",
       " '잭 스나이더의 저스티스 리그',\n",
       " '빽 투 더 퓨쳐',\n",
       " '글래디에이터',\n",
       " '헬프',\n",
       " '위대한 쇼맨',\n",
       " '매트릭스',\n",
       " '가나의 혼인잔치: 언약',\n",
       " '인생은 아름다워',\n",
       " '타이타닉',\n",
       " '살인의 추억',\n",
       " '센과 치히로의 행방불명',\n",
       " '토이 스토리 3',\n",
       " '캐스트 어웨이',\n",
       " '헌터 킬러',\n",
       " '죽은 시인의 사회',\n",
       " '집으로...',\n",
       " '반지의 제왕: 왕의 귀환',\n",
       " '어벤져스: 엔드게임',\n",
       " '알라딘',\n",
       " '레옹',\n",
       " '히든 피겨스',\n",
       " '아이즈 온 미 : 더 무비',\n",
       " '동주',\n",
       " '아이 캔 스피크',\n",
       " '쉰들러 리스트',\n",
       " '여인의 향기',\n",
       " '클레멘타인',\n",
       " '안녕 베일리']"
      ]
     },
     "execution_count": 9,
     "metadata": {},
     "output_type": "execute_result"
    }
   ],
   "source": [
    "# 글자만 가져오기\n",
    "title = [i.text for i in driver.find_elements_by_class_name(\"tit5\")]\n",
    "title"
   ]
  },
  {
   "cell_type": "markdown",
   "id": "cc2f7309-1104-42fe-90e9-c6f2cfd13cf6",
   "metadata": {},
   "source": [
    "## 평점 가져오기"
   ]
  },
  {
   "cell_type": "code",
   "execution_count": 10,
   "id": "05400d9f-5322-4a78-ba14-6e726fa97282",
   "metadata": {},
   "outputs": [
    {
     "data": {
      "text/plain": [
       "[<selenium.webdriver.remote.webelement.WebElement (session=\"f8e66b2555f41f273112fda4cbd412a3\", element=\"b6ccf526-0c8d-4d71-bfdd-36056f0ed98c\")>,\n",
       " <selenium.webdriver.remote.webelement.WebElement (session=\"f8e66b2555f41f273112fda4cbd412a3\", element=\"fc8775bf-3f01-49c1-82b8-7fa5a8f65721\")>,\n",
       " <selenium.webdriver.remote.webelement.WebElement (session=\"f8e66b2555f41f273112fda4cbd412a3\", element=\"49386835-9b93-4cdc-8b4e-f51fb3f52547\")>,\n",
       " <selenium.webdriver.remote.webelement.WebElement (session=\"f8e66b2555f41f273112fda4cbd412a3\", element=\"43696327-2cc0-4d2b-bf97-6f41d99870d6\")>,\n",
       " <selenium.webdriver.remote.webelement.WebElement (session=\"f8e66b2555f41f273112fda4cbd412a3\", element=\"a52136c9-7eac-4a54-94cf-587407cf2153\")>,\n",
       " <selenium.webdriver.remote.webelement.WebElement (session=\"f8e66b2555f41f273112fda4cbd412a3\", element=\"556fa9ee-eef1-40c5-9af5-8cbb0e91b406\")>,\n",
       " <selenium.webdriver.remote.webelement.WebElement (session=\"f8e66b2555f41f273112fda4cbd412a3\", element=\"ab733e70-ef3c-46d1-b266-90b414b81963\")>,\n",
       " <selenium.webdriver.remote.webelement.WebElement (session=\"f8e66b2555f41f273112fda4cbd412a3\", element=\"f81897f8-29ed-42c1-8480-7c18207db0b1\")>,\n",
       " <selenium.webdriver.remote.webelement.WebElement (session=\"f8e66b2555f41f273112fda4cbd412a3\", element=\"5386bcc1-3dcc-4b6b-9ae9-344e807de14a\")>,\n",
       " <selenium.webdriver.remote.webelement.WebElement (session=\"f8e66b2555f41f273112fda4cbd412a3\", element=\"c2e60313-956a-4b85-bedb-1ea80f3ac29d\")>,\n",
       " <selenium.webdriver.remote.webelement.WebElement (session=\"f8e66b2555f41f273112fda4cbd412a3\", element=\"b8d94ceb-107f-488c-aa76-a73e64b4c475\")>,\n",
       " <selenium.webdriver.remote.webelement.WebElement (session=\"f8e66b2555f41f273112fda4cbd412a3\", element=\"0a8b742d-2999-4862-afc7-6ecb70d76aec\")>,\n",
       " <selenium.webdriver.remote.webelement.WebElement (session=\"f8e66b2555f41f273112fda4cbd412a3\", element=\"8bbbf90a-ecd7-4aa0-9ce4-6aff5754dd19\")>,\n",
       " <selenium.webdriver.remote.webelement.WebElement (session=\"f8e66b2555f41f273112fda4cbd412a3\", element=\"600fa2bb-4195-47e8-b261-b1d34129bf10\")>,\n",
       " <selenium.webdriver.remote.webelement.WebElement (session=\"f8e66b2555f41f273112fda4cbd412a3\", element=\"50691b96-1ae7-4832-bba6-a8d8dd66c3c4\")>,\n",
       " <selenium.webdriver.remote.webelement.WebElement (session=\"f8e66b2555f41f273112fda4cbd412a3\", element=\"d703f066-c51c-479e-a544-0aa95b01a2b3\")>,\n",
       " <selenium.webdriver.remote.webelement.WebElement (session=\"f8e66b2555f41f273112fda4cbd412a3\", element=\"81031a7f-0409-46d4-a138-702cd7cfb011\")>,\n",
       " <selenium.webdriver.remote.webelement.WebElement (session=\"f8e66b2555f41f273112fda4cbd412a3\", element=\"7778b20d-2d95-4b7a-ad4e-6fabaca9ad6f\")>,\n",
       " <selenium.webdriver.remote.webelement.WebElement (session=\"f8e66b2555f41f273112fda4cbd412a3\", element=\"cf2399ca-9886-42e4-92e3-09c8c58d5ac9\")>,\n",
       " <selenium.webdriver.remote.webelement.WebElement (session=\"f8e66b2555f41f273112fda4cbd412a3\", element=\"42d98c5c-16fb-49e9-ac08-3a38bed6004b\")>,\n",
       " <selenium.webdriver.remote.webelement.WebElement (session=\"f8e66b2555f41f273112fda4cbd412a3\", element=\"23f7c02c-36b0-4f8c-9545-57c755b9fd0e\")>,\n",
       " <selenium.webdriver.remote.webelement.WebElement (session=\"f8e66b2555f41f273112fda4cbd412a3\", element=\"d2b5340b-b8cb-4249-86f1-157ace75ebcf\")>,\n",
       " <selenium.webdriver.remote.webelement.WebElement (session=\"f8e66b2555f41f273112fda4cbd412a3\", element=\"6785b230-6300-482a-9eae-12ab4657a4a7\")>,\n",
       " <selenium.webdriver.remote.webelement.WebElement (session=\"f8e66b2555f41f273112fda4cbd412a3\", element=\"23924c35-5b73-4847-a853-cbf7bf8fc686\")>,\n",
       " <selenium.webdriver.remote.webelement.WebElement (session=\"f8e66b2555f41f273112fda4cbd412a3\", element=\"aec5db6b-848b-447f-a1da-182594127d53\")>,\n",
       " <selenium.webdriver.remote.webelement.WebElement (session=\"f8e66b2555f41f273112fda4cbd412a3\", element=\"0d589106-b78d-4426-8def-300ffb0f5361\")>,\n",
       " <selenium.webdriver.remote.webelement.WebElement (session=\"f8e66b2555f41f273112fda4cbd412a3\", element=\"997e5e5a-d2b6-4ed0-9ea5-060794fbacf8\")>,\n",
       " <selenium.webdriver.remote.webelement.WebElement (session=\"f8e66b2555f41f273112fda4cbd412a3\", element=\"8d197373-2a80-42c8-a4a6-017497ffc502\")>,\n",
       " <selenium.webdriver.remote.webelement.WebElement (session=\"f8e66b2555f41f273112fda4cbd412a3\", element=\"923669a0-f625-4493-b8f5-760d20e955b8\")>,\n",
       " <selenium.webdriver.remote.webelement.WebElement (session=\"f8e66b2555f41f273112fda4cbd412a3\", element=\"74525bfa-2ebe-4878-bf51-c2c2b8bc0646\")>,\n",
       " <selenium.webdriver.remote.webelement.WebElement (session=\"f8e66b2555f41f273112fda4cbd412a3\", element=\"d32c4c44-d79c-4a54-8b63-81757646a8cf\")>,\n",
       " <selenium.webdriver.remote.webelement.WebElement (session=\"f8e66b2555f41f273112fda4cbd412a3\", element=\"6f1ead48-ba24-4ab3-b991-c76183bbff38\")>,\n",
       " <selenium.webdriver.remote.webelement.WebElement (session=\"f8e66b2555f41f273112fda4cbd412a3\", element=\"53ab9b27-607a-4662-917c-b97d129c48e7\")>,\n",
       " <selenium.webdriver.remote.webelement.WebElement (session=\"f8e66b2555f41f273112fda4cbd412a3\", element=\"b1036bcd-a450-46be-a03c-fb88ed7a8049\")>,\n",
       " <selenium.webdriver.remote.webelement.WebElement (session=\"f8e66b2555f41f273112fda4cbd412a3\", element=\"2293bbf2-a0ee-4063-b9bb-347fc5f69624\")>,\n",
       " <selenium.webdriver.remote.webelement.WebElement (session=\"f8e66b2555f41f273112fda4cbd412a3\", element=\"57260700-8c3d-4058-a177-12cf46311c54\")>,\n",
       " <selenium.webdriver.remote.webelement.WebElement (session=\"f8e66b2555f41f273112fda4cbd412a3\", element=\"d14d5807-9782-440a-ab68-f29fad86fca4\")>,\n",
       " <selenium.webdriver.remote.webelement.WebElement (session=\"f8e66b2555f41f273112fda4cbd412a3\", element=\"74cdb0e3-367f-4031-b19d-3b450868f6e0\")>,\n",
       " <selenium.webdriver.remote.webelement.WebElement (session=\"f8e66b2555f41f273112fda4cbd412a3\", element=\"8b63636a-68d0-41b3-85cc-ad857e48b34a\")>,\n",
       " <selenium.webdriver.remote.webelement.WebElement (session=\"f8e66b2555f41f273112fda4cbd412a3\", element=\"4a2cf225-48a8-4708-a0d3-48fe68c0130c\")>,\n",
       " <selenium.webdriver.remote.webelement.WebElement (session=\"f8e66b2555f41f273112fda4cbd412a3\", element=\"8f183bbb-aaaf-4f9d-90b8-ac9b815cda20\")>,\n",
       " <selenium.webdriver.remote.webelement.WebElement (session=\"f8e66b2555f41f273112fda4cbd412a3\", element=\"7caeb77c-52e3-4b41-870a-8b533661ad3b\")>,\n",
       " <selenium.webdriver.remote.webelement.WebElement (session=\"f8e66b2555f41f273112fda4cbd412a3\", element=\"9f66eec6-5926-4209-96cf-369fa33cf1f8\")>,\n",
       " <selenium.webdriver.remote.webelement.WebElement (session=\"f8e66b2555f41f273112fda4cbd412a3\", element=\"c999ed87-a265-40b2-ae5d-f1f76b185236\")>,\n",
       " <selenium.webdriver.remote.webelement.WebElement (session=\"f8e66b2555f41f273112fda4cbd412a3\", element=\"592cc4d3-eb86-4cc6-a81f-d1716d7591df\")>,\n",
       " <selenium.webdriver.remote.webelement.WebElement (session=\"f8e66b2555f41f273112fda4cbd412a3\", element=\"3fd7fe16-fd28-467a-be7a-9b59ba744381\")>,\n",
       " <selenium.webdriver.remote.webelement.WebElement (session=\"f8e66b2555f41f273112fda4cbd412a3\", element=\"e448d4f3-bad6-45b2-a1ed-4d95ece9ece4\")>,\n",
       " <selenium.webdriver.remote.webelement.WebElement (session=\"f8e66b2555f41f273112fda4cbd412a3\", element=\"f46fce92-80e7-4150-aa59-fd6cae18fa0f\")>,\n",
       " <selenium.webdriver.remote.webelement.WebElement (session=\"f8e66b2555f41f273112fda4cbd412a3\", element=\"80634575-6c04-435b-8948-324d852f0e1d\")>,\n",
       " <selenium.webdriver.remote.webelement.WebElement (session=\"f8e66b2555f41f273112fda4cbd412a3\", element=\"4b33e2a7-2b66-430c-b281-a695a98af1ae\")>]"
      ]
     },
     "execution_count": 10,
     "metadata": {},
     "output_type": "execute_result"
    }
   ],
   "source": [
    "# class name으로 가져오기\n",
    "driver.find_elements_by_class_name(\"point\")"
   ]
  },
  {
   "cell_type": "code",
   "execution_count": 11,
   "id": "c9a19181-24a9-4358-9a52-cb208b7b0082",
   "metadata": {},
   "outputs": [
    {
     "data": {
      "text/plain": [
       "50"
      ]
     },
     "execution_count": 11,
     "metadata": {},
     "output_type": "execute_result"
    }
   ],
   "source": [
    "len(driver.find_elements_by_class_name(\"point\"))"
   ]
  },
  {
   "cell_type": "code",
   "execution_count": 12,
   "id": "1249f571-70ef-4262-adbb-5c7a3f9f0ca8",
   "metadata": {},
   "outputs": [
    {
     "data": {
      "text/plain": [
       "['9.60',\n",
       " '9.59',\n",
       " '9.54',\n",
       " '9.52',\n",
       " '9.52',\n",
       " '9.52',\n",
       " '9.50',\n",
       " '9.49',\n",
       " '9.49',\n",
       " '9.48',\n",
       " '9.47',\n",
       " '9.46',\n",
       " '9.45',\n",
       " '9.44',\n",
       " '9.43',\n",
       " '9.43',\n",
       " '9.43',\n",
       " '9.42',\n",
       " '9.42',\n",
       " '9.42',\n",
       " '9.41',\n",
       " '9.41',\n",
       " '9.41',\n",
       " '9.41',\n",
       " '9.41',\n",
       " '9.41',\n",
       " '9.41',\n",
       " '9.40',\n",
       " '9.40',\n",
       " '9.40',\n",
       " '9.40',\n",
       " '9.40',\n",
       " '9.39',\n",
       " '9.39',\n",
       " '9.38',\n",
       " '9.38',\n",
       " '9.38',\n",
       " '9.38',\n",
       " '9.38',\n",
       " '9.38',\n",
       " '9.38',\n",
       " '9.37',\n",
       " '9.37',\n",
       " '9.37',\n",
       " '9.37',\n",
       " '9.37',\n",
       " '9.37',\n",
       " '9.37',\n",
       " '9.37',\n",
       " '9.36']"
      ]
     },
     "execution_count": 12,
     "metadata": {},
     "output_type": "execute_result"
    }
   ],
   "source": [
    "# 글자만 가져오기\n",
    "point = [i.text for i in driver.find_elements_by_class_name(\"point\")]\n",
    "point"
   ]
  },
  {
   "cell_type": "markdown",
   "id": "c159806d-73c2-4666-9b28-9a939a9bd622",
   "metadata": {},
   "source": [
    "## 데이터프레임으로 만들기"
   ]
  },
  {
   "cell_type": "code",
   "execution_count": 13,
   "id": "8780ebb9-1331-49c3-bc1a-c5d5ffde8629",
   "metadata": {},
   "outputs": [
    {
     "data": {
      "text/html": [
       "<div>\n",
       "<style scoped>\n",
       "    .dataframe tbody tr th:only-of-type {\n",
       "        vertical-align: middle;\n",
       "    }\n",
       "\n",
       "    .dataframe tbody tr th {\n",
       "        vertical-align: top;\n",
       "    }\n",
       "\n",
       "    .dataframe thead th {\n",
       "        text-align: right;\n",
       "    }\n",
       "</style>\n",
       "<table border=\"1\" class=\"dataframe\">\n",
       "  <thead>\n",
       "    <tr style=\"text-align: right;\">\n",
       "      <th></th>\n",
       "      <th>영화명</th>\n",
       "      <th>평점</th>\n",
       "    </tr>\n",
       "  </thead>\n",
       "  <tbody>\n",
       "    <tr>\n",
       "      <th>0</th>\n",
       "      <td>그린 북</td>\n",
       "      <td>9.60</td>\n",
       "    </tr>\n",
       "    <tr>\n",
       "      <th>1</th>\n",
       "      <td>가버나움</td>\n",
       "      <td>9.59</td>\n",
       "    </tr>\n",
       "    <tr>\n",
       "      <th>2</th>\n",
       "      <td>디지몬 어드벤처 라스트 에볼루션 : 인연</td>\n",
       "      <td>9.54</td>\n",
       "    </tr>\n",
       "    <tr>\n",
       "      <th>3</th>\n",
       "      <td>먼 훗날 우리</td>\n",
       "      <td>9.52</td>\n",
       "    </tr>\n",
       "    <tr>\n",
       "      <th>4</th>\n",
       "      <td>베일리 어게인</td>\n",
       "      <td>9.52</td>\n",
       "    </tr>\n",
       "    <tr>\n",
       "      <th>5</th>\n",
       "      <td>원더</td>\n",
       "      <td>9.52</td>\n",
       "    </tr>\n",
       "    <tr>\n",
       "      <th>6</th>\n",
       "      <td>아일라</td>\n",
       "      <td>9.50</td>\n",
       "    </tr>\n",
       "    <tr>\n",
       "      <th>7</th>\n",
       "      <td>당갈</td>\n",
       "      <td>9.49</td>\n",
       "    </tr>\n",
       "    <tr>\n",
       "      <th>8</th>\n",
       "      <td>극장판 바이올렛 에버가든</td>\n",
       "      <td>9.49</td>\n",
       "    </tr>\n",
       "    <tr>\n",
       "      <th>9</th>\n",
       "      <td>포드 V 페라리</td>\n",
       "      <td>9.48</td>\n",
       "    </tr>\n",
       "    <tr>\n",
       "      <th>10</th>\n",
       "      <td>주전장</td>\n",
       "      <td>9.47</td>\n",
       "    </tr>\n",
       "    <tr>\n",
       "      <th>11</th>\n",
       "      <td>그대, 고맙소 : 김호중 생애 첫 팬미팅 무비</td>\n",
       "      <td>9.46</td>\n",
       "    </tr>\n",
       "    <tr>\n",
       "      <th>12</th>\n",
       "      <td>쇼생크 탈출</td>\n",
       "      <td>9.45</td>\n",
       "    </tr>\n",
       "    <tr>\n",
       "      <th>13</th>\n",
       "      <td>터미네이터 2:오리지널</td>\n",
       "      <td>9.44</td>\n",
       "    </tr>\n",
       "    <tr>\n",
       "      <th>14</th>\n",
       "      <td>나 홀로 집에</td>\n",
       "      <td>9.43</td>\n",
       "    </tr>\n",
       "    <tr>\n",
       "      <th>15</th>\n",
       "      <td>덕구</td>\n",
       "      <td>9.43</td>\n",
       "    </tr>\n",
       "    <tr>\n",
       "      <th>16</th>\n",
       "      <td>라이언 일병 구하기</td>\n",
       "      <td>9.43</td>\n",
       "    </tr>\n",
       "    <tr>\n",
       "      <th>17</th>\n",
       "      <td>클래식</td>\n",
       "      <td>9.42</td>\n",
       "    </tr>\n",
       "    <tr>\n",
       "      <th>18</th>\n",
       "      <td>월-E</td>\n",
       "      <td>9.42</td>\n",
       "    </tr>\n",
       "    <tr>\n",
       "      <th>19</th>\n",
       "      <td>보헤미안 랩소디</td>\n",
       "      <td>9.42</td>\n",
       "    </tr>\n",
       "    <tr>\n",
       "      <th>20</th>\n",
       "      <td>사운드 오브 뮤직</td>\n",
       "      <td>9.41</td>\n",
       "    </tr>\n",
       "    <tr>\n",
       "      <th>21</th>\n",
       "      <td>포레스트 검프</td>\n",
       "      <td>9.41</td>\n",
       "    </tr>\n",
       "    <tr>\n",
       "      <th>22</th>\n",
       "      <td>잭 스나이더의 저스티스 리그</td>\n",
       "      <td>9.41</td>\n",
       "    </tr>\n",
       "    <tr>\n",
       "      <th>23</th>\n",
       "      <td>빽 투 더 퓨쳐</td>\n",
       "      <td>9.41</td>\n",
       "    </tr>\n",
       "    <tr>\n",
       "      <th>24</th>\n",
       "      <td>글래디에이터</td>\n",
       "      <td>9.41</td>\n",
       "    </tr>\n",
       "    <tr>\n",
       "      <th>25</th>\n",
       "      <td>헬프</td>\n",
       "      <td>9.41</td>\n",
       "    </tr>\n",
       "    <tr>\n",
       "      <th>26</th>\n",
       "      <td>위대한 쇼맨</td>\n",
       "      <td>9.41</td>\n",
       "    </tr>\n",
       "    <tr>\n",
       "      <th>27</th>\n",
       "      <td>매트릭스</td>\n",
       "      <td>9.40</td>\n",
       "    </tr>\n",
       "    <tr>\n",
       "      <th>28</th>\n",
       "      <td>가나의 혼인잔치: 언약</td>\n",
       "      <td>9.40</td>\n",
       "    </tr>\n",
       "    <tr>\n",
       "      <th>29</th>\n",
       "      <td>인생은 아름다워</td>\n",
       "      <td>9.40</td>\n",
       "    </tr>\n",
       "    <tr>\n",
       "      <th>30</th>\n",
       "      <td>타이타닉</td>\n",
       "      <td>9.40</td>\n",
       "    </tr>\n",
       "    <tr>\n",
       "      <th>31</th>\n",
       "      <td>살인의 추억</td>\n",
       "      <td>9.40</td>\n",
       "    </tr>\n",
       "    <tr>\n",
       "      <th>32</th>\n",
       "      <td>센과 치히로의 행방불명</td>\n",
       "      <td>9.39</td>\n",
       "    </tr>\n",
       "    <tr>\n",
       "      <th>33</th>\n",
       "      <td>토이 스토리 3</td>\n",
       "      <td>9.39</td>\n",
       "    </tr>\n",
       "    <tr>\n",
       "      <th>34</th>\n",
       "      <td>캐스트 어웨이</td>\n",
       "      <td>9.38</td>\n",
       "    </tr>\n",
       "    <tr>\n",
       "      <th>35</th>\n",
       "      <td>헌터 킬러</td>\n",
       "      <td>9.38</td>\n",
       "    </tr>\n",
       "    <tr>\n",
       "      <th>36</th>\n",
       "      <td>죽은 시인의 사회</td>\n",
       "      <td>9.38</td>\n",
       "    </tr>\n",
       "    <tr>\n",
       "      <th>37</th>\n",
       "      <td>집으로...</td>\n",
       "      <td>9.38</td>\n",
       "    </tr>\n",
       "    <tr>\n",
       "      <th>38</th>\n",
       "      <td>반지의 제왕: 왕의 귀환</td>\n",
       "      <td>9.38</td>\n",
       "    </tr>\n",
       "    <tr>\n",
       "      <th>39</th>\n",
       "      <td>어벤져스: 엔드게임</td>\n",
       "      <td>9.38</td>\n",
       "    </tr>\n",
       "    <tr>\n",
       "      <th>40</th>\n",
       "      <td>알라딘</td>\n",
       "      <td>9.38</td>\n",
       "    </tr>\n",
       "    <tr>\n",
       "      <th>41</th>\n",
       "      <td>레옹</td>\n",
       "      <td>9.37</td>\n",
       "    </tr>\n",
       "    <tr>\n",
       "      <th>42</th>\n",
       "      <td>히든 피겨스</td>\n",
       "      <td>9.37</td>\n",
       "    </tr>\n",
       "    <tr>\n",
       "      <th>43</th>\n",
       "      <td>아이즈 온 미 : 더 무비</td>\n",
       "      <td>9.37</td>\n",
       "    </tr>\n",
       "    <tr>\n",
       "      <th>44</th>\n",
       "      <td>동주</td>\n",
       "      <td>9.37</td>\n",
       "    </tr>\n",
       "    <tr>\n",
       "      <th>45</th>\n",
       "      <td>아이 캔 스피크</td>\n",
       "      <td>9.37</td>\n",
       "    </tr>\n",
       "    <tr>\n",
       "      <th>46</th>\n",
       "      <td>쉰들러 리스트</td>\n",
       "      <td>9.37</td>\n",
       "    </tr>\n",
       "    <tr>\n",
       "      <th>47</th>\n",
       "      <td>여인의 향기</td>\n",
       "      <td>9.37</td>\n",
       "    </tr>\n",
       "    <tr>\n",
       "      <th>48</th>\n",
       "      <td>클레멘타인</td>\n",
       "      <td>9.37</td>\n",
       "    </tr>\n",
       "    <tr>\n",
       "      <th>49</th>\n",
       "      <td>안녕 베일리</td>\n",
       "      <td>9.36</td>\n",
       "    </tr>\n",
       "  </tbody>\n",
       "</table>\n",
       "</div>"
      ],
      "text/plain": [
       "                          영화명    평점\n",
       "0                        그린 북  9.60\n",
       "1                        가버나움  9.59\n",
       "2      디지몬 어드벤처 라스트 에볼루션 : 인연  9.54\n",
       "3                     먼 훗날 우리  9.52\n",
       "4                     베일리 어게인  9.52\n",
       "5                          원더  9.52\n",
       "6                         아일라  9.50\n",
       "7                          당갈  9.49\n",
       "8               극장판 바이올렛 에버가든  9.49\n",
       "9                    포드 V 페라리  9.48\n",
       "10                        주전장  9.47\n",
       "11  그대, 고맙소 : 김호중 생애 첫 팬미팅 무비  9.46\n",
       "12                     쇼생크 탈출  9.45\n",
       "13               터미네이터 2:오리지널  9.44\n",
       "14                    나 홀로 집에  9.43\n",
       "15                         덕구  9.43\n",
       "16                 라이언 일병 구하기  9.43\n",
       "17                        클래식  9.42\n",
       "18                        월-E  9.42\n",
       "19                   보헤미안 랩소디  9.42\n",
       "20                  사운드 오브 뮤직  9.41\n",
       "21                    포레스트 검프  9.41\n",
       "22            잭 스나이더의 저스티스 리그  9.41\n",
       "23                   빽 투 더 퓨쳐  9.41\n",
       "24                     글래디에이터  9.41\n",
       "25                         헬프  9.41\n",
       "26                     위대한 쇼맨  9.41\n",
       "27                       매트릭스  9.40\n",
       "28               가나의 혼인잔치: 언약  9.40\n",
       "29                   인생은 아름다워  9.40\n",
       "30                       타이타닉  9.40\n",
       "31                     살인의 추억  9.40\n",
       "32               센과 치히로의 행방불명  9.39\n",
       "33                   토이 스토리 3  9.39\n",
       "34                    캐스트 어웨이  9.38\n",
       "35                      헌터 킬러  9.38\n",
       "36                  죽은 시인의 사회  9.38\n",
       "37                     집으로...  9.38\n",
       "38              반지의 제왕: 왕의 귀환  9.38\n",
       "39                 어벤져스: 엔드게임  9.38\n",
       "40                        알라딘  9.38\n",
       "41                         레옹  9.37\n",
       "42                     히든 피겨스  9.37\n",
       "43             아이즈 온 미 : 더 무비  9.37\n",
       "44                         동주  9.37\n",
       "45                   아이 캔 스피크  9.37\n",
       "46                    쉰들러 리스트  9.37\n",
       "47                     여인의 향기  9.37\n",
       "48                      클레멘타인  9.37\n",
       "49                     안녕 베일리  9.36"
      ]
     },
     "execution_count": 13,
     "metadata": {},
     "output_type": "execute_result"
    }
   ],
   "source": [
    "import pandas as pd\n",
    "\n",
    "df = pd.DataFrame({\n",
    "    \"영화명\": title,\n",
    "    \"평점\": point\n",
    "})\n",
    "df"
   ]
  },
  {
   "cell_type": "code",
   "execution_count": 14,
   "id": "602e201f-2aaf-4cdc-a260-c12eeca68358",
   "metadata": {},
   "outputs": [],
   "source": [
    "# csv 파일로 저장\n",
    "df.to_csv(\"data/movie_score.csv\", \n",
    "          index = False)"
   ]
  },
  {
   "cell_type": "code",
   "execution_count": 15,
   "id": "1c444b1e-df33-4e3b-89dd-1a283222eecc",
   "metadata": {},
   "outputs": [],
   "source": [
    "# 드라이버 종료\n",
    "driver.close()"
   ]
  },
  {
   "cell_type": "markdown",
   "id": "bd3b46be-2d2c-492c-bfa0-6e5cfbbb400e",
   "metadata": {},
   "source": [
    "# 예제2) 구글에 검색어 입력해서 검색하기"
   ]
  },
  {
   "cell_type": "code",
   "execution_count": 16,
   "id": "04895061-d956-476f-acae-75eba4d4cb3f",
   "metadata": {},
   "outputs": [],
   "source": [
    "# 크롬 브라우저 열고 구글로 이동하기\n",
    "driver = webdriver.Chrome(driver_path)\n",
    "driver.implicitly_wait(1)\n",
    "\n",
    "driver.get(\"https://www.google.co.kr\")\n",
    "\n",
    "# 3초 기다리기\n",
    "driver.implicitly_wait(3)"
   ]
  },
  {
   "cell_type": "markdown",
   "id": "02120e03-1ee4-4144-81b7-71c0807952a5",
   "metadata": {},
   "source": [
    "### xpath로 검색창에 단어 입력하기"
   ]
  },
  {
   "cell_type": "code",
   "execution_count": 17,
   "id": "457f46e8-76f5-47fd-a6af-b65777040215",
   "metadata": {},
   "outputs": [
    {
     "data": {
      "text/plain": [
       "<selenium.webdriver.remote.webelement.WebElement (session=\"b4a7b45086d0b1e8596edb53cf699ef8\", element=\"3125109b-b17f-4367-a08f-5286f727f62d\")>"
      ]
     },
     "execution_count": 17,
     "metadata": {},
     "output_type": "execute_result"
    }
   ],
   "source": [
    "# 검색창의 글씨 쓰는 부분의 xpath 찾기\n",
    "driver.find_element_by_xpath(\"/html/body/div[1]/div[3]/form/div[1]/div[1]/div[1]/div/div[2]/input\")"
   ]
  },
  {
   "cell_type": "code",
   "execution_count": 18,
   "id": "4ec8c379-6687-49b1-a5f9-97b14bd335e1",
   "metadata": {},
   "outputs": [],
   "source": [
    "# xpath로 구글 검색창에 단어 입력하기\n",
    "key_word = \"파이썬\"\n",
    "driver.find_element_by_xpath(\"/html/body/div[1]/div[3]/form/div[1]/div[1]/div[1]/div/div[2]/input\").send_keys(key_word)"
   ]
  },
  {
   "cell_type": "markdown",
   "id": "f15191f4-042b-4157-a828-5f7447433ee7",
   "metadata": {},
   "source": [
    "### CSS selector로 검색창에 단어 입력하기"
   ]
  },
  {
   "cell_type": "code",
   "execution_count": 19,
   "id": "ba757b0b-9c14-4054-ba34-0502c2f1b7ee",
   "metadata": {},
   "outputs": [
    {
     "data": {
      "text/plain": [
       "<selenium.webdriver.remote.webelement.WebElement (session=\"b4a7b45086d0b1e8596edb53cf699ef8\", element=\"3125109b-b17f-4367-a08f-5286f727f62d\")>"
      ]
     },
     "execution_count": 19,
     "metadata": {},
     "output_type": "execute_result"
    }
   ],
   "source": [
    "driver.find_element_by_css_selector(\"body > div.L3eUgb > div.o3j99.ikrT4e.om7nvf > form > div:nth-child(1) > div.A8SBwf.emcav > div.RNNXgb > div > div.a4bIc > input\")"
   ]
  },
  {
   "cell_type": "code",
   "execution_count": 20,
   "id": "dfde61e7-c5a9-47ee-a4d3-795c22178c66",
   "metadata": {},
   "outputs": [],
   "source": [
    "driver.find_element_by_css_selector(\"body > div.L3eUgb > div.o3j99.ikrT4e.om7nvf > form > div:nth-child(1) > div.A8SBwf.emcav > div.RNNXgb > div > div.a4bIc > input\").send_keys(key_word)"
   ]
  },
  {
   "cell_type": "markdown",
   "id": "06c63d87-e729-469e-9f75-55fa985e841e",
   "metadata": {},
   "source": [
    "### 버튼 클릭하기"
   ]
  },
  {
   "cell_type": "code",
   "execution_count": 21,
   "id": "0d4cc0bb-297c-4486-aea6-9d29185f9c33",
   "metadata": {},
   "outputs": [
    {
     "data": {
      "text/plain": [
       "<selenium.webdriver.remote.webelement.WebElement (session=\"b4a7b45086d0b1e8596edb53cf699ef8\", element=\"2f5a2b8c-3476-47e0-bc5f-41d351177c5a\")>"
      ]
     },
     "execution_count": 21,
     "metadata": {},
     "output_type": "execute_result"
    }
   ],
   "source": [
    "driver.find_element_by_name(\"btnK\")"
   ]
  },
  {
   "cell_type": "code",
   "execution_count": 22,
   "id": "40b48a36-0158-487f-88c3-4567b1f701de",
   "metadata": {},
   "outputs": [],
   "source": [
    "# 검색 버튼 클릭하기\n",
    "driver.find_element_by_name(\"btnK\").click()"
   ]
  },
  {
   "cell_type": "markdown",
   "id": "c9e9767d-54f3-4a6a-96ae-a4e635d921f4",
   "metadata": {},
   "source": [
    "## 검색결과 제목 가져오기"
   ]
  },
  {
   "cell_type": "code",
   "execution_count": 23,
   "id": "9226d928-7933-4ee1-8ebe-f1d925120f12",
   "metadata": {},
   "outputs": [
    {
     "data": {
      "text/plain": [
       "[<selenium.webdriver.remote.webelement.WebElement (session=\"b4a7b45086d0b1e8596edb53cf699ef8\", element=\"f697456a-d6c1-49ad-bc47-d0eda19270f8\")>]"
      ]
     },
     "execution_count": 23,
     "metadata": {},
     "output_type": "execute_result"
    }
   ],
   "source": [
    "# 삽질 1 : xpath 그대로 복사해서 가져오기\n",
    "driver.find_elements_by_xpath('//*[@id=\"rso\"]/div[1]/div/div/div[1]/a/h3')"
   ]
  },
  {
   "cell_type": "code",
   "execution_count": 24,
   "id": "4d5a7533-8e7c-4949-829d-7b9997bfebb1",
   "metadata": {},
   "outputs": [
    {
     "data": {
      "text/plain": [
       "[<selenium.webdriver.remote.webelement.WebElement (session=\"b4a7b45086d0b1e8596edb53cf699ef8\", element=\"f697456a-d6c1-49ad-bc47-d0eda19270f8\")>,\n",
       " <selenium.webdriver.remote.webelement.WebElement (session=\"b4a7b45086d0b1e8596edb53cf699ef8\", element=\"a374e6d5-3165-4bd5-bf5c-5e14af35f9fc\")>,\n",
       " <selenium.webdriver.remote.webelement.WebElement (session=\"b4a7b45086d0b1e8596edb53cf699ef8\", element=\"5457a948-5d95-41d4-bf6e-ebdc0424a0a2\")>,\n",
       " <selenium.webdriver.remote.webelement.WebElement (session=\"b4a7b45086d0b1e8596edb53cf699ef8\", element=\"3a923c0a-69b9-4108-925a-da1c9f58d3e5\")>,\n",
       " <selenium.webdriver.remote.webelement.WebElement (session=\"b4a7b45086d0b1e8596edb53cf699ef8\", element=\"0abe097a-cfd7-49bf-a0d1-9e317f1d4a97\")>,\n",
       " <selenium.webdriver.remote.webelement.WebElement (session=\"b4a7b45086d0b1e8596edb53cf699ef8\", element=\"37371521-e230-4c78-8f6e-c38522e01d1d\")>]"
      ]
     },
     "execution_count": 24,
     "metadata": {},
     "output_type": "execute_result"
    }
   ],
   "source": [
    "# 삽질 2 : xpath에서 div 넘버 제거\n",
    "driver.find_elements_by_xpath('//*[@id=\"rso\"]/div/div/div/div/a/h3')"
   ]
  },
  {
   "cell_type": "code",
   "execution_count": 26,
   "id": "1efdfa3e-bba3-4eb5-a2a1-6c28926d3b3b",
   "metadata": {},
   "outputs": [
    {
     "data": {
      "text/plain": [
       "[<selenium.webdriver.remote.webelement.WebElement (session=\"b4a7b45086d0b1e8596edb53cf699ef8\", element=\"f697456a-d6c1-49ad-bc47-d0eda19270f8\")>,\n",
       " <selenium.webdriver.remote.webelement.WebElement (session=\"b4a7b45086d0b1e8596edb53cf699ef8\", element=\"a374e6d5-3165-4bd5-bf5c-5e14af35f9fc\")>,\n",
       " <selenium.webdriver.remote.webelement.WebElement (session=\"b4a7b45086d0b1e8596edb53cf699ef8\", element=\"5457a948-5d95-41d4-bf6e-ebdc0424a0a2\")>,\n",
       " <selenium.webdriver.remote.webelement.WebElement (session=\"b4a7b45086d0b1e8596edb53cf699ef8\", element=\"3a923c0a-69b9-4108-925a-da1c9f58d3e5\")>,\n",
       " <selenium.webdriver.remote.webelement.WebElement (session=\"b4a7b45086d0b1e8596edb53cf699ef8\", element=\"1ae9641a-dbfd-455d-b04c-2ff2e2fc6294\")>,\n",
       " <selenium.webdriver.remote.webelement.WebElement (session=\"b4a7b45086d0b1e8596edb53cf699ef8\", element=\"0abe097a-cfd7-49bf-a0d1-9e317f1d4a97\")>,\n",
       " <selenium.webdriver.remote.webelement.WebElement (session=\"b4a7b45086d0b1e8596edb53cf699ef8\", element=\"37371521-e230-4c78-8f6e-c38522e01d1d\")>,\n",
       " <selenium.webdriver.remote.webelement.WebElement (session=\"b4a7b45086d0b1e8596edb53cf699ef8\", element=\"6dde44f5-d701-41e0-83ff-846560a0121a\")>]"
      ]
     },
     "execution_count": 26,
     "metadata": {},
     "output_type": "execute_result"
    }
   ],
   "source": [
    "# 성공! : 태그의 class name으로 가져오기\n",
    "driver.find_elements_by_class_name('LC20lb.DKV0Md')"
   ]
  },
  {
   "cell_type": "code",
   "execution_count": 27,
   "id": "25a77de9-9b8a-4e4e-b670-4ab6baf1ebbc",
   "metadata": {},
   "outputs": [
    {
     "data": {
      "text/plain": [
       "['파이썬 - 위키백과, 우리 모두의 백과사전',\n",
       " '파이썬 자습서 — Python 3.9.6 문서',\n",
       " '1 파이썬 시작하기 - 왕초보를 위한 Python: 쉽게 풀어 쓴 기초 ...',\n",
       " 'Python - 나무위키',\n",
       " 'Python - 파이썬이란? - 코딩의 시작, TCP School',\n",
       " '모두를 위한 프로그래밍 : 파이썬 강좌소개 : edwith',\n",
       " '1 장 파이썬(Python) 입문 | 파이썬 프로그래밍 기초',\n",
       " '파이썬 입문 | 프로그래머스']"
      ]
     },
     "execution_count": 27,
     "metadata": {},
     "output_type": "execute_result"
    }
   ],
   "source": [
    "# 글자만 뽑기\n",
    "title = [i.text for i in driver.find_elements_by_class_name('LC20lb.DKV0Md')]\n",
    "title"
   ]
  },
  {
   "cell_type": "markdown",
   "id": "58eb2eea-3ff1-421a-acd7-456f172927b1",
   "metadata": {},
   "source": [
    "## 검색결과 링크 가져오기"
   ]
  },
  {
   "cell_type": "code",
   "execution_count": 28,
   "id": "82ed8c19-5b16-4602-b0d9-93d73664062c",
   "metadata": {},
   "outputs": [
    {
     "data": {
      "text/plain": [
       "[None, None, None, None, None, None, None, None]"
      ]
     },
     "execution_count": 28,
     "metadata": {},
     "output_type": "execute_result"
    }
   ],
   "source": [
    "# 삽질 1 : class name으로 가져오기 (링크의 경우는 a 태그에 있기 때문에 div 태그에만 접근해서는 가져오지 못함)\n",
    "[i.get_attribute(\"href\") for i in driver.find_elements_by_class_name('yuRUbf')]"
   ]
  },
  {
   "cell_type": "code",
   "execution_count": 29,
   "id": "6b06fd01-b4c6-4023-9330-7671ed72ef1f",
   "metadata": {},
   "outputs": [
    {
     "data": {
      "text/plain": [
       "[<selenium.webdriver.remote.webelement.WebElement (session=\"b4a7b45086d0b1e8596edb53cf699ef8\", element=\"a1ba8cbc-2208-404a-a7e4-49f727401bb5\")>,\n",
       " <selenium.webdriver.remote.webelement.WebElement (session=\"b4a7b45086d0b1e8596edb53cf699ef8\", element=\"1c8d4051-8a13-4305-827c-7cff24d0b2c1\")>,\n",
       " <selenium.webdriver.remote.webelement.WebElement (session=\"b4a7b45086d0b1e8596edb53cf699ef8\", element=\"bf00222b-bdd9-4a0f-8407-c4583ad6a0c4\")>,\n",
       " <selenium.webdriver.remote.webelement.WebElement (session=\"b4a7b45086d0b1e8596edb53cf699ef8\", element=\"f3522d27-7779-4971-a3ec-d499ca0ea1cb\")>,\n",
       " <selenium.webdriver.remote.webelement.WebElement (session=\"b4a7b45086d0b1e8596edb53cf699ef8\", element=\"44ee3199-f7a5-4506-8657-fc008f1daa38\")>,\n",
       " <selenium.webdriver.remote.webelement.WebElement (session=\"b4a7b45086d0b1e8596edb53cf699ef8\", element=\"20c28284-4029-47dc-989b-3f1705beb667\")>]"
      ]
     },
     "execution_count": 29,
     "metadata": {},
     "output_type": "execute_result"
    }
   ],
   "source": [
    "# 삽질 2 : xpath로 가져오기 => 뭔가 빠진 링크가 존재\n",
    "driver.find_elements_by_xpath('//*[@id=\"rso\"]/div/div/div/div/a')"
   ]
  },
  {
   "cell_type": "code",
   "execution_count": 30,
   "id": "31f88597-b512-4a89-9357-77d0cc6eedff",
   "metadata": {},
   "outputs": [
    {
     "data": {
      "text/plain": [
       "['https://ko.wikipedia.org/wiki/%ED%8C%8C%EC%9D%B4%EC%8D%AC',\n",
       " 'https://docs.python.org/ko/3/tutorial/index.html',\n",
       " 'https://wikidocs.net/43',\n",
       " 'https://namu.wiki/w/Python',\n",
       " 'https://www.edwith.org/pythonforeverybody',\n",
       " 'http://bigdata.dongguk.ac.kr/lectures/Python/_book/%ED%8C%8C%EC%9D%B4%EC%8D%AC%EC%9E%85%EB%AC%B8.html']"
      ]
     },
     "execution_count": 30,
     "metadata": {},
     "output_type": "execute_result"
    }
   ],
   "source": [
    "# 링크 가져오기\n",
    "[i.get_attribute(\"href\") for i in driver.find_elements_by_xpath('//*[@id=\"rso\"]/div/div/div/div/a')]"
   ]
  },
  {
   "cell_type": "code",
   "execution_count": 31,
   "id": "c389d96a-e0fe-4fcf-b306-49fe6e91657c",
   "metadata": {},
   "outputs": [
    {
     "data": {
      "text/plain": [
       "[<selenium.webdriver.remote.webelement.WebElement (session=\"b4a7b45086d0b1e8596edb53cf699ef8\", element=\"a1ba8cbc-2208-404a-a7e4-49f727401bb5\")>,\n",
       " <selenium.webdriver.remote.webelement.WebElement (session=\"b4a7b45086d0b1e8596edb53cf699ef8\", element=\"1c8d4051-8a13-4305-827c-7cff24d0b2c1\")>,\n",
       " <selenium.webdriver.remote.webelement.WebElement (session=\"b4a7b45086d0b1e8596edb53cf699ef8\", element=\"bf00222b-bdd9-4a0f-8407-c4583ad6a0c4\")>,\n",
       " <selenium.webdriver.remote.webelement.WebElement (session=\"b4a7b45086d0b1e8596edb53cf699ef8\", element=\"f3522d27-7779-4971-a3ec-d499ca0ea1cb\")>,\n",
       " <selenium.webdriver.remote.webelement.WebElement (session=\"b4a7b45086d0b1e8596edb53cf699ef8\", element=\"44ee3199-f7a5-4506-8657-fc008f1daa38\")>,\n",
       " <selenium.webdriver.remote.webelement.WebElement (session=\"b4a7b45086d0b1e8596edb53cf699ef8\", element=\"20c28284-4029-47dc-989b-3f1705beb667\")>]"
      ]
     },
     "execution_count": 31,
     "metadata": {},
     "output_type": "execute_result"
    }
   ],
   "source": [
    "# 삽질 3 : CSS selector로 가져오기 => 여전히 링크 2개를 못가져옴\n",
    "driver.find_elements_by_css_selector('#rso > div > div > div > div.yuRUbf > a')"
   ]
  },
  {
   "cell_type": "code",
   "execution_count": 32,
   "id": "a774edb7-6c45-43cf-99e4-ca4b379d78a0",
   "metadata": {},
   "outputs": [
    {
     "data": {
      "text/plain": [
       "[<selenium.webdriver.remote.webelement.WebElement (session=\"b4a7b45086d0b1e8596edb53cf699ef8\", element=\"a1ba8cbc-2208-404a-a7e4-49f727401bb5\")>,\n",
       " <selenium.webdriver.remote.webelement.WebElement (session=\"b4a7b45086d0b1e8596edb53cf699ef8\", element=\"1c8d4051-8a13-4305-827c-7cff24d0b2c1\")>,\n",
       " <selenium.webdriver.remote.webelement.WebElement (session=\"b4a7b45086d0b1e8596edb53cf699ef8\", element=\"bf00222b-bdd9-4a0f-8407-c4583ad6a0c4\")>,\n",
       " <selenium.webdriver.remote.webelement.WebElement (session=\"b4a7b45086d0b1e8596edb53cf699ef8\", element=\"f3522d27-7779-4971-a3ec-d499ca0ea1cb\")>,\n",
       " <selenium.webdriver.remote.webelement.WebElement (session=\"b4a7b45086d0b1e8596edb53cf699ef8\", element=\"8692016c-df11-4c18-945d-d6503569dcae\")>,\n",
       " <selenium.webdriver.remote.webelement.WebElement (session=\"b4a7b45086d0b1e8596edb53cf699ef8\", element=\"44ee3199-f7a5-4506-8657-fc008f1daa38\")>,\n",
       " <selenium.webdriver.remote.webelement.WebElement (session=\"b4a7b45086d0b1e8596edb53cf699ef8\", element=\"20c28284-4029-47dc-989b-3f1705beb667\")>,\n",
       " <selenium.webdriver.remote.webelement.WebElement (session=\"b4a7b45086d0b1e8596edb53cf699ef8\", element=\"0e6988f6-47fa-4e80-8105-0d3d56cef579\")>]"
      ]
     },
     "execution_count": 32,
     "metadata": {},
     "output_type": "execute_result"
    }
   ],
   "source": [
    "# 성공! : CSS selector에서 앞부분 다 제외하고 div의 class name에서 a태그로 접근하는 부분만 남김\n",
    "driver.find_elements_by_css_selector('div.yuRUbf > a')"
   ]
  },
  {
   "cell_type": "code",
   "execution_count": 33,
   "id": "f0a3aafa-6d5d-4712-98ae-cd9337b9aa78",
   "metadata": {},
   "outputs": [
    {
     "data": {
      "text/plain": [
       "['https://ko.wikipedia.org/wiki/%ED%8C%8C%EC%9D%B4%EC%8D%AC',\n",
       " 'https://docs.python.org/ko/3/tutorial/index.html',\n",
       " 'https://wikidocs.net/43',\n",
       " 'https://namu.wiki/w/Python',\n",
       " 'http://tcpschool.com/python/intro',\n",
       " 'https://www.edwith.org/pythonforeverybody',\n",
       " 'http://bigdata.dongguk.ac.kr/lectures/Python/_book/%ED%8C%8C%EC%9D%B4%EC%8D%AC%EC%9E%85%EB%AC%B8.html',\n",
       " 'https://programmers.co.kr/learn/courses/2']"
      ]
     },
     "execution_count": 33,
     "metadata": {},
     "output_type": "execute_result"
    }
   ],
   "source": [
    "# 링크만 뽑아오기\n",
    "title_link = [i.get_attribute(\"href\") for i in driver.find_elements_by_css_selector('div.yuRUbf > a')]\n",
    "title_link"
   ]
  },
  {
   "cell_type": "markdown",
   "id": "9d54e3d5-5b3c-4b86-af0a-cde50d28bf13",
   "metadata": {},
   "source": [
    "## 결과 데이터프레임으로 변환"
   ]
  },
  {
   "cell_type": "code",
   "execution_count": 34,
   "id": "4d72877c-ee19-4250-ad98-0d9c22a79ad7",
   "metadata": {},
   "outputs": [
    {
     "data": {
      "text/html": [
       "<div>\n",
       "<style scoped>\n",
       "    .dataframe tbody tr th:only-of-type {\n",
       "        vertical-align: middle;\n",
       "    }\n",
       "\n",
       "    .dataframe tbody tr th {\n",
       "        vertical-align: top;\n",
       "    }\n",
       "\n",
       "    .dataframe thead th {\n",
       "        text-align: right;\n",
       "    }\n",
       "</style>\n",
       "<table border=\"1\" class=\"dataframe\">\n",
       "  <thead>\n",
       "    <tr style=\"text-align: right;\">\n",
       "      <th></th>\n",
       "      <th>제목</th>\n",
       "      <th>링크</th>\n",
       "    </tr>\n",
       "  </thead>\n",
       "  <tbody>\n",
       "    <tr>\n",
       "      <th>0</th>\n",
       "      <td>파이썬 - 위키백과, 우리 모두의 백과사전</td>\n",
       "      <td>https://ko.wikipedia.org/wiki/%ED%8C%8C%EC%9D%...</td>\n",
       "    </tr>\n",
       "    <tr>\n",
       "      <th>1</th>\n",
       "      <td>파이썬 자습서 — Python 3.9.6 문서</td>\n",
       "      <td>https://docs.python.org/ko/3/tutorial/index.html</td>\n",
       "    </tr>\n",
       "    <tr>\n",
       "      <th>2</th>\n",
       "      <td>1 파이썬 시작하기 - 왕초보를 위한 Python: 쉽게 풀어 쓴 기초 ...</td>\n",
       "      <td>https://wikidocs.net/43</td>\n",
       "    </tr>\n",
       "    <tr>\n",
       "      <th>3</th>\n",
       "      <td>Python - 나무위키</td>\n",
       "      <td>https://namu.wiki/w/Python</td>\n",
       "    </tr>\n",
       "    <tr>\n",
       "      <th>4</th>\n",
       "      <td>Python - 파이썬이란? - 코딩의 시작, TCP School</td>\n",
       "      <td>http://tcpschool.com/python/intro</td>\n",
       "    </tr>\n",
       "    <tr>\n",
       "      <th>5</th>\n",
       "      <td>모두를 위한 프로그래밍 : 파이썬 강좌소개 : edwith</td>\n",
       "      <td>https://www.edwith.org/pythonforeverybody</td>\n",
       "    </tr>\n",
       "    <tr>\n",
       "      <th>6</th>\n",
       "      <td>1 장 파이썬(Python) 입문 | 파이썬 프로그래밍 기초</td>\n",
       "      <td>http://bigdata.dongguk.ac.kr/lectures/Python/_...</td>\n",
       "    </tr>\n",
       "    <tr>\n",
       "      <th>7</th>\n",
       "      <td>파이썬 입문 | 프로그래머스</td>\n",
       "      <td>https://programmers.co.kr/learn/courses/2</td>\n",
       "    </tr>\n",
       "  </tbody>\n",
       "</table>\n",
       "</div>"
      ],
      "text/plain": [
       "                                            제목  \\\n",
       "0                      파이썬 - 위키백과, 우리 모두의 백과사전   \n",
       "1                    파이썬 자습서 — Python 3.9.6 문서   \n",
       "2  1 파이썬 시작하기 - 왕초보를 위한 Python: 쉽게 풀어 쓴 기초 ...   \n",
       "3                                Python - 나무위키   \n",
       "4         Python - 파이썬이란? - 코딩의 시작, TCP School   \n",
       "5             모두를 위한 프로그래밍 : 파이썬 강좌소개 : edwith   \n",
       "6            1 장 파이썬(Python) 입문 | 파이썬 프로그래밍 기초   \n",
       "7                              파이썬 입문 | 프로그래머스   \n",
       "\n",
       "                                                  링크  \n",
       "0  https://ko.wikipedia.org/wiki/%ED%8C%8C%EC%9D%...  \n",
       "1   https://docs.python.org/ko/3/tutorial/index.html  \n",
       "2                            https://wikidocs.net/43  \n",
       "3                         https://namu.wiki/w/Python  \n",
       "4                  http://tcpschool.com/python/intro  \n",
       "5          https://www.edwith.org/pythonforeverybody  \n",
       "6  http://bigdata.dongguk.ac.kr/lectures/Python/_...  \n",
       "7          https://programmers.co.kr/learn/courses/2  "
      ]
     },
     "execution_count": 34,
     "metadata": {},
     "output_type": "execute_result"
    }
   ],
   "source": [
    "df = pd.DataFrame({\n",
    "    \"제목\": title,\n",
    "    \"링크\": title_link\n",
    "})\n",
    "df"
   ]
  },
  {
   "cell_type": "code",
   "execution_count": 36,
   "id": "a09fcafe-450e-4607-a533-7486ec301191",
   "metadata": {},
   "outputs": [
    {
     "name": "stdout",
     "output_type": "stream",
     "text": [
      "Collecting package metadata (current_repodata.json): done\n",
      "Solving environment: done\n",
      "\n",
      "\n",
      "==> WARNING: A newer version of conda exists. <==\n",
      "  current version: 4.10.1\n",
      "  latest version: 4.10.3\n",
      "\n",
      "Please update conda by running\n",
      "\n",
      "    $ conda update -n base -c defaults conda\n",
      "\n",
      "\n",
      "\n",
      "## Package Plan ##\n",
      "\n",
      "  environment location: /Users/hyunsung/opt/anaconda3/envs/crawler\n",
      "\n",
      "  added / updated specs:\n",
      "    - openpyxl\n",
      "\n",
      "\n",
      "The following packages will be downloaded:\n",
      "\n",
      "    package                    |            build\n",
      "    ---------------------------|-----------------\n",
      "    ca-certificates-2021.7.5   |       hecd8cb5_1         113 KB\n",
      "    ------------------------------------------------------------\n",
      "                                           Total:         113 KB\n",
      "\n",
      "The following NEW packages will be INSTALLED:\n",
      "\n",
      "  et_xmlfile         pkgs/main/osx-64::et_xmlfile-1.1.0-py38hecd8cb5_0\n",
      "  jdcal              pkgs/main/noarch::jdcal-1.4.1-py_0\n",
      "  openpyxl           pkgs/main/noarch::openpyxl-3.0.7-pyhd3eb1b0_0\n",
      "\n",
      "The following packages will be UPDATED:\n",
      "\n",
      "  ca-certificates                      2021.5.25-hecd8cb5_1 --> 2021.7.5-hecd8cb5_1\n",
      "\n",
      "\n",
      "\n",
      "Downloading and Extracting Packages\n",
      "ca-certificates-2021 | 113 KB    | ##################################### | 100% \n",
      "Preparing transaction: done\n",
      "Verifying transaction: done\n",
      "Executing transaction: done\n"
     ]
    }
   ],
   "source": [
    "!conda install openpyxl -y"
   ]
  },
  {
   "cell_type": "code",
   "execution_count": 37,
   "id": "3f2784bd-ca35-40d8-a7b6-114d6673e518",
   "metadata": {},
   "outputs": [],
   "source": [
    "# 엑셀 파일로 저장\n",
    "df.to_excel(\"data/google_search.xlsx\",\n",
    "            index = False)"
   ]
  },
  {
   "cell_type": "code",
   "execution_count": 38,
   "id": "6e446efb-8243-4b76-985b-e1c7b4c88026",
   "metadata": {},
   "outputs": [],
   "source": [
    "# csv 파일로 저장\n",
    "df.to_csv(\"data/google_search.csv\",\n",
    "          index = False)"
   ]
  },
  {
   "cell_type": "markdown",
   "id": "a192b7f4-6f41-4791-ace1-4126b08686fc",
   "metadata": {},
   "source": [
    "## 관련 검색어 가져오기 (앞에서 BeautifulSoup으로 했던 예제)"
   ]
  },
  {
   "cell_type": "code",
   "execution_count": 39,
   "id": "8cf7ba73-fe1c-4985-9521-180a2b10e132",
   "metadata": {},
   "outputs": [
    {
     "data": {
      "text/plain": [
       "[<selenium.webdriver.remote.webelement.WebElement (session=\"b4a7b45086d0b1e8596edb53cf699ef8\", element=\"acf6734e-b6e8-482d-bd53-2c3ea3e75fb9\")>,\n",
       " <selenium.webdriver.remote.webelement.WebElement (session=\"b4a7b45086d0b1e8596edb53cf699ef8\", element=\"bc3169f3-b776-4f26-a1c3-3a256728195e\")>,\n",
       " <selenium.webdriver.remote.webelement.WebElement (session=\"b4a7b45086d0b1e8596edb53cf699ef8\", element=\"4c237c93-8ec0-4839-ad10-702d078c5a37\")>,\n",
       " <selenium.webdriver.remote.webelement.WebElement (session=\"b4a7b45086d0b1e8596edb53cf699ef8\", element=\"898086bb-2593-4c2a-9873-9040f401209c\")>,\n",
       " <selenium.webdriver.remote.webelement.WebElement (session=\"b4a7b45086d0b1e8596edb53cf699ef8\", element=\"1ad24e5c-8a4d-4732-8244-b87500c01e8a\")>,\n",
       " <selenium.webdriver.remote.webelement.WebElement (session=\"b4a7b45086d0b1e8596edb53cf699ef8\", element=\"4cca126f-b19b-474b-acb0-c2484f1788dc\")>,\n",
       " <selenium.webdriver.remote.webelement.WebElement (session=\"b4a7b45086d0b1e8596edb53cf699ef8\", element=\"24efddd8-7758-4b06-8b76-bba728824ca6\")>,\n",
       " <selenium.webdriver.remote.webelement.WebElement (session=\"b4a7b45086d0b1e8596edb53cf699ef8\", element=\"e4fe8d79-cae3-4b89-b39b-8b1123d5a717\")>]"
      ]
     },
     "execution_count": 39,
     "metadata": {},
     "output_type": "execute_result"
    }
   ],
   "source": [
    "driver.find_elements_by_class_name(\"s75CSd.OhScic.AB4Wff\")"
   ]
  },
  {
   "cell_type": "code",
   "execution_count": 40,
   "id": "c17a1186-6cf8-4fae-a58d-67c0af40eacf",
   "metadata": {},
   "outputs": [
    {
     "data": {
      "text/plain": [
       "['파이썬 설치',\n",
       " '파이썬 사이트',\n",
       " '파이썬 다운',\n",
       " '파이썬 코딩',\n",
       " '파이썬 // 연산자',\n",
       " '파이썬 게임',\n",
       " '파이썬 강좌',\n",
       " '파이썬 기호']"
      ]
     },
     "execution_count": 40,
     "metadata": {},
     "output_type": "execute_result"
    }
   ],
   "source": [
    "[i.text for i in driver.find_elements_by_class_name(\"s75CSd.OhScic.AB4Wff\")]"
   ]
  },
  {
   "cell_type": "code",
   "execution_count": 41,
   "id": "df4e491d-541f-440e-ba7d-a47cf7c3ca27",
   "metadata": {},
   "outputs": [],
   "source": [
    "# 브라우저 종료\n",
    "driver.close()"
   ]
  },
  {
   "cell_type": "code",
   "execution_count": null,
   "id": "e186d7fa-1a7a-4854-8e11-234c94dd3a66",
   "metadata": {},
   "outputs": [],
   "source": []
  }
 ],
 "metadata": {
  "kernelspec": {
   "display_name": "Python 3",
   "language": "python",
   "name": "python3"
  },
  "language_info": {
   "codemirror_mode": {
    "name": "ipython",
    "version": 3
   },
   "file_extension": ".py",
   "mimetype": "text/x-python",
   "name": "python",
   "nbconvert_exporter": "python",
   "pygments_lexer": "ipython3",
   "version": "3.8.10"
  }
 },
 "nbformat": 4,
 "nbformat_minor": 5
}
