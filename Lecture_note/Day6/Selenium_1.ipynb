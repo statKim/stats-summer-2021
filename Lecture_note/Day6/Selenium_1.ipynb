{
 "cells": [
  {
   "cell_type": "markdown",
   "id": "5bf1ecae-528a-437b-a0ce-ac69f623ee2d",
   "metadata": {},
   "source": [
    "# 녹화할 때, chrome driver 설치해서 경로에 넣는 것까지 보여줄 것"
   ]
  },
  {
   "cell_type": "markdown",
   "id": "38a55b65-264c-4550-bf57-3b1aa95f5a1f",
   "metadata": {},
   "source": [
    "# Selenium\n",
    "\n",
    "## 크롤링에서 BeautifulSoup의 한계\n",
    "- 자바스크립트(JavaScript)와 같이 동적으로 생성되는 웹페이지의 경우 값을 가져올 수 없음\n",
    "- 예를 들어, 네이버 카페의 경우는 게시글이나 옆의 배너를 아무리 눌러봐도 url이 바뀌지 않음\n",
    "> https://cafe.naver.com/joonggonara\n",
    "\n",
    "## Selenium이란?\n",
    "- Selenium은 BeautifulSoup의 한계를 극복하기 위해, 웹브라우저를 직접 띄운 후에 브라우저에 나타나고 있는 것들을 긁어옴\n",
    "- 따라서 동적으로 바뀌는 웹페이지의 경우에도 값을 가져올 수 있으며, BeautifulSoup에서 할 수 있던 것들도 당연하 시용이 가능\n",
    "- 단, 직접 브라우저를 띄워 값을 가져오기 때문에 속도는 느린편"
   ]
  },
  {
   "cell_type": "markdown",
   "id": "ddeaf26a-806f-43b3-a090-58559f5870d5",
   "metadata": {},
   "source": [
    "## Selenium을 사용하기 위한 준비\n",
    "- 크롬 설치\n",
    "-  크롬드라이버 설치\n",
    "    1. 크롬 버전 확인\n",
    "    2. 크롬 버전에 맞는 [드라이버](https://chromedriver.chromium.org/downloads) 설치\n",
    "\n",
    "    - 참고) [맥에서 크롬드라이버 권한 오류 뜰 경우 해결방법](https://somjang.tistory.com/entry/MAC-OSX-%EA%B0%9C%EB%B0%9C%EC%9E%90%EB%A5%BC-%ED%99%95%EC%9D%B8%ED%95%A0-%EC%88%98-%EC%97%86%EA%B8%B0-%EB%95%8C%EB%AC%B8%EC%97%90-chromedriver%EC%9D%84%EB%A5%BC-%EC%97%B4-%EC%88%98-%EC%97%86%EC%8A%B5%EB%8B%88%EB%8B%A4-%ED%95%B4%EA%B2%B0-%EB%B0%A9%EB%B2%95)"
   ]
  },
  {
   "cell_type": "markdown",
   "id": "a87f5855-343e-46f3-a466-34b6de784eae",
   "metadata": {},
   "source": [
    "# Selenium을 이용한 크롤링"
   ]
  },
  {
   "cell_type": "code",
   "execution_count": 1,
   "id": "d933239f-80d7-4207-8485-20225d3eb914",
   "metadata": {},
   "outputs": [],
   "source": [
    "# 라이브러리 불러오기\n",
    "from selenium import webdriver"
   ]
  },
  {
   "cell_type": "markdown",
   "id": "7104a1b7-2ec4-4fc0-b802-21636db4f0ca",
   "metadata": {},
   "source": [
    "## 1. 크롬 브라우저 띄우기\n",
    "- `webdriver.Chrome(크롬드라이버_경로)`"
   ]
  },
  {
   "cell_type": "code",
   "execution_count": 5,
   "id": "daf7f00f-0522-4587-bebc-3eacdea579d2",
   "metadata": {},
   "outputs": [],
   "source": [
    "# # 윈도우\n",
    "# driver_path = \"../driver/chromedriver.exe\"\n",
    "# 맥\n",
    "driver_path = \"../driver/chromedriver\"\n",
    "\n",
    "driver = webdriver.Chrome(driver_path)"
   ]
  },
  {
   "cell_type": "markdown",
   "id": "76307c66-ee96-4afb-b7ce-e0282477518c",
   "metadata": {},
   "source": [
    "#### 크롬 브라우저가 실행되면서 `\"Chrome이 자동화된 테스트 소프트웨어에 의해 제어되고 있습니다.\"` 라는 문구를 볼 수 있다."
   ]
  },
  {
   "cell_type": "markdown",
   "id": "ed05e26e-38cc-4250-a126-6cfec7466e5a",
   "metadata": {},
   "source": [
    "## 2. URL 이동하기\n",
    "- `driver.get(URL)` : requests 모듈의 `request.get()`과 비슷한 기능 but 실제로 브라우저에서 페이지가 바뀌는 것을 확인할 수 있음"
   ]
  },
  {
   "cell_type": "code",
   "execution_count": 6,
   "id": "73f91cc5-f9d6-411f-9c51-b96f5a78b4bd",
   "metadata": {},
   "outputs": [],
   "source": [
    "# 페이지 이동해보기\n",
    "url_page = \"https://statkim.github.io/stats-summer-2021/\"\n",
    "driver.get(url_page)"
   ]
  },
  {
   "cell_type": "markdown",
   "id": "18314f14-6e98-46b6-96be-a6597f211219",
   "metadata": {},
   "source": [
    "## 3. 값에 접근하기\n",
    "\n",
    "1. 값 하나만 가져오기 (`find_element_by_...`)\n",
    "```python\n",
    "find_element_by_name('태그_name')\n",
    "find_element_by_id('태그_id')\n",
    "find_element_by_xpath('xpath')\n",
    "find_element_by_css_selector('CSS selector')\n",
    "find_element_by_class_name('class name')\n",
    "find_element_by_tag_name('태그명')\n",
    "```\n",
    "\n",
    "\n",
    "2. 값 여러개 가져오기 (`find_elements_by_...`) => 리스트로 반환\n",
    "```python\n",
    "find_elements_by_name('태그_name')\n",
    "find_elements_by_id('태그_id')\n",
    "find_elements_by_xpath('xpath')\n",
    "find_elements_by_css_selector('CSS selector')\n",
    "find_elements_by_class_name('class name')\n",
    "find_elements_by_tag_name('태그명')\n",
    "```\n",
    "\n",
    "- 이렇게 값을 가져올 떄에는 많은 삽질(시행착오)이 필요!!\n",
    "- 항상 처음에는 값을 제대로 가져왔는지 하나하나 확인해야함!!\n",
    "- 실질적인 활용은 밑의 예시들에서 다루기로함"
   ]
  },
  {
   "cell_type": "markdown",
   "id": "646a2fec-113b-43f2-96c8-9235529dfb5d",
   "metadata": {},
   "source": [
    "## 4. 브라우저 종료\n",
    "- `driver.close()`"
   ]
  },
  {
   "cell_type": "code",
   "execution_count": null,
   "id": "a7cac04f-b1f4-439c-9b25-a272d9d553e0",
   "metadata": {},
   "outputs": [],
   "source": [
    "# 크롬 창 닫기\n",
    "driver.close()"
   ]
  },
  {
   "cell_type": "markdown",
   "id": "e37021ce-6248-4f49-9e46-9800a7b715b9",
   "metadata": {},
   "source": [
    "## 가상환경에 pandas 설치\n",
    "- 주피터 노트북에서 `!` 기호를 이용하여 터미널 명령어를 실행할 수 있음\n",
    "- `!conda install pandas -y`를 입력하면, 현재 실행되고 있는 가상환경에 pandas가 설치됨"
   ]
  },
  {
   "cell_type": "code",
   "execution_count": 110,
   "id": "da4031df-70e6-45ea-acc9-a9f682426ca6",
   "metadata": {},
   "outputs": [
    {
     "name": "stdout",
     "output_type": "stream",
     "text": [
      "Collecting package metadata (current_repodata.json): done\n",
      "Solving environment: done\n",
      "\n",
      "\n",
      "==> WARNING: A newer version of conda exists. <==\n",
      "  current version: 4.10.1\n",
      "  latest version: 4.10.3\n",
      "\n",
      "Please update conda by running\n",
      "\n",
      "    $ conda update -n base -c defaults conda\n",
      "\n",
      "\n",
      "\n",
      "## Package Plan ##\n",
      "\n",
      "  environment location: /Users/hyunsung/opt/anaconda3/envs/crawler\n",
      "\n",
      "  added / updated specs:\n",
      "    - pandas\n",
      "\n",
      "\n",
      "The following NEW packages will be INSTALLED:\n",
      "\n",
      "  blas               pkgs/main/osx-64::blas-1.0-mkl\n",
      "  intel-openmp       pkgs/main/osx-64::intel-openmp-2021.2.0-hecd8cb5_564\n",
      "  mkl                pkgs/main/osx-64::mkl-2021.2.0-hecd8cb5_269\n",
      "  mkl-service        pkgs/main/osx-64::mkl-service-2.3.0-py38h9ed2024_1\n",
      "  mkl_fft            pkgs/main/osx-64::mkl_fft-1.3.0-py38h4a7008c_2\n",
      "  mkl_random         pkgs/main/osx-64::mkl_random-1.2.1-py38hb2f4e1b_2\n",
      "  numpy              pkgs/main/osx-64::numpy-1.20.2-py38h4b4dc7a_0\n",
      "  numpy-base         pkgs/main/osx-64::numpy-base-1.20.2-py38he0bd621_0\n",
      "  pandas             pkgs/main/osx-64::pandas-1.2.5-py38h23ab428_0\n",
      "\n",
      "\n",
      "Preparing transaction: done\n",
      "Verifying transaction: done\n",
      "Executing transaction: done\n"
     ]
    }
   ],
   "source": [
    "# 가상환경에 pandas 설치\n",
    "# !conda install pandas -y"
   ]
  },
  {
   "cell_type": "markdown",
   "id": "3a9ca415-772e-473a-9dbc-e7cda9db35d0",
   "metadata": {},
   "source": [
    "# 예제1) 네이버 영화 제목과 평점 가져오기\n",
    "https://movie.naver.com/movie/sdb/rank/rmovie.nhn?sel=pnt&date=20210704"
   ]
  },
  {
   "cell_type": "code",
   "execution_count": 191,
   "id": "d54b7b07-682e-43c4-a467-58ba363ff5d3",
   "metadata": {},
   "outputs": [],
   "source": [
    "# 크롬 브라우저 열고 네이버 영화 랭킹 페이지로 이동하기\n",
    "driver = webdriver.Chrome(driver_path)\n",
    "driver.get(\"https://movie.naver.com/movie/sdb/rank/rmovie.nhn?sel=pnt\")\n",
    "\n",
    "# 3초 기다리기\n",
    "driver.implicitly_wait(3)"
   ]
  },
  {
   "cell_type": "markdown",
   "id": "c7c46511-5a8d-45a8-b529-77f13fdf59db",
   "metadata": {},
   "source": [
    "## 영화 제목 가져오기"
   ]
  },
  {
   "cell_type": "code",
   "execution_count": 192,
   "id": "294a8b72-51cc-45dd-9dd4-de9a6731d2e1",
   "metadata": {},
   "outputs": [
    {
     "data": {
      "text/plain": [
       "[<selenium.webdriver.remote.webelement.WebElement (session=\"7974e4d8e29135e7c22fd4c86c6050a8\", element=\"e0e99036-f801-4b12-b8ca-46bba913c406\")>,\n",
       " <selenium.webdriver.remote.webelement.WebElement (session=\"7974e4d8e29135e7c22fd4c86c6050a8\", element=\"71bb49cb-5be0-4b43-8e6e-9ef723f8c898\")>,\n",
       " <selenium.webdriver.remote.webelement.WebElement (session=\"7974e4d8e29135e7c22fd4c86c6050a8\", element=\"ffaa2a77-6d78-456f-80fe-27146a3e878e\")>,\n",
       " <selenium.webdriver.remote.webelement.WebElement (session=\"7974e4d8e29135e7c22fd4c86c6050a8\", element=\"1e44d64b-b644-4eb2-bc72-bfd0b70b3082\")>,\n",
       " <selenium.webdriver.remote.webelement.WebElement (session=\"7974e4d8e29135e7c22fd4c86c6050a8\", element=\"0b36e235-3202-424f-a376-a6c9b4486c08\")>,\n",
       " <selenium.webdriver.remote.webelement.WebElement (session=\"7974e4d8e29135e7c22fd4c86c6050a8\", element=\"fa03f711-aedc-484c-aebc-f5e40c863d10\")>,\n",
       " <selenium.webdriver.remote.webelement.WebElement (session=\"7974e4d8e29135e7c22fd4c86c6050a8\", element=\"2de0d287-0053-436d-a3b7-91fef9e527e6\")>,\n",
       " <selenium.webdriver.remote.webelement.WebElement (session=\"7974e4d8e29135e7c22fd4c86c6050a8\", element=\"c4dffca7-f446-4ecb-811d-7117964aada2\")>,\n",
       " <selenium.webdriver.remote.webelement.WebElement (session=\"7974e4d8e29135e7c22fd4c86c6050a8\", element=\"f8f08bef-06cf-4b09-a0be-d8c854de74b4\")>,\n",
       " <selenium.webdriver.remote.webelement.WebElement (session=\"7974e4d8e29135e7c22fd4c86c6050a8\", element=\"ef4bfc7e-b9db-464e-9498-5bc05dd2317e\")>,\n",
       " <selenium.webdriver.remote.webelement.WebElement (session=\"7974e4d8e29135e7c22fd4c86c6050a8\", element=\"df507bb9-19cf-4680-b05f-7d1e9d8703b9\")>,\n",
       " <selenium.webdriver.remote.webelement.WebElement (session=\"7974e4d8e29135e7c22fd4c86c6050a8\", element=\"cf1078d9-07de-461a-a0fc-4364d192f440\")>,\n",
       " <selenium.webdriver.remote.webelement.WebElement (session=\"7974e4d8e29135e7c22fd4c86c6050a8\", element=\"707975ec-c1e7-48de-a3e7-e394da21ce20\")>,\n",
       " <selenium.webdriver.remote.webelement.WebElement (session=\"7974e4d8e29135e7c22fd4c86c6050a8\", element=\"7665c5a5-17d5-418e-9d51-012cb6c0d8b8\")>,\n",
       " <selenium.webdriver.remote.webelement.WebElement (session=\"7974e4d8e29135e7c22fd4c86c6050a8\", element=\"03d84495-a212-4dcd-ad4f-494360ddf43d\")>,\n",
       " <selenium.webdriver.remote.webelement.WebElement (session=\"7974e4d8e29135e7c22fd4c86c6050a8\", element=\"a4fb829c-1db1-4c29-be49-d55e2c3e7bdc\")>,\n",
       " <selenium.webdriver.remote.webelement.WebElement (session=\"7974e4d8e29135e7c22fd4c86c6050a8\", element=\"abc5030d-78ca-4d21-9604-6b30627dddfa\")>,\n",
       " <selenium.webdriver.remote.webelement.WebElement (session=\"7974e4d8e29135e7c22fd4c86c6050a8\", element=\"0d1e681b-20fb-44e6-b7f6-dfad71e86f1a\")>,\n",
       " <selenium.webdriver.remote.webelement.WebElement (session=\"7974e4d8e29135e7c22fd4c86c6050a8\", element=\"9bf480e7-a834-40bd-a3e6-3e4d393429e1\")>,\n",
       " <selenium.webdriver.remote.webelement.WebElement (session=\"7974e4d8e29135e7c22fd4c86c6050a8\", element=\"055b79bc-4180-41c9-b7ba-f9d588f55481\")>,\n",
       " <selenium.webdriver.remote.webelement.WebElement (session=\"7974e4d8e29135e7c22fd4c86c6050a8\", element=\"9b6400f6-6abf-4b44-94b6-b3d6f8cb6b92\")>,\n",
       " <selenium.webdriver.remote.webelement.WebElement (session=\"7974e4d8e29135e7c22fd4c86c6050a8\", element=\"52dc5e1e-540c-432c-bc5d-b7598faa8a4f\")>,\n",
       " <selenium.webdriver.remote.webelement.WebElement (session=\"7974e4d8e29135e7c22fd4c86c6050a8\", element=\"8248e822-d0fd-4607-85a9-bb6666f6ef39\")>,\n",
       " <selenium.webdriver.remote.webelement.WebElement (session=\"7974e4d8e29135e7c22fd4c86c6050a8\", element=\"0509e3b2-674c-4c07-91b0-00fed175eec2\")>,\n",
       " <selenium.webdriver.remote.webelement.WebElement (session=\"7974e4d8e29135e7c22fd4c86c6050a8\", element=\"e9fa7dcc-ace1-42f5-a5a2-04f48175f6c6\")>,\n",
       " <selenium.webdriver.remote.webelement.WebElement (session=\"7974e4d8e29135e7c22fd4c86c6050a8\", element=\"a668d4ea-6d9b-41ef-aa23-24206656b27b\")>,\n",
       " <selenium.webdriver.remote.webelement.WebElement (session=\"7974e4d8e29135e7c22fd4c86c6050a8\", element=\"ddc85ef2-0e41-49a5-a2ba-9d7066497f73\")>,\n",
       " <selenium.webdriver.remote.webelement.WebElement (session=\"7974e4d8e29135e7c22fd4c86c6050a8\", element=\"1b5506c6-2929-41a8-b25d-3d06a9a81eb6\")>,\n",
       " <selenium.webdriver.remote.webelement.WebElement (session=\"7974e4d8e29135e7c22fd4c86c6050a8\", element=\"38ef51e1-ccad-44b9-b974-228cb3d4d03a\")>,\n",
       " <selenium.webdriver.remote.webelement.WebElement (session=\"7974e4d8e29135e7c22fd4c86c6050a8\", element=\"2c4e3ce0-cdba-49d4-9c1c-63e7b5afe872\")>,\n",
       " <selenium.webdriver.remote.webelement.WebElement (session=\"7974e4d8e29135e7c22fd4c86c6050a8\", element=\"b8ab2c88-7c44-45b4-a3a1-bbf9a2f5bbab\")>,\n",
       " <selenium.webdriver.remote.webelement.WebElement (session=\"7974e4d8e29135e7c22fd4c86c6050a8\", element=\"d91aedfc-f96e-46e4-a769-dfd618f9d3dd\")>,\n",
       " <selenium.webdriver.remote.webelement.WebElement (session=\"7974e4d8e29135e7c22fd4c86c6050a8\", element=\"d878a50d-3c47-453b-b3c1-bc4f3c946073\")>,\n",
       " <selenium.webdriver.remote.webelement.WebElement (session=\"7974e4d8e29135e7c22fd4c86c6050a8\", element=\"b4be0df0-047e-4f1d-ab16-17641d69208d\")>,\n",
       " <selenium.webdriver.remote.webelement.WebElement (session=\"7974e4d8e29135e7c22fd4c86c6050a8\", element=\"9b002162-5acd-492f-a164-c9385a69aef8\")>,\n",
       " <selenium.webdriver.remote.webelement.WebElement (session=\"7974e4d8e29135e7c22fd4c86c6050a8\", element=\"e2d673d2-13e1-4c2d-b02b-5042169c9704\")>,\n",
       " <selenium.webdriver.remote.webelement.WebElement (session=\"7974e4d8e29135e7c22fd4c86c6050a8\", element=\"cc636660-1c14-4ed3-9290-d562105e7d6e\")>,\n",
       " <selenium.webdriver.remote.webelement.WebElement (session=\"7974e4d8e29135e7c22fd4c86c6050a8\", element=\"b41872f5-d645-4ea7-8e90-3c2578d809de\")>,\n",
       " <selenium.webdriver.remote.webelement.WebElement (session=\"7974e4d8e29135e7c22fd4c86c6050a8\", element=\"40ec66fc-5404-4462-b355-8e1d7e618b6a\")>,\n",
       " <selenium.webdriver.remote.webelement.WebElement (session=\"7974e4d8e29135e7c22fd4c86c6050a8\", element=\"9633153c-9240-4792-ad51-b0804a1c5be8\")>,\n",
       " <selenium.webdriver.remote.webelement.WebElement (session=\"7974e4d8e29135e7c22fd4c86c6050a8\", element=\"87a69739-6d8c-4410-abb6-4c2fe1402f2f\")>,\n",
       " <selenium.webdriver.remote.webelement.WebElement (session=\"7974e4d8e29135e7c22fd4c86c6050a8\", element=\"cf1d6169-12aa-48c5-a2f5-4c05f3098908\")>,\n",
       " <selenium.webdriver.remote.webelement.WebElement (session=\"7974e4d8e29135e7c22fd4c86c6050a8\", element=\"6f6a529e-8480-49fd-967c-cf46bc0dfdb1\")>,\n",
       " <selenium.webdriver.remote.webelement.WebElement (session=\"7974e4d8e29135e7c22fd4c86c6050a8\", element=\"13079d0e-d478-4bce-9dec-554620f5d2ee\")>,\n",
       " <selenium.webdriver.remote.webelement.WebElement (session=\"7974e4d8e29135e7c22fd4c86c6050a8\", element=\"3eb10540-7964-4243-847c-be19e94049e4\")>,\n",
       " <selenium.webdriver.remote.webelement.WebElement (session=\"7974e4d8e29135e7c22fd4c86c6050a8\", element=\"f17a0ec2-4fd2-410b-abc7-2eeb2579e1b3\")>,\n",
       " <selenium.webdriver.remote.webelement.WebElement (session=\"7974e4d8e29135e7c22fd4c86c6050a8\", element=\"07a3699a-f6e6-4b81-be89-05ae60744760\")>,\n",
       " <selenium.webdriver.remote.webelement.WebElement (session=\"7974e4d8e29135e7c22fd4c86c6050a8\", element=\"84f99e89-5767-4a82-bda8-37d61d456ebb\")>,\n",
       " <selenium.webdriver.remote.webelement.WebElement (session=\"7974e4d8e29135e7c22fd4c86c6050a8\", element=\"d872d1c0-bc69-4cff-851e-d272f3c3df74\")>,\n",
       " <selenium.webdriver.remote.webelement.WebElement (session=\"7974e4d8e29135e7c22fd4c86c6050a8\", element=\"df1d63c0-dead-4aa3-9361-214442077417\")>]"
      ]
     },
     "execution_count": 192,
     "metadata": {},
     "output_type": "execute_result"
    }
   ],
   "source": [
    "# class name으로 가져오기\n",
    "driver.find_elements_by_class_name(\"tit5\")"
   ]
  },
  {
   "cell_type": "code",
   "execution_count": 193,
   "id": "82eb2b54-7a43-4436-9e49-9b5c0a5c17c8",
   "metadata": {},
   "outputs": [
    {
     "data": {
      "text/plain": [
       "['그린 북',\n",
       " '가버나움',\n",
       " '디지몬 어드벤처 라스트 에볼루션 : 인연',\n",
       " '먼 훗날 우리',\n",
       " '베일리 어게인',\n",
       " '원더',\n",
       " '아일라',\n",
       " '당갈',\n",
       " '극장판 바이올렛 에버가든',\n",
       " '포드 V 페라리',\n",
       " '주전장',\n",
       " '그대, 고맙소 : 김호중 생애 첫 팬미팅 무비',\n",
       " '쇼생크 탈출',\n",
       " '터미네이터 2:오리지널',\n",
       " '나 홀로 집에',\n",
       " '덕구',\n",
       " '라이언 일병 구하기',\n",
       " '클래식',\n",
       " '월-E',\n",
       " '보헤미안 랩소디',\n",
       " '사운드 오브 뮤직',\n",
       " '포레스트 검프',\n",
       " '빽 투 더 퓨쳐',\n",
       " '잭 스나이더의 저스티스 리그',\n",
       " '글래디에이터',\n",
       " '헬프',\n",
       " '위대한 쇼맨',\n",
       " '매트릭스',\n",
       " '가나의 혼인잔치: 언약',\n",
       " '인생은 아름다워',\n",
       " '타이타닉',\n",
       " '살인의 추억',\n",
       " '센과 치히로의 행방불명',\n",
       " '토이 스토리 3',\n",
       " '캐스트 어웨이',\n",
       " '헌터 킬러',\n",
       " '죽은 시인의 사회',\n",
       " '집으로...',\n",
       " '반지의 제왕: 왕의 귀환',\n",
       " '알라딘',\n",
       " '어벤져스: 엔드게임',\n",
       " '레옹',\n",
       " '아이즈 온 미 : 더 무비',\n",
       " '히든 피겨스',\n",
       " '동주',\n",
       " '아이 캔 스피크',\n",
       " '쉰들러 리스트',\n",
       " '여인의 향기',\n",
       " '클레멘타인',\n",
       " '안녕 베일리']"
      ]
     },
     "execution_count": 193,
     "metadata": {},
     "output_type": "execute_result"
    }
   ],
   "source": [
    "# 글자만 가져오기\n",
    "title = [i.text for i in driver.find_elements_by_class_name(\"tit5\")]\n",
    "title"
   ]
  },
  {
   "cell_type": "markdown",
   "id": "cc2f7309-1104-42fe-90e9-c6f2cfd13cf6",
   "metadata": {},
   "source": [
    "## 평점 가져오기"
   ]
  },
  {
   "cell_type": "code",
   "execution_count": 194,
   "id": "05400d9f-5322-4a78-ba14-6e726fa97282",
   "metadata": {},
   "outputs": [
    {
     "data": {
      "text/plain": [
       "[<selenium.webdriver.remote.webelement.WebElement (session=\"7974e4d8e29135e7c22fd4c86c6050a8\", element=\"54e517b5-10d8-4d17-9d46-a8b59a3a5115\")>,\n",
       " <selenium.webdriver.remote.webelement.WebElement (session=\"7974e4d8e29135e7c22fd4c86c6050a8\", element=\"becb9dad-a610-4e1e-a2d0-87f19addb80d\")>,\n",
       " <selenium.webdriver.remote.webelement.WebElement (session=\"7974e4d8e29135e7c22fd4c86c6050a8\", element=\"2a3845e9-9861-46af-8268-20f713fb8b5c\")>,\n",
       " <selenium.webdriver.remote.webelement.WebElement (session=\"7974e4d8e29135e7c22fd4c86c6050a8\", element=\"4917da0c-3668-45d0-a187-0cf83b55b488\")>,\n",
       " <selenium.webdriver.remote.webelement.WebElement (session=\"7974e4d8e29135e7c22fd4c86c6050a8\", element=\"97025562-bb86-4380-8ffa-8cd84d1b9e6e\")>,\n",
       " <selenium.webdriver.remote.webelement.WebElement (session=\"7974e4d8e29135e7c22fd4c86c6050a8\", element=\"728a70e5-91b3-40a5-b66c-785ff159bab6\")>,\n",
       " <selenium.webdriver.remote.webelement.WebElement (session=\"7974e4d8e29135e7c22fd4c86c6050a8\", element=\"392df4dd-20e4-4ae2-9514-cfd504505bd8\")>,\n",
       " <selenium.webdriver.remote.webelement.WebElement (session=\"7974e4d8e29135e7c22fd4c86c6050a8\", element=\"46c144aa-c95b-4fee-b1a3-73d49b93d5c0\")>,\n",
       " <selenium.webdriver.remote.webelement.WebElement (session=\"7974e4d8e29135e7c22fd4c86c6050a8\", element=\"84a50c50-bd7f-4be0-aec9-fdd6c585bbdc\")>,\n",
       " <selenium.webdriver.remote.webelement.WebElement (session=\"7974e4d8e29135e7c22fd4c86c6050a8\", element=\"7de8905b-0f07-4218-a09d-f9ae776f3854\")>,\n",
       " <selenium.webdriver.remote.webelement.WebElement (session=\"7974e4d8e29135e7c22fd4c86c6050a8\", element=\"e08b2e47-c08d-486d-bca2-5770b5aa5d16\")>,\n",
       " <selenium.webdriver.remote.webelement.WebElement (session=\"7974e4d8e29135e7c22fd4c86c6050a8\", element=\"377237ae-5a9e-48ca-9833-acaf656784b1\")>,\n",
       " <selenium.webdriver.remote.webelement.WebElement (session=\"7974e4d8e29135e7c22fd4c86c6050a8\", element=\"3a1fdd55-d8f2-46c9-84b8-41b542b1b1af\")>,\n",
       " <selenium.webdriver.remote.webelement.WebElement (session=\"7974e4d8e29135e7c22fd4c86c6050a8\", element=\"d05cfc87-5386-40c1-ad88-fc01dbe8cf55\")>,\n",
       " <selenium.webdriver.remote.webelement.WebElement (session=\"7974e4d8e29135e7c22fd4c86c6050a8\", element=\"f2c2ac61-7f14-4c58-9b32-e7a6f9d20a0c\")>,\n",
       " <selenium.webdriver.remote.webelement.WebElement (session=\"7974e4d8e29135e7c22fd4c86c6050a8\", element=\"3c0384b1-8a19-44a4-82bd-38a417eeb771\")>,\n",
       " <selenium.webdriver.remote.webelement.WebElement (session=\"7974e4d8e29135e7c22fd4c86c6050a8\", element=\"0de1adcc-9614-4727-99d9-935bd7be373b\")>,\n",
       " <selenium.webdriver.remote.webelement.WebElement (session=\"7974e4d8e29135e7c22fd4c86c6050a8\", element=\"29e89882-04e0-44f0-a506-ad375fb9a447\")>,\n",
       " <selenium.webdriver.remote.webelement.WebElement (session=\"7974e4d8e29135e7c22fd4c86c6050a8\", element=\"c6e5c6a5-3a56-46c5-9f36-4638fe3d5852\")>,\n",
       " <selenium.webdriver.remote.webelement.WebElement (session=\"7974e4d8e29135e7c22fd4c86c6050a8\", element=\"725f59e5-7f1a-4560-9611-92e49893bc14\")>,\n",
       " <selenium.webdriver.remote.webelement.WebElement (session=\"7974e4d8e29135e7c22fd4c86c6050a8\", element=\"91947cd9-ed42-4b69-8f96-bfa7f3f4770e\")>,\n",
       " <selenium.webdriver.remote.webelement.WebElement (session=\"7974e4d8e29135e7c22fd4c86c6050a8\", element=\"da873ab5-5ce4-46ed-b98b-c6b1866bbb8c\")>,\n",
       " <selenium.webdriver.remote.webelement.WebElement (session=\"7974e4d8e29135e7c22fd4c86c6050a8\", element=\"0329058b-2dc6-4ce2-8176-a822052535c0\")>,\n",
       " <selenium.webdriver.remote.webelement.WebElement (session=\"7974e4d8e29135e7c22fd4c86c6050a8\", element=\"91a6cb09-103c-426a-9f86-23b7a3e2f0a5\")>,\n",
       " <selenium.webdriver.remote.webelement.WebElement (session=\"7974e4d8e29135e7c22fd4c86c6050a8\", element=\"bb06debf-173a-42d3-bd1f-c264736d104e\")>,\n",
       " <selenium.webdriver.remote.webelement.WebElement (session=\"7974e4d8e29135e7c22fd4c86c6050a8\", element=\"47943d88-9d94-4329-9108-34f5fc568807\")>,\n",
       " <selenium.webdriver.remote.webelement.WebElement (session=\"7974e4d8e29135e7c22fd4c86c6050a8\", element=\"c1b451d6-2898-463e-a4d1-e643af7b0ddb\")>,\n",
       " <selenium.webdriver.remote.webelement.WebElement (session=\"7974e4d8e29135e7c22fd4c86c6050a8\", element=\"ace8c580-89d5-453d-8bb2-09d7659a2e34\")>,\n",
       " <selenium.webdriver.remote.webelement.WebElement (session=\"7974e4d8e29135e7c22fd4c86c6050a8\", element=\"744fb62e-f4fc-42a4-a517-670ac7fd618f\")>,\n",
       " <selenium.webdriver.remote.webelement.WebElement (session=\"7974e4d8e29135e7c22fd4c86c6050a8\", element=\"5f1c5b8f-2c2c-433f-b208-f67ec774a3de\")>,\n",
       " <selenium.webdriver.remote.webelement.WebElement (session=\"7974e4d8e29135e7c22fd4c86c6050a8\", element=\"1bb7c1f6-03fb-4499-8f0a-3d5cbe9b6ff5\")>,\n",
       " <selenium.webdriver.remote.webelement.WebElement (session=\"7974e4d8e29135e7c22fd4c86c6050a8\", element=\"56b3e1be-a274-4ecf-95c6-5c232f72efd9\")>,\n",
       " <selenium.webdriver.remote.webelement.WebElement (session=\"7974e4d8e29135e7c22fd4c86c6050a8\", element=\"861d453a-996f-4624-953c-2d145322fbf9\")>,\n",
       " <selenium.webdriver.remote.webelement.WebElement (session=\"7974e4d8e29135e7c22fd4c86c6050a8\", element=\"0a194761-fabd-447f-b55c-eb2564ad6555\")>,\n",
       " <selenium.webdriver.remote.webelement.WebElement (session=\"7974e4d8e29135e7c22fd4c86c6050a8\", element=\"5b9adafa-453e-4e5e-b00e-d0bc850f46b9\")>,\n",
       " <selenium.webdriver.remote.webelement.WebElement (session=\"7974e4d8e29135e7c22fd4c86c6050a8\", element=\"92d2e8df-3d90-41e1-a94d-2fc6fceb91ff\")>,\n",
       " <selenium.webdriver.remote.webelement.WebElement (session=\"7974e4d8e29135e7c22fd4c86c6050a8\", element=\"f7ef4afd-f38a-4462-a95b-40f3c608c1e8\")>,\n",
       " <selenium.webdriver.remote.webelement.WebElement (session=\"7974e4d8e29135e7c22fd4c86c6050a8\", element=\"7282a12c-d197-41a8-9101-aa9f03a7110e\")>,\n",
       " <selenium.webdriver.remote.webelement.WebElement (session=\"7974e4d8e29135e7c22fd4c86c6050a8\", element=\"37594408-30b8-4aaa-bdd6-f86b6c95e416\")>,\n",
       " <selenium.webdriver.remote.webelement.WebElement (session=\"7974e4d8e29135e7c22fd4c86c6050a8\", element=\"aaa8991c-d615-4702-b0c3-f785dbcef80a\")>,\n",
       " <selenium.webdriver.remote.webelement.WebElement (session=\"7974e4d8e29135e7c22fd4c86c6050a8\", element=\"136097a2-7f46-46f5-bce8-69106d440d88\")>,\n",
       " <selenium.webdriver.remote.webelement.WebElement (session=\"7974e4d8e29135e7c22fd4c86c6050a8\", element=\"e136cd55-109b-4b1a-ac04-2e819c610574\")>,\n",
       " <selenium.webdriver.remote.webelement.WebElement (session=\"7974e4d8e29135e7c22fd4c86c6050a8\", element=\"09f3e7a7-d3fd-4b2d-bab5-1949e4e6849b\")>,\n",
       " <selenium.webdriver.remote.webelement.WebElement (session=\"7974e4d8e29135e7c22fd4c86c6050a8\", element=\"8f98b15c-a82e-47f5-be7f-2c59e24575d2\")>,\n",
       " <selenium.webdriver.remote.webelement.WebElement (session=\"7974e4d8e29135e7c22fd4c86c6050a8\", element=\"47721700-3ef3-4963-a00c-d14c80e00a61\")>,\n",
       " <selenium.webdriver.remote.webelement.WebElement (session=\"7974e4d8e29135e7c22fd4c86c6050a8\", element=\"ea8abd02-3b0c-4a01-ab3d-882ea2b45ef4\")>,\n",
       " <selenium.webdriver.remote.webelement.WebElement (session=\"7974e4d8e29135e7c22fd4c86c6050a8\", element=\"eb42ee3f-9775-4f5a-b3ce-e6aaf673fce5\")>,\n",
       " <selenium.webdriver.remote.webelement.WebElement (session=\"7974e4d8e29135e7c22fd4c86c6050a8\", element=\"2a21a55d-7a31-4954-875e-847ec2531699\")>,\n",
       " <selenium.webdriver.remote.webelement.WebElement (session=\"7974e4d8e29135e7c22fd4c86c6050a8\", element=\"46988efe-087f-4ad6-94f8-2d5cbe42a221\")>,\n",
       " <selenium.webdriver.remote.webelement.WebElement (session=\"7974e4d8e29135e7c22fd4c86c6050a8\", element=\"c4a76503-e143-40cf-a449-23b94d70eae5\")>]"
      ]
     },
     "execution_count": 194,
     "metadata": {},
     "output_type": "execute_result"
    }
   ],
   "source": [
    "# class name으로 가져오기\n",
    "driver.find_elements_by_class_name(\"point\")"
   ]
  },
  {
   "cell_type": "code",
   "execution_count": 195,
   "id": "1249f571-70ef-4262-adbb-5c7a3f9f0ca8",
   "metadata": {},
   "outputs": [
    {
     "data": {
      "text/plain": [
       "['9.59',\n",
       " '9.59',\n",
       " '9.54',\n",
       " '9.52',\n",
       " '9.52',\n",
       " '9.52',\n",
       " '9.50',\n",
       " '9.49',\n",
       " '9.49',\n",
       " '9.48',\n",
       " '9.47',\n",
       " '9.46',\n",
       " '9.45',\n",
       " '9.44',\n",
       " '9.43',\n",
       " '9.43',\n",
       " '9.43',\n",
       " '9.42',\n",
       " '9.42',\n",
       " '9.42',\n",
       " '9.41',\n",
       " '9.41',\n",
       " '9.41',\n",
       " '9.41',\n",
       " '9.41',\n",
       " '9.41',\n",
       " '9.41',\n",
       " '9.40',\n",
       " '9.40',\n",
       " '9.40',\n",
       " '9.40',\n",
       " '9.40',\n",
       " '9.39',\n",
       " '9.39',\n",
       " '9.38',\n",
       " '9.38',\n",
       " '9.38',\n",
       " '9.38',\n",
       " '9.38',\n",
       " '9.38',\n",
       " '9.38',\n",
       " '9.37',\n",
       " '9.37',\n",
       " '9.37',\n",
       " '9.37',\n",
       " '9.37',\n",
       " '9.37',\n",
       " '9.37',\n",
       " '9.37',\n",
       " '9.36']"
      ]
     },
     "execution_count": 195,
     "metadata": {},
     "output_type": "execute_result"
    }
   ],
   "source": [
    "# 글자만 가져오기\n",
    "point = [i.text for i in driver.find_elements_by_class_name(\"point\")]\n",
    "point"
   ]
  },
  {
   "cell_type": "markdown",
   "id": "c159806d-73c2-4666-9b28-9a939a9bd622",
   "metadata": {},
   "source": [
    "## 데이터프레임으로 만들기"
   ]
  },
  {
   "cell_type": "code",
   "execution_count": 197,
   "id": "8780ebb9-1331-49c3-bc1a-c5d5ffde8629",
   "metadata": {},
   "outputs": [
    {
     "data": {
      "text/html": [
       "<div>\n",
       "<style scoped>\n",
       "    .dataframe tbody tr th:only-of-type {\n",
       "        vertical-align: middle;\n",
       "    }\n",
       "\n",
       "    .dataframe tbody tr th {\n",
       "        vertical-align: top;\n",
       "    }\n",
       "\n",
       "    .dataframe thead th {\n",
       "        text-align: right;\n",
       "    }\n",
       "</style>\n",
       "<table border=\"1\" class=\"dataframe\">\n",
       "  <thead>\n",
       "    <tr style=\"text-align: right;\">\n",
       "      <th></th>\n",
       "      <th>영화명</th>\n",
       "      <th>평점</th>\n",
       "    </tr>\n",
       "  </thead>\n",
       "  <tbody>\n",
       "    <tr>\n",
       "      <th>0</th>\n",
       "      <td>그린 북</td>\n",
       "      <td>9.59</td>\n",
       "    </tr>\n",
       "    <tr>\n",
       "      <th>1</th>\n",
       "      <td>가버나움</td>\n",
       "      <td>9.59</td>\n",
       "    </tr>\n",
       "    <tr>\n",
       "      <th>2</th>\n",
       "      <td>디지몬 어드벤처 라스트 에볼루션 : 인연</td>\n",
       "      <td>9.54</td>\n",
       "    </tr>\n",
       "    <tr>\n",
       "      <th>3</th>\n",
       "      <td>먼 훗날 우리</td>\n",
       "      <td>9.52</td>\n",
       "    </tr>\n",
       "    <tr>\n",
       "      <th>4</th>\n",
       "      <td>베일리 어게인</td>\n",
       "      <td>9.52</td>\n",
       "    </tr>\n",
       "    <tr>\n",
       "      <th>5</th>\n",
       "      <td>원더</td>\n",
       "      <td>9.52</td>\n",
       "    </tr>\n",
       "    <tr>\n",
       "      <th>6</th>\n",
       "      <td>아일라</td>\n",
       "      <td>9.50</td>\n",
       "    </tr>\n",
       "    <tr>\n",
       "      <th>7</th>\n",
       "      <td>당갈</td>\n",
       "      <td>9.49</td>\n",
       "    </tr>\n",
       "    <tr>\n",
       "      <th>8</th>\n",
       "      <td>극장판 바이올렛 에버가든</td>\n",
       "      <td>9.49</td>\n",
       "    </tr>\n",
       "    <tr>\n",
       "      <th>9</th>\n",
       "      <td>포드 V 페라리</td>\n",
       "      <td>9.48</td>\n",
       "    </tr>\n",
       "    <tr>\n",
       "      <th>10</th>\n",
       "      <td>주전장</td>\n",
       "      <td>9.47</td>\n",
       "    </tr>\n",
       "    <tr>\n",
       "      <th>11</th>\n",
       "      <td>그대, 고맙소 : 김호중 생애 첫 팬미팅 무비</td>\n",
       "      <td>9.46</td>\n",
       "    </tr>\n",
       "    <tr>\n",
       "      <th>12</th>\n",
       "      <td>쇼생크 탈출</td>\n",
       "      <td>9.45</td>\n",
       "    </tr>\n",
       "    <tr>\n",
       "      <th>13</th>\n",
       "      <td>터미네이터 2:오리지널</td>\n",
       "      <td>9.44</td>\n",
       "    </tr>\n",
       "    <tr>\n",
       "      <th>14</th>\n",
       "      <td>나 홀로 집에</td>\n",
       "      <td>9.43</td>\n",
       "    </tr>\n",
       "    <tr>\n",
       "      <th>15</th>\n",
       "      <td>덕구</td>\n",
       "      <td>9.43</td>\n",
       "    </tr>\n",
       "    <tr>\n",
       "      <th>16</th>\n",
       "      <td>라이언 일병 구하기</td>\n",
       "      <td>9.43</td>\n",
       "    </tr>\n",
       "    <tr>\n",
       "      <th>17</th>\n",
       "      <td>클래식</td>\n",
       "      <td>9.42</td>\n",
       "    </tr>\n",
       "    <tr>\n",
       "      <th>18</th>\n",
       "      <td>월-E</td>\n",
       "      <td>9.42</td>\n",
       "    </tr>\n",
       "    <tr>\n",
       "      <th>19</th>\n",
       "      <td>보헤미안 랩소디</td>\n",
       "      <td>9.42</td>\n",
       "    </tr>\n",
       "    <tr>\n",
       "      <th>20</th>\n",
       "      <td>사운드 오브 뮤직</td>\n",
       "      <td>9.41</td>\n",
       "    </tr>\n",
       "    <tr>\n",
       "      <th>21</th>\n",
       "      <td>포레스트 검프</td>\n",
       "      <td>9.41</td>\n",
       "    </tr>\n",
       "    <tr>\n",
       "      <th>22</th>\n",
       "      <td>빽 투 더 퓨쳐</td>\n",
       "      <td>9.41</td>\n",
       "    </tr>\n",
       "    <tr>\n",
       "      <th>23</th>\n",
       "      <td>잭 스나이더의 저스티스 리그</td>\n",
       "      <td>9.41</td>\n",
       "    </tr>\n",
       "    <tr>\n",
       "      <th>24</th>\n",
       "      <td>글래디에이터</td>\n",
       "      <td>9.41</td>\n",
       "    </tr>\n",
       "    <tr>\n",
       "      <th>25</th>\n",
       "      <td>헬프</td>\n",
       "      <td>9.41</td>\n",
       "    </tr>\n",
       "    <tr>\n",
       "      <th>26</th>\n",
       "      <td>위대한 쇼맨</td>\n",
       "      <td>9.41</td>\n",
       "    </tr>\n",
       "    <tr>\n",
       "      <th>27</th>\n",
       "      <td>매트릭스</td>\n",
       "      <td>9.40</td>\n",
       "    </tr>\n",
       "    <tr>\n",
       "      <th>28</th>\n",
       "      <td>가나의 혼인잔치: 언약</td>\n",
       "      <td>9.40</td>\n",
       "    </tr>\n",
       "    <tr>\n",
       "      <th>29</th>\n",
       "      <td>인생은 아름다워</td>\n",
       "      <td>9.40</td>\n",
       "    </tr>\n",
       "    <tr>\n",
       "      <th>30</th>\n",
       "      <td>타이타닉</td>\n",
       "      <td>9.40</td>\n",
       "    </tr>\n",
       "    <tr>\n",
       "      <th>31</th>\n",
       "      <td>살인의 추억</td>\n",
       "      <td>9.40</td>\n",
       "    </tr>\n",
       "    <tr>\n",
       "      <th>32</th>\n",
       "      <td>센과 치히로의 행방불명</td>\n",
       "      <td>9.39</td>\n",
       "    </tr>\n",
       "    <tr>\n",
       "      <th>33</th>\n",
       "      <td>토이 스토리 3</td>\n",
       "      <td>9.39</td>\n",
       "    </tr>\n",
       "    <tr>\n",
       "      <th>34</th>\n",
       "      <td>캐스트 어웨이</td>\n",
       "      <td>9.38</td>\n",
       "    </tr>\n",
       "    <tr>\n",
       "      <th>35</th>\n",
       "      <td>헌터 킬러</td>\n",
       "      <td>9.38</td>\n",
       "    </tr>\n",
       "    <tr>\n",
       "      <th>36</th>\n",
       "      <td>죽은 시인의 사회</td>\n",
       "      <td>9.38</td>\n",
       "    </tr>\n",
       "    <tr>\n",
       "      <th>37</th>\n",
       "      <td>집으로...</td>\n",
       "      <td>9.38</td>\n",
       "    </tr>\n",
       "    <tr>\n",
       "      <th>38</th>\n",
       "      <td>반지의 제왕: 왕의 귀환</td>\n",
       "      <td>9.38</td>\n",
       "    </tr>\n",
       "    <tr>\n",
       "      <th>39</th>\n",
       "      <td>알라딘</td>\n",
       "      <td>9.38</td>\n",
       "    </tr>\n",
       "    <tr>\n",
       "      <th>40</th>\n",
       "      <td>어벤져스: 엔드게임</td>\n",
       "      <td>9.38</td>\n",
       "    </tr>\n",
       "    <tr>\n",
       "      <th>41</th>\n",
       "      <td>레옹</td>\n",
       "      <td>9.37</td>\n",
       "    </tr>\n",
       "    <tr>\n",
       "      <th>42</th>\n",
       "      <td>아이즈 온 미 : 더 무비</td>\n",
       "      <td>9.37</td>\n",
       "    </tr>\n",
       "    <tr>\n",
       "      <th>43</th>\n",
       "      <td>히든 피겨스</td>\n",
       "      <td>9.37</td>\n",
       "    </tr>\n",
       "    <tr>\n",
       "      <th>44</th>\n",
       "      <td>동주</td>\n",
       "      <td>9.37</td>\n",
       "    </tr>\n",
       "    <tr>\n",
       "      <th>45</th>\n",
       "      <td>아이 캔 스피크</td>\n",
       "      <td>9.37</td>\n",
       "    </tr>\n",
       "    <tr>\n",
       "      <th>46</th>\n",
       "      <td>쉰들러 리스트</td>\n",
       "      <td>9.37</td>\n",
       "    </tr>\n",
       "    <tr>\n",
       "      <th>47</th>\n",
       "      <td>여인의 향기</td>\n",
       "      <td>9.37</td>\n",
       "    </tr>\n",
       "    <tr>\n",
       "      <th>48</th>\n",
       "      <td>클레멘타인</td>\n",
       "      <td>9.37</td>\n",
       "    </tr>\n",
       "    <tr>\n",
       "      <th>49</th>\n",
       "      <td>안녕 베일리</td>\n",
       "      <td>9.36</td>\n",
       "    </tr>\n",
       "  </tbody>\n",
       "</table>\n",
       "</div>"
      ],
      "text/plain": [
       "                          영화명    평점\n",
       "0                        그린 북  9.59\n",
       "1                        가버나움  9.59\n",
       "2      디지몬 어드벤처 라스트 에볼루션 : 인연  9.54\n",
       "3                     먼 훗날 우리  9.52\n",
       "4                     베일리 어게인  9.52\n",
       "5                          원더  9.52\n",
       "6                         아일라  9.50\n",
       "7                          당갈  9.49\n",
       "8               극장판 바이올렛 에버가든  9.49\n",
       "9                    포드 V 페라리  9.48\n",
       "10                        주전장  9.47\n",
       "11  그대, 고맙소 : 김호중 생애 첫 팬미팅 무비  9.46\n",
       "12                     쇼생크 탈출  9.45\n",
       "13               터미네이터 2:오리지널  9.44\n",
       "14                    나 홀로 집에  9.43\n",
       "15                         덕구  9.43\n",
       "16                 라이언 일병 구하기  9.43\n",
       "17                        클래식  9.42\n",
       "18                        월-E  9.42\n",
       "19                   보헤미안 랩소디  9.42\n",
       "20                  사운드 오브 뮤직  9.41\n",
       "21                    포레스트 검프  9.41\n",
       "22                   빽 투 더 퓨쳐  9.41\n",
       "23            잭 스나이더의 저스티스 리그  9.41\n",
       "24                     글래디에이터  9.41\n",
       "25                         헬프  9.41\n",
       "26                     위대한 쇼맨  9.41\n",
       "27                       매트릭스  9.40\n",
       "28               가나의 혼인잔치: 언약  9.40\n",
       "29                   인생은 아름다워  9.40\n",
       "30                       타이타닉  9.40\n",
       "31                     살인의 추억  9.40\n",
       "32               센과 치히로의 행방불명  9.39\n",
       "33                   토이 스토리 3  9.39\n",
       "34                    캐스트 어웨이  9.38\n",
       "35                      헌터 킬러  9.38\n",
       "36                  죽은 시인의 사회  9.38\n",
       "37                     집으로...  9.38\n",
       "38              반지의 제왕: 왕의 귀환  9.38\n",
       "39                        알라딘  9.38\n",
       "40                 어벤져스: 엔드게임  9.38\n",
       "41                         레옹  9.37\n",
       "42             아이즈 온 미 : 더 무비  9.37\n",
       "43                     히든 피겨스  9.37\n",
       "44                         동주  9.37\n",
       "45                   아이 캔 스피크  9.37\n",
       "46                    쉰들러 리스트  9.37\n",
       "47                     여인의 향기  9.37\n",
       "48                      클레멘타인  9.37\n",
       "49                     안녕 베일리  9.36"
      ]
     },
     "execution_count": 197,
     "metadata": {},
     "output_type": "execute_result"
    }
   ],
   "source": [
    "import pandas as pd\n",
    "df = pd.DataFrame({\n",
    "    \"영화명\": title,\n",
    "    \"평점\": point\n",
    "})\n",
    "df"
   ]
  },
  {
   "cell_type": "code",
   "execution_count": 200,
   "id": "602e201f-2aaf-4cdc-a260-c12eeca68358",
   "metadata": {},
   "outputs": [],
   "source": [
    "# csv 파일로 저장\n",
    "df.to_csv(\"data/movie_score.csv\", \n",
    "          index = False)"
   ]
  },
  {
   "cell_type": "code",
   "execution_count": 198,
   "id": "1c444b1e-df33-4e3b-89dd-1a283222eecc",
   "metadata": {},
   "outputs": [],
   "source": [
    "# 드라이버 종료\n",
    "driver.close()"
   ]
  },
  {
   "cell_type": "markdown",
   "id": "bd3b46be-2d2c-492c-bfa0-6e5cfbbb400e",
   "metadata": {},
   "source": [
    "# 예제2) 구글에 검색어 입력해서 검색하기"
   ]
  },
  {
   "cell_type": "code",
   "execution_count": 201,
   "id": "04895061-d956-476f-acae-75eba4d4cb3f",
   "metadata": {},
   "outputs": [],
   "source": [
    "# 크롬 브라우저 열고 구글로 이동하기\n",
    "driver = webdriver.Chrome(driver_path)\n",
    "driver.get(\"https://www.google.co.kr\")\n",
    "\n",
    "# 3초 기다리기\n",
    "driver.implicitly_wait(3)"
   ]
  },
  {
   "cell_type": "code",
   "execution_count": 202,
   "id": "457f46e8-76f5-47fd-a6af-b65777040215",
   "metadata": {},
   "outputs": [
    {
     "data": {
      "text/plain": [
       "<selenium.webdriver.remote.webelement.WebElement (session=\"b74f5ba94e3cd743ea63d4cdee35970f\", element=\"48e29cae-f9aa-4591-853d-5f031f406634\")>"
      ]
     },
     "execution_count": 202,
     "metadata": {},
     "output_type": "execute_result"
    }
   ],
   "source": [
    "# 검색창의 글씨 쓰는 부분의 xpath 찾기\n",
    "driver.find_element_by_xpath(\"/html/body/div[1]/div[3]/form/div[1]/div[1]/div[1]/div/div[2]/input\")"
   ]
  },
  {
   "cell_type": "code",
   "execution_count": 203,
   "id": "4ec8c379-6687-49b1-a5f9-97b14bd335e1",
   "metadata": {},
   "outputs": [],
   "source": [
    "# xpath로 구글 검색창에 단어 입력하기\n",
    "key_word = \"파이썬\"\n",
    "driver.find_element_by_xpath(\"/html/body/div[1]/div[3]/form/div[1]/div[1]/div[1]/div/div[2]/input\").send_keys(key_word)"
   ]
  },
  {
   "cell_type": "code",
   "execution_count": 204,
   "id": "40b48a36-0158-487f-88c3-4567b1f701de",
   "metadata": {},
   "outputs": [],
   "source": [
    "# 검색 버튼 클릭하기\n",
    "driver.find_element_by_name(\"btnK\").click()"
   ]
  },
  {
   "cell_type": "markdown",
   "id": "c9e9767d-54f3-4a6a-96ae-a4e635d921f4",
   "metadata": {},
   "source": [
    "## 검색결과 제목 가져오기"
   ]
  },
  {
   "cell_type": "code",
   "execution_count": 205,
   "id": "9226d928-7933-4ee1-8ebe-f1d925120f12",
   "metadata": {},
   "outputs": [
    {
     "data": {
      "text/plain": [
       "[<selenium.webdriver.remote.webelement.WebElement (session=\"b74f5ba94e3cd743ea63d4cdee35970f\", element=\"3fe1e6a6-16ff-4f10-a323-ae93bbd700c4\")>]"
      ]
     },
     "execution_count": 205,
     "metadata": {},
     "output_type": "execute_result"
    }
   ],
   "source": [
    "# 삽질 1 : xpath 그대로 복사해서 가져오기\n",
    "driver.find_elements_by_xpath('//*[@id=\"rso\"]/div[8]/div/div/div[1]/a/h3')"
   ]
  },
  {
   "cell_type": "code",
   "execution_count": 206,
   "id": "4d5a7533-8e7c-4949-829d-7b9997bfebb1",
   "metadata": {},
   "outputs": [
    {
     "data": {
      "text/plain": [
       "[<selenium.webdriver.remote.webelement.WebElement (session=\"b74f5ba94e3cd743ea63d4cdee35970f\", element=\"4abcb3b0-b259-47e1-8224-b441f358a5a7\")>,\n",
       " <selenium.webdriver.remote.webelement.WebElement (session=\"b74f5ba94e3cd743ea63d4cdee35970f\", element=\"14d735a1-11ed-40e8-96f0-13ea93640d30\")>,\n",
       " <selenium.webdriver.remote.webelement.WebElement (session=\"b74f5ba94e3cd743ea63d4cdee35970f\", element=\"51b9fdc4-33dd-4d5e-8ec4-a4500888e1ca\")>,\n",
       " <selenium.webdriver.remote.webelement.WebElement (session=\"b74f5ba94e3cd743ea63d4cdee35970f\", element=\"aab8936e-7f15-40c8-8564-4d015b7529bc\")>,\n",
       " <selenium.webdriver.remote.webelement.WebElement (session=\"b74f5ba94e3cd743ea63d4cdee35970f\", element=\"e824f484-3b63-49f6-a2bf-7eab22d99767\")>,\n",
       " <selenium.webdriver.remote.webelement.WebElement (session=\"b74f5ba94e3cd743ea63d4cdee35970f\", element=\"3fe1e6a6-16ff-4f10-a323-ae93bbd700c4\")>]"
      ]
     },
     "execution_count": 206,
     "metadata": {},
     "output_type": "execute_result"
    }
   ],
   "source": [
    "# 삽질 2 : xpath에서 div 넘버 제거\n",
    "driver.find_elements_by_xpath('//*[@id=\"rso\"]/div/div/div/div/a/h3')"
   ]
  },
  {
   "cell_type": "code",
   "execution_count": 207,
   "id": "1efdfa3e-bba3-4eb5-a2a1-6c28926d3b3b",
   "metadata": {},
   "outputs": [
    {
     "data": {
      "text/plain": [
       "[<selenium.webdriver.remote.webelement.WebElement (session=\"b74f5ba94e3cd743ea63d4cdee35970f\", element=\"4abcb3b0-b259-47e1-8224-b441f358a5a7\")>,\n",
       " <selenium.webdriver.remote.webelement.WebElement (session=\"b74f5ba94e3cd743ea63d4cdee35970f\", element=\"14d735a1-11ed-40e8-96f0-13ea93640d30\")>,\n",
       " <selenium.webdriver.remote.webelement.WebElement (session=\"b74f5ba94e3cd743ea63d4cdee35970f\", element=\"51b9fdc4-33dd-4d5e-8ec4-a4500888e1ca\")>,\n",
       " <selenium.webdriver.remote.webelement.WebElement (session=\"b74f5ba94e3cd743ea63d4cdee35970f\", element=\"aab8936e-7f15-40c8-8564-4d015b7529bc\")>,\n",
       " <selenium.webdriver.remote.webelement.WebElement (session=\"b74f5ba94e3cd743ea63d4cdee35970f\", element=\"140f3634-8808-4ae7-94d6-8d17d0e79aad\")>,\n",
       " <selenium.webdriver.remote.webelement.WebElement (session=\"b74f5ba94e3cd743ea63d4cdee35970f\", element=\"e824f484-3b63-49f6-a2bf-7eab22d99767\")>,\n",
       " <selenium.webdriver.remote.webelement.WebElement (session=\"b74f5ba94e3cd743ea63d4cdee35970f\", element=\"3fe1e6a6-16ff-4f10-a323-ae93bbd700c4\")>,\n",
       " <selenium.webdriver.remote.webelement.WebElement (session=\"b74f5ba94e3cd743ea63d4cdee35970f\", element=\"e1e7bd46-faf6-4b87-858c-b0f5516086f1\")>]"
      ]
     },
     "execution_count": 207,
     "metadata": {},
     "output_type": "execute_result"
    }
   ],
   "source": [
    "# 성공! : 태그의 class name으로 가져오기\n",
    "driver.find_elements_by_class_name('LC20lb.DKV0Md')"
   ]
  },
  {
   "cell_type": "code",
   "execution_count": 208,
   "id": "25a77de9-9b8a-4e4e-b670-4ab6baf1ebbc",
   "metadata": {},
   "outputs": [
    {
     "data": {
      "text/plain": [
       "['파이썬 자습서 — Python 3.9.6 문서',\n",
       " '파이썬 - 위키백과, 우리 모두의 백과사전',\n",
       " 'Python - 나무위키',\n",
       " '1 파이썬 시작하기 - 왕초보를 위한 Python: 쉽게 풀어 쓴 기초 ...',\n",
       " '파이썬이란? - 코딩의 시작, TCP School tcpschool.com ...',\n",
       " '모두를 위한 프로그래밍 : 파이썬 강좌소개 : edwith',\n",
       " '1 장 파이썬(Python) 입문 | 파이썬 프로그래밍 기초',\n",
       " '파이썬 입문 | 프로그래머스']"
      ]
     },
     "execution_count": 208,
     "metadata": {},
     "output_type": "execute_result"
    }
   ],
   "source": [
    "# 글자만 뽑기\n",
    "title = [i.text for i in driver.find_elements_by_class_name('LC20lb.DKV0Md')]\n",
    "title"
   ]
  },
  {
   "cell_type": "markdown",
   "id": "58eb2eea-3ff1-421a-acd7-456f172927b1",
   "metadata": {},
   "source": [
    "## 검색결과 링크 가져오기"
   ]
  },
  {
   "cell_type": "code",
   "execution_count": 209,
   "id": "82ed8c19-5b16-4602-b0d9-93d73664062c",
   "metadata": {},
   "outputs": [
    {
     "data": {
      "text/plain": [
       "[None, None, None, None, None, None, None, None]"
      ]
     },
     "execution_count": 209,
     "metadata": {},
     "output_type": "execute_result"
    }
   ],
   "source": [
    "# 삽질 1 : class name으로 가져오기 (링크의 경우는 a 태그에 있기 때문에 div 태그에만 접근해서는 가져오지 못함)\n",
    "[i.get_attribute(\"href\") for i in driver.find_elements_by_class_name('yuRUbf')]"
   ]
  },
  {
   "cell_type": "code",
   "execution_count": 210,
   "id": "6b06fd01-b4c6-4023-9330-7671ed72ef1f",
   "metadata": {},
   "outputs": [
    {
     "data": {
      "text/plain": [
       "[<selenium.webdriver.remote.webelement.WebElement (session=\"b74f5ba94e3cd743ea63d4cdee35970f\", element=\"e7a24a62-ec93-43a7-890b-8de43b057331\")>,\n",
       " <selenium.webdriver.remote.webelement.WebElement (session=\"b74f5ba94e3cd743ea63d4cdee35970f\", element=\"f4ded048-5501-4bde-9625-e740d4d0e22f\")>,\n",
       " <selenium.webdriver.remote.webelement.WebElement (session=\"b74f5ba94e3cd743ea63d4cdee35970f\", element=\"1b1efad8-3034-46c7-9c73-9dd26589f347\")>,\n",
       " <selenium.webdriver.remote.webelement.WebElement (session=\"b74f5ba94e3cd743ea63d4cdee35970f\", element=\"395dcac0-4e2c-4232-b238-03b9851f32a8\")>,\n",
       " <selenium.webdriver.remote.webelement.WebElement (session=\"b74f5ba94e3cd743ea63d4cdee35970f\", element=\"142bc5b1-3d9a-487b-a033-c2680ba1d7d8\")>,\n",
       " <selenium.webdriver.remote.webelement.WebElement (session=\"b74f5ba94e3cd743ea63d4cdee35970f\", element=\"29155550-3ebf-4e2c-98a3-8ba6c9063ed8\")>]"
      ]
     },
     "execution_count": 210,
     "metadata": {},
     "output_type": "execute_result"
    }
   ],
   "source": [
    "# 삽질 2 : xpath로 가져오기 => 뭔가 빠진 링크가 존재\n",
    "driver.find_elements_by_xpath('//*[@id=\"rso\"]/div/div/div/div/a')"
   ]
  },
  {
   "cell_type": "code",
   "execution_count": 211,
   "id": "31f88597-b512-4a89-9357-77d0cc6eedff",
   "metadata": {},
   "outputs": [
    {
     "data": {
      "text/plain": [
       "['https://docs.python.org/ko/3/tutorial/index.html',\n",
       " 'https://ko.wikipedia.org/wiki/%ED%8C%8C%EC%9D%B4%EC%8D%AC',\n",
       " 'https://namu.wiki/w/Python',\n",
       " 'https://wikidocs.net/43',\n",
       " 'https://www.edwith.org/pythonforeverybody',\n",
       " 'http://bigdata.dongguk.ac.kr/lectures/Python/_book/%ED%8C%8C%EC%9D%B4%EC%8D%AC%EC%9E%85%EB%AC%B8.html']"
      ]
     },
     "execution_count": 211,
     "metadata": {},
     "output_type": "execute_result"
    }
   ],
   "source": [
    "# 링크 가져오기\n",
    "[i.get_attribute(\"href\") for i in driver.find_elements_by_xpath('//*[@id=\"rso\"]/div/div/div/div/a')]"
   ]
  },
  {
   "cell_type": "code",
   "execution_count": 212,
   "id": "c389d96a-e0fe-4fcf-b306-49fe6e91657c",
   "metadata": {},
   "outputs": [
    {
     "data": {
      "text/plain": [
       "[<selenium.webdriver.remote.webelement.WebElement (session=\"b74f5ba94e3cd743ea63d4cdee35970f\", element=\"e7a24a62-ec93-43a7-890b-8de43b057331\")>,\n",
       " <selenium.webdriver.remote.webelement.WebElement (session=\"b74f5ba94e3cd743ea63d4cdee35970f\", element=\"f4ded048-5501-4bde-9625-e740d4d0e22f\")>,\n",
       " <selenium.webdriver.remote.webelement.WebElement (session=\"b74f5ba94e3cd743ea63d4cdee35970f\", element=\"1b1efad8-3034-46c7-9c73-9dd26589f347\")>,\n",
       " <selenium.webdriver.remote.webelement.WebElement (session=\"b74f5ba94e3cd743ea63d4cdee35970f\", element=\"395dcac0-4e2c-4232-b238-03b9851f32a8\")>,\n",
       " <selenium.webdriver.remote.webelement.WebElement (session=\"b74f5ba94e3cd743ea63d4cdee35970f\", element=\"142bc5b1-3d9a-487b-a033-c2680ba1d7d8\")>,\n",
       " <selenium.webdriver.remote.webelement.WebElement (session=\"b74f5ba94e3cd743ea63d4cdee35970f\", element=\"29155550-3ebf-4e2c-98a3-8ba6c9063ed8\")>]"
      ]
     },
     "execution_count": 212,
     "metadata": {},
     "output_type": "execute_result"
    }
   ],
   "source": [
    "# 삽질 3 : CSS selector로 가져오기 => 여전히 링크 2개를 못가져옴\n",
    "driver.find_elements_by_css_selector('#rso > div > div > div > div.yuRUbf > a')"
   ]
  },
  {
   "cell_type": "code",
   "execution_count": 213,
   "id": "a774edb7-6c45-43cf-99e4-ca4b379d78a0",
   "metadata": {},
   "outputs": [
    {
     "data": {
      "text/plain": [
       "[<selenium.webdriver.remote.webelement.WebElement (session=\"b74f5ba94e3cd743ea63d4cdee35970f\", element=\"e7a24a62-ec93-43a7-890b-8de43b057331\")>,\n",
       " <selenium.webdriver.remote.webelement.WebElement (session=\"b74f5ba94e3cd743ea63d4cdee35970f\", element=\"f4ded048-5501-4bde-9625-e740d4d0e22f\")>,\n",
       " <selenium.webdriver.remote.webelement.WebElement (session=\"b74f5ba94e3cd743ea63d4cdee35970f\", element=\"1b1efad8-3034-46c7-9c73-9dd26589f347\")>,\n",
       " <selenium.webdriver.remote.webelement.WebElement (session=\"b74f5ba94e3cd743ea63d4cdee35970f\", element=\"395dcac0-4e2c-4232-b238-03b9851f32a8\")>,\n",
       " <selenium.webdriver.remote.webelement.WebElement (session=\"b74f5ba94e3cd743ea63d4cdee35970f\", element=\"82bdaf76-655d-4949-893e-178fc35360c7\")>,\n",
       " <selenium.webdriver.remote.webelement.WebElement (session=\"b74f5ba94e3cd743ea63d4cdee35970f\", element=\"142bc5b1-3d9a-487b-a033-c2680ba1d7d8\")>,\n",
       " <selenium.webdriver.remote.webelement.WebElement (session=\"b74f5ba94e3cd743ea63d4cdee35970f\", element=\"29155550-3ebf-4e2c-98a3-8ba6c9063ed8\")>,\n",
       " <selenium.webdriver.remote.webelement.WebElement (session=\"b74f5ba94e3cd743ea63d4cdee35970f\", element=\"a522a987-7b2b-4830-9f4e-e238d68b43b0\")>]"
      ]
     },
     "execution_count": 213,
     "metadata": {},
     "output_type": "execute_result"
    }
   ],
   "source": [
    "# 성공! : CSS selector에서 앞부분 다 제외하고 div의 class name에서 a태그로 접근하는 부분만 남김\n",
    "driver.find_elements_by_css_selector('div.yuRUbf > a')"
   ]
  },
  {
   "cell_type": "code",
   "execution_count": 214,
   "id": "f0a3aafa-6d5d-4712-98ae-cd9337b9aa78",
   "metadata": {},
   "outputs": [
    {
     "data": {
      "text/plain": [
       "['https://docs.python.org/ko/3/tutorial/index.html',\n",
       " 'https://ko.wikipedia.org/wiki/%ED%8C%8C%EC%9D%B4%EC%8D%AC',\n",
       " 'https://namu.wiki/w/Python',\n",
       " 'https://wikidocs.net/43',\n",
       " 'http://tcpschool.com/python/intro',\n",
       " 'https://www.edwith.org/pythonforeverybody',\n",
       " 'http://bigdata.dongguk.ac.kr/lectures/Python/_book/%ED%8C%8C%EC%9D%B4%EC%8D%AC%EC%9E%85%EB%AC%B8.html',\n",
       " 'https://programmers.co.kr/learn/courses/2']"
      ]
     },
     "execution_count": 214,
     "metadata": {},
     "output_type": "execute_result"
    }
   ],
   "source": [
    "# 링크만 뽑아오기\n",
    "title_link = [i.get_attribute(\"href\") for i in driver.find_elements_by_css_selector('div.yuRUbf > a')]\n",
    "title_link"
   ]
  },
  {
   "cell_type": "markdown",
   "id": "9d54e3d5-5b3c-4b86-af0a-cde50d28bf13",
   "metadata": {},
   "source": [
    "## 결과 데이터프레임으로 변환"
   ]
  },
  {
   "cell_type": "code",
   "execution_count": 215,
   "id": "4d72877c-ee19-4250-ad98-0d9c22a79ad7",
   "metadata": {},
   "outputs": [
    {
     "data": {
      "text/html": [
       "<div>\n",
       "<style scoped>\n",
       "    .dataframe tbody tr th:only-of-type {\n",
       "        vertical-align: middle;\n",
       "    }\n",
       "\n",
       "    .dataframe tbody tr th {\n",
       "        vertical-align: top;\n",
       "    }\n",
       "\n",
       "    .dataframe thead th {\n",
       "        text-align: right;\n",
       "    }\n",
       "</style>\n",
       "<table border=\"1\" class=\"dataframe\">\n",
       "  <thead>\n",
       "    <tr style=\"text-align: right;\">\n",
       "      <th></th>\n",
       "      <th>제목</th>\n",
       "      <th>링크</th>\n",
       "    </tr>\n",
       "  </thead>\n",
       "  <tbody>\n",
       "    <tr>\n",
       "      <th>0</th>\n",
       "      <td>파이썬 자습서 — Python 3.9.6 문서</td>\n",
       "      <td>https://docs.python.org/ko/3/tutorial/index.html</td>\n",
       "    </tr>\n",
       "    <tr>\n",
       "      <th>1</th>\n",
       "      <td>파이썬 - 위키백과, 우리 모두의 백과사전</td>\n",
       "      <td>https://ko.wikipedia.org/wiki/%ED%8C%8C%EC%9D%...</td>\n",
       "    </tr>\n",
       "    <tr>\n",
       "      <th>2</th>\n",
       "      <td>Python - 나무위키</td>\n",
       "      <td>https://namu.wiki/w/Python</td>\n",
       "    </tr>\n",
       "    <tr>\n",
       "      <th>3</th>\n",
       "      <td>1 파이썬 시작하기 - 왕초보를 위한 Python: 쉽게 풀어 쓴 기초 ...</td>\n",
       "      <td>https://wikidocs.net/43</td>\n",
       "    </tr>\n",
       "    <tr>\n",
       "      <th>4</th>\n",
       "      <td>파이썬이란? - 코딩의 시작, TCP School tcpschool.com ...</td>\n",
       "      <td>http://tcpschool.com/python/intro</td>\n",
       "    </tr>\n",
       "    <tr>\n",
       "      <th>5</th>\n",
       "      <td>모두를 위한 프로그래밍 : 파이썬 강좌소개 : edwith</td>\n",
       "      <td>https://www.edwith.org/pythonforeverybody</td>\n",
       "    </tr>\n",
       "    <tr>\n",
       "      <th>6</th>\n",
       "      <td>1 장 파이썬(Python) 입문 | 파이썬 프로그래밍 기초</td>\n",
       "      <td>http://bigdata.dongguk.ac.kr/lectures/Python/_...</td>\n",
       "    </tr>\n",
       "    <tr>\n",
       "      <th>7</th>\n",
       "      <td>파이썬 입문 | 프로그래머스</td>\n",
       "      <td>https://programmers.co.kr/learn/courses/2</td>\n",
       "    </tr>\n",
       "  </tbody>\n",
       "</table>\n",
       "</div>"
      ],
      "text/plain": [
       "                                              제목  \\\n",
       "0                      파이썬 자습서 — Python 3.9.6 문서   \n",
       "1                        파이썬 - 위키백과, 우리 모두의 백과사전   \n",
       "2                                  Python - 나무위키   \n",
       "3    1 파이썬 시작하기 - 왕초보를 위한 Python: 쉽게 풀어 쓴 기초 ...   \n",
       "4  파이썬이란? - 코딩의 시작, TCP School tcpschool.com ...   \n",
       "5               모두를 위한 프로그래밍 : 파이썬 강좌소개 : edwith   \n",
       "6              1 장 파이썬(Python) 입문 | 파이썬 프로그래밍 기초   \n",
       "7                                파이썬 입문 | 프로그래머스   \n",
       "\n",
       "                                                  링크  \n",
       "0   https://docs.python.org/ko/3/tutorial/index.html  \n",
       "1  https://ko.wikipedia.org/wiki/%ED%8C%8C%EC%9D%...  \n",
       "2                         https://namu.wiki/w/Python  \n",
       "3                            https://wikidocs.net/43  \n",
       "4                  http://tcpschool.com/python/intro  \n",
       "5          https://www.edwith.org/pythonforeverybody  \n",
       "6  http://bigdata.dongguk.ac.kr/lectures/Python/_...  \n",
       "7          https://programmers.co.kr/learn/courses/2  "
      ]
     },
     "execution_count": 215,
     "metadata": {},
     "output_type": "execute_result"
    }
   ],
   "source": [
    "df = pd.DataFrame({\n",
    "    \"제목\": title,\n",
    "    \"링크\": title_link\n",
    "})\n",
    "df"
   ]
  },
  {
   "cell_type": "code",
   "execution_count": 227,
   "id": "a09fcafe-450e-4607-a533-7486ec301191",
   "metadata": {},
   "outputs": [
    {
     "name": "stdout",
     "output_type": "stream",
     "text": [
      "Collecting package metadata (current_repodata.json): done\n",
      "Solving environment: done\n",
      "\n",
      "\n",
      "==> WARNING: A newer version of conda exists. <==\n",
      "  current version: 4.10.1\n",
      "  latest version: 4.10.3\n",
      "\n",
      "Please update conda by running\n",
      "\n",
      "    $ conda update -n base -c defaults conda\n",
      "\n",
      "\n",
      "\n",
      "## Package Plan ##\n",
      "\n",
      "  environment location: /Users/hyunsung/opt/anaconda3/envs/crawler\n",
      "\n",
      "  added / updated specs:\n",
      "    - openpyxl\n",
      "\n",
      "\n",
      "The following packages will be downloaded:\n",
      "\n",
      "    package                    |            build\n",
      "    ---------------------------|-----------------\n",
      "    et_xmlfile-1.1.0           |   py38hecd8cb5_0          10 KB\n",
      "    ------------------------------------------------------------\n",
      "                                           Total:          10 KB\n",
      "\n",
      "The following NEW packages will be INSTALLED:\n",
      "\n",
      "  et_xmlfile         pkgs/main/osx-64::et_xmlfile-1.1.0-py38hecd8cb5_0\n",
      "  jdcal              pkgs/main/noarch::jdcal-1.4.1-py_0\n",
      "  openpyxl           pkgs/main/noarch::openpyxl-3.0.7-pyhd3eb1b0_0\n",
      "\n",
      "\n",
      "\n",
      "Downloading and Extracting Packages\n",
      "et_xmlfile-1.1.0     | 10 KB     | ##################################### | 100% \n",
      "Preparing transaction: done\n",
      "Verifying transaction: done\n",
      "Executing transaction: done\n"
     ]
    }
   ],
   "source": [
    "# !conda install openpyxl -y"
   ]
  },
  {
   "cell_type": "code",
   "execution_count": 228,
   "id": "3f2784bd-ca35-40d8-a7b6-114d6673e518",
   "metadata": {},
   "outputs": [],
   "source": [
    "# 엑셀 파일로 저장\n",
    "df.to_excel(\"data/google_search.xlsx\",\n",
    "            index = False)"
   ]
  },
  {
   "cell_type": "code",
   "execution_count": 217,
   "id": "6e446efb-8243-4b76-985b-e1c7b4c88026",
   "metadata": {},
   "outputs": [],
   "source": [
    "# csv 파일로 저장\n",
    "df.to_csv(\"data/google_search.csv\",\n",
    "          index = False)"
   ]
  },
  {
   "cell_type": "markdown",
   "id": "a192b7f4-6f41-4791-ace1-4126b08686fc",
   "metadata": {},
   "source": [
    "## 관련 검색어 가져오기 (앞에서 BeautifulSoup으로 했던 예제)"
   ]
  },
  {
   "cell_type": "code",
   "execution_count": 218,
   "id": "8cf7ba73-fe1c-4985-9521-180a2b10e132",
   "metadata": {},
   "outputs": [
    {
     "data": {
      "text/plain": [
       "[<selenium.webdriver.remote.webelement.WebElement (session=\"b74f5ba94e3cd743ea63d4cdee35970f\", element=\"717d569f-4f17-4ce2-b3c9-0a6d9ba70bfc\")>,\n",
       " <selenium.webdriver.remote.webelement.WebElement (session=\"b74f5ba94e3cd743ea63d4cdee35970f\", element=\"542f2931-4b11-4570-92a6-0f65d8802433\")>,\n",
       " <selenium.webdriver.remote.webelement.WebElement (session=\"b74f5ba94e3cd743ea63d4cdee35970f\", element=\"64570c66-46f9-46d4-a259-6666bec9d0ec\")>,\n",
       " <selenium.webdriver.remote.webelement.WebElement (session=\"b74f5ba94e3cd743ea63d4cdee35970f\", element=\"68c9c898-dacc-4108-b7b2-9e8dd0a33e2e\")>,\n",
       " <selenium.webdriver.remote.webelement.WebElement (session=\"b74f5ba94e3cd743ea63d4cdee35970f\", element=\"92115129-0e5d-41ea-b4c7-7bfb345d5a84\")>,\n",
       " <selenium.webdriver.remote.webelement.WebElement (session=\"b74f5ba94e3cd743ea63d4cdee35970f\", element=\"68359151-540d-4589-9dfe-a093d0dfd25f\")>,\n",
       " <selenium.webdriver.remote.webelement.WebElement (session=\"b74f5ba94e3cd743ea63d4cdee35970f\", element=\"e8bc8576-145e-48bf-9bda-8e4a2ce7b57b\")>,\n",
       " <selenium.webdriver.remote.webelement.WebElement (session=\"b74f5ba94e3cd743ea63d4cdee35970f\", element=\"68942ab8-821a-4367-a897-bb57a1fd8311\")>]"
      ]
     },
     "execution_count": 218,
     "metadata": {},
     "output_type": "execute_result"
    }
   ],
   "source": [
    "driver.find_elements_by_class_name(\"s75CSd.OhScic.AB4Wff\")"
   ]
  },
  {
   "cell_type": "code",
   "execution_count": 219,
   "id": "c17a1186-6cf8-4fae-a58d-67c0af40eacf",
   "metadata": {},
   "outputs": [
    {
     "data": {
      "text/plain": [
       "['파이썬 설치',\n",
       " '파이썬 사이트',\n",
       " '파이썬 다운',\n",
       " '파이썬 게임',\n",
       " '파이썬 // 연산자',\n",
       " '파이썬 코딩',\n",
       " '파이썬 강좌',\n",
       " '파이썬 명령어']"
      ]
     },
     "execution_count": 219,
     "metadata": {},
     "output_type": "execute_result"
    }
   ],
   "source": [
    "[i.text for i in driver.find_elements_by_class_name(\"s75CSd.OhScic.AB4Wff\")]"
   ]
  },
  {
   "cell_type": "code",
   "execution_count": 220,
   "id": "df4e491d-541f-440e-ba7d-a47cf7c3ca27",
   "metadata": {},
   "outputs": [],
   "source": [
    "# 브라우저 종료\n",
    "driver.close()"
   ]
  },
  {
   "cell_type": "code",
   "execution_count": null,
   "id": "e186d7fa-1a7a-4854-8e11-234c94dd3a66",
   "metadata": {},
   "outputs": [],
   "source": []
  }
 ],
 "metadata": {
  "kernelspec": {
   "display_name": "Python 3",
   "language": "python",
   "name": "python3"
  },
  "language_info": {
   "codemirror_mode": {
    "name": "ipython",
    "version": 3
   },
   "file_extension": ".py",
   "mimetype": "text/x-python",
   "name": "python",
   "nbconvert_exporter": "python",
   "pygments_lexer": "ipython3",
   "version": "3.8.10"
  }
 },
 "nbformat": 4,
 "nbformat_minor": 5
}
