{
 "cells": [
  {
   "cell_type": "markdown",
   "id": "8e5eb859-c9ad-4dbd-a5e9-03c5cea9513a",
   "metadata": {},
   "source": [
    "# NumPy\n",
    "\n",
    "- 파이썬에서 행렬 연산을 위한 핵심 라이브러리 (\"넘파이\"라고 읽음)\n",
    "- \"Numerical Python\"의 약자로 대규모 다차원 배열과 행렬 연산에 필요한 다양한 함수를 제공\n",
    "- 파이썬 기본 라이브러리가 아니기 때문에 따로 설치하여 사용해야함 (Anaconda의 경우, 기본 내장)"
   ]
  },
  {
   "cell_type": "markdown",
   "id": "ec6d0b66-05c3-4bc8-a605-154bfa6c1260",
   "metadata": {},
   "source": [
    "## NumPy 라이브러리 불러오기\n",
    "- 약속된 라이브러리의 별칭이 존재 (`np`)\n",
    "- 이후에 `np.함수명()`의 방식으로 NumPy의 함수 사용"
   ]
  },
  {
   "cell_type": "code",
   "execution_count": 1,
   "id": "da3cec39-5b64-428e-acfe-575db5024702",
   "metadata": {},
   "outputs": [],
   "source": [
    "import numpy as np"
   ]
  },
  {
   "cell_type": "markdown",
   "id": "82c200d6-e214-4408-8261-7bb587ccefd4",
   "metadata": {},
   "source": [
    "## NumPy 배열 생성"
   ]
  },
  {
   "cell_type": "markdown",
   "id": "168f413d-5680-42cc-962e-1e5861539ac7",
   "metadata": {},
   "source": [
    "![](https://taewanmerepo.github.io/2018/01/numpy/nparr.jpg)"
   ]
  },
  {
   "cell_type": "markdown",
   "id": "d3a890b1-6565-47cd-a636-c0eb27ec91be",
   "metadata": {},
   "source": [
    "### 1차원 배열\n",
    "- NumPy의 1차원 배열은 수학에서 벡터(vector)에 해당\n",
    "- 사용방법 : `np.array(리스트)`"
   ]
  },
  {
   "cell_type": "code",
   "execution_count": 2,
   "id": "7500ab61-b219-4129-933d-2fcb66709ae0",
   "metadata": {},
   "outputs": [
    {
     "data": {
      "text/plain": [
       "array([1, 2, 3])"
      ]
     },
     "execution_count": 2,
     "metadata": {},
     "output_type": "execute_result"
    }
   ],
   "source": [
    "a = np.array([1, 2, 3])\n",
    "a"
   ]
  },
  {
   "cell_type": "markdown",
   "id": "65d45388-83dd-4ad4-8e75-f50efc6da835",
   "metadata": {},
   "source": [
    "##### `ndarray`는 n-dimensional array의 약자"
   ]
  },
  {
   "cell_type": "code",
   "execution_count": 3,
   "id": "b6f15656-505e-49f5-8e08-ca9468aa3b98",
   "metadata": {},
   "outputs": [
    {
     "data": {
      "text/plain": [
       "numpy.ndarray"
      ]
     },
     "execution_count": 3,
     "metadata": {},
     "output_type": "execute_result"
    }
   ],
   "source": [
    "type(a)"
   ]
  },
  {
   "cell_type": "markdown",
   "id": "f6386827-8e4b-4cad-9281-56047b557647",
   "metadata": {},
   "source": [
    "#### 배열의 행과 열의 개수 확인하기 - `shape`"
   ]
  },
  {
   "cell_type": "code",
   "execution_count": 4,
   "id": "85c36b99-6ee2-4c6d-b0a6-be1f79c339ae",
   "metadata": {},
   "outputs": [
    {
     "data": {
      "text/plain": [
       "(3,)"
      ]
     },
     "execution_count": 4,
     "metadata": {},
     "output_type": "execute_result"
    }
   ],
   "source": [
    "a.shape   # 길이가 3인 벡터(배열)"
   ]
  },
  {
   "cell_type": "markdown",
   "id": "09233180-8689-44d0-b29f-18db0cf5dc4e",
   "metadata": {},
   "source": [
    "### 2차원 배열\n",
    "- NumPy의 2차원 배열은 수학에서 행렬(matrix)에 해당\n",
    "- 이중 리스트가 인자로 들어감"
   ]
  },
  {
   "cell_type": "code",
   "execution_count": 5,
   "id": "c02586bf-64a3-415e-bc75-343de493bcfb",
   "metadata": {},
   "outputs": [
    {
     "data": {
      "text/plain": [
       "[[1, 2, 3], [4, 5, 6]]"
      ]
     },
     "execution_count": 5,
     "metadata": {},
     "output_type": "execute_result"
    }
   ],
   "source": [
    "[[1, 2, 3],\n",
    " [4, 5, 6]]"
   ]
  },
  {
   "cell_type": "code",
   "execution_count": 6,
   "id": "9dd2097a-a3b9-4b34-b001-ea8884618e45",
   "metadata": {},
   "outputs": [
    {
     "data": {
      "text/plain": [
       "array([[1, 2, 3],\n",
       "       [4, 5, 6]])"
      ]
     },
     "execution_count": 6,
     "metadata": {},
     "output_type": "execute_result"
    }
   ],
   "source": [
    "# 2 x 3 배열\n",
    "b = np.array([[1, 2, 3],\n",
    "              [4, 5, 6]])\n",
    "b"
   ]
  },
  {
   "cell_type": "code",
   "execution_count": 7,
   "id": "cdfcadba-5e96-4b2d-81d5-cba588ced2d3",
   "metadata": {},
   "outputs": [
    {
     "data": {
      "text/plain": [
       "numpy.ndarray"
      ]
     },
     "execution_count": 7,
     "metadata": {},
     "output_type": "execute_result"
    }
   ],
   "source": [
    "type(b)"
   ]
  },
  {
   "cell_type": "code",
   "execution_count": 8,
   "id": "5b174bb6-bd01-4ed9-b2e1-7bb9d2234385",
   "metadata": {},
   "outputs": [
    {
     "data": {
      "text/plain": [
       "(2, 3)"
      ]
     },
     "execution_count": 8,
     "metadata": {},
     "output_type": "execute_result"
    }
   ],
   "source": [
    "b.shape   # 2 x 3 배열"
   ]
  },
  {
   "cell_type": "markdown",
   "id": "b2e258e1-fd26-4623-966f-be6ed98c7df5",
   "metadata": {},
   "source": [
    "### 3차원 배열\n",
    "- 3중 리스트가 인자로 들어감"
   ]
  },
  {
   "cell_type": "code",
   "execution_count": 9,
   "id": "1eb308c6-bc12-4f58-87fc-beaabe7efa86",
   "metadata": {},
   "outputs": [
    {
     "data": {
      "text/plain": [
       "[[[1, 2, 3, 4], [5, 6, 7, 8], [9, 10, 11, 12]],\n",
       " [[11, 12, 13, 14], [15, 16, 17, 18], [19, 20, 21, 22]]]"
      ]
     },
     "execution_count": 9,
     "metadata": {},
     "output_type": "execute_result"
    }
   ],
   "source": [
    "# 3중 리스트\n",
    "[[[1, 2, 3, 4],\n",
    "  [5, 6, 7, 8],\n",
    "  [9, 10, 11, 12]],\n",
    " [[11, 12, 13, 14],\n",
    "  [15, 16, 17, 18],\n",
    "  [19, 20, 21, 22]]]"
   ]
  },
  {
   "cell_type": "code",
   "execution_count": 10,
   "id": "739d2af3-21e2-4157-8ff1-bcc37bd4e7b5",
   "metadata": {},
   "outputs": [
    {
     "data": {
      "text/plain": [
       "array([[[ 1,  2,  3,  4],\n",
       "        [ 5,  6,  7,  8],\n",
       "        [ 9, 10, 11, 12]],\n",
       "\n",
       "       [[11, 12, 13, 14],\n",
       "        [15, 16, 17, 18],\n",
       "        [19, 20, 21, 22]]])"
      ]
     },
     "execution_count": 10,
     "metadata": {},
     "output_type": "execute_result"
    }
   ],
   "source": [
    "# 2 x 3 x 4 배열\n",
    "c = np.array([[[1, 2, 3, 4],\n",
    "               [5, 6, 7, 8],\n",
    "               [9, 10, 11, 12]],\n",
    "              [[11, 12, 13, 14],\n",
    "               [15, 16, 17, 18],\n",
    "               [19, 20, 21, 22]]])\n",
    "c"
   ]
  },
  {
   "cell_type": "code",
   "execution_count": 12,
   "id": "a423256c-d231-4fcb-addd-14b954f6a2b7",
   "metadata": {},
   "outputs": [
    {
     "data": {
      "text/plain": [
       "numpy.ndarray"
      ]
     },
     "execution_count": 12,
     "metadata": {},
     "output_type": "execute_result"
    }
   ],
   "source": [
    "type(c)"
   ]
  },
  {
   "cell_type": "code",
   "execution_count": 13,
   "id": "10e7b552-99de-4384-8493-a1501905b47a",
   "metadata": {},
   "outputs": [
    {
     "data": {
      "text/plain": [
       "(2, 3, 4)"
      ]
     },
     "execution_count": 13,
     "metadata": {},
     "output_type": "execute_result"
    }
   ],
   "source": [
    "c.shape   # 2 x 3 x 4 배열"
   ]
  },
  {
   "cell_type": "markdown",
   "id": "d180d7bd-44ac-439f-873c-4529f636d242",
   "metadata": {},
   "source": [
    "## 배열의 인덱싱과 슬라이싱"
   ]
  },
  {
   "cell_type": "markdown",
   "id": "3d78d52c-cef6-43a2-81a7-5cb8a3f5581b",
   "metadata": {},
   "source": [
    "### 1. 인덱싱"
   ]
  },
  {
   "cell_type": "markdown",
   "id": "6e3dfe94-3112-4690-b22a-dfa2272927d6",
   "metadata": {},
   "source": [
    "#### 1차원 배열의 인덱싱\n",
    "- 리스트의 인덱싱과 동일"
   ]
  },
  {
   "cell_type": "code",
   "execution_count": 14,
   "id": "6407b500-36b4-42f6-bb81-f1bc6230dcf0",
   "metadata": {},
   "outputs": [
    {
     "data": {
      "text/plain": [
       "array([0, 1, 2, 3, 4, 5])"
      ]
     },
     "execution_count": 14,
     "metadata": {},
     "output_type": "execute_result"
    }
   ],
   "source": [
    "# 1차원 배열\n",
    "a = np.array([0, 1, 2, 3, 4, 5])\n",
    "a"
   ]
  },
  {
   "cell_type": "code",
   "execution_count": 15,
   "id": "76111a2b-3875-4f95-9319-64b39d7ff214",
   "metadata": {},
   "outputs": [
    {
     "data": {
      "text/plain": [
       "(2, 5)"
      ]
     },
     "execution_count": 15,
     "metadata": {},
     "output_type": "execute_result"
    }
   ],
   "source": [
    "a[2], a[-1]"
   ]
  },
  {
   "cell_type": "markdown",
   "id": "11611f4f-dfec-4fa8-9e99-47959e07b3f6",
   "metadata": {},
   "source": [
    "#### 2차원 배열의 인덱싱\n",
    "- 행과 열을 가지고 있기 때문에 2개의 인덱스가 필요\n",
    "\n",
    "행렬 $A$의 $i, j$번쨰 원소는 $A_{ij}$"
   ]
  },
  {
   "cell_type": "code",
   "execution_count": 16,
   "id": "d38573fd-23df-4839-99c5-2eb9be3abf06",
   "metadata": {},
   "outputs": [
    {
     "data": {
      "text/plain": [
       "array([[1, 2, 3],\n",
       "       [4, 5, 6]])"
      ]
     },
     "execution_count": 16,
     "metadata": {},
     "output_type": "execute_result"
    }
   ],
   "source": [
    "b = np.array([[1, 2, 3],\n",
    "              [4, 5, 6]])\n",
    "b"
   ]
  },
  {
   "cell_type": "code",
   "execution_count": 17,
   "id": "4086c40c-83f6-4390-9ee1-6b24cf587816",
   "metadata": {},
   "outputs": [
    {
     "data": {
      "text/plain": [
       "2"
      ]
     },
     "execution_count": 17,
     "metadata": {},
     "output_type": "execute_result"
    }
   ],
   "source": [
    "b[0, 1]"
   ]
  },
  {
   "cell_type": "code",
   "execution_count": 18,
   "id": "4da18e85-fe96-45f5-b753-c6263dfda331",
   "metadata": {},
   "outputs": [
    {
     "data": {
      "text/plain": [
       "6"
      ]
     },
     "execution_count": 18,
     "metadata": {},
     "output_type": "execute_result"
    }
   ],
   "source": [
    "b[1, 2]"
   ]
  },
  {
   "cell_type": "markdown",
   "id": "42ffdeb9-410a-4ba6-9f7d-e18efedd4540",
   "metadata": {},
   "source": [
    "### 2. 슬라이싱"
   ]
  },
  {
   "cell_type": "markdown",
   "id": "96ed9ff3-43cf-4b99-8a86-9d99b230488c",
   "metadata": {},
   "source": [
    "#### 1차원 배열의 슬라이싱\n",
    "- 리스트의 슬라이싱과 동일"
   ]
  },
  {
   "cell_type": "code",
   "execution_count": 19,
   "id": "a6284be7-fd53-4bb3-8f39-ec50ec93a64a",
   "metadata": {},
   "outputs": [
    {
     "data": {
      "text/plain": [
       "array([0, 1, 2, 3, 4, 5])"
      ]
     },
     "execution_count": 19,
     "metadata": {},
     "output_type": "execute_result"
    }
   ],
   "source": [
    "# 1차원 배열\n",
    "a = np.array([0, 1, 2, 3, 4, 5])\n",
    "a"
   ]
  },
  {
   "cell_type": "code",
   "execution_count": 20,
   "id": "327f40e2-47c6-4936-bb68-dc564ec0bd0a",
   "metadata": {},
   "outputs": [
    {
     "data": {
      "text/plain": [
       "array([0, 1, 2])"
      ]
     },
     "execution_count": 20,
     "metadata": {},
     "output_type": "execute_result"
    }
   ],
   "source": [
    "a[0:3]"
   ]
  },
  {
   "cell_type": "markdown",
   "id": "435d36a6-8c71-42db-b177-c27d7380ce7f",
   "metadata": {},
   "source": [
    "#### 1차원 배열에서 조건에 맞는 값 가져오기 (불리언(boolean) 인덱싱)\n",
    "- 배열에서 특정 조건에 맞는 값들만 가져오는 방법\n",
    "- `True` 또는 `False`를 가지는 배열을 이용하여 슬라이싱이 가능"
   ]
  },
  {
   "cell_type": "code",
   "execution_count": 21,
   "id": "a72f349d-a6de-42ba-9a55-94a138f3a398",
   "metadata": {},
   "outputs": [
    {
     "data": {
      "text/plain": [
       "array([ True, False,  True, False,  True, False])"
      ]
     },
     "execution_count": 21,
     "metadata": {},
     "output_type": "execute_result"
    }
   ],
   "source": [
    "# a에서 2로 나눈 나머지가 0인지 아닌지?\n",
    "# 즉, 짝수번째 값인지 아닌지?\n",
    "a % 2 == 0"
   ]
  },
  {
   "cell_type": "code",
   "execution_count": 22,
   "id": "93001993-a68f-402d-a1db-153e6d3dcd4f",
   "metadata": {},
   "outputs": [
    {
     "data": {
      "text/plain": [
       "array([0, 2, 4])"
      ]
     },
     "execution_count": 22,
     "metadata": {},
     "output_type": "execute_result"
    }
   ],
   "source": [
    "# 위의 True 또는 False로 이루어진 배열을 가지고 슬라이싱\n",
    "a[a % 2 == 0]"
   ]
  },
  {
   "cell_type": "markdown",
   "id": "e053bc0a-8f0e-471e-b923-3b4a1fe251dd",
   "metadata": {},
   "source": [
    "#### 2차원 배열의 슬라이싱\n",
    "- 행과 열을 가지고 있기 때문에 2개의 슬라이싱이 필요"
   ]
  },
  {
   "cell_type": "code",
   "execution_count": 23,
   "id": "8f6d020e-c820-465a-a962-d3069a3818e6",
   "metadata": {},
   "outputs": [
    {
     "data": {
      "text/plain": [
       "array([[ 1,  2,  3,  4,  5],\n",
       "       [ 6,  7,  8,  9, 10],\n",
       "       [11, 12, 13, 14, 15],\n",
       "       [16, 17, 18, 19, 20]])"
      ]
     },
     "execution_count": 23,
     "metadata": {},
     "output_type": "execute_result"
    }
   ],
   "source": [
    "b = np.array([[1, 2, 3, 4, 5],\n",
    "              [6, 7, 8, 9, 10],\n",
    "              [11, 12, 13, 14, 15],\n",
    "              [16, 17, 18, 19, 20]])\n",
    "b"
   ]
  },
  {
   "cell_type": "code",
   "execution_count": 24,
   "id": "d1e163e9-4c14-46f3-a13e-5d769d11bed7",
   "metadata": {},
   "outputs": [
    {
     "data": {
      "text/plain": [
       "(4, 5)"
      ]
     },
     "execution_count": 24,
     "metadata": {},
     "output_type": "execute_result"
    }
   ],
   "source": [
    "b.shape"
   ]
  },
  {
   "cell_type": "code",
   "execution_count": 25,
   "id": "0f53073f-8668-4ba6-949d-67c0d36bf82f",
   "metadata": {},
   "outputs": [
    {
     "data": {
      "text/plain": [
       "array([13, 14])"
      ]
     },
     "execution_count": 25,
     "metadata": {},
     "output_type": "execute_result"
    }
   ],
   "source": [
    "# 3번째 행의 3~4번째 열\n",
    "b[2, 2:4]"
   ]
  },
  {
   "cell_type": "code",
   "execution_count": 26,
   "id": "345e2e93-371b-4359-8168-f4b306ae1b89",
   "metadata": {},
   "outputs": [
    {
     "data": {
      "text/plain": [
       "array([[ 8,  9, 10],\n",
       "       [13, 14, 15]])"
      ]
     },
     "execution_count": 26,
     "metadata": {},
     "output_type": "execute_result"
    }
   ],
   "source": [
    "# 2~3번째 행의 3번째 열부터 끝까지\n",
    "b[1:3, 2:]"
   ]
  },
  {
   "cell_type": "markdown",
   "id": "4e0c5815-f048-4ccb-9a9c-16bf47fccba1",
   "metadata": {},
   "source": [
    "#### 2차원 배열에서 조건에 맞는 값 가져오기 (불리언 인덱싱)\n",
    "- 2차원 배열에서는, 결과가 1차원 배열로 나타남\n",
    "- 생각해보면 당연한 것이, 조건이 `True`인 값만 가져오는 것이기 때문에 기존의 2차원을 유지하는 것이 불가능해짐"
   ]
  },
  {
   "cell_type": "code",
   "execution_count": 27,
   "id": "2be7255d-71aa-4d35-95b3-3b4b27687613",
   "metadata": {},
   "outputs": [
    {
     "data": {
      "text/plain": [
       "array([[False,  True, False,  True, False],\n",
       "       [ True, False,  True, False,  True],\n",
       "       [False,  True, False,  True, False],\n",
       "       [ True, False,  True, False,  True]])"
      ]
     },
     "execution_count": 27,
     "metadata": {},
     "output_type": "execute_result"
    }
   ],
   "source": [
    "b % 2 == 0"
   ]
  },
  {
   "cell_type": "code",
   "execution_count": 28,
   "id": "3fe06ff5-e2f6-4bde-b82b-dec343993eaf",
   "metadata": {},
   "outputs": [
    {
     "data": {
      "text/plain": [
       "array([ 2,  4,  6,  8, 10, 12, 14, 16, 18, 20])"
      ]
     },
     "execution_count": 28,
     "metadata": {},
     "output_type": "execute_result"
    }
   ],
   "source": [
    "b[b % 2 == 0]"
   ]
  },
  {
   "cell_type": "markdown",
   "id": "df307855-2bb2-46d7-943e-e51d1737bde7",
   "metadata": {},
   "source": [
    "## NumPy 배열을 생성해주는 다양한 함수"
   ]
  },
  {
   "cell_type": "markdown",
   "id": "81844dee-c750-4e23-8415-ef8bedde90b4",
   "metadata": {},
   "source": [
    "#### `np.zeros()`\n",
    "- 모든 배열의 원소가 0인 배열 생성"
   ]
  },
  {
   "cell_type": "code",
   "execution_count": 29,
   "id": "0cf0df7d-b830-4359-a2e2-c50233aaa034",
   "metadata": {},
   "outputs": [
    {
     "data": {
      "text/plain": [
       "array([0., 0., 0., 0., 0.])"
      ]
     },
     "execution_count": 29,
     "metadata": {},
     "output_type": "execute_result"
    }
   ],
   "source": [
    "np.zeros(5)"
   ]
  },
  {
   "cell_type": "code",
   "execution_count": 30,
   "id": "3bf1484e-e31f-4976-9587-9df78b1e522a",
   "metadata": {},
   "outputs": [
    {
     "data": {
      "text/plain": [
       "array([[0., 0., 0.],\n",
       "       [0., 0., 0.]])"
      ]
     },
     "execution_count": 30,
     "metadata": {},
     "output_type": "execute_result"
    }
   ],
   "source": [
    "np.zeros((2, 3))"
   ]
  },
  {
   "cell_type": "code",
   "execution_count": 32,
   "id": "418a6f34-8101-4045-a851-da64144c4bd2",
   "metadata": {},
   "outputs": [
    {
     "data": {
      "text/plain": [
       "array([[0., 0., 0.],\n",
       "       [0., 0., 0.]])"
      ]
     },
     "execution_count": 32,
     "metadata": {},
     "output_type": "execute_result"
    }
   ],
   "source": [
    "np.zeros([2, 3])"
   ]
  },
  {
   "cell_type": "markdown",
   "id": "785697e4-4358-4935-9915-b906e5f90f41",
   "metadata": {},
   "source": [
    "#### `np.ones()`\n",
    "- 모든 배열의 원소가 1인 배열 생성"
   ]
  },
  {
   "cell_type": "code",
   "execution_count": 33,
   "id": "65b71db0-96de-4d75-923e-45552e0bf6a7",
   "metadata": {},
   "outputs": [
    {
     "data": {
      "text/plain": [
       "array([1., 1., 1., 1., 1.])"
      ]
     },
     "execution_count": 33,
     "metadata": {},
     "output_type": "execute_result"
    }
   ],
   "source": [
    "np.ones(5)"
   ]
  },
  {
   "cell_type": "code",
   "execution_count": 34,
   "id": "a8aa361f-6e6b-4b74-b45a-da5c9e7832c4",
   "metadata": {},
   "outputs": [
    {
     "data": {
      "text/plain": [
       "array([[1., 1., 1.],\n",
       "       [1., 1., 1.]])"
      ]
     },
     "execution_count": 34,
     "metadata": {},
     "output_type": "execute_result"
    }
   ],
   "source": [
    "np.ones((2, 3))"
   ]
  },
  {
   "cell_type": "markdown",
   "id": "e3e3e344-f82a-46e2-8080-04af633440d9",
   "metadata": {},
   "source": [
    "#### `np.arange(시작점, 끝점, 간격)`\n",
    "- NumPy에서의 `range()` 험수"
   ]
  },
  {
   "cell_type": "code",
   "execution_count": 35,
   "id": "312b529e-7a87-4441-b9f7-961274157cf0",
   "metadata": {},
   "outputs": [
    {
     "data": {
      "text/plain": [
       "array([0, 2, 4, 6, 8])"
      ]
     },
     "execution_count": 35,
     "metadata": {},
     "output_type": "execute_result"
    }
   ],
   "source": [
    "np.arange(0, 10, 2)"
   ]
  },
  {
   "cell_type": "markdown",
   "id": "c3da818f-4fc1-45c8-87b4-de8418f01417",
   "metadata": {},
   "source": [
    "#### `np.linspace(시작점, 끝점, 개수)`\n",
    "- 시작점과 끝점 사이에서 개수만큼 동일한 간격으로 배열 생성\n",
    "- 끝점을 포함하여 개수를 고려"
   ]
  },
  {
   "cell_type": "code",
   "execution_count": 36,
   "id": "07e71700-7a1e-4eee-aa0e-c8c875241c05",
   "metadata": {},
   "outputs": [
    {
     "data": {
      "text/plain": [
       "array([ 0. ,  2.5,  5. ,  7.5, 10. ])"
      ]
     },
     "execution_count": 36,
     "metadata": {},
     "output_type": "execute_result"
    }
   ],
   "source": [
    "np.linspace(0, 10, 5)"
   ]
  },
  {
   "cell_type": "code",
   "execution_count": 37,
   "id": "b2329ea5-b399-4540-ac9a-8e9094c64c33",
   "metadata": {},
   "outputs": [
    {
     "data": {
      "text/plain": [
       "array([ 0.        ,  1.11111111,  2.22222222,  3.33333333,  4.44444444,\n",
       "        5.55555556,  6.66666667,  7.77777778,  8.88888889, 10.        ])"
      ]
     },
     "execution_count": 37,
     "metadata": {},
     "output_type": "execute_result"
    }
   ],
   "source": [
    "np.linspace(0, 10, 10)"
   ]
  },
  {
   "cell_type": "markdown",
   "id": "c6837a79-cef2-4572-b56a-ad77a8b78b84",
   "metadata": {},
   "source": [
    "## 배열의 변형"
   ]
  },
  {
   "cell_type": "markdown",
   "id": "8f05d6b7-010f-462c-9e90-7ec39716155f",
   "metadata": {},
   "source": [
    "### 배열의 전치 (transpose)\n",
    "- 행렬의 행과 열의 위치를 바꾸는 것\n",
    "- `배열.T`"
   ]
  },
  {
   "cell_type": "code",
   "execution_count": 38,
   "id": "8144454e-2bf4-4045-9e99-b82a3733be74",
   "metadata": {},
   "outputs": [
    {
     "data": {
      "text/plain": [
       "array([[1, 2, 3],\n",
       "       [4, 5, 6]])"
      ]
     },
     "execution_count": 38,
     "metadata": {},
     "output_type": "execute_result"
    }
   ],
   "source": [
    "A = np.array([[1, 2, 3], \n",
    "              [4, 5, 6]])\n",
    "A"
   ]
  },
  {
   "cell_type": "code",
   "execution_count": 39,
   "id": "2b6dd68d-f3ee-4001-8dd8-31e20039d192",
   "metadata": {},
   "outputs": [
    {
     "data": {
      "text/plain": [
       "array([[1, 4],\n",
       "       [2, 5],\n",
       "       [3, 6]])"
      ]
     },
     "execution_count": 39,
     "metadata": {},
     "output_type": "execute_result"
    }
   ],
   "source": [
    "A.T"
   ]
  },
  {
   "cell_type": "markdown",
   "id": "0e6a3f24-37c8-40de-acf4-06ccb1818cbf",
   "metadata": {},
   "source": [
    "### 배열의 크기 변형\n",
    "- `배열.reshape(변형할 차원)` : 배열을 해당 차원으로 변형\n",
    "- `배열.flatten()` : 다차원 배열을 1차원 배열로 변형"
   ]
  },
  {
   "cell_type": "code",
   "execution_count": 40,
   "id": "adc45444-64fe-40c9-b8b9-00ed8a9926bb",
   "metadata": {},
   "outputs": [
    {
     "data": {
      "text/plain": [
       "array([ 0,  1,  2,  3,  4,  5,  6,  7,  8,  9, 10, 11])"
      ]
     },
     "execution_count": 40,
     "metadata": {},
     "output_type": "execute_result"
    }
   ],
   "source": [
    "a = np.arange(12)\n",
    "a"
   ]
  },
  {
   "cell_type": "code",
   "execution_count": 41,
   "id": "7516e667-0c41-4d7d-a12a-ef26b270c497",
   "metadata": {},
   "outputs": [
    {
     "data": {
      "text/plain": [
       "array([[ 0,  1,  2,  3],\n",
       "       [ 4,  5,  6,  7],\n",
       "       [ 8,  9, 10, 11]])"
      ]
     },
     "execution_count": 41,
     "metadata": {},
     "output_type": "execute_result"
    }
   ],
   "source": [
    "# 1차원 배열을 3 x 4 배열로 변형\n",
    "b = a.reshape(3, 4)\n",
    "b"
   ]
  },
  {
   "cell_type": "code",
   "execution_count": 42,
   "id": "db67b2b8-1eb0-455c-9001-1a28e6539820",
   "metadata": {},
   "outputs": [
    {
     "data": {
      "text/plain": [
       "array([ 0,  1,  2,  3,  4,  5,  6,  7,  8,  9, 10, 11])"
      ]
     },
     "execution_count": 42,
     "metadata": {},
     "output_type": "execute_result"
    }
   ],
   "source": [
    "# 3 x 4 배열을 1차원 배열로 변형\n",
    "b.flatten()"
   ]
  },
  {
   "cell_type": "markdown",
   "id": "53d153f4-db4b-47ba-8ee2-c7229c0f48f2",
   "metadata": {},
   "source": [
    "### 배열 연결\n",
    "- `np.hstack([배열1, 배열2])` : 배열1과 배열2를 열로 합침 (옆으로 함침)\n",
    "- `np.vstack([배열1, 배열2])` : 배열1과 배열2를 행으로 합침 (위아래로 합침)"
   ]
  },
  {
   "cell_type": "code",
   "execution_count": 43,
   "id": "2f27c34f-b66d-44a5-a6bf-a9034b87785d",
   "metadata": {},
   "outputs": [
    {
     "data": {
      "text/plain": [
       "array([[1., 1., 1.],\n",
       "       [1., 1., 1.]])"
      ]
     },
     "execution_count": 43,
     "metadata": {},
     "output_type": "execute_result"
    }
   ],
   "source": [
    "a1 = np.ones((2, 3))\n",
    "a1"
   ]
  },
  {
   "cell_type": "code",
   "execution_count": 44,
   "id": "d13c5d4a-da12-409e-8eeb-3766c65f4ed2",
   "metadata": {},
   "outputs": [
    {
     "data": {
      "text/plain": [
       "array([[0., 0., 0.],\n",
       "       [0., 0., 0.]])"
      ]
     },
     "execution_count": 44,
     "metadata": {},
     "output_type": "execute_result"
    }
   ],
   "source": [
    "a2 = np.zeros((2, 3))\n",
    "a2"
   ]
  },
  {
   "cell_type": "code",
   "execution_count": 45,
   "id": "6a451e63-973a-46bb-9703-17cf99e99931",
   "metadata": {},
   "outputs": [
    {
     "data": {
      "text/plain": [
       "array([[1., 1., 1., 0., 0., 0.],\n",
       "       [1., 1., 1., 0., 0., 0.]])"
      ]
     },
     "execution_count": 45,
     "metadata": {},
     "output_type": "execute_result"
    }
   ],
   "source": [
    "# 옆으로 붙이기\n",
    "np.hstack([a1, a2])"
   ]
  },
  {
   "cell_type": "code",
   "execution_count": 46,
   "id": "fc45542d-9e5f-405c-bf2f-5222d65bf74f",
   "metadata": {},
   "outputs": [
    {
     "data": {
      "text/plain": [
       "array([[1., 1., 1.],\n",
       "       [1., 1., 1.],\n",
       "       [0., 0., 0.],\n",
       "       [0., 0., 0.]])"
      ]
     },
     "execution_count": 46,
     "metadata": {},
     "output_type": "execute_result"
    }
   ],
   "source": [
    "# 위아래로 붙이기\n",
    "np.vstack([a1, a2])"
   ]
  },
  {
   "cell_type": "markdown",
   "id": "488b4fdc-f745-47dc-a95f-2c26ce0fa395",
   "metadata": {},
   "source": [
    "## 배열의 연산"
   ]
  },
  {
   "cell_type": "markdown",
   "id": "c0af4092-36e9-4804-88d7-4d777b252f6e",
   "metadata": {},
   "source": [
    "### 1차원 배열의 연산"
   ]
  },
  {
   "cell_type": "code",
   "execution_count": 47,
   "id": "658217f6-8395-4eb4-a4a3-f4bd6f69f885",
   "metadata": {},
   "outputs": [
    {
     "data": {
      "text/plain": [
       "array([0, 1, 2, 3, 4, 5, 6, 7, 8, 9])"
      ]
     },
     "execution_count": 47,
     "metadata": {},
     "output_type": "execute_result"
    }
   ],
   "source": [
    "x = np.arange(10)\n",
    "x"
   ]
  },
  {
   "cell_type": "code",
   "execution_count": 48,
   "id": "f3f07435-9819-4458-b1f0-b1d24008ebe6",
   "metadata": {},
   "outputs": [
    {
     "data": {
      "text/plain": [
       "array([10, 11, 12, 13, 14, 15, 16, 17, 18, 19])"
      ]
     },
     "execution_count": 48,
     "metadata": {},
     "output_type": "execute_result"
    }
   ],
   "source": [
    "x + 10"
   ]
  },
  {
   "cell_type": "code",
   "execution_count": 49,
   "id": "1200a4d8-9806-4d2d-bb88-049049803bad",
   "metadata": {},
   "outputs": [
    {
     "data": {
      "text/plain": [
       "array([  0, 100, 200, 300, 400, 500, 600, 700, 800, 900])"
      ]
     },
     "execution_count": 49,
     "metadata": {},
     "output_type": "execute_result"
    }
   ],
   "source": [
    "x * 100"
   ]
  },
  {
   "cell_type": "code",
   "execution_count": 50,
   "id": "bfc158bd-8fcf-4f22-9272-fbee4f905e71",
   "metadata": {},
   "outputs": [
    {
     "data": {
      "text/plain": [
       "array([ 0,  2,  4,  6,  8, 10, 12, 14, 16, 18])"
      ]
     },
     "execution_count": 50,
     "metadata": {},
     "output_type": "execute_result"
    }
   ],
   "source": [
    "# 같은 자리에 있는 원소끼리 합\n",
    "x + x"
   ]
  },
  {
   "cell_type": "code",
   "execution_count": 51,
   "id": "9a1aa836-c493-4cf8-b32c-35b5dc040d4d",
   "metadata": {},
   "outputs": [
    {
     "data": {
      "text/plain": [
       "array([ 0,  1,  4,  9, 16, 25, 36, 49, 64, 81])"
      ]
     },
     "execution_count": 51,
     "metadata": {},
     "output_type": "execute_result"
    }
   ],
   "source": [
    "# 같은 자리에 있는 원소끼리 곱\n",
    "x * x"
   ]
  },
  {
   "cell_type": "code",
   "execution_count": 52,
   "id": "c01d1471-0d4a-4256-bd1b-5e339569c62f",
   "metadata": {},
   "outputs": [
    {
     "data": {
      "text/plain": [
       "45"
      ]
     },
     "execution_count": 52,
     "metadata": {},
     "output_type": "execute_result"
    }
   ],
   "source": [
    "# 배열의 모든 원소의 합\n",
    "np.sum(x)"
   ]
  },
  {
   "cell_type": "markdown",
   "id": "286928d4-940b-4b48-b529-6eb30e5721cc",
   "metadata": {},
   "source": [
    "### 2차원 배열의 연산"
   ]
  },
  {
   "cell_type": "code",
   "execution_count": 53,
   "id": "e9275370-537d-446c-aa44-59ca2c8acfeb",
   "metadata": {},
   "outputs": [
    {
     "data": {
      "text/plain": [
       "array([[0, 1, 2, 3],\n",
       "       [4, 5, 6, 7]])"
      ]
     },
     "execution_count": 53,
     "metadata": {},
     "output_type": "execute_result"
    }
   ],
   "source": [
    "X = np.arange(8).reshape(2, 4)\n",
    "X"
   ]
  },
  {
   "cell_type": "code",
   "execution_count": 54,
   "id": "89dbe88d-9cc7-45b6-a138-dc5264773228",
   "metadata": {},
   "outputs": [
    {
     "data": {
      "text/plain": [
       "array([[10, 11, 12, 13],\n",
       "       [14, 15, 16, 17]])"
      ]
     },
     "execution_count": 54,
     "metadata": {},
     "output_type": "execute_result"
    }
   ],
   "source": [
    "X + 10"
   ]
  },
  {
   "cell_type": "code",
   "execution_count": 55,
   "id": "25e62cc7-4778-479e-bd2a-f5c063c6baf4",
   "metadata": {},
   "outputs": [
    {
     "data": {
      "text/plain": [
       "array([[  0, 100, 200, 300],\n",
       "       [400, 500, 600, 700]])"
      ]
     },
     "execution_count": 55,
     "metadata": {},
     "output_type": "execute_result"
    }
   ],
   "source": [
    "X * 100"
   ]
  },
  {
   "cell_type": "code",
   "execution_count": 56,
   "id": "e03ce102-231f-4de2-9426-5015d2f2c546",
   "metadata": {},
   "outputs": [
    {
     "data": {
      "text/plain": [
       "array([[ 0,  2,  4,  6],\n",
       "       [ 8, 10, 12, 14]])"
      ]
     },
     "execution_count": 56,
     "metadata": {},
     "output_type": "execute_result"
    }
   ],
   "source": [
    "# 같은 자리에 있는 원소끼리 합\n",
    "X + X"
   ]
  },
  {
   "cell_type": "code",
   "execution_count": 57,
   "id": "6c86c62a-661e-4423-932d-c2f6a4d250a2",
   "metadata": {},
   "outputs": [
    {
     "data": {
      "text/plain": [
       "array([[ 0,  1,  4,  9],\n",
       "       [16, 25, 36, 49]])"
      ]
     },
     "execution_count": 57,
     "metadata": {},
     "output_type": "execute_result"
    }
   ],
   "source": [
    "# 같은 자리에 있는 원소끼리 합\n",
    "X * X"
   ]
  },
  {
   "cell_type": "code",
   "execution_count": 58,
   "id": "8cdb667c-9ba0-4e9f-92a7-f1db26946a96",
   "metadata": {},
   "outputs": [
    {
     "data": {
      "text/plain": [
       "array([[ 14,  38],\n",
       "       [ 38, 126]])"
      ]
     },
     "execution_count": 58,
     "metadata": {},
     "output_type": "execute_result"
    }
   ],
   "source": [
    "# 행렬 곱\n",
    "np.dot(X, X.T)"
   ]
  },
  {
   "cell_type": "code",
   "execution_count": 59,
   "id": "b93fd9e6-6e48-41d1-8929-200fc6869274",
   "metadata": {},
   "outputs": [
    {
     "data": {
      "text/plain": [
       "array([[ 14,  38],\n",
       "       [ 38, 126]])"
      ]
     },
     "execution_count": 59,
     "metadata": {},
     "output_type": "execute_result"
    }
   ],
   "source": [
    "X.dot(X.T)"
   ]
  },
  {
   "cell_type": "markdown",
   "id": "b3f66b70-607c-4c44-b600-2d4e1aadecf9",
   "metadata": {},
   "source": [
    "## 기술통계량"
   ]
  },
  {
   "cell_type": "code",
   "execution_count": 60,
   "id": "0207f326-e9a2-48a6-ab77-bd6b1ce99a2b",
   "metadata": {},
   "outputs": [
    {
     "data": {
      "text/plain": [
       "array([ 0.75479886, -1.15577643,  1.32466714, -0.40305415,  0.72206954,\n",
       "       -1.38289636, -2.30056948, -1.0508947 , -0.41621531,  1.41308862,\n",
       "        1.82509073,  0.2506745 ,  1.76990697,  1.39871511, -1.25294635,\n",
       "       -0.87199386, -0.84498052,  0.13659647, -0.38249763, -1.73912173,\n",
       "        0.11658704,  0.04731954, -1.30371851,  0.55651014,  0.42481584,\n",
       "       -0.26813095, -1.51337899,  1.04262009,  0.55482933, -2.81840422])"
      ]
     },
     "execution_count": 60,
     "metadata": {},
     "output_type": "execute_result"
    }
   ],
   "source": [
    "# 표준정규분포 (N(0, 1))에서 난수 30개 생성\n",
    "x = np.random.randn(30)\n",
    "x"
   ]
  },
  {
   "cell_type": "code",
   "execution_count": 61,
   "id": "a1900513-a759-49cb-900c-23814797b760",
   "metadata": {},
   "outputs": [
    {
     "data": {
      "text/plain": [
       "-0.17887630872379148"
      ]
     },
     "execution_count": 61,
     "metadata": {},
     "output_type": "execute_result"
    }
   ],
   "source": [
    "# 표본 평균\n",
    "np.mean(x)"
   ]
  },
  {
   "cell_type": "code",
   "execution_count": 62,
   "id": "d9044ba7-af2f-4b00-9c65-b84da8b2ed9b",
   "metadata": {},
   "outputs": [
    {
     "data": {
      "text/plain": [
       "1.4162127153391049"
      ]
     },
     "execution_count": 62,
     "metadata": {},
     "output_type": "execute_result"
    }
   ],
   "source": [
    "# 표본 분산\n",
    "np.var(x)"
   ]
  },
  {
   "cell_type": "code",
   "execution_count": 63,
   "id": "c128f334-4539-4b28-b827-812b38a60027",
   "metadata": {},
   "outputs": [
    {
     "data": {
      "text/plain": [
       "1.1900473584438163"
      ]
     },
     "execution_count": 63,
     "metadata": {},
     "output_type": "execute_result"
    }
   ],
   "source": [
    "# 표본 표준편차\n",
    "np.std(x)"
   ]
  },
  {
   "cell_type": "code",
   "execution_count": 64,
   "id": "77b4b5ca-f66f-4895-8c12-f7e663da73db",
   "metadata": {},
   "outputs": [
    {
     "data": {
      "text/plain": [
       "(-2.818404217639769, 1.8250907318760112)"
      ]
     },
     "execution_count": 64,
     "metadata": {},
     "output_type": "execute_result"
    }
   ],
   "source": [
    "# 최솟값과 최댓값\n",
    "np.min(x), np.max(x)"
   ]
  },
  {
   "cell_type": "code",
   "execution_count": 65,
   "id": "52fe9848-5b0e-48d6-b784-96df08253328",
   "metadata": {},
   "outputs": [
    {
     "data": {
      "text/plain": [
       "-0.11040570407923903"
      ]
     },
     "execution_count": 65,
     "metadata": {},
     "output_type": "execute_result"
    }
   ],
   "source": [
    "# 중앙값\n",
    "np.median(x)"
   ]
  },
  {
   "cell_type": "code",
   "execution_count": 66,
   "id": "2c5e941d-af36-442c-8f55-eb2a1df3a44e",
   "metadata": {},
   "outputs": [
    {
     "data": {
      "text/plain": [
       "(-2.818404217639769,\n",
       " -1.1295559970839213,\n",
       " -0.11040570407923904,\n",
       " 0.6806796890117849,\n",
       " 1.8250907318760112)"
      ]
     },
     "execution_count": 66,
     "metadata": {},
     "output_type": "execute_result"
    }
   ],
   "source": [
    "# 사분위수 (최소값, 제1사분위수, 제2사분위수(중앙값), 제3사분위수, 최댓값)\n",
    "np.percentile(x, 0), np.percentile(x, 25), np.percentile(x, 50), np.percentile(x, 75), np.percentile(x, 100)"
   ]
  },
  {
   "cell_type": "markdown",
   "id": "65ed8dd9-d994-4e8b-961a-46cf2881178f",
   "metadata": {},
   "source": [
    "## Reference\n",
    "- [NumPy 공식 튜토리얼](https://numpy.org/doc/stable/user/index.html)\n",
    "- [데이터 사이언스 스쿨](https://datascienceschool.net/01%20python/03.00%203%EC%9E%A5%20%EB%84%98%ED%8C%8C%EC%9D%B4%20%EB%B0%B0%EC%97%B4%20%ED%94%84%EB%A1%9C%EA%B7%B8%EB%9E%98%EB%B0%8D.html)\n",
    "- [AI Korea CS231n 번역본](https://aikorea.org/cs231n/python-numpy-tutorial/)"
   ]
  }
 ],
 "metadata": {
  "kernelspec": {
   "display_name": "Python 3",
   "language": "python",
   "name": "python3"
  },
  "language_info": {
   "codemirror_mode": {
    "name": "ipython",
    "version": 3
   },
   "file_extension": ".py",
   "mimetype": "text/x-python",
   "name": "python",
   "nbconvert_exporter": "python",
   "pygments_lexer": "ipython3",
   "version": "3.8.8"
  }
 },
 "nbformat": 4,
 "nbformat_minor": 5
}
