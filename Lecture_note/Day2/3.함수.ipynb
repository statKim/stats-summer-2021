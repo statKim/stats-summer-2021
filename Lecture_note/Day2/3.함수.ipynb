{
 "cells": [
  {
   "cell_type": "markdown",
   "id": "03b5561b-c6f8-4789-a195-132491f40059",
   "metadata": {},
   "source": [
    "# 함수\n",
    "1. 기본함수\n",
    "2. 사용자정의 함수"
   ]
  },
  {
   "cell_type": "code",
   "execution_count": null,
   "id": "32cc71d7-b9d8-4ea9-8e09-b5c3dfed967a",
   "metadata": {},
   "outputs": [],
   "source": []
  }
 ],
 "metadata": {
  "kernelspec": {
   "display_name": "Python 3",
   "language": "python",
   "name": "python3"
  },
  "language_info": {
   "codemirror_mode": {
    "name": "ipython",
    "version": 3
   },
   "file_extension": ".py",
   "mimetype": "text/x-python",
   "name": "python",
   "nbconvert_exporter": "python",
   "pygments_lexer": "ipython3",
   "version": "3.8.8"
  }
 },
 "nbformat": 4,
 "nbformat_minor": 5
}
