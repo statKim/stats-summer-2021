{
 "cells": [
  {
   "cell_type": "markdown",
   "id": "03b5561b-c6f8-4789-a195-132491f40059",
   "metadata": {},
   "source": [
    "# 함수와 모듈\n",
    "1. 함수\n",
    "2. 모듈"
   ]
  },
  {
   "cell_type": "markdown",
   "id": "d3be25dd-c309-4fff-841f-83790c77f539",
   "metadata": {},
   "source": [
    "# 1. 함수"
   ]
  },
  {
   "cell_type": "markdown",
   "id": "c75d8edf-aea7-48b4-8c35-c4d9e7335d24",
   "metadata": {},
   "source": [
    "## 함수(function)란?\n",
    "\n",
    "- 어떠한 입력값을 받아, 함수를 통해 어떤 과정을 거쳐 출력값을 반환하는 과정\n",
    "- 다음의 그림과 같이 *과일(입력)*을 받아서 *믹서(함수)*를 거쳐 *주스(출력)*을 얻는 기능\n",
    "\n",
    "![](https://wikidocs.net/images/page/24/mixer.png)\n",
    "\n",
    "[출처: 점프 투 파이썬]"
   ]
  },
  {
   "cell_type": "markdown",
   "id": "73287d87-222f-41cc-89e2-b58016b7cb63",
   "metadata": {},
   "source": [
    "## 함수의 예\n",
    "- 우리는 이미 앞에서 많은 함수를 써왔음\n",
    "- 예를 들어, 리스트에서 `sum()`, `append()`, `len()` 등이 모두 함수임. (파이썬 기본 내장 함수)"
   ]
  },
  {
   "cell_type": "markdown",
   "id": "f2f977da-c093-4300-abdb-18cf6356b001",
   "metadata": {},
   "source": [
    "## 함수가 왜 필요할까?\n",
    "- 프로그래밍을 하다보면 어느순간 계속 똑같은 과정을 반복하게 되는 경우가 발생\n",
    "- 이를 함수로 정의하면 코드가 훨씬 간결해지며, 코드의 가독성이 매우 높아짐"
   ]
  },
  {
   "cell_type": "markdown",
   "id": "39a3eb29-49ab-487d-9ef3-05f6f11f6023",
   "metadata": {},
   "source": [
    "## 함수 정의 방법 (사용자정의 함수)\n",
    "- 함수를 정의할 때에는 함수명 뒤에 반드시 `()`가 붙어야함\n",
    "- `()`안에는 입력받을 *인자*를 넣는데, 필수는 아님 (인자가 없는 함수도 존재)\n",
    "- 여기서 *인자*를 *argument* 또는 *parameter*라고도 함\n",
    "- 반환값이 있을 경우, 함수의 마지막에 `return`을 작성 (반환값이 없는 함수도 존재)\n",
    "- 작성방법\n",
    "```python\n",
    "def 함수명(인자):\n",
    "    실행할 문장\n",
    "    return 반환할 변수\n",
    "```"
   ]
  },
  {
   "cell_type": "code",
   "execution_count": 1,
   "id": "13f4cd1c-cc28-4a1f-b966-1ede7aaadd6d",
   "metadata": {},
   "outputs": [],
   "source": [
    "def my_function():\n",
    "    print(\"내가 만든 함수\")"
   ]
  },
  {
   "cell_type": "code",
   "execution_count": 2,
   "id": "3bf4eed6-0e2a-42d3-a1bc-2200c084a743",
   "metadata": {},
   "outputs": [
    {
     "name": "stdout",
     "output_type": "stream",
     "text": [
      "내가 만든 함수\n"
     ]
    }
   ],
   "source": [
    "my_function()"
   ]
  },
  {
   "cell_type": "code",
   "execution_count": 3,
   "id": "fa2ff095-3287-41fa-a510-32b20961a726",
   "metadata": {},
   "outputs": [],
   "source": [
    "# a와 b를 입력받아 두 값을 합하는 함수\n",
    "def add(a, b):\n",
    "    return a + b"
   ]
  },
  {
   "cell_type": "code",
   "execution_count": 4,
   "id": "d8ccec55-dfd0-409a-b862-68a56f53ce8d",
   "metadata": {},
   "outputs": [
    {
     "data": {
      "text/plain": [
       "8"
      ]
     },
     "execution_count": 4,
     "metadata": {},
     "output_type": "execute_result"
    }
   ],
   "source": [
    "add(3, 5)"
   ]
  },
  {
   "cell_type": "code",
   "execution_count": 5,
   "id": "b62a6f7a-cab1-4274-8b85-c05d9dcd20ad",
   "metadata": {},
   "outputs": [],
   "source": [
    "# 리스트를 입력받아 평규을 계산하는 함수\n",
    "def avg(a):\n",
    "    mu = sum(a) / len(a)\n",
    "    return mu"
   ]
  },
  {
   "cell_type": "code",
   "execution_count": 6,
   "id": "4bfde887-836a-48b3-9362-3ac7a2390b64",
   "metadata": {},
   "outputs": [
    {
     "data": {
      "text/plain": [
       "4.8"
      ]
     },
     "execution_count": 6,
     "metadata": {},
     "output_type": "execute_result"
    }
   ],
   "source": [
    "avg([1, 5, 8, 3, 7])"
   ]
  },
  {
   "cell_type": "markdown",
   "id": "9790e102-c6a4-4dfd-a182-ab01288a224c",
   "metadata": {},
   "source": [
    "## 유용한 파이썬 기본함수"
   ]
  },
  {
   "cell_type": "markdown",
   "id": "e9001561-30e0-4524-877b-9638b292c47b",
   "metadata": {},
   "source": [
    "### 1. for 문에서 유용한 함수\n",
    "- `enumerate` : 리스트의 값을 가져오면서 해당 값의 인덱스도 같이 가져옴\n",
    "- `zip` : 두 리스트의 같은 자리의 원소를 쌍으로 묶어서 가져옴"
   ]
  },
  {
   "cell_type": "code",
   "execution_count": 7,
   "id": "e2a3c5e8-3ef5-4b7f-ba94-a39d5134e387",
   "metadata": {},
   "outputs": [
    {
     "name": "stdout",
     "output_type": "stream",
     "text": [
      "0 body\n",
      "1 foo\n",
      "2 bar\n"
     ]
    }
   ],
   "source": [
    "for i, name in enumerate(['body', 'foo', 'bar']):\n",
    "    print(i, name)"
   ]
  },
  {
   "cell_type": "code",
   "execution_count": 8,
   "id": "de4e1ccb-a606-4494-8614-438ed0211215",
   "metadata": {},
   "outputs": [
    {
     "name": "stdout",
     "output_type": "stream",
     "text": [
      "(0, 'body')\n",
      "(1, 'foo')\n",
      "(2, 'bar')\n"
     ]
    }
   ],
   "source": [
    "for i in zip([0, 1, 2], \n",
    "             ['body', 'foo', 'bar']):\n",
    "    print(i)"
   ]
  },
  {
   "cell_type": "markdown",
   "id": "410f023c-5bf4-49e9-a066-5897c241d632",
   "metadata": {},
   "source": [
    "### 2. 자료형 변환\n",
    "- `int` : 정수(int) 형태로 변환\n",
    "- `str` : 문자열(str) 형태로 변환"
   ]
  },
  {
   "cell_type": "code",
   "execution_count": 9,
   "id": "04323998-2924-4d4f-9bf0-d3b3c12f2d1b",
   "metadata": {},
   "outputs": [
    {
     "data": {
      "text/plain": [
       "str"
      ]
     },
     "execution_count": 9,
     "metadata": {},
     "output_type": "execute_result"
    }
   ],
   "source": [
    "x = \"123\"\n",
    "type(x)"
   ]
  },
  {
   "cell_type": "code",
   "execution_count": 10,
   "id": "ebaa7826-ca7d-492b-867f-28360e705407",
   "metadata": {},
   "outputs": [
    {
     "data": {
      "text/plain": [
       "int"
      ]
     },
     "execution_count": 10,
     "metadata": {},
     "output_type": "execute_result"
    }
   ],
   "source": [
    "type(int(x))"
   ]
  },
  {
   "cell_type": "code",
   "execution_count": 11,
   "id": "fefd64af-28e8-44dd-b9c1-405539e2f7a2",
   "metadata": {},
   "outputs": [
    {
     "data": {
      "text/plain": [
       "int"
      ]
     },
     "execution_count": 11,
     "metadata": {},
     "output_type": "execute_result"
    }
   ],
   "source": [
    "y = 123\n",
    "type(y)"
   ]
  },
  {
   "cell_type": "code",
   "execution_count": 12,
   "id": "8bd35e41-0c02-4ec6-a54e-6877866ea3e8",
   "metadata": {},
   "outputs": [
    {
     "data": {
      "text/plain": [
       "str"
      ]
     },
     "execution_count": 12,
     "metadata": {},
     "output_type": "execute_result"
    }
   ],
   "source": [
    "type(str(123))"
   ]
  },
  {
   "cell_type": "markdown",
   "id": "c9a9c38f-116f-482d-89c5-30e2e0a37619",
   "metadata": {},
   "source": [
    "### 이외의 기본함수들은 https://wikidocs.net/32를 참고"
   ]
  },
  {
   "cell_type": "markdown",
   "id": "e3af3684-4f3e-4f1b-92ad-1dd71ad01553",
   "metadata": {},
   "source": [
    "# 2. 모듈과 라이브러리"
   ]
  },
  {
   "cell_type": "markdown",
   "id": "31be93c9-fdb0-4506-8271-64e647f41a21",
   "metadata": {},
   "source": [
    "## 모듈(Module)이란?\n",
    "- 여러 함수들을 모아 놓은 것을 모듈이라 함\n",
    "- 모듈의 함수에 접근할 때에는 `.`으로 접근이 가능\n",
    "    - 예) `math.sin()`"
   ]
  },
  {
   "cell_type": "markdown",
   "id": "4584bfa3-c055-45b0-b199-aca53e085710",
   "metadata": {},
   "source": [
    "## 라이브러리(Library)란?\n",
    "- 모듈을 포괄하는 더 큰 개념\n",
    "- 여러 모듈을 모아놓은 것\n",
    "- 예) `numpy`, `pandas`, `matplotlib` 등"
   ]
  },
  {
   "cell_type": "markdown",
   "id": "c6838c10-dd39-4911-a64c-9fd6a1c0dddd",
   "metadata": {},
   "source": [
    "### 일반적으로 모듈과 라이브러리를 사용하는 방법이 동일하기 때문에 굳이 구분하여 생각할 필요는 없음!\n",
    "#### 이후부터 모듈과 라이브러리 용어를 혼용하여 사용할 예정"
   ]
  },
  {
   "cell_type": "markdown",
   "id": "3fb4edc9-ec82-4bd5-94ec-658f5426ef7f",
   "metadata": {},
   "source": [
    "## 모듈을 사용하는 3가지 방법\n",
    "### 1. 모듈 불러오기\n",
    "```python\n",
    "import 모듈명\n",
    "모듈명.함수()\n",
    "```"
   ]
  },
  {
   "cell_type": "code",
   "execution_count": 13,
   "id": "ac4075c3-e479-421e-97bc-943eaaf9b5d1",
   "metadata": {},
   "outputs": [
    {
     "data": {
      "text/plain": [
       "1.0"
      ]
     },
     "execution_count": 13,
     "metadata": {},
     "output_type": "execute_result"
    }
   ],
   "source": [
    "import math\n",
    "math.cos(0)"
   ]
  },
  {
   "cell_type": "markdown",
   "id": "17b3af42-36cb-41fa-9602-e43f3749a7df",
   "metadata": {},
   "source": [
    "### 2. 모듈명에 별칭 부여하기\n",
    "```python\n",
    "import 모듈명 as 별칭\n",
    "별칭.함수()\n",
    "```"
   ]
  },
  {
   "cell_type": "code",
   "execution_count": 14,
   "id": "6bb86156-a44b-4e69-abef-220ee0366b2b",
   "metadata": {},
   "outputs": [
    {
     "data": {
      "text/plain": [
       "1.0"
      ]
     },
     "execution_count": 14,
     "metadata": {},
     "output_type": "execute_result"
    }
   ],
   "source": [
    "import math as ma\n",
    "ma.cos(0)"
   ]
  },
  {
   "cell_type": "markdown",
   "id": "4f084a8a-7d6e-406d-96a5-c4ed1f272eb0",
   "metadata": {},
   "source": [
    "#### 주의 : 별칭은 사용자 마음대로 부여할 수 있지만, 특정 모듈에 대해서는 약속된 별칭이 정해져 있음\n",
    "- 약속된 별칭의 예\n",
    "```python\n",
    "import numpy as np\n",
    "import scipy as sp\n",
    "import pandas as pd\n",
    "import matplotlib.pyplot as plt\n",
    "import statsmodels.api as sm\n",
    "import tensorflow as tf\n",
    "```"
   ]
  },
  {
   "cell_type": "markdown",
   "id": "263d569f-0546-4514-b4ea-21c46cdc5c1d",
   "metadata": {},
   "source": [
    "### 3. 모듈명 없이 함수명만 사용하기\n",
    "```python\n",
    "from 모듈명 import 함수1, 함수2\n",
    "함수1()\n",
    "함수2()\n",
    "```\n",
    "```python\n",
    "from 모듈명 import *\n",
    "```\n",
    "\n",
    "#### `*`는 모듈에 있는 모든 함수를 함수명으로만 사용하겠다는 의미"
   ]
  },
  {
   "cell_type": "code",
   "execution_count": 15,
   "id": "c0eb49a4-e547-4d1f-baa6-d63751d747f4",
   "metadata": {},
   "outputs": [
    {
     "data": {
      "text/plain": [
       "1.0"
      ]
     },
     "execution_count": 15,
     "metadata": {},
     "output_type": "execute_result"
    }
   ],
   "source": [
    "from math import cos\n",
    "cos(0)"
   ]
  },
  {
   "cell_type": "code",
   "execution_count": 16,
   "id": "b657241d-e279-463c-950c-898703c822c8",
   "metadata": {},
   "outputs": [
    {
     "data": {
      "text/plain": [
       "(1.0, 0.0)"
      ]
     },
     "execution_count": 16,
     "metadata": {},
     "output_type": "execute_result"
    }
   ],
   "source": [
    "from math import *\n",
    "cos(0), sin(0)"
   ]
  },
  {
   "cell_type": "markdown",
   "id": "4e42769b-8989-4db9-a8b9-189bc2728cda",
   "metadata": {},
   "source": [
    "## 모듈 설치 방법 (파이썬 내장 모듈이 아닌 외부 라이브러리를 설치하는 방법)\n",
    "\n",
    "1. Anaconda Prompt에서 명령어를 사용하여 설치 (권장)\n",
    "\n",
    "2. Anaconda Navigator에서 클릭하여 설치"
   ]
  },
  {
   "cell_type": "markdown",
   "id": "777df741-e73f-43bf-b916-9791fdbaf970",
   "metadata": {},
   "source": [
    "### 1. Anaconda Prompt에서 명령어 입력하여 설치하기\n",
    "- 해당 라이브러리와 더불어 함께 필요한 모듈까지 같이 설치되는 장점이 있음\n",
    "\n",
    "1. Anaconda Prompt 실행 후, 다음의 명령어 입력하여 설치\n",
    "    - `conda install 모듈명` (or `pip install 모듈명`)\n",
    "\n",
    "    - 예시)    `conda install numpy`\n",
    "\n",
    "2. 명령어 입력 후, 설치할 것인지 확인하는 문구가 나오는데 `y`를 입력하고 엔터를 누르면 모듈이 설치됨"
   ]
  },
  {
   "cell_type": "markdown",
   "id": "7f6ffa23-ade8-427d-b413-6e7507725cb1",
   "metadata": {},
   "source": [
    "### 2. Anaconda Navigator에서 설치하기\n",
    "1. Anaconda Navigator에서 `Environment` => `base(root)`를 클릭하면 현재 설치된 모듈이 나타남 (아마 여러분은 `base(root)`만 있을 거에요!!)\n",
    "\n",
    "![](figure/module_install_1.png)\n",
    "\n",
    "2. `Installed`를 `Not installed`를 바꾸면 설치되지 않은 모듈 목록이 나타나게 되는데, 설치할 모듈을 검색, 체크, Apply를 클릭하면 모듈이 설치됨\n",
    "\n",
    "![](figure/module_install_2.png)"
   ]
  },
  {
   "cell_type": "markdown",
   "id": "05a182e3-47c1-4c5b-a4d9-8e972d246710",
   "metadata": {},
   "source": [
    "## 알아두면 유용한 라이브러리"
   ]
  },
  {
   "cell_type": "markdown",
   "id": "3ca5ca0d-085b-4032-b6b0-0a7760f22d04",
   "metadata": {},
   "source": [
    "### 1. random\n",
    "- `random.random()` : 0과 1 사이의 실수에서 난수 1개 생성\n",
    "- `random.randrange(시작, 끝, 간격)` : 시작과 끝 사이의 정수에서 난수 1개 생성"
   ]
  },
  {
   "cell_type": "code",
   "execution_count": 17,
   "id": "95225aed-aa4f-4207-93ed-af52ba17f170",
   "metadata": {},
   "outputs": [
    {
     "data": {
      "text/plain": [
       "0.8989072785185386"
      ]
     },
     "execution_count": 17,
     "metadata": {},
     "output_type": "execute_result"
    }
   ],
   "source": [
    "import random\n",
    "\n",
    "random.random()"
   ]
  },
  {
   "cell_type": "code",
   "execution_count": 37,
   "id": "23219c7e-5136-4d47-813d-d5cb2807cac1",
   "metadata": {},
   "outputs": [
    {
     "data": {
      "text/plain": [
       "59"
      ]
     },
     "execution_count": 37,
     "metadata": {},
     "output_type": "execute_result"
    }
   ],
   "source": [
    "random.randrange(1, 100, 1)"
   ]
  },
  {
   "cell_type": "markdown",
   "id": "d183a603-39d5-4a38-ab8f-8e396a423ee5",
   "metadata": {},
   "source": [
    "### 2. os\n",
    "- `os.getcwd()` : 현재 디렉토리 반환\n",
    "- `os.chdir(변경할경로)` : 디렉토리 위치 변경"
   ]
  },
  {
   "cell_type": "code",
   "execution_count": 19,
   "id": "2168fb7c-8552-45bb-8889-38a9406ff434",
   "metadata": {},
   "outputs": [
    {
     "data": {
      "text/plain": [
       "'/Users/hyunsung/Desktop/stats-summer-2021/Lecture_note/Day2'"
      ]
     },
     "execution_count": 19,
     "metadata": {},
     "output_type": "execute_result"
    }
   ],
   "source": [
    "import os\n",
    "\n",
    "# 현재 디렉토리 위치\n",
    "os.getcwd()"
   ]
  },
  {
   "cell_type": "code",
   "execution_count": 20,
   "id": "38f8430e-b619-4c56-8c60-fccb733a1b87",
   "metadata": {},
   "outputs": [],
   "source": [
    "# 디렉토리 위치 변경 (상위 경로로 변경)\n",
    "os.chdir(\"../\")"
   ]
  },
  {
   "cell_type": "code",
   "execution_count": 21,
   "id": "97704ec1-d5fe-4c11-8a42-41e55e0198d2",
   "metadata": {},
   "outputs": [
    {
     "data": {
      "text/plain": [
       "'/Users/hyunsung/Desktop/stats-summer-2021/Lecture_note'"
      ]
     },
     "execution_count": 21,
     "metadata": {},
     "output_type": "execute_result"
    }
   ],
   "source": [
    "os.getcwd()"
   ]
  }
 ],
 "metadata": {
  "kernelspec": {
   "display_name": "Python 3",
   "language": "python",
   "name": "python3"
  },
  "language_info": {
   "codemirror_mode": {
    "name": "ipython",
    "version": 3
   },
   "file_extension": ".py",
   "mimetype": "text/x-python",
   "name": "python",
   "nbconvert_exporter": "python",
   "pygments_lexer": "ipython3",
   "version": "3.8.8"
  }
 },
 "nbformat": 4,
 "nbformat_minor": 5
}
