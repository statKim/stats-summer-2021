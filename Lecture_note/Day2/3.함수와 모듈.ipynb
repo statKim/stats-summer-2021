{
 "cells": [
  {
   "cell_type": "markdown",
   "id": "03b5561b-c6f8-4789-a195-132491f40059",
   "metadata": {},
   "source": [
    "# 함수와 모듈\n",
    "1. 함수\n",
    "2. 모듈"
   ]
  },
  {
   "cell_type": "markdown",
   "id": "d3be25dd-c309-4fff-841f-83790c77f539",
   "metadata": {},
   "source": [
    "# 1. 함수"
   ]
  },
  {
   "cell_type": "markdown",
   "id": "c75d8edf-aea7-48b4-8c35-c4d9e7335d24",
   "metadata": {},
   "source": [
    "## 함수(function)란?\n",
    "\n",
    "- 어떠한 입력이 있었을 때, 함수를 통해 어떤 과정을 거쳐 출력을 반환하게됨\n",
    "- 다음의 그림과 같이 *과일(입력)*을 받아서 *믹서(함수)*를 거쳐 *주스(출력)*을 얻는 기능\n",
    "\n",
    "![](https://wikidocs.net/images/page/24/mixer.png)\n",
    "\n",
    "[출처: 점프 투 파이썬]"
   ]
  },
  {
   "cell_type": "markdown",
   "id": "73287d87-222f-41cc-89e2-b58016b7cb63",
   "metadata": {},
   "source": [
    "## 함수의 예\n",
    "- 우리는 이미 앞에서 많은 함수를 써왔음\n",
    "- 예를 들어, 리스트에서 `sum()`, `append()`, `len()` 등이 모두 함수임. (파이썬 기본 내장 함수)"
   ]
  },
  {
   "cell_type": "markdown",
   "id": "f2f977da-c093-4300-abdb-18cf6356b001",
   "metadata": {},
   "source": [
    "## 함수가 왜 필요할까?\n",
    "- 프로그래밍을 하다보면 어느순간 계속 똑같은 과정을 반복하게 되는 경우가 발생\n",
    "- 이를 함수로 정의하면 코드가 훨씬 간결해지며, 코드의 가독성이 매우 높아짐"
   ]
  },
  {
   "cell_type": "markdown",
   "id": "39a3eb29-49ab-487d-9ef3-05f6f11f6023",
   "metadata": {},
   "source": [
    "## 함수 정의 방법 (사용자정의 함수)\n",
    "- 여기서 *인자*를 *argument* 또는 *parameter*라고도 함\n",
    "```python\n",
    "def 함수명(인자):\n",
    "    실행할 문장\n",
    "    \n",
    "    return 반환할 변수\n",
    "```"
   ]
  },
  {
   "cell_type": "code",
   "execution_count": 1,
   "id": "fa2ff095-3287-41fa-a510-32b20961a726",
   "metadata": {},
   "outputs": [],
   "source": [
    "# a와 b를 입력받아 두 값을 합하는 함수\n",
    "def add(a, b):\n",
    "    return a + b"
   ]
  },
  {
   "cell_type": "code",
   "execution_count": 2,
   "id": "d8ccec55-dfd0-409a-b862-68a56f53ce8d",
   "metadata": {},
   "outputs": [
    {
     "data": {
      "text/plain": [
       "8"
      ]
     },
     "execution_count": 2,
     "metadata": {},
     "output_type": "execute_result"
    }
   ],
   "source": [
    "add(3, 5)"
   ]
  },
  {
   "cell_type": "code",
   "execution_count": 3,
   "id": "b62a6f7a-cab1-4274-8b85-c05d9dcd20ad",
   "metadata": {},
   "outputs": [],
   "source": [
    "# 리스트를 입력받아 평규을 계산하는 함수\n",
    "def avg(a):\n",
    "    mu = sum(a) / len(a)\n",
    "    return mu"
   ]
  },
  {
   "cell_type": "code",
   "execution_count": 5,
   "id": "4bfde887-836a-48b3-9362-3ac7a2390b64",
   "metadata": {},
   "outputs": [
    {
     "data": {
      "text/plain": [
       "4.8"
      ]
     },
     "execution_count": 5,
     "metadata": {},
     "output_type": "execute_result"
    }
   ],
   "source": [
    "avg([1, 5, 8, 3, 7])"
   ]
  },
  {
   "cell_type": "markdown",
   "id": "9790e102-c6a4-4dfd-a182-ab01288a224c",
   "metadata": {},
   "source": [
    "## 여러가지 내장함수"
   ]
  },
  {
   "cell_type": "code",
   "execution_count": null,
   "id": "e2a3c5e8-3ef5-4b7f-ba94-a39d5134e387",
   "metadata": {},
   "outputs": [],
   "source": []
  },
  {
   "cell_type": "code",
   "execution_count": null,
   "id": "de4e1ccb-a606-4494-8614-438ed0211215",
   "metadata": {},
   "outputs": [],
   "source": []
  },
  {
   "cell_type": "code",
   "execution_count": null,
   "id": "04323998-2924-4d4f-9bf0-d3b3c12f2d1b",
   "metadata": {},
   "outputs": [],
   "source": []
  },
  {
   "cell_type": "markdown",
   "id": "e3af3684-4f3e-4f1b-92ad-1dd71ad01553",
   "metadata": {},
   "source": [
    "# 2. 모듈과 라이브러리"
   ]
  },
  {
   "cell_type": "markdown",
   "id": "31be93c9-fdb0-4506-8271-64e647f41a21",
   "metadata": {},
   "source": [
    "## 모듈(Module)이란?\n",
    "- 여러 함수들을 모아 놓은 것을 모듈이라 함\n",
    "- 모듈의 함수에 접근할 때에는 `.`으로 접근이 가능\n",
    "    - 예) `math.sin()`"
   ]
  },
  {
   "cell_type": "markdown",
   "id": "4584bfa3-c055-45b0-b199-aca53e085710",
   "metadata": {},
   "source": [
    "## 라이브러리(Library)란?\n",
    "- 모듈을 포괄하는 더 큰 개념\n",
    "- 여러 모듈을 모아놓은 것\n",
    "- 예) `numpy`, `pandas`, `matplotlib` 등"
   ]
  },
  {
   "cell_type": "markdown",
   "id": "c6838c10-dd39-4911-a64c-9fd6a1c0dddd",
   "metadata": {},
   "source": [
    "### 일반적으로 모듈과 라이브러리를 사용하는 방법이 동일하기 때문에 굳이 구분하여 생각할 필요는 없음!\n",
    "#### 이후부터 모듈과 라이브러리 용어를 혼용하여 사용할 예정"
   ]
  },
  {
   "cell_type": "markdown",
   "id": "3fb4edc9-ec82-4bd5-94ec-658f5426ef7f",
   "metadata": {},
   "source": [
    "## 모듈을 사용하는 3가지 방법\n",
    "### 1. 모듈 불러오기\n",
    "```python\n",
    "import 모듈명\n",
    "모듈명.함수()\n",
    "```"
   ]
  },
  {
   "cell_type": "code",
   "execution_count": 9,
   "id": "ac4075c3-e479-421e-97bc-943eaaf9b5d1",
   "metadata": {},
   "outputs": [
    {
     "data": {
      "text/plain": [
       "1.0"
      ]
     },
     "execution_count": 9,
     "metadata": {},
     "output_type": "execute_result"
    }
   ],
   "source": [
    "import math\n",
    "math.cos(0)"
   ]
  },
  {
   "cell_type": "markdown",
   "id": "17b3af42-36cb-41fa-9602-e43f3749a7df",
   "metadata": {},
   "source": [
    "### 2. 모듈명에 별칭 부여하기\n",
    "```python\n",
    "import 모듈명 as 별칭\n",
    "별칭.함수()\n",
    "```"
   ]
  },
  {
   "cell_type": "code",
   "execution_count": 13,
   "id": "6bb86156-a44b-4e69-abef-220ee0366b2b",
   "metadata": {},
   "outputs": [
    {
     "data": {
      "text/plain": [
       "1.0"
      ]
     },
     "execution_count": 13,
     "metadata": {},
     "output_type": "execute_result"
    }
   ],
   "source": [
    "import math as ma\n",
    "ma.cos(0)"
   ]
  },
  {
   "cell_type": "markdown",
   "id": "4f084a8a-7d6e-406d-96a5-c4ed1f272eb0",
   "metadata": {},
   "source": [
    "#### 주의 : 별칭은 사용자 마음대로 부여할 수 있지만, 특정 모듈에 대해서는 약속된 별칭이 정해져 있음\n",
    "- 약속된 별칭의 예\n",
    "```python\n",
    "import numpy as np\n",
    "import scipy as sp\n",
    "import pandas as pd\n",
    "import matplotlib.pyplot as plt\n",
    "import statsmodels.api as sm\n",
    "import tensorflow as tf\n",
    "```"
   ]
  },
  {
   "cell_type": "markdown",
   "id": "263d569f-0546-4514-b4ea-21c46cdc5c1d",
   "metadata": {},
   "source": [
    "### 3. 모듈명 없이 함수명만 사용하기\n",
    "```python\n",
    "from 모듈명 import 함수1, 함수2\n",
    "함수1()\n",
    "함수2()\n",
    "```\n",
    "```python\n",
    "from 모듈명 import *\n",
    "```\n",
    "\n",
    "#### `*`는 모듈에 있는 모든 함수를 함수명으로만 사용하겠다는 의미"
   ]
  },
  {
   "cell_type": "code",
   "execution_count": 10,
   "id": "c0eb49a4-e547-4d1f-baa6-d63751d747f4",
   "metadata": {},
   "outputs": [
    {
     "data": {
      "text/plain": [
       "1.0"
      ]
     },
     "execution_count": 10,
     "metadata": {},
     "output_type": "execute_result"
    }
   ],
   "source": [
    "from math import cos\n",
    "cos(0)"
   ]
  },
  {
   "cell_type": "code",
   "execution_count": 12,
   "id": "b657241d-e279-463c-950c-898703c822c8",
   "metadata": {},
   "outputs": [
    {
     "data": {
      "text/plain": [
       "(1.0, 0.0)"
      ]
     },
     "execution_count": 12,
     "metadata": {},
     "output_type": "execute_result"
    }
   ],
   "source": [
    "from math import *\n",
    "cos(0), sin(0)"
   ]
  },
  {
   "cell_type": "markdown",
   "id": "4e42769b-8989-4db9-a8b9-189bc2728cda",
   "metadata": {},
   "source": [
    "## 모듈 설치 방법 (파이썬 내장 모듈이 아닌 외부 라이브러리를 설치하는 방법)\n",
    "\n",
    "1. Anaconda Prompt에서 명령어를 사용하여 설치 (권장)\n",
    "\n",
    "2. Anaconda Navigator에서 클릭하여 설치"
   ]
  },
  {
   "cell_type": "markdown",
   "id": "777df741-e73f-43bf-b916-9791fdbaf970",
   "metadata": {},
   "source": [
    "### 1. Anaconda Prompt에서 설치하기\n",
    "- 해당 라이브러리와 더불어 함께 필요한 모듈까지 같이 설치되는 장점이 있음\n",
    "\n",
    "1. Anaconda Prompt 실행 후, 다음의 명령어 입력하여 설치\n",
    "    ```bash\n",
    "    conda install 모듈명\n",
    "    ```\n",
    "    - 예시)    `conda install numpy`\n",
    "\n",
    "2. 명령어 입력 후, 설치할 것인지 확인하는 문구가 나오는데 `y`를 입력하고 엔터를 누르면 모듈이 설치됨"
   ]
  },
  {
   "cell_type": "markdown",
   "id": "7f6ffa23-ade8-427d-b413-6e7507725cb1",
   "metadata": {},
   "source": [
    "### 2. Anaconda Navigator에서 설치하기\n",
    "1. Anaconda Navigator에서 `Environment` => `base(root)`를 클릭하면 현재 설치된 모듈이 나타남 (아마 여러분은 `base(root)`만 있을 거에요!!)\n",
    "\n",
    "![](figure/module_install_1.png)\n",
    "\n",
    "2. `Installed`를 `Not installed`를 바꾸면 설치되지 않은 모듈 목록이 나타나게 되는데, 설치할 모듈을 검색, 체크, Apply를 클릭하면 모듈이 설치됨\n",
    "\n",
    "![](figure/module_install_2.png)"
   ]
  },
  {
   "cell_type": "code",
   "execution_count": null,
   "id": "eb737570-aa05-4894-a3a9-7cbc73d13c5e",
   "metadata": {},
   "outputs": [],
   "source": []
  },
  {
   "cell_type": "code",
   "execution_count": null,
   "id": "601269e6-c893-47ae-97ff-10113ae4179f",
   "metadata": {},
   "outputs": [],
   "source": []
  },
  {
   "cell_type": "code",
   "execution_count": null,
   "id": "bcb5be8a-6af6-48c9-bd77-9e2079aae5a2",
   "metadata": {},
   "outputs": [],
   "source": []
  },
  {
   "cell_type": "code",
   "execution_count": null,
   "id": "b54b66af-8bde-4992-bffe-a4943ef87881",
   "metadata": {},
   "outputs": [],
   "source": []
  },
  {
   "cell_type": "code",
   "execution_count": null,
   "id": "7a5930ac-b6ce-4015-8d82-a6bb99c2c93f",
   "metadata": {},
   "outputs": [],
   "source": []
  }
 ],
 "metadata": {
  "kernelspec": {
   "display_name": "Python 3",
   "language": "python",
   "name": "python3"
  },
  "language_info": {
   "codemirror_mode": {
    "name": "ipython",
    "version": 3
   },
   "file_extension": ".py",
   "mimetype": "text/x-python",
   "name": "python",
   "nbconvert_exporter": "python",
   "pygments_lexer": "ipython3",
   "version": "3.8.8"
  }
 },
 "nbformat": 4,
 "nbformat_minor": 5
}
