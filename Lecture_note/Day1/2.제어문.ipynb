{
 "cells": [
  {
   "cell_type": "markdown",
   "id": "45d075e0-1360-4971-b47c-2e340510fc7f",
   "metadata": {},
   "source": [
    "# 제어문\n",
    "1. **if 문**\n",
    "2. **whie 문**\n",
    "3. **for 문**"
   ]
  },
  {
   "cell_type": "code",
   "execution_count": null,
   "id": "cea8b2b0-37da-4d8b-bc2d-e707a3ff745e",
   "metadata": {},
   "outputs": [],
   "source": []
  }
 ],
 "metadata": {
  "kernelspec": {
   "display_name": "Python 3",
   "language": "python",
   "name": "python3"
  },
  "language_info": {
   "codemirror_mode": {
    "name": "ipython",
    "version": 3
   },
   "file_extension": ".py",
   "mimetype": "text/x-python",
   "name": "python",
   "nbconvert_exporter": "python",
   "pygments_lexer": "ipython3",
   "version": "3.8.8"
  }
 },
 "nbformat": 4,
 "nbformat_minor": 5
}
