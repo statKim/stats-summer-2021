{
 "cells": [
  {
   "cell_type": "markdown",
   "id": "45d075e0-1360-4971-b47c-2e340510fc7f",
   "metadata": {},
   "source": [
    "# 제어문\n",
    "1. **if 문**\n",
    "2. **whiㅣe 문**\n",
    "3. **for 문**"
   ]
  },
  {
   "cell_type": "markdown",
   "id": "991752de-acfd-4da3-9106-fad7e3a25bc8",
   "metadata": {},
   "source": [
    "## 1. if 문"
   ]
  },
  {
   "cell_type": "code",
   "execution_count": null,
   "id": "d7836f9a-e634-401b-a6e1-70c3bd090539",
   "metadata": {},
   "outputs": [],
   "source": []
  },
  {
   "cell_type": "code",
   "execution_count": null,
   "id": "428ae500-d4f4-4c61-b7de-577bd528e098",
   "metadata": {},
   "outputs": [],
   "source": []
  },
  {
   "cell_type": "code",
   "execution_count": null,
   "id": "e177593e-8978-4a99-b28b-81dd9f866aa5",
   "metadata": {},
   "outputs": [],
   "source": []
  },
  {
   "cell_type": "code",
   "execution_count": null,
   "id": "219a56d0-7103-4768-847d-c1a3fae320af",
   "metadata": {},
   "outputs": [],
   "source": []
  },
  {
   "cell_type": "code",
   "execution_count": null,
   "id": "3bc78477-8f45-4e42-a80c-54e6e188cc42",
   "metadata": {},
   "outputs": [],
   "source": []
  },
  {
   "cell_type": "code",
   "execution_count": null,
   "id": "167daa68-39ad-4068-989b-68e254e69876",
   "metadata": {},
   "outputs": [],
   "source": []
  },
  {
   "cell_type": "markdown",
   "id": "af033cb1-4bc1-4cef-a227-45261fd9bd78",
   "metadata": {},
   "source": [
    "## 2. while 문"
   ]
  },
  {
   "cell_type": "code",
   "execution_count": null,
   "id": "04c2c531-878e-48db-9c88-b149247c2071",
   "metadata": {},
   "outputs": [],
   "source": []
  },
  {
   "cell_type": "code",
   "execution_count": null,
   "id": "b07e5296-1400-4a96-beae-2bd6ca218962",
   "metadata": {},
   "outputs": [],
   "source": []
  },
  {
   "cell_type": "code",
   "execution_count": null,
   "id": "8dc3403f-5bd6-4090-8450-772512d9e007",
   "metadata": {},
   "outputs": [],
   "source": []
  },
  {
   "cell_type": "code",
   "execution_count": null,
   "id": "d15d187c-af27-47fe-9223-55fd5f54adb0",
   "metadata": {},
   "outputs": [],
   "source": []
  },
  {
   "cell_type": "code",
   "execution_count": null,
   "id": "316d401e-922f-42f7-a872-4e7e0f89721f",
   "metadata": {},
   "outputs": [],
   "source": []
  },
  {
   "cell_type": "markdown",
   "id": "854ee556-48e7-49b7-9392-939bfb793b52",
   "metadata": {},
   "source": [
    "## 3. for 문"
   ]
  },
  {
   "cell_type": "code",
   "execution_count": null,
   "id": "01f17e92-ea69-4784-b2e3-8a7915043f30",
   "metadata": {},
   "outputs": [],
   "source": []
  },
  {
   "cell_type": "code",
   "execution_count": null,
   "id": "2bb307eb-adb9-48ec-85a6-bd92f4afc639",
   "metadata": {},
   "outputs": [],
   "source": []
  },
  {
   "cell_type": "code",
   "execution_count": null,
   "id": "13f345d8-2db6-48c1-b459-69e418637969",
   "metadata": {},
   "outputs": [],
   "source": []
  }
 ],
 "metadata": {
  "kernelspec": {
   "display_name": "Python 3",
   "language": "python",
   "name": "python3"
  },
  "language_info": {
   "codemirror_mode": {
    "name": "ipython",
    "version": 3
   },
   "file_extension": ".py",
   "mimetype": "text/x-python",
   "name": "python",
   "nbconvert_exporter": "python",
   "pygments_lexer": "ipython3",
   "version": "3.8.8"
  }
 },
 "nbformat": 4,
 "nbformat_minor": 5
}
