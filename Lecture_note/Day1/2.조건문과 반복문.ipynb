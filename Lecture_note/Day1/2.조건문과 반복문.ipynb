{
 "cells": [
  {
   "cell_type": "markdown",
   "id": "45d075e0-1360-4971-b47c-2e340510fc7f",
   "metadata": {},
   "source": [
    "# 조건문과 반복문\n",
    "\n",
    "- ### 연산자 (비교 연산자, 논리 연산자)\n",
    "- ### 조건문 (if 문)\n",
    "- ### 반복문 (while 문, for 문)"
   ]
  },
  {
   "cell_type": "markdown",
   "id": "fb5439c7-a938-4a27-bf4d-6bfdeeefac5a",
   "metadata": {
    "tags": []
   },
   "source": [
    "# 연산자\n",
    "## 1. 비교 연산자\n",
    "- 조건문(if)과 반복문(for, while)에서 사용\n",
    "\n",
    "| 연산자 | 의미 | 설명|\n",
    "| ---- | ---- | ----|\n",
    "| == | 같다 | 두 값이 같으면 참 |\n",
    "| != | 같지 않다 | 두 값이 다르면 참 |\n",
    "| > | 크다 | 왼쪽이 크면 참 |\n",
    "| < | 작다 | 왼쪽이 작으면 참 |\n",
    "| >= | 크거나 같다 | 왼쪽이 크거나 같으면 참 |\n",
    "| <= | 작거나 같다 | 왼쪽이 작거나 같으면 참 |"
   ]
  },
  {
   "cell_type": "code",
   "execution_count": 1,
   "id": "94d4fc0c-1b7f-4191-95f8-6ee45bedbcd0",
   "metadata": {},
   "outputs": [
    {
     "data": {
      "text/plain": [
       "(False, True, False, True, False, True)"
      ]
     },
     "execution_count": 1,
     "metadata": {},
     "output_type": "execute_result"
    }
   ],
   "source": [
    "a = 100\n",
    "b = 200\n",
    "a == b, a != b, a > b, a < b, a >= b, a <= b"
   ]
  },
  {
   "cell_type": "markdown",
   "id": "5fc968a1-c81e-4996-a1fa-f53fcbf159b4",
   "metadata": {},
   "source": [
    "## 2. 논리 연산자\n",
    "- 여러 조건을 동시에 비교할 때 사용\n",
    "\n",
    "| 연산자 | 의미 | 설명| 사용 예 |\n",
    "| ---- | ---- | ----| ---- |\n",
    "| and | ~이고, 그리고 | 둘 다 참이면 참 | (a == 10) and (b > 10)|\n",
    "| or | ~이거나, 또는 | 둘 중 하나라도 참이면 참 | (a == 10) or (b > 10)|\n",
    "| not | ~아니다, 부정 | 참이면 거짓, 거짓이면 참 | not (a == 30) |"
   ]
  },
  {
   "cell_type": "code",
   "execution_count": 2,
   "id": "8ce083c6-78fe-4cd6-a0d7-4ddba47db97d",
   "metadata": {},
   "outputs": [
    {
     "data": {
      "text/plain": [
       "True"
      ]
     },
     "execution_count": 2,
     "metadata": {},
     "output_type": "execute_result"
    }
   ],
   "source": [
    "a = 10\n",
    "b = 30\n",
    "(a == 10) and (b > 10)"
   ]
  },
  {
   "cell_type": "code",
   "execution_count": 4,
   "id": "87c95b70-3472-475a-ba8d-95e81cb8fb7e",
   "metadata": {},
   "outputs": [
    {
     "data": {
      "text/plain": [
       "False"
      ]
     },
     "execution_count": 4,
     "metadata": {},
     "output_type": "execute_result"
    }
   ],
   "source": [
    "(a == 5) and (b > 10)"
   ]
  },
  {
   "cell_type": "code",
   "execution_count": 3,
   "id": "7d1313ce-4fc9-4a57-85af-decb59847b70",
   "metadata": {},
   "outputs": [
    {
     "data": {
      "text/plain": [
       "True"
      ]
     },
     "execution_count": 3,
     "metadata": {},
     "output_type": "execute_result"
    }
   ],
   "source": [
    "(a == 10) or (b > 10)"
   ]
  },
  {
   "cell_type": "code",
   "execution_count": 5,
   "id": "85974dda-684b-43f8-9afd-38b54d594a03",
   "metadata": {},
   "outputs": [
    {
     "data": {
      "text/plain": [
       "True"
      ]
     },
     "execution_count": 5,
     "metadata": {},
     "output_type": "execute_result"
    }
   ],
   "source": [
    "(a == 5) or (b > 10)"
   ]
  },
  {
   "cell_type": "code",
   "execution_count": 6,
   "id": "2aa0f8d5-dc93-411c-88af-3799fb06c1dc",
   "metadata": {},
   "outputs": [
    {
     "data": {
      "text/plain": [
       "True"
      ]
     },
     "execution_count": 6,
     "metadata": {},
     "output_type": "execute_result"
    }
   ],
   "source": [
    "not (a == 30)  # a != 30 과 동일한 코드"
   ]
  },
  {
   "cell_type": "markdown",
   "id": "b4c68015-618d-4d94-aeaf-b68b388fd13a",
   "metadata": {},
   "source": [
    "# 조건문 (if 문)\n",
    "- 어떤 조건을 만족하는 경우에만 실행하도록 하기 위해 사용"
   ]
  },
  {
   "cell_type": "markdown",
   "id": "991752de-acfd-4da3-9106-fad7e3a25bc8",
   "metadata": {},
   "source": [
    "### 기본 if 문\n",
    "- `조건식`이 참이면 `실행할 문장`이 처리되고, 거짓이면 아무것도 실행하지 않음\n",
    "- 구문 형태\n",
    "```python\n",
    "if 조건식:\n",
    "    실행할 문장 \n",
    "```"
   ]
  },
  {
   "cell_type": "code",
   "execution_count": 7,
   "id": "d7836f9a-e634-401b-a6e1-70c3bd090539",
   "metadata": {},
   "outputs": [
    {
     "name": "stdout",
     "output_type": "stream",
     "text": [
      "a는 100보다 작다.\n"
     ]
    }
   ],
   "source": [
    "a = 99\n",
    "if a < 100:\n",
    "    print(\"a는 100보다 작다.\")"
   ]
  },
  {
   "cell_type": "code",
   "execution_count": 8,
   "id": "26983157-0d4a-4695-ac5b-2861bed0b3af",
   "metadata": {},
   "outputs": [],
   "source": [
    "a = 101\n",
    "if a < 100:\n",
    "    print(\"a는 100보다 작다.\")"
   ]
  },
  {
   "cell_type": "code",
   "execution_count": 16,
   "id": "c0a1e9a3-c0b1-41b3-93aa-909fb2cd70d6",
   "metadata": {},
   "outputs": [
    {
     "ename": "IndentationError",
     "evalue": "unexpected indent (<ipython-input-16-3dced53ed39f>, line 4)",
     "output_type": "error",
     "traceback": [
      "\u001b[0;36m  File \u001b[0;32m\"<ipython-input-16-3dced53ed39f>\"\u001b[0;36m, line \u001b[0;32m4\u001b[0m\n\u001b[0;31m    print(\"a는 100보다 작다.\")\u001b[0m\n\u001b[0m    ^\u001b[0m\n\u001b[0;31mIndentationError\u001b[0m\u001b[0;31m:\u001b[0m unexpected indent\n"
     ]
    }
   ],
   "source": [
    "# 들여쓰기 에러인 경우\n",
    "a = 99\n",
    "if a < 100:\n",
    "  print(a)\n",
    "    print(\"a는 100보다 작다.\")"
   ]
  },
  {
   "cell_type": "markdown",
   "id": "f274034c-5e23-4490-8e2b-01e91de7f9aa",
   "metadata": {},
   "source": [
    "#### - 주의사항 : if문을 포함한 모든 제어문(if, while, for)에서는 들여쓰기가 매우 중요!! (`Tab` 또는 `띄어쓰기 4번`)"
   ]
  },
  {
   "cell_type": "markdown",
   "id": "6c116803-1192-4a07-a354-5475df560767",
   "metadata": {},
   "source": [
    "### if-else 문\n",
    "- `조건식`이 참이면 `실행할 문장 1`이 처리되고, 거짓이면 `실행할 문장 2`가 처리됨\n",
    "- 구문 형태\n",
    "```python\n",
    "if 조건식:\n",
    "    실행할 문장 1\n",
    "else:\n",
    "    실행할 문장 2\n",
    "```"
   ]
  },
  {
   "cell_type": "code",
   "execution_count": 17,
   "id": "e177593e-8978-4a99-b28b-81dd9f866aa5",
   "metadata": {},
   "outputs": [
    {
     "name": "stdout",
     "output_type": "stream",
     "text": [
      "a는 100보다 크다.\n"
     ]
    }
   ],
   "source": [
    "a = 101\n",
    "if a < 100:\n",
    "    print(\"a는 100보다 작다.\")\n",
    "else:\n",
    "    print(\"a는 100보다 크다.\")"
   ]
  },
  {
   "cell_type": "markdown",
   "id": "abec9e09-e62a-4fdf-b192-df1526d9e2d8",
   "metadata": {},
   "source": [
    "### 중첩 if-else 문\n",
    "- if-else 문이 여러 번 중첩되어 있는 형태\n",
    "- 구문 형태\n",
    "```python\n",
    "if 조건식 1:\n",
    "    실행할 문장 1\n",
    "else:\n",
    "    if 조건식 2:\n",
    "        실행할 문장 2\n",
    "    else:\n",
    "        실행할 문장 3\n",
    "```"
   ]
  },
  {
   "cell_type": "code",
   "execution_count": 18,
   "id": "3bc78477-8f45-4e42-a80c-54e6e188cc42",
   "metadata": {},
   "outputs": [
    {
     "name": "stdout",
     "output_type": "stream",
     "text": [
      "a는 200보다 작다.\n"
     ]
    }
   ],
   "source": [
    "num = 170\n",
    "if num < 100:\n",
    "    print(\"a는 100보다 작다.\")\n",
    "else:\n",
    "    if num < 200:\n",
    "        print(\"a는 200보다 작다.\")\n",
    "    else:\n",
    "        print(\"a는 200보다 크다.\")"
   ]
  },
  {
   "cell_type": "markdown",
   "id": "9a23fef2-52ba-4451-93f2-8a8bc98520cc",
   "metadata": {},
   "source": [
    "### if-elif-else 문\n",
    "- if-else 문이 계속 중첩되게 되면 코드 들여쓰기가 매우 복잡해짐\n",
    "- 이를 해결하기 위한 방법!\n",
    "- 구문 형태\n",
    "```python\n",
    "if 조건식 1:\n",
    "    실행할 문장 1\n",
    "elif 조건식 2:\n",
    "    실행할 문장 2\n",
    "else:\n",
    "    실행할 문장 3\n",
    "```"
   ]
  },
  {
   "cell_type": "code",
   "execution_count": 19,
   "id": "18f87db0-cd32-498c-ad87-136f7c68cd82",
   "metadata": {},
   "outputs": [
    {
     "name": "stdout",
     "output_type": "stream",
     "text": [
      "a는 200보다 작다.\n"
     ]
    }
   ],
   "source": [
    "# 위의 예시를 if-elif-else 문으로 한결 간단한 구조로 표현이 가능\n",
    "num = 170\n",
    "if num < 100:\n",
    "    print(\"a는 100보다 작다.\")\n",
    "elif num < 200:\n",
    "    print(\"a는 200보다 작다.\")\n",
    "else:\n",
    "    print(\"a는 200보다 크다.\")"
   ]
  },
  {
   "cell_type": "markdown",
   "id": "07614cac-f3a2-41c4-9c6d-bcb8bae521ff",
   "metadata": {},
   "source": [
    "# 반복문\n",
    "- 같은 문장을 여러 번 수행할 때 사용"
   ]
  },
  {
   "cell_type": "markdown",
   "id": "af033cb1-4bc1-4cef-a227-45261fd9bd78",
   "metadata": {},
   "source": [
    "## 1. while 문\n",
    "- 조건식이 참인 경우에 문장이 계속 반복 수행\n",
    "- 즉, 조건식이 거짓이 됨과 동시에 반복문 종료\n",
    "- 구문 형태\n",
    "```python\n",
    "while 조건식:\n",
    "    실행할 문장\n",
    "```"
   ]
  },
  {
   "cell_type": "code",
   "execution_count": 20,
   "id": "04c2c531-878e-48db-9c88-b149247c2071",
   "metadata": {},
   "outputs": [
    {
     "name": "stdout",
     "output_type": "stream",
     "text": [
      "1\n",
      "2\n",
      "3\n",
      "4\n",
      "5\n"
     ]
    }
   ],
   "source": [
    "a = 0\n",
    "while a < 5:\n",
    "    a = a + 1\n",
    "    print(a)"
   ]
  },
  {
   "cell_type": "code",
   "execution_count": 21,
   "id": "b07e5296-1400-4a96-beae-2bd6ca218962",
   "metadata": {},
   "outputs": [
    {
     "name": "stdout",
     "output_type": "stream",
     "text": [
      "True\n",
      "True\n",
      "True\n",
      "True\n",
      "False\n"
     ]
    }
   ],
   "source": [
    "a = 0\n",
    "while a < 5:\n",
    "    a = a + 1\n",
    "    print(a < 5)"
   ]
  },
  {
   "cell_type": "markdown",
   "id": "5882578c-0cde-49d0-9ef9-4f8f30ca13dd",
   "metadata": {},
   "source": [
    "### while 문 강제로 빠져나가기 - `break`\n",
    "- 보통 특정 조건을 만족할 경우 반복문을 종료하고 싶을 때 사용"
   ]
  },
  {
   "cell_type": "code",
   "execution_count": 22,
   "id": "bd0cf43f-226f-4529-b626-1df3d8f111b5",
   "metadata": {},
   "outputs": [
    {
     "name": "stdout",
     "output_type": "stream",
     "text": [
      "1\n",
      "2\n",
      "3\n",
      "4\n",
      "5\n"
     ]
    }
   ],
   "source": [
    "value = 0\n",
    "while True:\n",
    "    value = value + 1\n",
    "    if (value > 5):\n",
    "        break\n",
    "    print(value)"
   ]
  },
  {
   "cell_type": "markdown",
   "id": "ce8b8bae-8d71-446a-a4d6-b9877eaa6b4d",
   "metadata": {},
   "source": [
    "### whlie 문 맨 처음으로 돌아가기 - `continue`\n",
    "- 특정 조건을 만족할 경우, 밑의 구문들을 실행하지 않고 다시 반복문 처음으로 돌아감\n",
    "- 즉, 하위 구문을 실행하지 않고 다음 반복문을 실행"
   ]
  },
  {
   "cell_type": "code",
   "execution_count": 23,
   "id": "316d401e-922f-42f7-a872-4e7e0f89721f",
   "metadata": {},
   "outputs": [
    {
     "name": "stdout",
     "output_type": "stream",
     "text": [
      "1\n",
      "3\n",
      "4\n",
      "5\n"
     ]
    }
   ],
   "source": [
    "value = 0\n",
    "while value < 5:\n",
    "    value = value + 1\n",
    "    if (value == 2):\n",
    "        continue\n",
    "    print(value)"
   ]
  },
  {
   "cell_type": "markdown",
   "id": "854ee556-48e7-49b7-9392-939bfb793b52",
   "metadata": {},
   "source": [
    "## 2. for 문\n",
    "- while 문과는 다르게, 반복할 횟수를 정하여 사용\n",
    "- 리스트의 원소 개수만큼 반복하며, 원소를 하나씩 가져오면서 문장을 수행\n",
    "- 구문 형태\n",
    "```python\n",
    "for 변수 in 리스트:\n",
    "    실행할 문장\n",
    "```"
   ]
  },
  {
   "cell_type": "code",
   "execution_count": 24,
   "id": "4f7a31bf-ae9a-47e0-9089-d00163c43514",
   "metadata": {},
   "outputs": [
    {
     "name": "stdout",
     "output_type": "stream",
     "text": [
      "1\n",
      "2\n",
      "3\n",
      "4\n",
      "5\n"
     ]
    }
   ],
   "source": [
    "for i in [1,2,3,4,5]:\n",
    "    print(i)"
   ]
  },
  {
   "cell_type": "markdown",
   "id": "1b5ab824-7ed9-4e57-bc20-3d8a5f0b8153",
   "metadata": {},
   "source": [
    "### 중첩 for 문\n",
    "- for 문 안에 다시 for 문이 들어갈 수 있다\n",
    "```python\n",
    "for 변수1 in 리스트1:\n",
    "    실행할 문장 1\n",
    "    for 변수2 in 리스트2:\n",
    "        실행할 문장 2\n",
    "```"
   ]
  },
  {
   "cell_type": "code",
   "execution_count": 25,
   "id": "b87eb10f-12b7-47c0-877f-ec0f0b5da160",
   "metadata": {},
   "outputs": [
    {
     "name": "stdout",
     "output_type": "stream",
     "text": [
      "1\n",
      "2\n",
      "3\n",
      "2\n",
      "4\n",
      "6\n",
      "3\n",
      "6\n",
      "9\n",
      "4\n",
      "8\n",
      "12\n",
      "5\n",
      "10\n",
      "15\n"
     ]
    }
   ],
   "source": [
    "for i in [1,2,3,4,5]:\n",
    "    for j in [1,2,3]:\n",
    "        print(i*j)"
   ]
  },
  {
   "cell_type": "markdown",
   "id": "d556bfcc-ec2f-4c6f-bac3-028074bd316d",
   "metadata": {},
   "source": [
    "### range 함수\n",
    "- for 문과 자주 사용되는 함수\n",
    "- 사용방법\n",
    "    - `range(반복횟수)`\n",
    "    - `range(시작하는 숫자, 끝나는 숫자 - 1, 증가시킬 간격)`"
   ]
  },
  {
   "cell_type": "code",
   "execution_count": 26,
   "id": "01f17e92-ea69-4784-b2e3-8a7915043f30",
   "metadata": {},
   "outputs": [
    {
     "name": "stdout",
     "output_type": "stream",
     "text": [
      "0\n",
      "1\n",
      "2\n",
      "3\n",
      "4\n"
     ]
    }
   ],
   "source": [
    "for i in range(5):\n",
    "    print(i)"
   ]
  },
  {
   "cell_type": "code",
   "execution_count": 28,
   "id": "73c326cf-01ff-439b-9633-a9aae57b422e",
   "metadata": {},
   "outputs": [
    {
     "name": "stdout",
     "output_type": "stream",
     "text": [
      "1\n",
      "2\n",
      "3\n",
      "4\n",
      "5\n",
      "6\n",
      "7\n",
      "8\n",
      "9\n"
     ]
    }
   ],
   "source": [
    "for i in range(1, 10, 1):\n",
    "    print(i)"
   ]
  },
  {
   "cell_type": "code",
   "execution_count": 27,
   "id": "2bb307eb-adb9-48ec-85a6-bd92f4afc639",
   "metadata": {},
   "outputs": [
    {
     "name": "stdout",
     "output_type": "stream",
     "text": [
      "1\n",
      "4\n",
      "7\n"
     ]
    }
   ],
   "source": [
    "for i in range(1, 10, 3):\n",
    "    print(i)"
   ]
  },
  {
   "cell_type": "markdown",
   "id": "a7320d36-f9af-4149-91c9-30bf0983c61a",
   "metadata": {},
   "source": [
    "### 예제) for 문으로 리스트 만들기"
   ]
  },
  {
   "cell_type": "code",
   "execution_count": 29,
   "id": "1cdee7bc-c3ff-42f4-aaa5-c1e6aa97cf41",
   "metadata": {},
   "outputs": [
    {
     "data": {
      "text/plain": [
       "[0, 1, 2, 3, 4, 5, 6, 7, 8, 9]"
      ]
     },
     "execution_count": 29,
     "metadata": {},
     "output_type": "execute_result"
    }
   ],
   "source": [
    "a = []\n",
    "for i in range(10):\n",
    "    a.append(i)\n",
    "a"
   ]
  },
  {
   "cell_type": "markdown",
   "id": "5acfb5d0-2c7c-4a32-ad39-e9d2853db22d",
   "metadata": {},
   "source": [
    "### 예제) 구구단의 2단과 3단 만들기\n",
    "- 중첩 for 문 사용, `range`함수 사용"
   ]
  },
  {
   "cell_type": "code",
   "execution_count": 30,
   "id": "f2c2eb5d-7944-4728-aef8-d80467d76194",
   "metadata": {},
   "outputs": [
    {
     "name": "stdout",
     "output_type": "stream",
     "text": [
      "2 X 1 = 2\n",
      "2 X 2 = 4\n",
      "2 X 3 = 6\n",
      "2 X 4 = 8\n",
      "2 X 5 = 10\n",
      "2 X 6 = 12\n",
      "2 X 7 = 14\n",
      "2 X 8 = 16\n",
      "2 X 9 = 18\n",
      "3 X 1 = 3\n",
      "3 X 2 = 6\n",
      "3 X 3 = 9\n",
      "3 X 4 = 12\n",
      "3 X 5 = 15\n",
      "3 X 6 = 18\n",
      "3 X 7 = 21\n",
      "3 X 8 = 24\n",
      "3 X 9 = 27\n"
     ]
    }
   ],
   "source": [
    "for i in range(2, 4, 1):\n",
    "    for j in range(1, 10, 1):\n",
    "        print(\"{} X {} = {}\".format(i, j, i*j))"
   ]
  },
  {
   "cell_type": "markdown",
   "id": "b1b91507-5c60-40dd-aea1-8ea22ef121cd",
   "metadata": {},
   "source": [
    "#### 참고\n",
    "- `print(\"{}과 {}\".format(값1, 값2))`\n",
    "    - 이는 {} 부분에 순서대로 값1과 값2를 넣어 값을 출력한다는 의미\n",
    "- `print(\"{변수1}과 {변수2}\".format(변수1 = 값1, 변수2 = 값2))`\n",
    "    - 이는 변수1에 값1을 넣고, 변수2에 값2를 넣어 값을 출력한다는 의미"
   ]
  },
  {
   "cell_type": "markdown",
   "id": "80df15fe-e68f-4484-86f9-be517aa39e14",
   "metadata": {},
   "source": [
    "## List comprehension\n",
    "- for 문을 통해 리스트를 만드는 코드를 단 한 줄로 만들 수 있는 방법\n",
    "- 파이썬에서만 가능한 대표적인 Pythonic code 중의 하나!"
   ]
  },
  {
   "cell_type": "markdown",
   "id": "f4f8b37e-8ee1-4c35-9d16-0ec988884da9",
   "metadata": {},
   "source": [
    "### 단일 for 문\n",
    "```python\n",
    "[표현식 for 항목 in 반복가능객체]\n",
    "```"
   ]
  },
  {
   "cell_type": "code",
   "execution_count": 31,
   "id": "fb281509-7391-487c-8c83-d26bddab8218",
   "metadata": {},
   "outputs": [
    {
     "data": {
      "text/plain": [
       "[2, 4, 6, 8, 10]"
      ]
     },
     "execution_count": 31,
     "metadata": {},
     "output_type": "execute_result"
    }
   ],
   "source": [
    "# for 문을 사용한 방법\n",
    "a = []\n",
    "for i in range(1, 6, 1):\n",
    "    a.append(i*2)\n",
    "a"
   ]
  },
  {
   "cell_type": "code",
   "execution_count": 32,
   "id": "4e000316-1fe8-4f54-9b34-5b6dd327f45e",
   "metadata": {},
   "outputs": [
    {
     "data": {
      "text/plain": [
       "[2, 4, 6, 8, 10]"
      ]
     },
     "execution_count": 32,
     "metadata": {},
     "output_type": "execute_result"
    }
   ],
   "source": [
    "# List comprehension을 사용한 방법\n",
    "[i*2 for i in range(1, 6, 1)]"
   ]
  },
  {
   "cell_type": "markdown",
   "id": "0dfbf053-47bf-4ef7-869a-1c419d715e85",
   "metadata": {},
   "source": [
    "### for 문 + if 문\n",
    "```python\n",
    "[표현식 for 항목 in 반복가능객체 if 조건문]\n",
    "```"
   ]
  },
  {
   "cell_type": "code",
   "execution_count": 33,
   "id": "10fb7476-51bc-4cbb-b208-3298e8127fe1",
   "metadata": {},
   "outputs": [
    {
     "data": {
      "text/plain": [
       "[2, 4, 6, 8, 10]"
      ]
     },
     "execution_count": 33,
     "metadata": {},
     "output_type": "execute_result"
    }
   ],
   "source": [
    "# 짝수인 경우에만 넣는 리스트\n",
    "a = []\n",
    "for i in range(1, 11, 1):\n",
    "    if (i % 2 == 0):\n",
    "        a.append(i)\n",
    "a"
   ]
  },
  {
   "cell_type": "code",
   "execution_count": 34,
   "id": "fba825f2-2d04-417e-9ff1-80643c0997f2",
   "metadata": {},
   "outputs": [
    {
     "data": {
      "text/plain": [
       "[2, 4, 6, 8, 10]"
      ]
     },
     "execution_count": 34,
     "metadata": {},
     "output_type": "execute_result"
    }
   ],
   "source": [
    "[i for i in range(1, 11, 1) if (i % 2 == 0)]"
   ]
  },
  {
   "cell_type": "markdown",
   "id": "4c651d7f-ed08-4218-a098-406e3c14a847",
   "metadata": {},
   "source": [
    "### 다중 for 문 + if 문 (권장하지 않음!)\n",
    "```python\n",
    "[표현식 for 항목1 in 반복가능객체1 if 조건문1\n",
    "        for 항목2 in 반복가능객체2 if 조건문2\n",
    "        ...\n",
    "        for 항목n in 반복가능객체n if 조건문n]\n",
    "```"
   ]
  },
  {
   "cell_type": "code",
   "execution_count": 35,
   "id": "06dd2ca8-7aaf-4aa6-a9ce-9737db6a694a",
   "metadata": {},
   "outputs": [
    {
     "data": {
      "text/plain": [
       "[2, 3, 4, 4, 6, 8, 6, 9, 12, 8, 12, 16]"
      ]
     },
     "execution_count": 35,
     "metadata": {},
     "output_type": "execute_result"
    }
   ],
   "source": [
    "a = []\n",
    "for i in range(1, 5, 1):\n",
    "    for j in range(2, 5, 1):\n",
    "        a.append(i*j)\n",
    "a"
   ]
  },
  {
   "cell_type": "code",
   "execution_count": 36,
   "id": "cf60c2b1-9fdd-44d1-9487-1f4b026ff6eb",
   "metadata": {},
   "outputs": [
    {
     "data": {
      "text/plain": [
       "[2, 3, 4, 4, 6, 8, 6, 9, 12, 8, 12, 16]"
      ]
     },
     "execution_count": 36,
     "metadata": {},
     "output_type": "execute_result"
    }
   ],
   "source": [
    "[i*j for i in range(1, 5, 1) for j in range(2, 5, 1)]"
   ]
  },
  {
   "cell_type": "markdown",
   "id": "a414983c-773b-434c-a78a-32288a4b9e7f",
   "metadata": {},
   "source": [
    "# Reference\n",
    "- [**점프 투 파이썬**](https://wikidocs.net/book/1)"
   ]
  }
 ],
 "metadata": {
  "kernelspec": {
   "display_name": "Python 3",
   "language": "python",
   "name": "python3"
  },
  "language_info": {
   "codemirror_mode": {
    "name": "ipython",
    "version": 3
   },
   "file_extension": ".py",
   "mimetype": "text/x-python",
   "name": "python",
   "nbconvert_exporter": "python",
   "pygments_lexer": "ipython3",
   "version": "3.8.8"
  }
 },
 "nbformat": 4,
 "nbformat_minor": 5
}
