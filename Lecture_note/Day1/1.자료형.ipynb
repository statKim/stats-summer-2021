{
 "cells": [
  {
   "cell_type": "markdown",
   "id": "e278500d-58de-49ac-8340-76f88b3b6051",
   "metadata": {},
   "source": [
    "# 변수(variable)란?\n",
    "- Python을 비롯해 프로그래밍 언어에서 변수는 **메모리 공간에 값을 저장**하는 것을 의미\n",
    "- 쉽게 말해, **값을 저장해놓는 상자**라고 생각하면 됨\n",
    "- 변수에 값을 넣을 떄에는 `=` 기호를 사용하며, **오른쪽에 있는 값을 왼쪽에 있는 변수에 저장**하는 것을 의미"
   ]
  },
  {
   "cell_type": "markdown",
   "id": "5161deff-76f9-4fb1-86cf-6d2b03eb04cf",
   "metadata": {},
   "source": [
    "#### `x`라는 변수에 100이라는 값을 넣어보자!"
   ]
  },
  {
   "cell_type": "code",
   "execution_count": 1,
   "id": "2bad0919-7bd0-4048-9a10-cd3406e015de",
   "metadata": {},
   "outputs": [],
   "source": [
    "x = 100"
   ]
  },
  {
   "cell_type": "code",
   "execution_count": 2,
   "id": "5d206bfe-d6c4-414f-972f-1efd16d63e51",
   "metadata": {},
   "outputs": [
    {
     "name": "stdout",
     "output_type": "stream",
     "text": [
      "100\n"
     ]
    }
   ],
   "source": [
    "print(x)"
   ]
  },
  {
   "cell_type": "markdown",
   "id": "f36e80c3-e1b3-4ee8-9909-cb2814848975",
   "metadata": {},
   "source": [
    "#### 변수에는 숫자 뿐 아니라 문자도 넣을 수 있음"
   ]
  },
  {
   "cell_type": "code",
   "execution_count": 3,
   "id": "eb7c7755-d1d4-4aab-90a4-6f2287eceb59",
   "metadata": {},
   "outputs": [],
   "source": [
    "data = \"Hyunsung Kim\""
   ]
  },
  {
   "cell_type": "code",
   "execution_count": 4,
   "id": "a2814998-734f-4ea4-be9b-ed368f0f9d1c",
   "metadata": {},
   "outputs": [
    {
     "name": "stdout",
     "output_type": "stream",
     "text": [
      "Hyunsung Kim\n"
     ]
    }
   ],
   "source": [
    "print(data)"
   ]
  },
  {
   "cell_type": "markdown",
   "id": "acfd2446-d741-4e99-b0c6-fda7f7fff234",
   "metadata": {},
   "source": [
    "#### 즉, 생성된 변수는 이후에 언제든 불러서 사용할 수 있음!!"
   ]
  },
  {
   "cell_type": "markdown",
   "id": "0c2ac65b-9c60-4fc2-885b-426f3df9117f",
   "metadata": {},
   "source": [
    "### 사용 불가능한 변수명\n",
    "\n",
    "- 파이썬 예약어 : `and`, `or`, `for`, `if`, `break`, `class` 등\n",
    "- 특수문자 : `&`, `!`, `@`, `$`, `()`, `?` 등\n",
    "\n",
    "#### 예제\n",
    "| 변수명 | 사용가능 여부| |\n",
    "| ----- | ----- | ---- |\n",
    "| data | O | 영어 알파벳 문자로 가능|\n",
    "| _count | O | _로 시작하는 문자 가능| \n",
    "| number_of_data | O | 중간에 _가 들어가도 가능 |\n",
    "| data3 | O | 처음이 아니라면 숫자도 가능 |\n",
    "| 2nd | X | 숫자로는 시작할 수 없음 |\n",
    "| money& | X | 특수문자 불가능 |"
   ]
  },
  {
   "cell_type": "markdown",
   "id": "8d08ea14-5a0e-43bf-b207-612741e18149",
   "metadata": {},
   "source": [
    "# Python의 자료형\n",
    "파이썬에는 다양한 자료형이 존재하며, 여기서는 다음의 4가지를 다뤄보자\n",
    "\n",
    "1. **숫자형**\n",
    "2. **문자열**\n",
    "3. **리스트**\n",
    "4. **딕셔너리**"
   ]
  },
  {
   "cell_type": "markdown",
   "id": "266d9b5f-7b18-46bb-86b0-ec9762ee52bb",
   "metadata": {},
   "source": [
    "## 1. 숫자형\n",
    "- 사칙연산을 비롯한 여러 연산이 가능"
   ]
  },
  {
   "cell_type": "code",
   "execution_count": 5,
   "id": "c73e7d03-cded-4527-85d9-a97d7c9dd947",
   "metadata": {},
   "outputs": [
    {
     "data": {
      "text/plain": [
       "2"
      ]
     },
     "execution_count": 5,
     "metadata": {},
     "output_type": "execute_result"
    }
   ],
   "source": [
    "# 덧셈\n",
    "1 + 1"
   ]
  },
  {
   "cell_type": "code",
   "execution_count": 6,
   "id": "566847db-0e4e-4dae-adec-2f3be45c78ac",
   "metadata": {},
   "outputs": [
    {
     "data": {
      "text/plain": [
       "2"
      ]
     },
     "execution_count": 6,
     "metadata": {},
     "output_type": "execute_result"
    }
   ],
   "source": [
    "# 뺄셈\n",
    "3 - 1"
   ]
  },
  {
   "cell_type": "code",
   "execution_count": 7,
   "id": "2c600bf0-4719-413b-81dc-e7cdaf97c86a",
   "metadata": {},
   "outputs": [
    {
     "data": {
      "text/plain": [
       "6"
      ]
     },
     "execution_count": 7,
     "metadata": {},
     "output_type": "execute_result"
    }
   ],
   "source": [
    "# 곱셈\n",
    "2 * 3"
   ]
  },
  {
   "cell_type": "code",
   "execution_count": 8,
   "id": "0f2c85ba-662c-41aa-af90-0f1388ee6cdb",
   "metadata": {},
   "outputs": [
    {
     "data": {
      "text/plain": [
       "0.3333333333333333"
      ]
     },
     "execution_count": 8,
     "metadata": {},
     "output_type": "execute_result"
    }
   ],
   "source": [
    "# 나눗셈\n",
    "1 / 3"
   ]
  },
  {
   "cell_type": "markdown",
   "id": "ff36b0c2-2fd5-40d1-8853-1de7b411dca0",
   "metadata": {},
   "source": [
    "#### 제곱, 세제곱, n제곱?"
   ]
  },
  {
   "cell_type": "code",
   "execution_count": 9,
   "id": "a493617a-54f1-4114-b5d4-e88b56d15204",
   "metadata": {},
   "outputs": [
    {
     "data": {
      "text/plain": [
       "4"
      ]
     },
     "execution_count": 9,
     "metadata": {},
     "output_type": "execute_result"
    }
   ],
   "source": [
    "# 2의 제곱\n",
    "2 ** 2"
   ]
  },
  {
   "cell_type": "code",
   "execution_count": 10,
   "id": "e6a330f7-f8f5-42fa-a156-c7b6fb5b9eca",
   "metadata": {},
   "outputs": [
    {
     "data": {
      "text/plain": [
       "8"
      ]
     },
     "execution_count": 10,
     "metadata": {},
     "output_type": "execute_result"
    }
   ],
   "source": [
    "# 2의 세제곱\n",
    "2 ** 3"
   ]
  },
  {
   "cell_type": "code",
   "execution_count": 11,
   "id": "dbcc3a0b-f90c-4866-81cc-a9b9a8f2eb64",
   "metadata": {},
   "outputs": [
    {
     "data": {
      "text/plain": [
       "1024"
      ]
     },
     "execution_count": 11,
     "metadata": {},
     "output_type": "execute_result"
    }
   ],
   "source": [
    "# 2의 10제곱\n",
    "2 ** 10"
   ]
  },
  {
   "cell_type": "markdown",
   "id": "421b3031-5311-4729-a156-a19a94be0df3",
   "metadata": {},
   "source": [
    "#### 몫, 나머지"
   ]
  },
  {
   "cell_type": "code",
   "execution_count": 12,
   "id": "26b42b66-93f9-49e8-b298-a4674587fe92",
   "metadata": {},
   "outputs": [
    {
     "data": {
      "text/plain": [
       "2.5"
      ]
     },
     "execution_count": 12,
     "metadata": {},
     "output_type": "execute_result"
    }
   ],
   "source": [
    "# 나눗셈\n",
    "5 / 2"
   ]
  },
  {
   "cell_type": "code",
   "execution_count": 13,
   "id": "5c343e48-b902-48a2-bc9b-28ba094cfaba",
   "metadata": {},
   "outputs": [
    {
     "data": {
      "text/plain": [
       "2"
      ]
     },
     "execution_count": 13,
     "metadata": {},
     "output_type": "execute_result"
    }
   ],
   "source": [
    "# 몫\n",
    "5 // 2"
   ]
  },
  {
   "cell_type": "code",
   "execution_count": 14,
   "id": "49dc28dd-9bc2-4b42-99cb-9c0eec1e0189",
   "metadata": {},
   "outputs": [
    {
     "data": {
      "text/plain": [
       "1"
      ]
     },
     "execution_count": 14,
     "metadata": {},
     "output_type": "execute_result"
    }
   ],
   "source": [
    "# 나머지\n",
    "5 % 2"
   ]
  },
  {
   "cell_type": "markdown",
   "id": "c81fa469-3adb-4a57-bc1c-0714ed892cf2",
   "metadata": {},
   "source": [
    "#### 변수를 활용한 연산\n",
    "$x + (y-30)^2, ~ x=100, y = 50$"
   ]
  },
  {
   "cell_type": "code",
   "execution_count": 15,
   "id": "6a8f7075-4d5e-439f-a3f6-059c9b130326",
   "metadata": {},
   "outputs": [
    {
     "data": {
      "text/plain": [
       "500"
      ]
     },
     "execution_count": 15,
     "metadata": {},
     "output_type": "execute_result"
    }
   ],
   "source": [
    "x = 100\n",
    "y = 50\n",
    "x + (y-30)**2"
   ]
  },
  {
   "cell_type": "markdown",
   "id": "3f5a8271-ac27-4792-a3f3-b1ca96740ef9",
   "metadata": {},
   "source": [
    "### 예제) 화씨온도 100도를 섭씨온도로 바꾸시오.\n",
    "$C = (F-32)\\frac{5}{9}, ~~ C:\\text{섭씨온도}, F:\\text{화씨온도}$"
   ]
  },
  {
   "cell_type": "code",
   "execution_count": 53,
   "id": "14feb03c-2fbe-4236-a497-9f9b1fd701b0",
   "metadata": {},
   "outputs": [
    {
     "data": {
      "text/plain": [
       "37.77777777777778"
      ]
     },
     "execution_count": 53,
     "metadata": {},
     "output_type": "execute_result"
    }
   ],
   "source": [
    "(100-32)*5/9"
   ]
  },
  {
   "cell_type": "markdown",
   "id": "2c4de66c-2b05-4a5b-814a-1d5daef15288",
   "metadata": {},
   "source": [
    "## 2. 문자열\n",
    "- 문자, 단어 등으로 구성된 문자들의 집합\n",
    "- 큰 따옴표(\"\") 또는 작은 따옴표('')로 묶어서 표현"
   ]
  },
  {
   "cell_type": "code",
   "execution_count": 16,
   "id": "dc7029cd-0dfc-47ec-af4b-9a69cd20f110",
   "metadata": {},
   "outputs": [
    {
     "data": {
      "text/plain": [
       "'abc'"
      ]
     },
     "execution_count": 16,
     "metadata": {},
     "output_type": "execute_result"
    }
   ],
   "source": [
    "# 큰 따옴표(\"\")\n",
    "\"abc\""
   ]
  },
  {
   "cell_type": "code",
   "execution_count": 17,
   "id": "48e061fb-6511-4887-9c45-799b61e62023",
   "metadata": {},
   "outputs": [
    {
     "data": {
      "text/plain": [
       "'통계학'"
      ]
     },
     "execution_count": 17,
     "metadata": {},
     "output_type": "execute_result"
    }
   ],
   "source": [
    "# 작은 따옴표('')\n",
    "'통계학'"
   ]
  },
  {
   "cell_type": "code",
   "execution_count": 18,
   "id": "bf62347c-513f-4c4c-a663-771989366d51",
   "metadata": {},
   "outputs": [
    {
     "data": {
      "text/plain": [
       "'Machine Learning'"
      ]
     },
     "execution_count": 18,
     "metadata": {},
     "output_type": "execute_result"
    }
   ],
   "source": [
    "# + 기호로 두 문자열을 붙이기도 가능\n",
    "\"Machine\" + \" Learning\""
   ]
  },
  {
   "cell_type": "code",
   "execution_count": 19,
   "id": "fe621d76-4dc3-4b0d-b71b-45520c31c3ad",
   "metadata": {},
   "outputs": [
    {
     "data": {
      "text/plain": [
       "'StatisticsStatisticsStatistics'"
      ]
     },
     "execution_count": 19,
     "metadata": {},
     "output_type": "execute_result"
    }
   ],
   "source": [
    "\"Statistics\" * 3"
   ]
  },
  {
   "cell_type": "markdown",
   "id": "1856a9db-2fe8-4304-9027-2edc7d5946cf",
   "metadata": {},
   "source": [
    "#### 문자열의 길이는?\n",
    "- `len()` 함수 사용"
   ]
  },
  {
   "cell_type": "code",
   "execution_count": 20,
   "id": "26e1c9aa-13e2-4466-a5af-9ca7bc3948ab",
   "metadata": {},
   "outputs": [
    {
     "data": {
      "text/plain": [
       "19"
      ]
     },
     "execution_count": 20,
     "metadata": {},
     "output_type": "execute_result"
    }
   ],
   "source": [
    "a = \"Python is very fun!\"\n",
    "len(a)"
   ]
  },
  {
   "cell_type": "markdown",
   "id": "777687c9-4d35-4a8c-8e99-af4467f816b8",
   "metadata": {},
   "source": [
    "### 문자열의 인덱싱(indexing)\n",
    "\n",
    "- 인덱싱은 자리를 가리킨다는 의미\n",
    "- 다음의 문자열에서 자리를 나타내며, 자리는 0부터 시작!"
   ]
  },
  {
   "cell_type": "raw",
   "id": "14b4f93b-e8de-49bc-8a43-5de3856e86db",
   "metadata": {},
   "source": [
    "Python is very fun!\n",
    "0         1 \n",
    "0123456789012345678"
   ]
  },
  {
   "cell_type": "code",
   "execution_count": 21,
   "id": "1e05a959-8bc0-467f-953e-abbe5ac12cd7",
   "metadata": {},
   "outputs": [
    {
     "data": {
      "text/plain": [
       "'t'"
      ]
     },
     "execution_count": 21,
     "metadata": {},
     "output_type": "execute_result"
    }
   ],
   "source": [
    "# 인덱스가 2인 문자열 출력\n",
    "a[2]"
   ]
  },
  {
   "cell_type": "code",
   "execution_count": 22,
   "id": "5a3d3a3e-f698-4f5a-a58d-ac542537b6a1",
   "metadata": {},
   "outputs": [
    {
     "data": {
      "text/plain": [
       "'f'"
      ]
     },
     "execution_count": 22,
     "metadata": {},
     "output_type": "execute_result"
    }
   ],
   "source": [
    "# 인덱스가 15인 문자열 출력\n",
    "a[15]"
   ]
  },
  {
   "cell_type": "markdown",
   "id": "4852552d-a0c4-42a2-9284-357dcd0fecfa",
   "metadata": {},
   "source": [
    "### 문자열의 슬라이싱(slicing)\n",
    "\n",
    "- 슬라이싱은 잘라낸다는 의미\n",
    "- 문자열에서 한 문자만 뽑는 것이 아니라 연속되는 여러 단어를 뽑는 방법"
   ]
  },
  {
   "cell_type": "raw",
   "id": "83045c3c-fc72-4360-a75b-213675a1a8aa",
   "metadata": {},
   "source": [
    "Python is very fun!\n",
    "0         1 \n",
    "0123456789012345678"
   ]
  },
  {
   "cell_type": "code",
   "execution_count": 23,
   "id": "d1d452e1-01f7-4e1e-a125-b8e4d24c7a97",
   "metadata": {},
   "outputs": [
    {
     "data": {
      "text/plain": [
       "'Python'"
      ]
     },
     "execution_count": 23,
     "metadata": {},
     "output_type": "execute_result"
    }
   ],
   "source": [
    "# 위의 문자열에서 \"Python\"을 슬라이싱하기\n",
    "a[0:6]"
   ]
  },
  {
   "cell_type": "markdown",
   "id": "4daa7534-acd0-4f9a-a9d1-207a1afd0a46",
   "metadata": {},
   "source": [
    "##### 즉, `0:6`이 의미하는 것은 **0번째 인덱스 ~ 6번째 인덱스 이전**까지 뽑는 것을 의미\n",
    "##### 다시 말해, `a[0:6]`은 a의 0~5번째 값을 가져온다!!"
   ]
  },
  {
   "cell_type": "code",
   "execution_count": 24,
   "id": "427c05a8-3119-430f-8c7e-4226686a8463",
   "metadata": {},
   "outputs": [
    {
     "data": {
      "text/plain": [
       "'very fu'"
      ]
     },
     "execution_count": 24,
     "metadata": {},
     "output_type": "execute_result"
    }
   ],
   "source": [
    "# 10 ~ 17까지 슬라이싱\n",
    "a[10:17]"
   ]
  },
  {
   "cell_type": "code",
   "execution_count": 25,
   "id": "df881cd2-1ceb-41d7-92fe-bec739ac22e3",
   "metadata": {},
   "outputs": [
    {
     "data": {
      "text/plain": [
       "'very fun!'"
      ]
     },
     "execution_count": 25,
     "metadata": {},
     "output_type": "execute_result"
    }
   ],
   "source": [
    "# 10 ~ 끝까지 슬라이싱\n",
    "a[10:]"
   ]
  },
  {
   "cell_type": "code",
   "execution_count": 26,
   "id": "1cc4f4a2-c608-4b58-ae8f-0edd59c7eebc",
   "metadata": {},
   "outputs": [
    {
     "data": {
      "text/plain": [
       "'Python is very fun!'"
      ]
     },
     "execution_count": 26,
     "metadata": {},
     "output_type": "execute_result"
    }
   ],
   "source": [
    "# 전체 슬라이싱\n",
    "a[:]"
   ]
  },
  {
   "cell_type": "markdown",
   "id": "0981b55a-5c8d-4f13-a5ab-1dcc290b7e1c",
   "metadata": {},
   "source": [
    "## 3. 리스트 (list)\n",
    "\n",
    "- 리스트는 숫자 또는 문자들을 여러개 모아놓은 것을 의미\n",
    "- 수학에서 벡터(vector)처럼 여러 값을 표현할 떄 사용되며 기호로 `[]`를 사용"
   ]
  },
  {
   "cell_type": "code",
   "execution_count": 27,
   "id": "fef41f99-5e8a-4edd-b07d-2832727687b9",
   "metadata": {},
   "outputs": [
    {
     "data": {
      "text/plain": [
       "[1, 3, 5, 7, 9]"
      ]
     },
     "execution_count": 27,
     "metadata": {},
     "output_type": "execute_result"
    }
   ],
   "source": [
    "# 리스트 안에 숫자형가 들어갈 수 있음\n",
    "x = [1, 3, 5, 7, 9]\n",
    "x"
   ]
  },
  {
   "cell_type": "code",
   "execution_count": 28,
   "id": "8d57a1ba-b589-4963-8d08-1db32b4d829a",
   "metadata": {},
   "outputs": [
    {
     "data": {
      "text/plain": [
       "['Python', 'is', 'very', 'fun!']"
      ]
     },
     "execution_count": 28,
     "metadata": {},
     "output_type": "execute_result"
    }
   ],
   "source": [
    "# 리스트 안에 문자열도 들어갈 수 있음\n",
    "y = [\"Python\", \"is\", \"very\", \"fun!\"]\n",
    "y"
   ]
  },
  {
   "cell_type": "code",
   "execution_count": 29,
   "id": "b2d688d7-7b74-4105-8091-f716dbf54ec4",
   "metadata": {},
   "outputs": [
    {
     "data": {
      "text/plain": [
       "[1, 3, [5, 7, 9], ['Python', 'is', 'very', 'fun!']]"
      ]
     },
     "execution_count": 29,
     "metadata": {},
     "output_type": "execute_result"
    }
   ],
   "source": [
    "# 리스트 안에 또다른 리스트도 들어갈 수 있음\n",
    "z = [1, 3, [5, 7, 9], [\"Python\", \"is\", \"very\", \"fun!\"]]\n",
    "z"
   ]
  },
  {
   "cell_type": "markdown",
   "id": "314b6423-11b8-42bb-a4aa-ddbec036dffb",
   "metadata": {},
   "source": [
    "### 리스트의 인덱싱과 슬라이싱\n",
    "\n",
    "- 문자열에서와 마찬가지로 인덱싱과 슬라이싱이 가능 (방식은 똑같음!)\n",
    "- 리스트에서 인덱싱과 슬라이싱은 항상 같이 붙어다니는 개념으로 이후에 데이터 분석에서 매우 자주 사용됨"
   ]
  },
  {
   "cell_type": "markdown",
   "id": "4ec4301e-806e-4370-8fba-fe736236aade",
   "metadata": {},
   "source": [
    "#### 리스트의 인덱싱"
   ]
  },
  {
   "cell_type": "code",
   "execution_count": 30,
   "id": "791c0f7f-64af-4980-90a0-ad40fac1d43f",
   "metadata": {
    "tags": []
   },
   "outputs": [
    {
     "data": {
      "text/plain": [
       "7"
      ]
     },
     "execution_count": 30,
     "metadata": {},
     "output_type": "execute_result"
    }
   ],
   "source": [
    "x = [1, 3, 5, 7, 9]\n",
    "x[3]"
   ]
  },
  {
   "cell_type": "markdown",
   "id": "d5207d9e-2808-458e-bb05-69e9c2aab57c",
   "metadata": {},
   "source": [
    "#### 인덱싱으로 리스트의 원소 바꾸기"
   ]
  },
  {
   "cell_type": "code",
   "execution_count": 31,
   "id": "8ad7dda5-9cfa-41d9-a4fc-1fc8a138e59e",
   "metadata": {},
   "outputs": [
    {
     "data": {
      "text/plain": [
       "[1, 3, 100, 7, 9]"
      ]
     },
     "execution_count": 31,
     "metadata": {},
     "output_type": "execute_result"
    }
   ],
   "source": [
    "x[2] = 100\n",
    "x"
   ]
  },
  {
   "cell_type": "markdown",
   "id": "452390e1-711c-4383-9863-04a5f577da8f",
   "metadata": {},
   "source": [
    "#### 리스트의 슬라이싱"
   ]
  },
  {
   "cell_type": "code",
   "execution_count": 32,
   "id": "ff84e1cf-db90-4550-8939-24e3bd2be83c",
   "metadata": {},
   "outputs": [
    {
     "data": {
      "text/plain": [
       "[3, 100, 7]"
      ]
     },
     "execution_count": 32,
     "metadata": {},
     "output_type": "execute_result"
    }
   ],
   "source": [
    "x[1:4]"
   ]
  },
  {
   "cell_type": "markdown",
   "id": "25db9767-52f2-4efc-915c-6d68bfe4687a",
   "metadata": {},
   "source": [
    "#### 슬라이싱으로 리스트의 원소 바꾸기"
   ]
  },
  {
   "cell_type": "code",
   "execution_count": 33,
   "id": "355617a5-f2a4-4c8c-a8e6-f31834b2c075",
   "metadata": {},
   "outputs": [
    {
     "data": {
      "text/plain": [
       "[1, 30, 50, 7, 9]"
      ]
     },
     "execution_count": 33,
     "metadata": {},
     "output_type": "execute_result"
    }
   ],
   "source": [
    "x[1:3] = [30, 50]\n",
    "x"
   ]
  },
  {
   "cell_type": "markdown",
   "id": "3315819c-5df5-4e5b-803e-3d3c5c5cc4f5",
   "metadata": {},
   "source": [
    "### 리스트의 길이?\n",
    "리스트 안의 원소의 개수"
   ]
  },
  {
   "cell_type": "code",
   "execution_count": 34,
   "id": "64d85707-dc9f-4931-947a-907031fe12ab",
   "metadata": {},
   "outputs": [
    {
     "data": {
      "text/plain": [
       "5"
      ]
     },
     "execution_count": 34,
     "metadata": {},
     "output_type": "execute_result"
    }
   ],
   "source": [
    "len(x)"
   ]
  },
  {
   "cell_type": "code",
   "execution_count": 35,
   "id": "7e52a2eb-4596-4ce1-8be1-a4241046c04e",
   "metadata": {},
   "outputs": [
    {
     "data": {
      "text/plain": [
       "4"
      ]
     },
     "execution_count": 35,
     "metadata": {},
     "output_type": "execute_result"
    }
   ],
   "source": [
    "z = [1, 3, [5, 7, 9], [\"Python\", \"is\", \"very\", \"fun!\"]]\n",
    "len(z)"
   ]
  },
  {
   "cell_type": "markdown",
   "id": "f630c2a2-43df-4647-8136-6a937f6c794d",
   "metadata": {},
   "source": [
    "### 유용한 리스트 함수들"
   ]
  },
  {
   "cell_type": "code",
   "execution_count": 36,
   "id": "5dff3b91-0239-4f5e-8b61-868415dca98b",
   "metadata": {},
   "outputs": [
    {
     "data": {
      "text/plain": [
       "[1, 2, 3, 100]"
      ]
     },
     "execution_count": 36,
     "metadata": {},
     "output_type": "execute_result"
    }
   ],
   "source": [
    "# 리스트 값 추가\n",
    "a = [1, 2, 3]\n",
    "a.append(100)\n",
    "a"
   ]
  },
  {
   "cell_type": "code",
   "execution_count": 37,
   "id": "05a608ca-810f-4f1a-a31c-a6a1c95afd76",
   "metadata": {},
   "outputs": [
    {
     "data": {
      "text/plain": [
       "[1, 2, 3, 4, 6]"
      ]
     },
     "execution_count": 37,
     "metadata": {},
     "output_type": "execute_result"
    }
   ],
   "source": [
    "# 리스트 값 정렬\n",
    "a = [4, 2, 6, 1, 3]\n",
    "a.sort()\n",
    "a"
   ]
  },
  {
   "cell_type": "code",
   "execution_count": null,
   "id": "e86ae857-2f59-454d-b314-5e1ecfeed4d3",
   "metadata": {},
   "outputs": [],
   "source": []
  },
  {
   "cell_type": "markdown",
   "id": "24afb034-7a19-4393-a9b9-f1315d965437",
   "metadata": {},
   "source": [
    "## 4. 딕셔너리 (Dictionary)\n",
    "\n",
    "- 딕셔너리는 키(key)와 값(value)를 쌍으로 데이터를 저장\n",
    "- 리스트처럼 숫자 인덱스를 사용하지 않음\n",
    "- 키는 중복을 허용하지 않음\n",
    "- `{}`를 사용하며, `{key1: value1, key2: value2, ...}`와 같이 표현"
   ]
  },
  {
   "cell_type": "code",
   "execution_count": 38,
   "id": "b9c7795f-3786-4391-bd5b-1aee88c37316",
   "metadata": {},
   "outputs": [
    {
     "data": {
      "text/plain": [
       "{'first name': 'Hyunsung', 'last name': 'Kim', 'home': 'Jeju'}"
      ]
     },
     "execution_count": 38,
     "metadata": {},
     "output_type": "execute_result"
    }
   ],
   "source": [
    "# 딕셔너리 생성\n",
    "dic = {\"first name\": \"Hyunsung\", \n",
    "       \"last name\": \"Kim\", \n",
    "       \"home\": \"Jeju\"}\n",
    "dic"
   ]
  },
  {
   "cell_type": "markdown",
   "id": "03d2d810-8347-4099-bdf0-f5f949b66a53",
   "metadata": {},
   "source": [
    "#### 딕셔너리에 들어있는 데이터 형태\n",
    "|key | value|\n",
    "|---| ---|\n",
    "|first name | Hyunsung|\n",
    "|last name | Kim|\n",
    "|home | Jeju|"
   ]
  },
  {
   "cell_type": "markdown",
   "id": "6f0f08cd-7f4a-4300-94ba-dc5099aa3f28",
   "metadata": {},
   "source": [
    "### 딕셔너리 키를 이용하여 값 가져오기"
   ]
  },
  {
   "cell_type": "code",
   "execution_count": 39,
   "id": "380c134b-28ac-47e4-af9d-53e7cee1a01e",
   "metadata": {},
   "outputs": [
    {
     "data": {
      "text/plain": [
       "'Hyunsung'"
      ]
     },
     "execution_count": 39,
     "metadata": {},
     "output_type": "execute_result"
    }
   ],
   "source": [
    "dic[\"first name\"]"
   ]
  },
  {
   "cell_type": "code",
   "execution_count": 40,
   "id": "41c4f7ce-23c8-4ce1-8a83-23ce3ca00fb9",
   "metadata": {},
   "outputs": [
    {
     "data": {
      "text/plain": [
       "'Jeju'"
      ]
     },
     "execution_count": 40,
     "metadata": {},
     "output_type": "execute_result"
    }
   ],
   "source": [
    "dic[\"home\"]"
   ]
  },
  {
   "cell_type": "markdown",
   "id": "42e360a7-b7a6-4deb-9afb-7623c686e35e",
   "metadata": {},
   "source": [
    "### 딕셔너리 데이터 추가하기"
   ]
  },
  {
   "cell_type": "code",
   "execution_count": 41,
   "id": "f0b2f8a2-2f8e-4b3c-8e59-40ddd95d7b53",
   "metadata": {},
   "outputs": [
    {
     "data": {
      "text/plain": [
       "{'first name': 'Hyunsung',\n",
       " 'last name': 'Kim',\n",
       " 'home': 'Jeju',\n",
       " 'major': 'Statistics'}"
      ]
     },
     "execution_count": 41,
     "metadata": {},
     "output_type": "execute_result"
    }
   ],
   "source": [
    "dic[\"major\"] = \"Statistics\"\n",
    "dic"
   ]
  },
  {
   "cell_type": "code",
   "execution_count": 42,
   "id": "a5b35d90-e5a9-40e5-8176-87f7177f5cfb",
   "metadata": {},
   "outputs": [
    {
     "data": {
      "text/plain": [
       "{'first name': 'Hyunsung',\n",
       " 'last name': 'Kim',\n",
       " 'home': 'Jeju',\n",
       " 'major': 'Statistics',\n",
       " 'dd': [1, 2, 3]}"
      ]
     },
     "execution_count": 42,
     "metadata": {},
     "output_type": "execute_result"
    }
   ],
   "source": [
    "dic[\"dd\"] = [1, 2, 3]\n",
    "dic"
   ]
  },
  {
   "cell_type": "markdown",
   "id": "d4f49d09-e361-45c7-a0b3-da77261bae3a",
   "metadata": {},
   "source": [
    "### 딕셔너리 데이터 삭제하기"
   ]
  },
  {
   "cell_type": "code",
   "execution_count": 43,
   "id": "3709cd15-2303-4b0a-9f6f-e5e588e31bfe",
   "metadata": {},
   "outputs": [
    {
     "data": {
      "text/plain": [
       "{'first name': 'Hyunsung',\n",
       " 'last name': 'Kim',\n",
       " 'home': 'Jeju',\n",
       " 'major': 'Statistics'}"
      ]
     },
     "execution_count": 43,
     "metadata": {},
     "output_type": "execute_result"
    }
   ],
   "source": [
    "del dic[\"dd\"]\n",
    "dic"
   ]
  },
  {
   "cell_type": "markdown",
   "id": "3fb7f252-f86a-425e-8f1e-65a432bafdcf",
   "metadata": {},
   "source": [
    "### 유용한 딕셔너리 함수들"
   ]
  },
  {
   "cell_type": "code",
   "execution_count": 44,
   "id": "819564d9-83ca-4d41-9769-2d53a5d2a43f",
   "metadata": {},
   "outputs": [
    {
     "data": {
      "text/plain": [
       "dict_keys(['first name', 'last name', 'home', 'major'])"
      ]
     },
     "execution_count": 44,
     "metadata": {},
     "output_type": "execute_result"
    }
   ],
   "source": [
    "# 딕셔너리의 모든 키 가져오기\n",
    "dic.keys()"
   ]
  },
  {
   "cell_type": "code",
   "execution_count": 45,
   "id": "d1cd1054-a407-424d-9575-d48c71d5eaac",
   "metadata": {},
   "outputs": [
    {
     "data": {
      "text/plain": [
       "dict_values(['Hyunsung', 'Kim', 'Jeju', 'Statistics'])"
      ]
     },
     "execution_count": 45,
     "metadata": {},
     "output_type": "execute_result"
    }
   ],
   "source": [
    "# 딕셔너리의 모든 값 가져오기\n",
    "dic.values()"
   ]
  },
  {
   "cell_type": "code",
   "execution_count": 46,
   "id": "3e9c41af-fac0-4ec7-88e0-f19cfbac4090",
   "metadata": {},
   "outputs": [
    {
     "data": {
      "text/plain": [
       "dict_items([('first name', 'Hyunsung'), ('last name', 'Kim'), ('home', 'Jeju'), ('major', 'Statistics')])"
      ]
     },
     "execution_count": 46,
     "metadata": {},
     "output_type": "execute_result"
    }
   ],
   "source": [
    "# 딕셔너리의 모든 쌍 가져오기\n",
    "dic.items()"
   ]
  },
  {
   "cell_type": "code",
   "execution_count": null,
   "id": "8b7593a2-43e7-4dac-a7cb-2d2962df3c4e",
   "metadata": {},
   "outputs": [],
   "source": []
  },
  {
   "cell_type": "markdown",
   "id": "6b3b317b-8037-4b92-a5d1-cdc8a735f244",
   "metadata": {},
   "source": [
    "## 자료의 타입(type)"
   ]
  },
  {
   "cell_type": "code",
   "execution_count": 47,
   "id": "2ea9cd22-21ba-4c91-a84c-4cb119205d4c",
   "metadata": {},
   "outputs": [
    {
     "data": {
      "text/plain": [
       "int"
      ]
     },
     "execution_count": 47,
     "metadata": {},
     "output_type": "execute_result"
    }
   ],
   "source": [
    "# 숫자형\n",
    "a = 100\n",
    "type(a)"
   ]
  },
  {
   "cell_type": "code",
   "execution_count": 48,
   "id": "d84644ef-ba50-4665-8c9c-bb202c7d6d5a",
   "metadata": {},
   "outputs": [
    {
     "data": {
      "text/plain": [
       "str"
      ]
     },
     "execution_count": 48,
     "metadata": {},
     "output_type": "execute_result"
    }
   ],
   "source": [
    "# 문자열\n",
    "b = \"Python\"\n",
    "type(b)"
   ]
  },
  {
   "cell_type": "code",
   "execution_count": 49,
   "id": "9e08d487-4368-4574-b384-15503863c790",
   "metadata": {},
   "outputs": [
    {
     "data": {
      "text/plain": [
       "bool"
      ]
     },
     "execution_count": 49,
     "metadata": {},
     "output_type": "execute_result"
    }
   ],
   "source": [
    "# 논리형\n",
    "c = True\n",
    "type(c)"
   ]
  },
  {
   "cell_type": "code",
   "execution_count": 50,
   "id": "2bca8105-e177-4bb8-ac66-cb004e4c7d00",
   "metadata": {},
   "outputs": [
    {
     "data": {
      "text/plain": [
       "list"
      ]
     },
     "execution_count": 50,
     "metadata": {},
     "output_type": "execute_result"
    }
   ],
   "source": [
    "# 리스트\n",
    "d = [1, 2, 3]\n",
    "type(d)"
   ]
  },
  {
   "cell_type": "code",
   "execution_count": 51,
   "id": "94582942-70a0-480d-8f7c-3690d90cefb3",
   "metadata": {},
   "outputs": [
    {
     "data": {
      "text/plain": [
       "dict"
      ]
     },
     "execution_count": 51,
     "metadata": {},
     "output_type": "execute_result"
    }
   ],
   "source": [
    "# 딕셔너리\n",
    "f = {\"First name\": \"Hyunsung\",\n",
    "     \"Last name\": \"Kim\"}\n",
    "type(f)"
   ]
  },
  {
   "cell_type": "code",
   "execution_count": null,
   "id": "21f14518-0d4d-4e2d-8157-f7ae5099a37c",
   "metadata": {},
   "outputs": [],
   "source": []
  },
  {
   "cell_type": "markdown",
   "id": "fc36fd20-82e1-451a-9ad6-2f36dafe4521",
   "metadata": {},
   "source": [
    "# Reference\n",
    "- [점프 투 파이썬](https://wikidocs.net/book/1)"
   ]
  }
 ],
 "metadata": {
  "kernelspec": {
   "display_name": "Python 3",
   "language": "python",
   "name": "python3"
  },
  "language_info": {
   "codemirror_mode": {
    "name": "ipython",
    "version": 3
   },
   "file_extension": ".py",
   "mimetype": "text/x-python",
   "name": "python",
   "nbconvert_exporter": "python",
   "pygments_lexer": "ipython3",
   "version": "3.8.8"
  }
 },
 "nbformat": 4,
 "nbformat_minor": 5
}
