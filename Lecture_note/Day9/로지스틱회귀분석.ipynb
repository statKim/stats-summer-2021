{
 "cells": [
  {
   "cell_type": "markdown",
   "id": "9d739072-7e9e-4b61-86aa-56380b4bdffc",
   "metadata": {},
   "source": [
    "# 로지스틱 회귀분석 (Logistic regression)"
   ]
  },
  {
   "cell_type": "code",
   "execution_count": 16,
   "id": "035b57c6-9180-45d0-aed3-a3e854531e6d",
   "metadata": {},
   "outputs": [],
   "source": [
    "# 라이브러리 불러오기\n",
    "import numpy as np\n",
    "import pandas as pd\n",
    "import matplotlib.pyplot as plt\n",
    "import seaborn as sns\n",
    "from scipy import stats\n",
    "import statsmodels.api as sm\n",
    "\n",
    "# matplotlib 설정\n",
    "plt.rc('font', family = 'AppleGothic')   # Mac\n",
    "# plt.rc('font', family = 'Malgun Gothic')   # Windows\n",
    "plt.rcParams['axes.unicode_minus'] = False\n",
    "%matplotlib inline"
   ]
  },
  {
   "cell_type": "markdown",
   "id": "6bb9ed6f-ab27-469b-b633-7c54b75f1012",
   "metadata": {},
   "source": [
    "## 데이터 생성"
   ]
  },
  {
   "cell_type": "code",
   "execution_count": 17,
   "id": "08df6559-ec6f-44e1-b917-9bf9fc999c4b",
   "metadata": {},
   "outputs": [],
   "source": [
    "# 데이터 생성\n",
    "from sklearn.datasets import make_classification\n",
    "\n",
    "X0, y = make_classification(n_features=1, n_redundant=0, n_informative=1,\n",
    "                            n_clusters_per_class=1, random_state=4)"
   ]
  },
  {
   "cell_type": "code",
   "execution_count": 21,
   "id": "4ec11868-1a32-46f8-a847-5c4d351a564a",
   "metadata": {},
   "outputs": [
    {
     "data": {
      "text/plain": [
       "(100, 1)"
      ]
     },
     "execution_count": 21,
     "metadata": {},
     "output_type": "execute_result"
    }
   ],
   "source": [
    "X0.shape"
   ]
  },
  {
   "cell_type": "code",
   "execution_count": 22,
   "id": "9b6abf9c-f436-4fd6-8794-c2797ed3dfde",
   "metadata": {},
   "outputs": [
    {
     "data": {
      "text/plain": [
       "array([0, 1, 0, 1, 0, 0, 1, 0, 1, 0, 0, 1, 0, 0, 1, 0, 1, 1, 1, 1, 0, 0,\n",
       "       1, 0, 1, 1, 1, 1, 1, 0, 1, 1, 1, 0, 0, 0, 0, 0, 0, 1, 1, 1, 0, 0,\n",
       "       0, 0, 1, 1, 1, 0, 1, 1, 1, 0, 1, 0, 0, 1, 1, 0, 0, 0, 1, 1, 1, 0,\n",
       "       1, 0, 1, 1, 0, 0, 1, 0, 1, 0, 0, 1, 1, 1, 1, 0, 0, 0, 1, 0, 0, 1,\n",
       "       1, 1, 1, 1, 0, 1, 1, 0, 0, 0, 0, 0])"
      ]
     },
     "execution_count": 22,
     "metadata": {},
     "output_type": "execute_result"
    }
   ],
   "source": [
    "y"
   ]
  },
  {
   "cell_type": "markdown",
   "id": "2b2eab01-426b-4493-8ce5-942c890b2ae1",
   "metadata": {},
   "source": [
    "## 그룹별 분포 확인"
   ]
  },
  {
   "cell_type": "code",
   "execution_count": 18,
   "id": "2221a626-77f9-4eb2-a44e-e6055923df56",
   "metadata": {},
   "outputs": [
    {
     "data": {
      "image/png": "[encoded data removed]",
      "text/plain": [
       "<Figure size 432x288 with 1 Axes>"
      ]
     },
     "metadata": {
      "needs_background": "light"
     },
     "output_type": "display_data"
    }
   ],
   "source": [
    "plt.scatter(X0, y, c=y, s=100, edgecolor=\"k\", linewidth=2)\n",
    "sns.kdeplot(X0[y == 0, :].reshape(-1, ), label=\"y = 0\")\n",
    "sns.kdeplot(X0[y == 1, :].reshape(-1, ), label=\"y = 1\")\n",
    "plt.ylim(-0.2, 1.2)\n",
    "plt.legend()\n",
    "plt.show()"
   ]
  },
  {
   "cell_type": "markdown",
   "id": "f1dc8309-6d39-48b1-a40a-15847631320d",
   "metadata": {},
   "source": [
    "## statsmodels 라이브러리로 모형 적합\n",
    "- `sm.Logit()`"
   ]
  },
  {
   "cell_type": "code",
   "execution_count": 23,
   "id": "5e3f52d5-9113-48f9-86ea-8ff5bdc51249",
   "metadata": {},
   "outputs": [
    {
     "name": "stdout",
     "output_type": "stream",
     "text": [
      "Optimization terminated successfully.\n",
      "         Current function value: 0.160844\n",
      "         Iterations 8\n",
      "                           Logit Regression Results                           \n",
      "==============================================================================\n",
      "Dep. Variable:                      y   No. Observations:                  100\n",
      "Model:                          Logit   Df Residuals:                       98\n",
      "Method:                           MLE   Df Model:                            1\n",
      "Date:                Fri, 16 Jul 2021   Pseudo R-squ.:                  0.7679\n",
      "Time:                        07:31:47   Log-Likelihood:                -16.084\n",
      "converged:                       True   LL-Null:                       -69.295\n",
      "Covariance Type:            nonrobust   LLR p-value:                 5.963e-25\n",
      "==============================================================================\n",
      "                 coef    std err          z      P>|z|      [0.025      0.975]\n",
      "------------------------------------------------------------------------------\n",
      "const          0.2515      0.477      0.527      0.598      -0.683       1.186\n",
      "x1             4.2382      0.902      4.699      0.000       2.470       6.006\n",
      "==============================================================================\n"
     ]
    }
   ],
   "source": [
    "X = sm.add_constant(X0)   # 회귀분석에서와 마찬가지로 상수항 추가\n",
    "\n",
    "model = sm.Logit(y, X)\n",
    "result = model.fit()\n",
    "print(result.summary())"
   ]
  },
  {
   "cell_type": "markdown",
   "id": "0d885f10-27bc-4fe0-b934-5baaa536e58b",
   "metadata": {},
   "source": [
    "### 로지스틱 회귀모형식\n",
    "$$\n",
    "\\begin{align}\n",
    "\\log\\left( \\frac{\\hat p}{1-\\hat p} \\right) &= \\hat\\beta_0 + \\hat\\beta_1 x_1 \\\\\n",
    "                                 &= 0.2515 + 4.2382 x_1\n",
    "\\end{align}\n",
    "$$\n",
    "\n",
    "$$ \\hat p = \\hat P(Y=1|x_1) = \\frac{\\exp(\\hat\\beta_0 + \\hat\\beta_1x_1)}{1+ \\exp(\\hat\\beta_0 + \\hat\\beta_1x_1)}$$"
   ]
  },
  {
   "cell_type": "code",
   "execution_count": 24,
   "id": "41097ba4-bfc2-4679-a9c1-4c6bbd0edb14",
   "metadata": {},
   "outputs": [
    {
     "data": {
      "text/plain": [
       "array([0.25146938, 4.23823801])"
      ]
     },
     "execution_count": 24,
     "metadata": {},
     "output_type": "execute_result"
    }
   ],
   "source": [
    "result.params"
   ]
  },
  {
   "cell_type": "code",
   "execution_count": 25,
   "id": "9bd914f2-c32e-498a-93ee-3e09360d060b",
   "metadata": {},
   "outputs": [
    {
     "data": {
      "text/plain": [
       "4.238238005563214"
      ]
     },
     "execution_count": 25,
     "metadata": {},
     "output_type": "execute_result"
    }
   ],
   "source": [
    "# Log Odds ratio\n",
    "result.params[1]"
   ]
  },
  {
   "cell_type": "code",
   "execution_count": 26,
   "id": "1945014d-b3e9-4661-a604-2b7b0aaaaecf",
   "metadata": {},
   "outputs": [
    {
     "data": {
      "text/plain": [
       "69.28566326934826"
      ]
     },
     "execution_count": 26,
     "metadata": {},
     "output_type": "execute_result"
    }
   ],
   "source": [
    "# Odds ratio\n",
    "np.exp(result.params)[1]"
   ]
  },
  {
   "cell_type": "markdown",
   "id": "6a5a510d-48fd-4750-bc55-1b590afe8e44",
   "metadata": {},
   "source": [
    "### 회귀계수 해석\n",
    "- 여기서 $Y=1$을 성공, $Y=0$을 실패라 가정하자.\n",
    "- Log Odds ratio (로그 오즈비) = $\\log OR(x_1) = \\beta_1 = 4.2382$\n",
    "- Odds ratio (오즈비) = $OR(x_1) = \\exp(\\beta_1) = \\exp(4.2382) = 69.2857$\n",
    "- 따라서, $x_1$이 1단위 증가하면, 성공($Y=1$)할 Odds가 실패($Y=0$)할 경우의 Odds에 비해 69배 증가한다."
   ]
  },
  {
   "cell_type": "markdown",
   "id": "5994dc7b-3d16-4699-aa96-88650e6944f0",
   "metadata": {},
   "source": [
    "### 성공할 확률 $p = P(Y=1|x_1)$ 추정"
   ]
  },
  {
   "cell_type": "code",
   "execution_count": 27,
   "id": "ba54ba6e-4e47-497e-8c9c-2944216dfaaa",
   "metadata": {},
   "outputs": [
    {
     "data": {
      "text/plain": [
       "array([-2.14361593,  7.93353559, -5.41165604,  7.66374973, -0.58357526,\n",
       "       -3.86702227,  0.63906226, -3.21461146,  4.57937202, -1.34248815,\n",
       "       -2.46092416,  4.8851954 , -4.18033071, -7.47267348,  3.07996381,\n",
       "       -5.41939762,  4.65809288,  4.61100455,  6.47435063,  5.369041  ,\n",
       "       -6.5316439 , -0.26375795,  5.01208523, -4.9069884 ,  2.87339893,\n",
       "        6.45280882,  7.3951379 ,  1.80613581,  3.17150314,  0.90439224,\n",
       "        5.09530759, -0.10451532,  5.87776337, -9.17428498, -4.6532578 ,\n",
       "       -3.87553814, -6.50300634, -3.25584632, -3.88527519,  6.66304299,\n",
       "        2.23003061,  4.06178792, -3.11936023, -2.23452543, -6.98075116,\n",
       "       -3.88115989,  2.97312809, -6.14924787, -1.44943158, -2.14649263,\n",
       "        4.93745771,  3.55521562,  5.23952097, -6.17766453,  6.82228755,\n",
       "       -4.59438724, -2.6699656 ,  5.56352358,  4.05243934, -3.25585317,\n",
       "       -6.41893836,  0.60632978,  4.5834136 ,  5.23127444,  4.96050646,\n",
       "       -2.22226163,  1.75165081, -3.63502083,  9.53696746,  4.53734967,\n",
       "       -4.27430522, -6.64632864,  9.45630222, -1.97421382,  6.87232212,\n",
       "       -6.95104091, -5.32185743,  4.35354674,  5.79556202,  3.62595056,\n",
       "        0.85717084, -2.39549244, -4.41958775, -6.43483944,  2.54622781,\n",
       "       -4.00735988, -2.88692778,  3.25230689,  5.19065354,  5.76194829,\n",
       "        2.66221474,  2.13287293, -6.51109769, 10.6704496 ,  2.08942777,\n",
       "       -3.05165364, -2.86499823, -2.79343226, -2.62575976, -0.38829444])"
      ]
     },
     "execution_count": 27,
     "metadata": {},
     "output_type": "execute_result"
    }
   ],
   "source": [
    "fitted = result.fittedvalues\n",
    "fitted"
   ]
  },
  {
   "cell_type": "code",
   "execution_count": 28,
   "id": "1a04154a-7a70-4670-a500-68bc28e5378e",
   "metadata": {},
   "outputs": [
    {
     "data": {
      "text/plain": [
       "array([1.04929299e-01, 9.99641612e-01, 4.44440023e-03, 9.99530677e-01,\n",
       "       3.58110343e-01, 2.04918708e-02, 6.54541453e-01, 3.86195551e-02,\n",
       "       9.89842887e-01, 2.07101181e-01, 7.86433474e-02, 9.92499043e-01,\n",
       "       1.50630826e-02, 5.68083738e-04, 9.56058664e-01, 4.41027755e-03,\n",
       "       9.90604578e-01, 9.90156041e-01, 9.98459875e-01, 9.95363005e-01,\n",
       "       1.45449074e-03, 4.34440146e-01, 9.93387015e-01, 7.34044423e-03,\n",
       "       9.46515676e-01, 9.98426391e-01, 9.99386145e-01, 8.58894203e-01,\n",
       "       9.59747694e-01, 7.11851272e-01, 9.93911870e-01, 4.73894928e-01,\n",
       "       9.97206781e-01, 1.03660581e-04, 9.44052986e-03, 2.03216369e-02,\n",
       "       1.49668272e-03, 3.71173753e-02, 2.01286880e-02, 9.98724376e-01,\n",
       "       9.02914042e-01, 9.83073242e-01, 4.23156909e-02, 9.66926538e-02,\n",
       "       9.28741299e-04, 2.02100167e-02, 9.51345273e-01, 2.13053815e-03,\n",
       "       1.90089061e-01, 1.04659429e-01, 9.92878272e-01, 9.72218645e-01,\n",
       "       9.94725175e-01, 2.07097110e-03, 9.98911959e-01, 1.00072555e-02,\n",
       "       6.47690522e-02, 9.96179414e-01, 9.82916974e-01, 3.71171306e-02,\n",
       "       1.62773237e-03, 6.47103122e-01, 9.89883441e-01, 9.94681728e-01,\n",
       "       9.93039412e-01, 9.77691232e-02, 8.52160896e-01, 2.57051948e-02,\n",
       "       9.99927870e-01, 9.89411582e-01, 1.37305649e-02, 1.29709701e-03,\n",
       "       9.99921811e-01, 1.21937000e-01, 9.98965004e-01, 9.56721626e-04,\n",
       "       4.85993984e-03, 9.87302191e-01, 9.96968199e-01, 9.74066666e-01,\n",
       "       7.02069223e-01, 8.35170668e-02, 1.18959765e-02, 1.60209549e-03,\n",
       "       9.27319686e-01, 1.78566748e-02, 5.28035658e-02, 9.62755919e-01,\n",
       "       9.94462469e-01, 9.96864882e-01, 9.34759860e-01, 8.94057437e-01,\n",
       "       1.48463930e-03, 9.99976779e-01, 8.89871359e-01, 4.51461349e-02,\n",
       "       5.39111979e-02, 5.76801178e-02, 6.74988539e-02, 4.04127948e-01])"
      ]
     },
     "execution_count": 28,
     "metadata": {},
     "output_type": "execute_result"
    }
   ],
   "source": [
    "p_hat = np.exp(fitted) / (1 + np.exp(fitted))\n",
    "p_hat"
   ]
  },
  {
   "cell_type": "code",
   "execution_count": 30,
   "id": "a294885d-a554-4789-8570-13f6d34fa781",
   "metadata": {},
   "outputs": [
    {
     "data": {
      "text/plain": [
       "array([0.105, 1.   , 0.004, 1.   , 0.358, 0.02 , 0.655, 0.039, 0.99 ,\n",
       "       0.207, 0.079, 0.992, 0.015, 0.001, 0.956, 0.004, 0.991, 0.99 ,\n",
       "       0.998, 0.995, 0.001, 0.434, 0.993, 0.007, 0.947, 0.998, 0.999,\n",
       "       0.859, 0.96 , 0.712, 0.994, 0.474, 0.997, 0.   , 0.009, 0.02 ,\n",
       "       0.001, 0.037, 0.02 , 0.999, 0.903, 0.983, 0.042, 0.097, 0.001,\n",
       "       0.02 , 0.951, 0.002, 0.19 , 0.105, 0.993, 0.972, 0.995, 0.002,\n",
       "       0.999, 0.01 , 0.065, 0.996, 0.983, 0.037, 0.002, 0.647, 0.99 ,\n",
       "       0.995, 0.993, 0.098, 0.852, 0.026, 1.   , 0.989, 0.014, 0.001,\n",
       "       1.   , 0.122, 0.999, 0.001, 0.005, 0.987, 0.997, 0.974, 0.702,\n",
       "       0.084, 0.012, 0.002, 0.927, 0.018, 0.053, 0.963, 0.994, 0.997,\n",
       "       0.935, 0.894, 0.001, 1.   , 0.89 , 0.045, 0.054, 0.058, 0.067,\n",
       "       0.404])"
      ]
     },
     "execution_count": 30,
     "metadata": {},
     "output_type": "execute_result"
    }
   ],
   "source": [
    "np.round(p_hat, 3)"
   ]
  },
  {
   "cell_type": "markdown",
   "id": "26f5dc6c-d3ce-4c4c-a729-d6a736a7a381",
   "metadata": {},
   "source": [
    "### 추정된 그룹 (Y)"
   ]
  },
  {
   "cell_type": "code",
   "execution_count": 31,
   "id": "aa47572a-06f2-4956-848e-2b3b0bebb3ee",
   "metadata": {},
   "outputs": [
    {
     "data": {
      "text/plain": [
       "array([0, 1, 0, 1, 0, 0, 1, 0, 1, 0, 0, 1, 0, 0, 1, 0, 1, 1, 1, 1, 0, 0,\n",
       "       1, 0, 1, 1, 1, 1, 1, 1, 1, 0, 1, 0, 0, 0, 0, 0, 0, 1, 1, 1, 0, 0,\n",
       "       0, 0, 1, 0, 0, 0, 1, 1, 1, 0, 1, 0, 0, 1, 1, 0, 0, 1, 1, 1, 1, 0,\n",
       "       1, 0, 1, 1, 0, 0, 1, 0, 1, 0, 0, 1, 1, 1, 1, 0, 0, 0, 1, 0, 0, 1,\n",
       "       1, 1, 1, 1, 0, 1, 1, 0, 0, 0, 0, 0])"
      ]
     },
     "execution_count": 31,
     "metadata": {},
     "output_type": "execute_result"
    }
   ],
   "source": [
    "y_hat = np.array([1 if p > 0.5 else 0 for p in p_hat])\n",
    "y_hat"
   ]
  },
  {
   "cell_type": "code",
   "execution_count": 32,
   "id": "bd40860a-9c42-487b-852b-402670cf93ba",
   "metadata": {},
   "outputs": [
    {
     "data": {
      "text/plain": [
       "array([[47,  2],\n",
       "       [ 3, 48]])"
      ]
     },
     "execution_count": 32,
     "metadata": {},
     "output_type": "execute_result"
    }
   ],
   "source": [
    "# 표로 확인\n",
    "from sklearn.metrics import confusion_matrix\n",
    "\n",
    "confusion_matrix(y, y_hat)"
   ]
  },
  {
   "cell_type": "markdown",
   "id": "056f09a9-6c03-4171-9c66-72f203a00d1c",
   "metadata": {},
   "source": [
    "### 새로운 값 예측"
   ]
  },
  {
   "cell_type": "code",
   "execution_count": 33,
   "id": "3c93aa24-87fe-4ef6-b4b6-fd8b038d5d6d",
   "metadata": {},
   "outputs": [
    {
     "data": {
      "text/plain": [
       "array([[ 1., -1.],\n",
       "       [ 1.,  0.],\n",
       "       [ 1.,  1.]])"
      ]
     },
     "execution_count": 33,
     "metadata": {},
     "output_type": "execute_result"
    }
   ],
   "source": [
    "# 새로운 데이터 생성\n",
    "new_x = sm.add_constant(np.array([-1, 0, 1]))\n",
    "new_x"
   ]
  },
  {
   "cell_type": "code",
   "execution_count": 34,
   "id": "2544b439-7acc-4915-8448-7ae2b1031595",
   "metadata": {},
   "outputs": [
    {
     "data": {
      "text/plain": [
       "array([0.01822141, 0.56253813, 0.98890065])"
      ]
     },
     "execution_count": 34,
     "metadata": {},
     "output_type": "execute_result"
    }
   ],
   "source": [
    "# predict 함수로 성공할 확률 예측\n",
    "result.predict(new_x)"
   ]
  },
  {
   "cell_type": "code",
   "execution_count": 35,
   "id": "7c165f5d-e388-41dd-82cb-07a23660d344",
   "metadata": {},
   "outputs": [
    {
     "data": {
      "text/plain": [
       "array([0, 1, 1])"
      ]
     },
     "execution_count": 35,
     "metadata": {},
     "output_type": "execute_result"
    }
   ],
   "source": [
    "# 추정된 확률을 가지고 그룹으로 분류\n",
    "np.array([1 if p > 0.5 else 0 for p in result.predict(new_x)])"
   ]
  },
  {
   "cell_type": "markdown",
   "id": "e8bd6565-535e-45f6-ace8-c02ea5e38a65",
   "metadata": {},
   "source": [
    "## scikit-learn 라이브러리로 모형 적합\n",
    "- `LogisticRegression()`\n",
    "- sklearn에서는 기본적으로 모형 적합에서 페널티를 주어 과적합되는 것을 방지해주는데 이를 제거하는 옵션은 `penalty = \"none\"`임"
   ]
  },
  {
   "cell_type": "code",
   "execution_count": 36,
   "id": "36353f15-b0a1-4452-8db7-2ea7e44b9148",
   "metadata": {},
   "outputs": [
    {
     "name": "stdout",
     "output_type": "stream",
     "text": [
      "[0.25146948] [[4.23823702]]\n"
     ]
    }
   ],
   "source": [
    "from sklearn.linear_model import LogisticRegression\n",
    "\n",
    "model = LogisticRegression(penalty = \"none\").fit(X0, y)\n",
    "print(model.intercept_, model.coef_)"
   ]
  },
  {
   "cell_type": "markdown",
   "id": "f2448733-00e5-410a-a2e3-e6b76f27dcff",
   "metadata": {},
   "source": [
    "### 새로운 값 예측"
   ]
  },
  {
   "cell_type": "code",
   "execution_count": 37,
   "id": "2eae787f-b51a-45a4-8767-3e3a15108d82",
   "metadata": {},
   "outputs": [
    {
     "data": {
      "text/plain": [
       "array([0, 1, 1])"
      ]
     },
     "execution_count": 37,
     "metadata": {},
     "output_type": "execute_result"
    }
   ],
   "source": [
    "new_x = np.array([-1, 0, 1]).reshape(-1, 1)\n",
    "model.predict(new_x)"
   ]
  },
  {
   "cell_type": "markdown",
   "id": "c20bb204-8294-49ef-9b3c-b97592412740",
   "metadata": {},
   "source": [
    "# 예제) 미국 의대생의 입학관련 데이터\n",
    "\n",
    "- `Acceptance`: 0이면 불합격, 1이면 합격\n",
    "- `BCPM`: Bio/Chem/Physics/Math 과목의 학점 평균\n",
    "- `GPA`: 전체과목 학점 평균\n",
    "- `VR`: MCAT Verbal reasoning 과목 점수\n",
    "- `PS`: MCAT Physical sciences 과목 점수\n",
    "- `WS`: MCAT Writing sample 과목 점수\n",
    "- `BS`: MCAT Biological sciences 과목 점수\n",
    "- `MCAT`: MCAT 촘점\n",
    "- `Apps`: 의대 지원 횟수"
   ]
  },
  {
   "cell_type": "code",
   "execution_count": 38,
   "id": "8fc6fcd4-13c6-4a38-ab18-43ebb827e3f2",
   "metadata": {},
   "outputs": [
    {
     "data": {
      "text/html": [
       "<div>\n",
       "<style scoped>\n",
       "    .dataframe tbody tr th:only-of-type {\n",
       "        vertical-align: middle;\n",
       "    }\n",
       "\n",
       "    .dataframe tbody tr th {\n",
       "        vertical-align: top;\n",
       "    }\n",
       "\n",
       "    .dataframe thead th {\n",
       "        text-align: right;\n",
       "    }\n",
       "</style>\n",
       "<table border=\"1\" class=\"dataframe\">\n",
       "  <thead>\n",
       "    <tr style=\"text-align: right;\">\n",
       "      <th></th>\n",
       "      <th>Accept</th>\n",
       "      <th>Acceptance</th>\n",
       "      <th>Sex</th>\n",
       "      <th>BCPM</th>\n",
       "      <th>GPA</th>\n",
       "      <th>VR</th>\n",
       "      <th>PS</th>\n",
       "      <th>WS</th>\n",
       "      <th>BS</th>\n",
       "      <th>MCAT</th>\n",
       "      <th>Apps</th>\n",
       "    </tr>\n",
       "  </thead>\n",
       "  <tbody>\n",
       "    <tr>\n",
       "      <th>50</th>\n",
       "      <td>D</td>\n",
       "      <td>0</td>\n",
       "      <td>M</td>\n",
       "      <td>2.41</td>\n",
       "      <td>2.72</td>\n",
       "      <td>8</td>\n",
       "      <td>8</td>\n",
       "      <td>8.0</td>\n",
       "      <td>8</td>\n",
       "      <td>32</td>\n",
       "      <td>7</td>\n",
       "    </tr>\n",
       "    <tr>\n",
       "      <th>51</th>\n",
       "      <td>D</td>\n",
       "      <td>0</td>\n",
       "      <td>M</td>\n",
       "      <td>3.51</td>\n",
       "      <td>3.56</td>\n",
       "      <td>11</td>\n",
       "      <td>8</td>\n",
       "      <td>6.0</td>\n",
       "      <td>9</td>\n",
       "      <td>34</td>\n",
       "      <td>6</td>\n",
       "    </tr>\n",
       "    <tr>\n",
       "      <th>52</th>\n",
       "      <td>A</td>\n",
       "      <td>1</td>\n",
       "      <td>F</td>\n",
       "      <td>3.43</td>\n",
       "      <td>3.48</td>\n",
       "      <td>7</td>\n",
       "      <td>10</td>\n",
       "      <td>7.0</td>\n",
       "      <td>10</td>\n",
       "      <td>34</td>\n",
       "      <td>14</td>\n",
       "    </tr>\n",
       "    <tr>\n",
       "      <th>53</th>\n",
       "      <td>D</td>\n",
       "      <td>0</td>\n",
       "      <td>M</td>\n",
       "      <td>2.61</td>\n",
       "      <td>2.80</td>\n",
       "      <td>7</td>\n",
       "      <td>5</td>\n",
       "      <td>NaN</td>\n",
       "      <td>6</td>\n",
       "      <td>18</td>\n",
       "      <td>6</td>\n",
       "    </tr>\n",
       "    <tr>\n",
       "      <th>54</th>\n",
       "      <td>D</td>\n",
       "      <td>0</td>\n",
       "      <td>M</td>\n",
       "      <td>3.36</td>\n",
       "      <td>3.44</td>\n",
       "      <td>11</td>\n",
       "      <td>11</td>\n",
       "      <td>8.0</td>\n",
       "      <td>9</td>\n",
       "      <td>39</td>\n",
       "      <td>1</td>\n",
       "    </tr>\n",
       "  </tbody>\n",
       "</table>\n",
       "</div>"
      ],
      "text/plain": [
       "   Accept  Acceptance Sex  BCPM   GPA  VR  PS   WS  BS  MCAT  Apps\n",
       "50      D           0   M  2.41  2.72   8   8  8.0   8    32     7\n",
       "51      D           0   M  3.51  3.56  11   8  6.0   9    34     6\n",
       "52      A           1   F  3.43  3.48   7  10  7.0  10    34    14\n",
       "53      D           0   M  2.61  2.80   7   5  NaN   6    18     6\n",
       "54      D           0   M  3.36  3.44  11  11  8.0   9    39     1"
      ]
     },
     "execution_count": 38,
     "metadata": {},
     "output_type": "execute_result"
    }
   ],
   "source": [
    "# 데이터 가져오기\n",
    "data_med = sm.datasets.get_rdataset(\"MedGPA\", package=\"Stat2Data\")\n",
    "df_med = data_med.data\n",
    "df_med.tail()"
   ]
  },
  {
   "cell_type": "code",
   "execution_count": 39,
   "id": "34b42c15-eeb2-46d9-9d89-471d1b30e3c4",
   "metadata": {},
   "outputs": [
    {
     "data": {
      "text/plain": [
       "Accept\n",
       "A    30\n",
       "D    25\n",
       "Name: Accept, dtype: int64"
      ]
     },
     "execution_count": 39,
     "metadata": {},
     "output_type": "execute_result"
    }
   ],
   "source": [
    "# 그룹별 개수 확인\n",
    "df_med.Accept.groupby(df_med.Accept).count()"
   ]
  },
  {
   "cell_type": "code",
   "execution_count": 40,
   "id": "abd8f5b6-e99d-4c51-9a5c-8847470a43dd",
   "metadata": {},
   "outputs": [
    {
     "data": {
      "image/png": "[encoded data removed]",
      "text/plain": [
       "<Figure size 432x288 with 1 Axes>"
      ]
     },
     "metadata": {
      "needs_background": "light"
     },
     "output_type": "display_data"
    }
   ],
   "source": [
    "sns.stripplot(x=\"GPA\", y=\"Acceptance\", data=df_med,\n",
    "              jitter=True, orient='h', order=[1, 0])\n",
    "plt.grid()\n",
    "plt.show()"
   ]
  },
  {
   "cell_type": "markdown",
   "id": "9c2683b3-6b9c-410d-b0d3-e335894ad364",
   "metadata": {},
   "source": [
    "### 로지스틱 회귀모형 적합"
   ]
  },
  {
   "cell_type": "code",
   "execution_count": 41,
   "id": "f5ec4023-aff3-4c89-a568-aaca91de3d1f",
   "metadata": {},
   "outputs": [
    {
     "name": "stdout",
     "output_type": "stream",
     "text": [
      "Optimization terminated successfully.\n",
      "         Current function value: 0.280736\n",
      "         Iterations 9\n",
      "                           Logit Regression Results                           \n",
      "==============================================================================\n",
      "Dep. Variable:             Acceptance   No. Observations:                   54\n",
      "Model:                          Logit   Df Residuals:                       45\n",
      "Method:                           MLE   Df Model:                            8\n",
      "Date:                Fri, 16 Jul 2021   Pseudo R-squ.:                  0.5913\n",
      "Time:                        07:53:02   Log-Likelihood:                -15.160\n",
      "converged:                       True   LL-Null:                       -37.096\n",
      "Covariance Type:            nonrobust   LLR p-value:                 6.014e-07\n",
      "==============================================================================\n",
      "                 coef    std err          z      P>|z|      [0.025      0.975]\n",
      "------------------------------------------------------------------------------\n",
      "Intercept    -46.6414     15.600     -2.990      0.003     -77.216     -16.067\n",
      "Sex[T.M]      -2.2835      1.429     -1.597      0.110      -5.085       0.518\n",
      "BCPM          -6.1633      6.963     -0.885      0.376     -19.811       7.484\n",
      "GPA           12.3973      8.611      1.440      0.150      -4.479      29.274\n",
      "VR             0.0790      0.311      0.254      0.799      -0.530       0.688\n",
      "PS             1.1673      0.539      2.164      0.030       0.110       2.225\n",
      "WS            -0.7784      0.396     -1.968      0.049      -1.554      -0.003\n",
      "BS             1.9184      0.682      2.814      0.005       0.582       3.255\n",
      "Apps           0.0512      0.147      0.348      0.728      -0.237       0.340\n",
      "==============================================================================\n"
     ]
    }
   ],
   "source": [
    "model_med = sm.Logit.from_formula(\"Acceptance ~ Sex + BCPM + GPA + VR + PS + WS + BS + Apps\", df_med)\n",
    "result_med = model_med.fit()\n",
    "print(result_med.summary())"
   ]
  },
  {
   "cell_type": "markdown",
   "id": "1eb05803-1ae4-46ce-94a7-c339029c2157",
   "metadata": {},
   "source": [
    "### 유의하지 않은 변수 제외하고 모형 적합"
   ]
  },
  {
   "cell_type": "code",
   "execution_count": 42,
   "id": "32bc4adb-4ff7-49d9-83ea-427fe55a703a",
   "metadata": {},
   "outputs": [
    {
     "name": "stdout",
     "output_type": "stream",
     "text": [
      "Optimization terminated successfully.\n",
      "         Current function value: 0.460609\n",
      "         Iterations 7\n",
      "                           Logit Regression Results                           \n",
      "==============================================================================\n",
      "Dep. Variable:             Acceptance   No. Observations:                   55\n",
      "Model:                          Logit   Df Residuals:                       52\n",
      "Method:                           MLE   Df Model:                            2\n",
      "Date:                Fri, 16 Jul 2021   Pseudo R-squ.:                  0.3315\n",
      "Time:                        07:54:17   Log-Likelihood:                -25.333\n",
      "converged:                       True   LL-Null:                       -37.896\n",
      "Covariance Type:            nonrobust   LLR p-value:                 3.503e-06\n",
      "==============================================================================\n",
      "                 coef    std err          z      P>|z|      [0.025      0.975]\n",
      "------------------------------------------------------------------------------\n",
      "Intercept    -15.5427      4.684     -3.318      0.001     -24.723      -6.362\n",
      "PS             0.4798      0.316      1.518      0.129      -0.140       1.099\n",
      "BS             1.1464      0.387      2.959      0.003       0.387       1.906\n",
      "==============================================================================\n"
     ]
    }
   ],
   "source": [
    "model_med = sm.Logit.from_formula(\"Acceptance ~ PS + BS\", df_med)\n",
    "result_med = model_med.fit()\n",
    "print(result_med.summary())"
   ]
  },
  {
   "cell_type": "markdown",
   "id": "15eba34b-3bfb-4964-b7a8-8421e105ea3a",
   "metadata": {},
   "source": [
    "### 로지스틱 회귀모형식\n",
    "$$\n",
    "\\begin{align}\n",
    "\\log\\left( \\frac{\\hat p}{1-\\hat p} \\right) &= \\hat\\beta_0 + \\hat\\beta_1 \\text{PS} + \\hat\\beta_2 \\text{BS} \\\\\n",
    "                                 &= -15.5427 + 0.4798 \\text{PS} + 1.1464 \\text{BS}\n",
    "\\end{align}\n",
    "$$\n",
    "\n",
    "$$ \\hat p = \\hat P(\\text{Acceptance}=1|\\text{PS}, \\text{BS}) = \\frac{\\exp(\\hat\\beta_0 + \\hat\\beta_1 \\text{PS} + \\hat\\beta_2 \\text{BS})}{1+ \\exp(\\hat\\beta_0 + \\hat\\beta_1 \\text{PS} + \\hat\\beta_2 \\text{BS})}$$"
   ]
  },
  {
   "cell_type": "code",
   "execution_count": 43,
   "id": "8fc58fe7-956c-4ee1-b249-c8b19cb5e297",
   "metadata": {},
   "outputs": [
    {
     "data": {
      "text/plain": [
       "PS    0.479766\n",
       "BS    1.146406\n",
       "dtype: float64"
      ]
     },
     "execution_count": 43,
     "metadata": {},
     "output_type": "execute_result"
    }
   ],
   "source": [
    "# Log Odds ratio\n",
    "result_med.params[1:]"
   ]
  },
  {
   "cell_type": "code",
   "execution_count": 44,
   "id": "64ff31b3-a7f2-4d1c-bedf-76bd0ad49ed0",
   "metadata": {},
   "outputs": [
    {
     "data": {
      "text/plain": [
       "PS    1.615697\n",
       "BS    3.146864\n",
       "dtype: float64"
      ]
     },
     "execution_count": 44,
     "metadata": {},
     "output_type": "execute_result"
    }
   ],
   "source": [
    "# Odds ratio\n",
    "np.exp(result_med.params)[1:]"
   ]
  },
  {
   "cell_type": "markdown",
   "id": "51e04845-0316-4727-b24c-e3c5d4a24e11",
   "metadata": {},
   "source": [
    "### 회귀계수 해석\n",
    "- PS에 대한 Odds ratio (오즈비) = $OR(\\text{PS}) = \\exp(\\beta_1) = \\exp(0.4798) = 1.6157$\n",
    "- 따라서, PS가 1점 증가하면, 합격($\\text{Acceptance}=1$)할 Odds가 불합격($\\text{Acceptance}=0$)할 경우의 Odds에 비해 1.6배 증가한다.\n",
    "\n",
    "- BS에 대한 Odds ratio (오즈비) = $OR(\\text{BS}) = \\exp(\\beta_2) = \\exp(1.1464) = 3.1469$\n",
    "- 따라서, BS가 1점 증가하면, 합격($\\text{Acceptance}=1$)할 Odds가 불합격($\\text{Acceptance}=0$)할 경우의 Odds에 비해 3.1배 증가한다."
   ]
  },
  {
   "cell_type": "code",
   "execution_count": null,
   "id": "a594b496-fe86-4ddd-b854-6579e0eb067b",
   "metadata": {},
   "outputs": [],
   "source": []
  }
 ],
 "metadata": {
  "kernelspec": {
   "display_name": "Python 3",
   "language": "python",
   "name": "python3"
  },
  "language_info": {
   "codemirror_mode": {
    "name": "ipython",
    "version": 3
   },
   "file_extension": ".py",
   "mimetype": "text/x-python",
   "name": "python",
   "nbconvert_exporter": "python",
   "pygments_lexer": "ipython3",
   "version": "3.8.8"
  }
 },
 "nbformat": 4,
 "nbformat_minor": 5
}
