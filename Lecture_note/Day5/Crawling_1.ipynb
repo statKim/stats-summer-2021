{
 "cells": [
  {
   "cell_type": "markdown",
   "id": "e7083835-09f7-4980-a342-8e42531d6cdf",
   "metadata": {},
   "source": [
    "# 크롤링 (Crawling)"
   ]
  },
  {
   "cell_type": "code",
   "execution_count": null,
   "id": "d5122e70-b5b7-4933-ad17-820b17968965",
   "metadata": {},
   "outputs": [],
   "source": []
  },
  {
   "cell_type": "code",
   "execution_count": null,
   "id": "5ea07992-9aaa-45b4-b647-872d34be7ebd",
   "metadata": {},
   "outputs": [],
   "source": []
  },
  {
   "cell_type": "code",
   "execution_count": null,
   "id": "484d8395-90a8-4800-8685-214121fc178e",
   "metadata": {},
   "outputs": [],
   "source": []
  },
  {
   "cell_type": "code",
   "execution_count": null,
   "id": "9c507e54-c965-462d-b2cf-43178b0a934a",
   "metadata": {},
   "outputs": [],
   "source": []
  },
  {
   "cell_type": "code",
   "execution_count": null,
   "id": "cc6fbc4a-9270-4175-bcd2-7a4d2d5cd01b",
   "metadata": {},
   "outputs": [],
   "source": []
  },
  {
   "cell_type": "code",
   "execution_count": null,
   "id": "0de85912-5e6c-42a5-9de8-e6e12a17a48b",
   "metadata": {},
   "outputs": [],
   "source": []
  }
 ],
 "metadata": {
  "kernelspec": {
   "display_name": "Python 3",
   "language": "python",
   "name": "python3"
  },
  "language_info": {
   "codemirror_mode": {
    "name": "ipython",
    "version": 3
   },
   "file_extension": ".py",
   "mimetype": "text/x-python",
   "name": "python",
   "nbconvert_exporter": "python",
   "pygments_lexer": "ipython3",
   "version": "3.8.8"
  }
 },
 "nbformat": 4,
 "nbformat_minor": 5
}
