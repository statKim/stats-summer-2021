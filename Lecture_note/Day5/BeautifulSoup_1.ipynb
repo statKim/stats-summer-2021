{
 "cells": [
  {
   "cell_type": "markdown",
   "id": "1ff73e35",
   "metadata": {},
   "source": [
    "# 크롤링 (Crawling)\n",
    "\n",
    "- 크롤링이란 웹사이트에서 실시간으로 정보를 가져오는 것으로 스크래핑이라고도 불림\n",
    "- 웹사이트는 HTML 문서로 작성되어 있고, 이 내용을 가져오도록 요청(request)해야함\n",
    "- 크롤링을 위해서는 HTML, CSS 등의 웹을 구성하는 언어에 대한 이해가 필요"
   ]
  },
  {
   "cell_type": "markdown",
   "id": "5cbfb414-b5bf-46d2-9080-c3c6f871c2d0",
   "metadata": {},
   "source": [
    "## 크롤링을 위한 준비\n",
    "- 필요한 파이썬 모듈\n",
    "    - BeautifulSoup\n",
    "    - requests\n",
    "    - Selenium (이 모듈은 다음 시간에 활용)\n",
    "- 크롬\n",
    "- 크롬 드라이버"
   ]
  },
  {
   "cell_type": "markdown",
   "id": "cdf56c8b-d885-4183-a39b-b203c3b8e18c",
   "metadata": {},
   "source": [
    "# BeautifulSoup이란?\n",
    "- 크롤링을 하는 기본적인 과정은 HTML로 이루어진 웹사이트에서 태그(Tag)에 접근하여 원하는 부분을 가져오는 과정임\n",
    "- BeautifulSoup은 HTML 태그에 접근하기 쉽게 해주는 모듈"
   ]
  },
  {
   "cell_type": "markdown",
   "id": "9180c252-5b58-454a-a11b-2ae31db457eb",
   "metadata": {},
   "source": [
    "# BeutifulSoup 모듈을 이용한 크롤링"
   ]
  },
  {
   "cell_type": "code",
   "execution_count": 121,
   "id": "7add44e9-6dae-4e64-9cbb-d562e5468ae7",
   "metadata": {},
   "outputs": [],
   "source": [
    "# 라이브러리 불러오기\n",
    "from bs4 import BeautifulSoup"
   ]
  },
  {
   "cell_type": "code",
   "execution_count": 124,
   "id": "747cd88b-6faf-4d89-801c-91fbc14dd8a4",
   "metadata": {},
   "outputs": [
    {
     "data": {
      "text/plain": [
       "'\\n<html><head><title>The Dormouse\\'s story</title></head>\\n\\n<p class=\"title\"><b>The Dormouse\\'s story</b></p>\\n\\n<p class=\"story\">Once upon a time there were three little sisters; and their names were\\n<a href=\"http://example.com/elsie\" class=\"sister\" id=\"link1\">Elsie</a>,\\n<a href=\"http://example.com/lacie\" class=\"sister\" id=\"link2\">Lacie</a> and\\n<a href=\"http://example.com/tillie\" class=\"sister\" id=\"link3\">Tillie</a>;\\nand they lived at the bottom of a well.</p>\\n\\n<p class=\"story\">...</p>\\n'"
      ]
     },
     "execution_count": 124,
     "metadata": {},
     "output_type": "execute_result"
    }
   ],
   "source": [
    "# HTML 문서의 예시\n",
    "html_doc = \"\"\"\n",
    "<html><head><title>The Dormouse's story</title></head>\n",
    "\n",
    "<p class=\"title\"><b>The Dormouse's story</b></p>\n",
    "\n",
    "<p class=\"story\">Once upon a time there were three little sisters; and their names were\n",
    "<a href=\"http://example.com/elsie\" class=\"sister\" id=\"link1\">Elsie</a>,\n",
    "<a href=\"http://example.com/lacie\" class=\"sister\" id=\"link2\">Lacie</a> and\n",
    "<a href=\"http://example.com/tillie\" class=\"sister\" id=\"link3\">Tillie</a>;\n",
    "and they lived at the bottom of a well.</p>\n",
    "\n",
    "<p class=\"story\">...</p>\n",
    "\"\"\"\n",
    "html_doc"
   ]
  },
  {
   "cell_type": "markdown",
   "id": "18130fbf-5679-4a6a-9976-f361e53154a9",
   "metadata": {},
   "source": [
    "## 1. BeautifulSoup object 만들기\n",
    "- BeautifulSoup이 HTML 태그에 접근할 수 있는 형태로 만들어주는 과정"
   ]
  },
  {
   "cell_type": "code",
   "execution_count": 140,
   "id": "8b064c0b-4196-4dac-8014-711baf051e87",
   "metadata": {},
   "outputs": [
    {
     "data": {
      "text/plain": [
       "\n",
       "<html><head><title>The Dormouse's story</title></head>\n",
       "<p class=\"title\"><b>The Dormouse's story</b></p>\n",
       "<p class=\"story\">Once upon a time there were three little sisters; and their names were\n",
       "<a class=\"sister\" href=\"http://example.com/elsie\" id=\"link1\">Elsie</a>,\n",
       "<a class=\"sister\" href=\"http://example.com/lacie\" id=\"link2\">Lacie</a> and\n",
       "<a class=\"sister\" href=\"http://example.com/tillie\" id=\"link3\">Tillie</a>;\n",
       "and they lived at the bottom of a well.</p>\n",
       "<p class=\"story\">...</p>\n",
       "</html>"
      ]
     },
     "execution_count": 140,
     "metadata": {},
     "output_type": "execute_result"
    }
   ],
   "source": [
    "soup = BeautifulSoup(html_doc, \"html.parser\")\n",
    "soup"
   ]
  },
  {
   "cell_type": "code",
   "execution_count": 141,
   "id": "9066dcc2-692d-4051-ade0-8073c14693d0",
   "metadata": {},
   "outputs": [
    {
     "name": "stdout",
     "output_type": "stream",
     "text": [
      "<html>\n",
      " <head>\n",
      "  <title>\n",
      "   The Dormouse's story\n",
      "  </title>\n",
      " </head>\n",
      " <p class=\"title\">\n",
      "  <b>\n",
      "   The Dormouse's story\n",
      "  </b>\n",
      " </p>\n",
      " <p class=\"story\">\n",
      "  Once upon a time there were three little sisters; and their names were\n",
      "  <a class=\"sister\" href=\"http://example.com/elsie\" id=\"link1\">\n",
      "   Elsie\n",
      "  </a>\n",
      "  ,\n",
      "  <a class=\"sister\" href=\"http://example.com/lacie\" id=\"link2\">\n",
      "   Lacie\n",
      "  </a>\n",
      "  and\n",
      "  <a class=\"sister\" href=\"http://example.com/tillie\" id=\"link3\">\n",
      "   Tillie\n",
      "  </a>\n",
      "  ;\n",
      "and they lived at the bottom of a well.\n",
      " </p>\n",
      " <p class=\"story\">\n",
      "  ...\n",
      " </p>\n",
      "</html>\n"
     ]
    }
   ],
   "source": [
    "# HTML 파일을 가독성이 좋은 형태로 보기 (구조 파악에 용이)\n",
    "print(soup.prettify())"
   ]
  },
  {
   "cell_type": "markdown",
   "id": "3511e79c-4006-40da-af33-c8503dafb5d3",
   "metadata": {},
   "source": [
    "## 2. HTML 태그(Tag)에 접근하기"
   ]
  },
  {
   "cell_type": "code",
   "execution_count": 135,
   "id": "f7ea6cff-25c6-4d5d-a520-10649c55ef64",
   "metadata": {},
   "outputs": [
    {
     "data": {
      "text/plain": [
       "<title>The Dormouse's story</title>"
      ]
     },
     "execution_count": 135,
     "metadata": {},
     "output_type": "execute_result"
    }
   ],
   "source": [
    "# <title>에 접근 (title 태그)\n",
    "soup.title"
   ]
  },
  {
   "cell_type": "code",
   "execution_count": 190,
   "id": "c7c61756-2417-430a-abcd-8492f5840418",
   "metadata": {},
   "outputs": [
    {
     "data": {
      "text/plain": [
       "<a class=\"sister\" href=\"http://example.com/elsie\" id=\"link1\">Elsie</a>"
      ]
     },
     "execution_count": 190,
     "metadata": {},
     "output_type": "execute_result"
    }
   ],
   "source": [
    "# <a>에 접근 (a 태그)\n",
    "soup.a"
   ]
  },
  {
   "cell_type": "code",
   "execution_count": 192,
   "id": "2557afbf-dc39-4a59-9d3a-dca9c1d7f5de",
   "metadata": {},
   "outputs": [
    {
     "data": {
      "text/plain": [
       "<p class=\"title\"><b>The Dormouse's story</b></p>"
      ]
     },
     "execution_count": 192,
     "metadata": {},
     "output_type": "execute_result"
    }
   ],
   "source": [
    "# <p>에 접근 (p 태그)\n",
    "soup.p"
   ]
  },
  {
   "cell_type": "markdown",
   "id": "75e8a02d-6f02-41d1-a9a7-e3a26891f441",
   "metadata": {},
   "source": [
    "## 3. 글자만 가져오기\n",
    "- `.get_text()`\n",
    "- `.text`"
   ]
  },
  {
   "cell_type": "code",
   "execution_count": 180,
   "id": "77ec01eb-ad3e-4e6c-8e15-01341d9b6843",
   "metadata": {},
   "outputs": [
    {
     "data": {
      "text/plain": [
       "\"The Dormouse's story\""
      ]
     },
     "execution_count": 180,
     "metadata": {},
     "output_type": "execute_result"
    }
   ],
   "source": [
    "# 글자만 뽑기\n",
    "soup.title.get_text()"
   ]
  },
  {
   "cell_type": "code",
   "execution_count": 181,
   "id": "e2fdb5bf-eb96-408d-b939-5d3498b6978a",
   "metadata": {},
   "outputs": [
    {
     "data": {
      "text/plain": [
       "\"The Dormouse's story\""
      ]
     },
     "execution_count": 181,
     "metadata": {},
     "output_type": "execute_result"
    }
   ],
   "source": [
    "# 또는\n",
    "soup.title.text"
   ]
  },
  {
   "cell_type": "code",
   "execution_count": 179,
   "id": "77eaee31-1d92-42e4-bf20-23044766b887",
   "metadata": {},
   "outputs": [
    {
     "data": {
      "text/plain": [
       "\"\\nThe Dormouse's story\\nThe Dormouse's story\\nOnce upon a time there were three little sisters; and their names were\\nElsie,\\nLacie and\\nTillie;\\nand they lived at the bottom of a well.\\n...\\n\""
      ]
     },
     "execution_count": 179,
     "metadata": {},
     "output_type": "execute_result"
    }
   ],
   "source": [
    "# 문서의 모든 텍스트 가져오기\n",
    "soup.get_text()"
   ]
  },
  {
   "cell_type": "markdown",
   "id": "66e0c7b3-95f3-4ba6-a290-db3f5420b312",
   "metadata": {},
   "source": [
    "## 4. 원하는 부분 가져오기\n",
    "- `.find(\"태그명\")` : 태그가 \"태그명\"인 첫번째 태그를 가져옴\n",
    "- `.find(\"태그명\", \"class명\")` : 태그가 \"태그명\"이고 class가 \"class명\"인 첫번째 태그를 가져옴\n",
    "- `.find_all(\"태그명\")` : 태그가 \"태그명\"인 모든 태그를 가져옴 (리스트로 가져옴)\n",
    "- `.find_all(\"태그명\", \"class명\")` : 태그가 \"태그명\"이고 class가 \"class명\"인 모든 태그를 가져옴 (리스트로 가져옴)"
   ]
  },
  {
   "cell_type": "code",
   "execution_count": 166,
   "id": "40533629-cae4-4a77-a473-dae6782b7ae5",
   "metadata": {},
   "outputs": [
    {
     "data": {
      "text/plain": [
       "<p class=\"title\"><b>The Dormouse's story</b></p>"
      ]
     },
     "execution_count": 166,
     "metadata": {},
     "output_type": "execute_result"
    }
   ],
   "source": [
    "# p 태그 중 첫 번쨰만 가져오기\n",
    "soup.find(\"p\")"
   ]
  },
  {
   "cell_type": "code",
   "execution_count": 167,
   "id": "1fc99fe9-e1de-4580-851e-ef07d3e0b128",
   "metadata": {},
   "outputs": [
    {
     "data": {
      "text/plain": [
       "<p class=\"title\"><b>The Dormouse's story</b></p>"
      ]
     },
     "execution_count": 167,
     "metadata": {},
     "output_type": "execute_result"
    }
   ],
   "source": [
    "# class가 \"title\"인 첫 번째 p 태그 가져오기\n",
    "soup.find(\"p\", \"title\")"
   ]
  },
  {
   "cell_type": "code",
   "execution_count": 168,
   "id": "c0f2eb85-dbab-4a7b-8efd-376a3db93a21",
   "metadata": {},
   "outputs": [
    {
     "data": {
      "text/plain": [
       "[<p class=\"title\"><b>The Dormouse's story</b></p>,\n",
       " <p class=\"story\">Once upon a time there were three little sisters; and their names were\n",
       " <a class=\"sister\" href=\"http://example.com/elsie\" id=\"link1\">Elsie</a>,\n",
       " <a class=\"sister\" href=\"http://example.com/lacie\" id=\"link2\">Lacie</a> and\n",
       " <a class=\"sister\" href=\"http://example.com/tillie\" id=\"link3\">Tillie</a>;\n",
       " and they lived at the bottom of a well.</p>,\n",
       " <p class=\"story\">...</p>]"
      ]
     },
     "execution_count": 168,
     "metadata": {},
     "output_type": "execute_result"
    }
   ],
   "source": [
    "# p 태그 모두 가져오기\n",
    "soup.find_all(\"p\")"
   ]
  },
  {
   "cell_type": "code",
   "execution_count": 188,
   "id": "c3dc9c72-b0f2-4779-bdad-16fa636a9303",
   "metadata": {},
   "outputs": [
    {
     "data": {
      "text/plain": [
       "3"
      ]
     },
     "execution_count": 188,
     "metadata": {},
     "output_type": "execute_result"
    }
   ],
   "source": [
    "len(soup.find_all(\"p\"))"
   ]
  },
  {
   "cell_type": "code",
   "execution_count": 171,
   "id": "3385299a-789f-4cc3-b120-06b607c55678",
   "metadata": {},
   "outputs": [
    {
     "data": {
      "text/plain": [
       "[<p class=\"title\"><b>The Dormouse's story</b></p>]"
      ]
     },
     "execution_count": 171,
     "metadata": {},
     "output_type": "execute_result"
    }
   ],
   "source": [
    "# class가 \"title\"인 p 태그 모두 가져오기\n",
    "soup.find_all(\"p\", \"title\")"
   ]
  },
  {
   "cell_type": "code",
   "execution_count": 186,
   "id": "09bc1bb8-c48f-4ba0-b5d2-e8b34c339750",
   "metadata": {},
   "outputs": [
    {
     "name": "stdout",
     "output_type": "stream",
     "text": [
      "The Dormouse's story\n",
      "Once upon a time there were three little sisters; and their names were\n",
      "Elsie,\n",
      "Lacie and\n",
      "Tillie;\n",
      "and they lived at the bottom of a well.\n",
      "...\n"
     ]
    }
   ],
   "source": [
    "# p 태그의 모든 글자 가져오기\n",
    "for i in soup.find_all(\"p\"):\n",
    "    print(i.get_text())"
   ]
  },
  {
   "cell_type": "code",
   "execution_count": 187,
   "id": "738a527c-0dfa-4617-a0d6-516d83a84a42",
   "metadata": {},
   "outputs": [
    {
     "data": {
      "text/plain": [
       "[\"The Dormouse's story\",\n",
       " 'Once upon a time there were three little sisters; and their names were\\nElsie,\\nLacie and\\nTillie;\\nand they lived at the bottom of a well.',\n",
       " '...']"
      ]
     },
     "execution_count": 187,
     "metadata": {},
     "output_type": "execute_result"
    }
   ],
   "source": [
    "# p 태그의 모든 글자를 가져와서 리스트에 담기 - list comprehension 활용\n",
    "[i.get_text() for i in soup.find_all(\"p\")]"
   ]
  },
  {
   "cell_type": "markdown",
   "id": "9296cf6f-f816-4755-9092-303aa8c9289c",
   "metadata": {},
   "source": [
    "## 5. CSS selector로 값 가져오기\n",
    "- `.select()` : 태그, 클래스, id로 검색이 가능\n",
    "    - class : `.class명`\n",
    "    - id : `#id명`"
   ]
  },
  {
   "cell_type": "code",
   "execution_count": 182,
   "id": "adbfa55c-3b56-4724-b0dc-5cc76c849edc",
   "metadata": {},
   "outputs": [
    {
     "data": {
      "text/plain": [
       "[<title>The Dormouse's story</title>]"
      ]
     },
     "execution_count": 182,
     "metadata": {},
     "output_type": "execute_result"
    }
   ],
   "source": [
    "# 태그로 검색\n",
    "soup.select(\"title\")"
   ]
  },
  {
   "cell_type": "code",
   "execution_count": 183,
   "id": "0ef4e080-a118-4275-9a2a-ec4331c82c32",
   "metadata": {},
   "outputs": [
    {
     "data": {
      "text/plain": [
       "[<title>The Dormouse's story</title>]"
      ]
     },
     "execution_count": 183,
     "metadata": {},
     "output_type": "execute_result"
    }
   ],
   "source": [
    "# 태그로 순차적으로도 접근이 가능\n",
    "soup.select(\"head > title\")"
   ]
  },
  {
   "cell_type": "code",
   "execution_count": 184,
   "id": "31331e53-1be4-4e6c-842f-c1d223d34cf2",
   "metadata": {},
   "outputs": [
    {
     "data": {
      "text/plain": [
       "[<a class=\"sister\" href=\"http://example.com/elsie\" id=\"link1\">Elsie</a>,\n",
       " <a class=\"sister\" href=\"http://example.com/lacie\" id=\"link2\">Lacie</a>,\n",
       " <a class=\"sister\" href=\"http://example.com/tillie\" id=\"link3\">Tillie</a>]"
      ]
     },
     "execution_count": 184,
     "metadata": {},
     "output_type": "execute_result"
    }
   ],
   "source": [
    "# 클래스가 \"sister\"인 태그 모두 가져오기\n",
    "soup.select(\".sister\")"
   ]
  },
  {
   "cell_type": "code",
   "execution_count": 185,
   "id": "2c552abc-edb0-49ae-b9e6-8d4f30ae2c06",
   "metadata": {},
   "outputs": [
    {
     "data": {
      "text/plain": [
       "[<a class=\"sister\" href=\"http://example.com/elsie\" id=\"link1\">Elsie</a>]"
      ]
     },
     "execution_count": 185,
     "metadata": {},
     "output_type": "execute_result"
    }
   ],
   "source": [
    "# id가 \"link1\"인 태그 모두 가져오기\n",
    "soup.select(\"#link1\")"
   ]
  },
  {
   "cell_type": "code",
   "execution_count": 189,
   "id": "0fff9762-b371-4bf6-ba60-4703622e71a2",
   "metadata": {},
   "outputs": [
    {
     "data": {
      "text/plain": [
       "['Elsie', 'Lacie', 'Tillie']"
      ]
     },
     "execution_count": 189,
     "metadata": {},
     "output_type": "execute_result"
    }
   ],
   "source": [
    "# 클래스가 \"sister\"인 태그에서 글자만 가져오기\n",
    "[i.get_text() for i in soup.select(\".sister\")]"
   ]
  },
  {
   "cell_type": "markdown",
   "id": "0e3a28c0-0d76-4934-9e60-6c1d05c3f198",
   "metadata": {},
   "source": [
    "## Reference\n",
    "- [한글 공식문서](https://www.crummy.com/software/BeautifulSoup/bs4/doc.ko/)"
   ]
  }
 ],
 "metadata": {
  "kernelspec": {
   "display_name": "Python 3",
   "language": "python",
   "name": "python3"
  },
  "language_info": {
   "codemirror_mode": {
    "name": "ipython",
    "version": 3
   },
   "file_extension": ".py",
   "mimetype": "text/x-python",
   "name": "python",
   "nbconvert_exporter": "python",
   "pygments_lexer": "ipython3",
   "version": "3.8.10"
  }
 },
 "nbformat": 4,
 "nbformat_minor": 5
}
