{
 "cells": [
  {
   "cell_type": "markdown",
   "id": "ae71e18a-2549-4146-a7ed-34d11e707d8d",
   "metadata": {},
   "source": [
    "# 회귀 (Regression) - 지도학습\n",
    "1. 회귀분석\n",
    "2. k-Nearest Neighbors (KNN)\n",
    "3. 서포트벡터머신 (Support Vetor Machine (SVM))\n",
    "4. 의사결정나무 (Decision Tree)\n",
    "5. 랜덤포레스트 (Random Forest)"
   ]
  },
  {
   "cell_type": "markdown",
   "id": "07da2e0f-2f20-4d0f-99b0-ac732bf6e65f",
   "metadata": {},
   "source": [
    "## 회귀 성능 비교 측도\n",
    "### 평균제곱오차 (Mean squared error; MSE)\n",
    "- 예측값과 실제값 차이의 제곱의 평균\n",
    "\n",
    "$$\\frac{1}{n}\\sum_{i=1}^n(y_i-\\hat y_i)^2$$"
   ]
  },
  {
   "cell_type": "code",
   "execution_count": 1,
   "id": "779d3fab-3944-4abe-8643-bd1aa04417e2",
   "metadata": {},
   "outputs": [],
   "source": [
    "import numpy as np\n",
    "import matplotlib.pyplot as plt\n",
    "import seaborn as sns\n",
    "\n",
    "# matplotlib 설정\n",
    "plt.rc('font', family = 'AppleGothic')   # Mac\n",
    "# plt.rc('font', family = 'Malgun Gothic')   # Windows\n",
    "plt.rcParams['axes.unicode_minus'] = False\n",
    "%matplotlib inline"
   ]
  },
  {
   "cell_type": "markdown",
   "id": "49688b74-f8eb-4388-b613-a8ec23b9f305",
   "metadata": {},
   "source": [
    "## 예제 데이터 - 보스턴 집값 데이터"
   ]
  },
  {
   "cell_type": "code",
   "execution_count": 2,
   "id": "8e8da4c7-cf83-4206-b157-0387c1238fe7",
   "metadata": {},
   "outputs": [
    {
     "data": {
      "text/plain": [
       "array([[6.3200e-03, 1.8000e+01, 2.3100e+00, ..., 1.5300e+01, 3.9690e+02,\n",
       "        4.9800e+00],\n",
       "       [2.7310e-02, 0.0000e+00, 7.0700e+00, ..., 1.7800e+01, 3.9690e+02,\n",
       "        9.1400e+00],\n",
       "       [2.7290e-02, 0.0000e+00, 7.0700e+00, ..., 1.7800e+01, 3.9283e+02,\n",
       "        4.0300e+00],\n",
       "       ...,\n",
       "       [6.0760e-02, 0.0000e+00, 1.1930e+01, ..., 2.1000e+01, 3.9690e+02,\n",
       "        5.6400e+00],\n",
       "       [1.0959e-01, 0.0000e+00, 1.1930e+01, ..., 2.1000e+01, 3.9345e+02,\n",
       "        6.4800e+00],\n",
       "       [4.7410e-02, 0.0000e+00, 1.1930e+01, ..., 2.1000e+01, 3.9690e+02,\n",
       "        7.8800e+00]])"
      ]
     },
     "execution_count": 2,
     "metadata": {},
     "output_type": "execute_result"
    }
   ],
   "source": [
    "# 데이터 불러오기\n",
    "from sklearn.datasets import load_boston\n",
    "\n",
    "boston = load_boston()\n",
    "X = boston.data\n",
    "y = boston.target\n",
    "X"
   ]
  },
  {
   "cell_type": "code",
   "execution_count": 3,
   "id": "d7c18fd6-4664-4309-ab30-44d8b4fee394",
   "metadata": {},
   "outputs": [
    {
     "data": {
      "text/plain": [
       "(506, 13)"
      ]
     },
     "execution_count": 3,
     "metadata": {},
     "output_type": "execute_result"
    }
   ],
   "source": [
    "X.shape"
   ]
  },
  {
   "cell_type": "markdown",
   "id": "0176676b-8a8d-49fb-8a4a-4b8fa22cf315",
   "metadata": {},
   "source": [
    "### 트레이닝셋과 테스트셋으로 나누기"
   ]
  },
  {
   "cell_type": "code",
   "execution_count": 4,
   "id": "c46b424d-4e35-452a-89bd-3f44d151c0ee",
   "metadata": {},
   "outputs": [
    {
     "data": {
      "text/plain": [
       "((354, 13), (152, 13))"
      ]
     },
     "execution_count": 4,
     "metadata": {},
     "output_type": "execute_result"
    }
   ],
   "source": [
    "from sklearn.model_selection import train_test_split\n",
    "\n",
    "# 자동으로 데이터셋을 분리해주는 함수\n",
    "X_train, X_test, y_train, y_test = train_test_split(X, y, test_size=0.3, random_state=100)\n",
    "X_train.shape, X_test.shape"
   ]
  },
  {
   "cell_type": "markdown",
   "id": "b4b848ab-834a-4581-811f-e4e79e3deaad",
   "metadata": {},
   "source": [
    "## 1. 선형 회귀분석 (Linear regression)"
   ]
  },
  {
   "cell_type": "code",
   "execution_count": 5,
   "id": "dec83f70-2995-4336-ac58-38667a0708c1",
   "metadata": {},
   "outputs": [],
   "source": [
    "from sklearn.linear_model import LinearRegression\n",
    "\n",
    "model_reg = LinearRegression().fit(X_train, y_train)"
   ]
  },
  {
   "cell_type": "code",
   "execution_count": 6,
   "id": "2f8acb3b-929f-46a7-9e4d-429cbb2e6812",
   "metadata": {},
   "outputs": [
    {
     "name": "stdout",
     "output_type": "stream",
     "text": [
      "선형 회귀분석 모형 성능: 29.799\n"
     ]
    }
   ],
   "source": [
    "from sklearn.metrics import mean_squared_error\n",
    "\n",
    "y_pred_reg = model_reg.predict(X_test)\n",
    "mse_reg = mean_squared_error(y_test, y_pred_reg)\n",
    "print(\"선형 회귀분석 모형 성능: {}\".format(round(mse_reg, 3)))"
   ]
  },
  {
   "cell_type": "markdown",
   "id": "61fb034b-a4da-461b-99b8-0c248c89e2e4",
   "metadata": {},
   "source": [
    "## 2. k-Nearest Neighbors (KNN)\n",
    "- 현 데이터와 가장 가까운 거리에 있는 k개의 데이터들의 출력값들의 평균으로 예측"
   ]
  },
  {
   "cell_type": "code",
   "execution_count": 7,
   "id": "1862a874-234e-40af-9b89-d7a6a9f74bc2",
   "metadata": {},
   "outputs": [],
   "source": [
    "from sklearn.neighbors import KNeighborsRegressor\n",
    "\n",
    "model_knn = KNeighborsRegressor()\n",
    "model_knn = model_knn.fit(X_train, y_train)"
   ]
  },
  {
   "cell_type": "code",
   "execution_count": 8,
   "id": "2430b7a0-cffe-4731-ad1a-277906b17286",
   "metadata": {},
   "outputs": [
    {
     "name": "stdout",
     "output_type": "stream",
     "text": [
      "KNN 모형 성능: 59.276\n"
     ]
    }
   ],
   "source": [
    "y_pred_knn = model_knn.predict(X_test)\n",
    "mse_knn = mean_squared_error(y_test, y_pred_knn)\n",
    "print(\"KNN 모형 성능: {}\".format(round(mse_knn, 3)))"
   ]
  },
  {
   "cell_type": "markdown",
   "id": "de61a53c-2e02-4468-b979-cba0029958b3",
   "metadata": {},
   "source": [
    "## 3. 서포트 벡터 머신 (Support vector machine; SVM)"
   ]
  },
  {
   "cell_type": "markdown",
   "id": "1b5b6f51-e042-4786-8791-4add06ad60f2",
   "metadata": {},
   "source": [
    "### 선형(Linear) SVM"
   ]
  },
  {
   "cell_type": "code",
   "execution_count": 9,
   "id": "eb371dba-408d-4d40-927e-b99c8addf16d",
   "metadata": {},
   "outputs": [],
   "source": [
    "from sklearn.svm import SVR\n",
    "\n",
    "model_svm = SVR(kernel='linear')\n",
    "model_svm = model_svm.fit(X_train, y_train)"
   ]
  },
  {
   "cell_type": "code",
   "execution_count": 10,
   "id": "724c6ced-8873-486a-a80d-0b1648af800a",
   "metadata": {},
   "outputs": [
    {
     "name": "stdout",
     "output_type": "stream",
     "text": [
      "선형 SVM 모형 성능: 34.302\n"
     ]
    }
   ],
   "source": [
    "y_pred_svm = model_svm.predict(X_test)\n",
    "mse_svm = mean_squared_error(y_test, y_pred_svm)\n",
    "print(\"선형 SVM 모형 성능: {}\".format(round(mse_svm, 3)))"
   ]
  },
  {
   "cell_type": "markdown",
   "id": "961bd9c4-d0ce-482e-adf8-10b3d2bfd4b2",
   "metadata": {},
   "source": [
    "### 커널(Kernel) SVM"
   ]
  },
  {
   "cell_type": "code",
   "execution_count": 11,
   "id": "af5d1c93-9b1b-4055-8d40-82be9db7a206",
   "metadata": {},
   "outputs": [],
   "source": [
    "model_svm = SVR(kernel='rbf')\n",
    "model_svm = model_svm.fit(X_train, y_train)"
   ]
  },
  {
   "cell_type": "code",
   "execution_count": 12,
   "id": "3b4224a8-45b7-4706-966b-e70821d94432",
   "metadata": {},
   "outputs": [
    {
     "name": "stdout",
     "output_type": "stream",
     "text": [
      "비선형 SVM 모형 성능: 83.666\n"
     ]
    }
   ],
   "source": [
    "y_pred_svm = model_svm.predict(X_test)\n",
    "mse_svm = mean_squared_error(y_test, y_pred_svm)\n",
    "print(\"비선형 SVM 모형 성능: {}\".format(round(mse_svm, 3)))"
   ]
  },
  {
   "cell_type": "markdown",
   "id": "899527ea-6004-468f-9cdf-81559e37c153",
   "metadata": {},
   "source": [
    "## 4. 의사결정나무 (Decision Tree)\n",
    "- 여러 독립변수 중 하나의 독립변수를 선택하여 그 변수에 대한 기준값을 정함\n",
    "- 이 기준값을 기준으로 그룹으로 나누게 됨\n",
    "- 한 변수에 대해 분류 규칙을 결정하게 되기 때문에 해석이 용이하지만 일반적으로 성능은 그다지 좋지 못함"
   ]
  },
  {
   "cell_type": "code",
   "execution_count": 13,
   "id": "adbc47b3-1ca6-476e-971a-c58e3fc97214",
   "metadata": {},
   "outputs": [
    {
     "data": {
      "text/plain": [
       "[Text(235.78849710490465, 212.91, 'X[5] <= 6.945\\nmse = 77.162\\nsamples = 354\\nvalue = 22.602'),\n",
       " Text(158.05929666212535, 203.85, 'X[12] <= 14.75\\nmse = 33.675\\nsamples = 298\\nvalue = 19.95'),\n",
       " Text(93.4203371934605, 194.79, 'X[5] <= 6.552\\nmse = 18.296\\nsamples = 187\\nvalue = 23.03'),\n",
       " Text(47.50792234332425, 185.73, 'X[12] <= 7.57\\nmse = 8.746\\nsamples = 149\\nvalue = 21.721'),\n",
       " Text(15.934168937329702, 176.67, 'X[11] <= 393.285\\nmse = 3.27\\nsamples = 33\\nvalue = 24.073'),\n",
       " Text(8.27117166212534, 167.60999999999999, 'X[7] <= 1.685\\nmse = 2.327\\nsamples = 19\\nvalue = 23.337'),\n",
       " Text(7.298092643051771, 158.55, 'mse = 0.0\\nsamples = 1\\nvalue = 27.5'),\n",
       " Text(9.24425068119891, 158.55, 'X[10] <= 19.95\\nmse = 1.439\\nsamples = 18\\nvalue = 23.106'),\n",
       " Text(5.838474114441417, 149.49, 'X[0] <= 0.075\\nmse = 0.757\\nsamples = 14\\nvalue = 23.521'),\n",
       " Text(3.892316076294278, 140.43, 'X[7] <= 8.878\\nmse = 0.207\\nsamples = 4\\nvalue = 22.625'),\n",
       " Text(2.9192370572207085, 131.37, 'X[0] <= 0.051\\nmse = 0.042\\nsamples = 3\\nvalue = 22.867'),\n",
       " Text(1.946158038147139, 122.30999999999999, 'X[4] <= 0.427\\nmse = 0.01\\nsamples = 2\\nvalue = 23.0'),\n",
       " Text(0.9730790190735695, 113.24999999999999, 'mse = 0.0\\nsamples = 1\\nvalue = 22.9'),\n",
       " Text(2.9192370572207085, 113.24999999999999, 'mse = 0.0\\nsamples = 1\\nvalue = 23.1'),\n",
       " Text(3.892316076294278, 122.30999999999999, 'mse = 0.0\\nsamples = 1\\nvalue = 22.6'),\n",
       " Text(4.865395095367847, 131.37, 'mse = -0.0\\nsamples = 1\\nvalue = 21.9'),\n",
       " Text(7.784632152588556, 140.43, 'X[9] <= 258.5\\nmse = 0.528\\nsamples = 10\\nvalue = 23.88'),\n",
       " Text(6.811553133514987, 131.37, 'mse = 0.0\\nsamples = 1\\nvalue = 25.3'),\n",
       " Text(8.757711171662125, 131.37, 'X[12] <= 4.39\\nmse = 0.337\\nsamples = 9\\nvalue = 23.722'),\n",
       " Text(7.784632152588556, 122.30999999999999, 'mse = 0.0\\nsamples = 1\\nvalue = 24.8'),\n",
       " Text(9.730790190735695, 122.30999999999999, 'X[11] <= 387.205\\nmse = 0.216\\nsamples = 8\\nvalue = 23.588'),\n",
       " Text(7.298092643051771, 113.24999999999999, 'X[12] <= 7.055\\nmse = 0.139\\nsamples = 6\\nvalue = 23.767'),\n",
       " Text(5.351934604904632, 104.19, 'X[12] <= 6.395\\nmse = 0.077\\nsamples = 4\\nvalue = 23.975'),\n",
       " Text(4.3788555858310625, 95.13, 'mse = 0.0\\nsamples = 2\\nvalue = 23.7'),\n",
       " Text(6.325013623978202, 95.13, 'X[9] <= 354.0\\nmse = 0.002\\nsamples = 2\\nvalue = 24.25'),\n",
       " Text(5.351934604904632, 86.07, 'mse = 0.0\\nsamples = 1\\nvalue = 24.2'),\n",
       " Text(7.298092643051771, 86.07, 'mse = 0.0\\nsamples = 1\\nvalue = 24.3'),\n",
       " Text(9.24425068119891, 104.19, 'X[5] <= 6.378\\nmse = 0.003\\nsamples = 2\\nvalue = 23.35'),\n",
       " Text(8.27117166212534, 95.13, 'mse = 0.0\\nsamples = 1\\nvalue = 23.4'),\n",
       " Text(10.21732970027248, 95.13, 'mse = -0.0\\nsamples = 1\\nvalue = 23.3'),\n",
       " Text(12.163487738419619, 113.24999999999999, 'X[2] <= 7.97\\nmse = 0.062\\nsamples = 2\\nvalue = 23.05'),\n",
       " Text(11.190408719346049, 104.19, 'mse = 0.0\\nsamples = 1\\nvalue = 23.3'),\n",
       " Text(13.136566757493188, 104.19, 'mse = 0.0\\nsamples = 1\\nvalue = 22.8'),\n",
       " Text(12.650027247956404, 149.49, 'X[5] <= 5.935\\nmse = 1.103\\nsamples = 4\\nvalue = 21.65'),\n",
       " Text(11.676948228882834, 140.43, 'mse = 0.0\\nsamples = 1\\nvalue = 23.1'),\n",
       " Text(13.623106267029973, 140.43, 'X[5] <= 6.313\\nmse = 0.536\\nsamples = 3\\nvalue = 21.167'),\n",
       " Text(12.650027247956404, 131.37, 'X[11] <= 382.72\\nmse = 0.003\\nsamples = 2\\nvalue = 20.65'),\n",
       " Text(11.676948228882834, 122.30999999999999, 'mse = 0.0\\nsamples = 1\\nvalue = 20.6'),\n",
       " Text(13.623106267029973, 122.30999999999999, 'mse = 0.0\\nsamples = 1\\nvalue = 20.7'),\n",
       " Text(14.596185286103543, 131.37, 'mse = -0.0\\nsamples = 1\\nvalue = 22.2'),\n",
       " Text(23.59716621253406, 167.60999999999999, 'X[9] <= 262.0\\nmse = 2.819\\nsamples = 14\\nvalue = 25.071'),\n",
       " Text(18.48850136239782, 158.55, 'X[6] <= 26.6\\nmse = 3.635\\nsamples = 4\\nvalue = 27.0'),\n",
       " Text(16.54234332425068, 149.49, 'X[6] <= 18.7\\nmse = 0.01\\nsamples = 2\\nvalue = 25.1'),\n",
       " Text(15.569264305177112, 140.43, 'mse = 0.0\\nsamples = 1\\nvalue = 25.2'),\n",
       " Text(17.51542234332425, 140.43, 'mse = -0.0\\nsamples = 1\\nvalue = 25.0'),\n",
       " Text(20.43465940054496, 149.49, 'X[4] <= 0.453\\nmse = 0.04\\nsamples = 2\\nvalue = 28.9'),\n",
       " Text(19.46158038147139, 140.43, 'mse = 0.0\\nsamples = 1\\nvalue = 29.1'),\n",
       " Text(21.40773841961853, 140.43, 'mse = 0.0\\nsamples = 1\\nvalue = 28.7'),\n",
       " Text(28.705831062670303, 158.55, 'X[9] <= 332.5\\nmse = 0.41\\nsamples = 10\\nvalue = 24.3'),\n",
       " Text(25.300054495912807, 149.49, 'X[11] <= 396.305\\nmse = 0.049\\nsamples = 6\\nvalue = 24.733'),\n",
       " Text(23.353896457765668, 140.43, 'X[7] <= 6.406\\nmse = 0.009\\nsamples = 3\\nvalue = 24.533'),\n",
       " Text(22.380817438692098, 131.37, 'X[10] <= 18.1\\nmse = 0.0\\nsamples = 2\\nvalue = 24.6'),\n",
       " Text(21.40773841961853, 122.30999999999999, 'mse = 0.0\\nsamples = 1\\nvalue = 24.6'),\n",
       " Text(23.353896457765668, 122.30999999999999, 'mse = 0.0\\nsamples = 1\\nvalue = 24.6'),\n",
       " Text(24.326975476839237, 131.37, 'mse = 0.0\\nsamples = 1\\nvalue = 24.4'),\n",
       " Text(27.246212534059946, 140.43, 'X[7] <= 5.061\\nmse = 0.009\\nsamples = 3\\nvalue = 24.933'),\n",
       " Text(26.273133514986377, 131.37, 'mse = 0.0\\nsamples = 2\\nvalue = 25.0'),\n",
       " Text(28.219291553133516, 131.37, 'mse = 0.0\\nsamples = 1\\nvalue = 24.8'),\n",
       " Text(32.111607629427795, 149.49, 'X[12] <= 6.38\\nmse = 0.248\\nsamples = 4\\nvalue = 23.65'),\n",
       " Text(31.138528610354225, 140.43, 'X[5] <= 6.39\\nmse = 0.09\\nsamples = 2\\nvalue = 23.2'),\n",
       " Text(30.165449591280655, 131.37, 'mse = 0.0\\nsamples = 1\\nvalue = 23.5'),\n",
       " Text(32.111607629427795, 131.37, 'mse = -0.0\\nsamples = 1\\nvalue = 22.9'),\n",
       " Text(33.08468664850136, 140.43, 'mse = 0.0\\nsamples = 2\\nvalue = 24.1'),\n",
       " Text(79.0816757493188, 176.67, 'X[9] <= 208.0\\nmse = 8.283\\nsamples = 116\\nvalue = 21.053'),\n",
       " Text(65.12027247956404, 167.60999999999999, 'X[11] <= 382.39\\nmse = 42.54\\nsamples = 3\\nvalue = 28.7'),\n",
       " Text(64.14719346049047, 158.55, 'mse = 0.0\\nsamples = 1\\nvalue = 20.3'),\n",
       " Text(66.0933514986376, 158.55, 'X[11] <= 392.005\\nmse = 10.89\\nsamples = 2\\nvalue = 32.9'),\n",
       " Text(65.12027247956404, 149.49, 'mse = 0.0\\nsamples = 1\\nvalue = 29.6'),\n",
       " Text(67.06643051771117, 149.49, 'mse = -0.0\\nsamples = 1\\nvalue = 36.2'),\n",
       " Text(93.04307901907357, 167.60999999999999, 'X[10] <= 20.95\\nmse = 5.78\\nsamples = 113\\nvalue = 20.85'),\n",
       " Text(69.98566757493188, 158.55, 'X[7] <= 1.398\\nmse = 5.033\\nsamples = 103\\nvalue = 21.078'),\n",
       " Text(69.01258855585831, 149.49, 'mse = 0.0\\nsamples = 1\\nvalue = 27.9'),\n",
       " Text(70.95874659400545, 149.49, 'X[5] <= 6.062\\nmse = 4.621\\nsamples = 102\\nvalue = 21.011'),\n",
       " Text(42.72425068119891, 140.43, 'X[10] <= 16.85\\nmse = 3.76\\nsamples = 53\\nvalue = 20.408'),\n",
       " Text(34.057765667574934, 131.37, 'X[6] <= 93.2\\nmse = 4.191\\nsamples = 12\\nvalue = 21.55'),\n",
       " Text(30.895258855585833, 122.30999999999999, 'X[7] <= 4.529\\nmse = 2.554\\nsamples = 10\\nvalue = 22.16'),\n",
       " Text(27.489482288828338, 113.24999999999999, 'X[11] <= 310.005\\nmse = 0.162\\nsamples = 6\\nvalue = 23.033'),\n",
       " Text(26.51640326975477, 104.19, 'mse = 0.0\\nsamples = 1\\nvalue = 23.8'),\n",
       " Text(28.462561307901908, 104.19, 'X[7] <= 3.128\\nmse = 0.054\\nsamples = 5\\nvalue = 22.88'),\n",
       " Text(27.489482288828338, 95.13, 'X[12] <= 13.165\\nmse = 0.035\\nsamples = 4\\nvalue = 22.8'),\n",
       " Text(26.51640326975477, 86.07, 'X[11] <= 392.815\\nmse = 0.007\\nsamples = 3\\nvalue = 22.7'),\n",
       " Text(25.5433242506812, 77.00999999999999, 'mse = 0.0\\nsamples = 1\\nvalue = 22.8'),\n",
       " Text(27.489482288828338, 77.00999999999999, 'X[2] <= 11.815\\nmse = 0.002\\nsamples = 2\\nvalue = 22.65'),\n",
       " Text(26.51640326975477, 67.94999999999999, 'mse = 0.0\\nsamples = 1\\nvalue = 22.6'),\n",
       " Text(28.462561307901908, 67.94999999999999, 'mse = 0.0\\nsamples = 1\\nvalue = 22.7'),\n",
       " Text(28.462561307901908, 86.07, 'mse = 0.0\\nsamples = 1\\nvalue = 23.1'),\n",
       " Text(29.435640326975477, 95.13, 'mse = 0.0\\nsamples = 1\\nvalue = 23.2'),\n",
       " Text(34.301035422343325, 113.24999999999999, 'X[9] <= 300.0\\nmse = 3.282\\nsamples = 4\\nvalue = 20.85'),\n",
       " Text(32.354877384196186, 104.19, 'X[12] <= 9.415\\nmse = 0.723\\nsamples = 2\\nvalue = 22.55'),\n",
       " Text(31.381798365122616, 95.13, 'mse = 0.0\\nsamples = 1\\nvalue = 23.4'),\n",
       " Text(33.32795640326976, 95.13, 'mse = 0.0\\nsamples = 1\\nvalue = 21.7'),\n",
       " Text(36.247193460490465, 104.19, 'X[9] <= 324.0\\nmse = 0.062\\nsamples = 2\\nvalue = 19.15'),\n",
       " Text(35.2741144414169, 95.13, 'mse = 0.0\\nsamples = 1\\nvalue = 18.9'),\n",
       " Text(37.22027247956404, 95.13, 'mse = 0.0\\nsamples = 1\\nvalue = 19.4'),\n",
       " Text(37.22027247956404, 122.30999999999999, 'X[6] <= 97.3\\nmse = 1.21\\nsamples = 2\\nvalue = 18.5'),\n",
       " Text(36.247193460490465, 113.24999999999999, 'mse = 0.0\\nsamples = 1\\nvalue = 17.4'),\n",
       " Text(38.193351498637604, 113.24999999999999, 'mse = 0.0\\nsamples = 1\\nvalue = 19.6'),\n",
       " Text(51.390735694822894, 131.37, 'X[12] <= 14.23\\nmse = 3.14\\nsamples = 41\\nvalue = 20.073'),\n",
       " Text(50.41765667574932, 122.30999999999999, 'X[7] <= 2.578\\nmse = 2.724\\nsamples = 39\\nvalue = 20.241'),\n",
       " Text(40.626049046321526, 113.24999999999999, 'X[6] <= 48.3\\nmse = 1.779\\nsamples = 8\\nvalue = 21.775'),\n",
       " Text(39.65297002724796, 104.19, 'mse = 0.0\\nsamples = 1\\nvalue = 24.5'),\n",
       " Text(41.5991280653951, 104.19, 'X[7] <= 1.852\\nmse = 0.821\\nsamples = 7\\nvalue = 21.386'),\n",
       " Text(39.16643051771117, 95.13, 'X[11] <= 223.725\\nmse = 0.36\\nsamples = 2\\nvalue = 22.5'),\n",
       " Text(38.193351498637604, 86.07, 'mse = 0.0\\nsamples = 1\\nvalue = 23.1'),\n",
       " Text(40.13950953678474, 86.07, 'mse = 0.0\\nsamples = 1\\nvalue = 21.9'),\n",
       " Text(44.03182561307902, 95.13, 'X[10] <= 19.65\\nmse = 0.31\\nsamples = 5\\nvalue = 20.94'),\n",
       " Text(42.08566757493188, 86.07, 'X[12] <= 12.465\\nmse = 0.09\\nsamples = 2\\nvalue = 21.5'),\n",
       " Text(41.11258855585831, 77.00999999999999, 'mse = 0.0\\nsamples = 1\\nvalue = 21.8'),\n",
       " Text(43.05874659400545, 77.00999999999999, 'mse = 0.0\\nsamples = 1\\nvalue = 21.2'),\n",
       " Text(45.97798365122616, 86.07, 'X[8] <= 14.0\\nmse = 0.109\\nsamples = 3\\nvalue = 20.567'),\n",
       " Text(45.00490463215259, 77.00999999999999, 'mse = 0.0\\nsamples = 1\\nvalue = 20.1'),\n",
       " Text(46.95106267029973, 77.00999999999999, 'X[12] <= 12.145\\nmse = 0.0\\nsamples = 2\\nvalue = 20.8'),\n",
       " Text(45.97798365122616, 67.94999999999999, 'mse = 0.0\\nsamples = 1\\nvalue = 20.8'),\n",
       " Text(47.9241416893733, 67.94999999999999, 'mse = 0.0\\nsamples = 1\\nvalue = 20.8'),\n",
       " Text(60.209264305177115, 113.24999999999999, 'X[6] <= 45.25\\nmse = 2.204\\nsamples = 31\\nvalue = 19.845'),\n",
       " Text(52.54626702997275, 104.19, 'X[7] <= 4.428\\nmse = 3.435\\nsamples = 12\\nvalue = 20.683'),\n",
       " Text(48.897220708446866, 95.13, 'X[12] <= 11.495\\nmse = 2.807\\nsamples = 3\\nvalue = 22.6'),\n",
       " Text(47.9241416893733, 86.07, 'mse = 0.0\\nsamples = 1\\nvalue = 24.7'),\n",
       " Text(49.87029972752044, 86.07, 'X[2] <= 11.295\\nmse = 0.903\\nsamples = 2\\nvalue = 21.55'),\n",
       " Text(48.897220708446866, 77.00999999999999, 'mse = 0.0\\nsamples = 1\\nvalue = 22.5'),\n",
       " Text(50.843378746594006, 77.00999999999999, 'mse = 0.0\\nsamples = 1\\nvalue = 20.6'),\n",
       " Text(56.19531335149864, 95.13, 'X[12] <= 13.045\\nmse = 2.011\\nsamples = 9\\nvalue = 20.044'),\n",
       " Text(55.22223433242507, 86.07, 'X[10] <= 18.45\\nmse = 1.279\\nsamples = 8\\nvalue = 20.375'),\n",
       " Text(52.789536784741145, 77.00999999999999, 'X[1] <= 47.5\\nmse = 0.127\\nsamples = 3\\nvalue = 19.1'),\n",
       " Text(51.81645776566758, 67.94999999999999, 'X[2] <= 6.485\\nmse = 0.002\\nsamples = 2\\nvalue = 19.35'),\n",
       " Text(50.843378746594006, 58.889999999999986, 'mse = 0.0\\nsamples = 1\\nvalue = 19.4'),\n",
       " Text(52.789536784741145, 58.889999999999986, 'mse = -0.0\\nsamples = 1\\nvalue = 19.3'),\n",
       " Text(53.76261580381472, 67.94999999999999, 'mse = 0.0\\nsamples = 1\\nvalue = 18.6'),\n",
       " Text(57.654931880109, 77.00999999999999, 'X[4] <= 0.425\\nmse = 0.41\\nsamples = 5\\nvalue = 21.14'),\n",
       " Text(55.70877384196186, 67.94999999999999, 'X[2] <= 8.44\\nmse = 0.022\\nsamples = 2\\nvalue = 21.85'),\n",
       " Text(54.735694822888284, 58.889999999999986, 'mse = 0.0\\nsamples = 1\\nvalue = 22.0'),\n",
       " Text(56.68185286103542, 58.889999999999986, 'mse = -0.0\\nsamples = 1\\nvalue = 21.7'),\n",
       " Text(59.601089918256136, 67.94999999999999, 'X[8] <= 4.0\\nmse = 0.109\\nsamples = 3\\nvalue = 20.667'),\n",
       " Text(58.62801089918256, 58.889999999999986, 'mse = 0.0\\nsamples = 1\\nvalue = 21.1'),\n",
       " Text(60.5741689373297, 58.889999999999986, 'X[6] <= 36.95\\nmse = 0.023\\nsamples = 2\\nvalue = 20.45'),\n",
       " Text(59.601089918256136, 49.829999999999984, 'mse = 0.0\\nsamples = 1\\nvalue = 20.3'),\n",
       " Text(61.547247956403275, 49.829999999999984, 'mse = -0.0\\nsamples = 1\\nvalue = 20.6'),\n",
       " Text(57.16839237057221, 86.07, 'mse = 0.0\\nsamples = 1\\nvalue = 17.4'),\n",
       " Text(67.87226158038148, 104.19, 'X[0] <= 0.317\\nmse = 0.702\\nsamples = 19\\nvalue = 19.316'),\n",
       " Text(63.493405994550415, 95.13, 'X[9] <= 223.5\\nmse = 0.545\\nsamples = 15\\nvalue = 19.053'),\n",
       " Text(62.52032697547684, 86.07, 'mse = 0.0\\nsamples = 1\\nvalue = 20.7'),\n",
       " Text(64.46648501362398, 86.07, 'X[4] <= 0.448\\nmse = 0.377\\nsamples = 14\\nvalue = 18.936'),\n",
       " Text(63.493405994550415, 77.00999999999999, 'mse = 0.0\\nsamples = 1\\nvalue = 17.5'),\n",
       " Text(65.43956403269755, 77.00999999999999, 'X[0] <= 0.265\\nmse = 0.235\\nsamples = 13\\nvalue = 19.046'),\n",
       " Text(63.493405994550415, 67.94999999999999, 'X[11] <= 384.53\\nmse = 0.186\\nsamples = 11\\nvalue = 19.164'),\n",
       " Text(62.52032697547684, 58.889999999999986, 'mse = 0.0\\nsamples = 1\\nvalue = 20.0'),\n",
       " Text(64.46648501362398, 58.889999999999986, 'X[0] <= 0.032\\nmse = 0.128\\nsamples = 10\\nvalue = 19.08'),\n",
       " Text(63.493405994550415, 49.829999999999984, 'mse = 0.0\\nsamples = 1\\nvalue = 18.5'),\n",
       " Text(65.43956403269755, 49.829999999999984, 'X[12] <= 9.255\\nmse = 0.1\\nsamples = 9\\nvalue = 19.144'),\n",
       " Text(64.46648501362398, 40.76999999999998, 'mse = 0.0\\nsamples = 1\\nvalue = 19.6'),\n",
       " Text(66.41264305177113, 40.76999999999998, 'X[12] <= 9.77\\nmse = 0.084\\nsamples = 8\\nvalue = 19.088'),\n",
       " Text(63.006866485013624, 31.70999999999998, 'X[12] <= 9.485\\nmse = 0.016\\nsamples = 3\\nvalue = 18.867'),\n",
       " Text(62.03378746594006, 22.649999999999977, 'mse = 0.0\\nsamples = 1\\nvalue = 18.7'),\n",
       " Text(63.9799455040872, 22.649999999999977, 'X[7] <= 4.086\\nmse = 0.003\\nsamples = 2\\nvalue = 18.95'),\n",
       " Text(63.006866485013624, 13.589999999999975, 'mse = 0.0\\nsamples = 1\\nvalue = 18.9'),\n",
       " Text(64.95302452316076, 13.589999999999975, 'mse = 0.0\\nsamples = 1\\nvalue = 19.0'),\n",
       " Text(69.81841961852861, 31.70999999999998, 'X[8] <= 7.0\\nmse = 0.078\\nsamples = 5\\nvalue = 19.22'),\n",
       " Text(68.84534059945504, 22.649999999999977, 'X[10] <= 18.1\\nmse = 0.012\\nsamples = 4\\nvalue = 19.35'),\n",
       " Text(66.89918256130791, 13.589999999999975, 'X[5] <= 5.876\\nmse = 0.002\\nsamples = 2\\nvalue = 19.25'),\n",
       " Text(65.92610354223433, 4.529999999999973, 'mse = 0.0\\nsamples = 1\\nvalue = 19.3'),\n",
       " Text(67.87226158038148, 4.529999999999973, 'mse = 0.0\\nsamples = 1\\nvalue = 19.2'),\n",
       " Text(70.79149863760219, 13.589999999999975, 'X[5] <= 5.946\\nmse = 0.002\\nsamples = 2\\nvalue = 19.45'),\n",
       " Text(69.81841961852861, 4.529999999999973, 'mse = 0.0\\nsamples = 1\\nvalue = 19.5'),\n",
       " Text(71.76457765667575, 4.529999999999973, 'mse = -0.0\\nsamples = 1\\nvalue = 19.4'),\n",
       " Text(70.79149863760219, 22.649999999999977, 'mse = -0.0\\nsamples = 1\\nvalue = 18.7'),\n",
       " Text(67.3857220708447, 67.94999999999999, 'X[9] <= 339.0\\nmse = 0.01\\nsamples = 2\\nvalue = 18.4'),\n",
       " Text(66.41264305177113, 58.889999999999986, 'mse = 0.0\\nsamples = 1\\nvalue = 18.5'),\n",
       " Text(68.35880108991826, 58.889999999999986, 'mse = 0.0\\nsamples = 1\\nvalue = 18.3'),\n",
       " Text(72.25111716621254, 95.13, 'X[4] <= 0.619\\nmse = 0.065\\nsamples = 4\\nvalue = 20.3'),\n",
       " Text(71.27803814713897, 86.07, 'X[10] <= 19.9\\nmse = 0.016\\nsamples = 3\\nvalue = 20.433'),\n",
       " Text(70.30495912806539, 77.00999999999999, 'X[11] <= 396.57\\nmse = 0.002\\nsamples = 2\\nvalue = 20.35'),\n",
       " Text(69.33188010899183, 67.94999999999999, 'mse = 0.0\\nsamples = 1\\nvalue = 20.3'),\n",
       " Text(71.27803814713897, 67.94999999999999, 'mse = -0.0\\nsamples = 1\\nvalue = 20.4'),\n",
       " Text(72.25111716621254, 77.00999999999999, 'mse = 0.0\\nsamples = 1\\nvalue = 20.6'),\n",
       " Text(73.2241961852861, 86.07, 'mse = 0.0\\nsamples = 1\\nvalue = 19.9'),\n",
       " Text(52.36381471389646, 122.30999999999999, 'mse = -0.0\\nsamples = 2\\nvalue = 16.8'),\n",
       " Text(99.193242506812, 140.43, 'X[12] <= 9.98\\nmse = 4.733\\nsamples = 49\\nvalue = 21.663'),\n",
       " Text(90.07062670299727, 131.37, 'X[2] <= 2.07\\nmse = 4.854\\nsamples = 19\\nvalue = 22.816'),\n",
       " Text(89.09754768392371, 122.30999999999999, 'mse = 0.0\\nsamples = 1\\nvalue = 16.5'),\n",
       " Text(91.04370572207085, 122.30999999999999, 'X[8] <= 6.5\\nmse = 2.784\\nsamples = 18\\nvalue = 23.167'),\n",
       " Text(86.4823978201635, 113.24999999999999, 'X[7] <= 5.612\\nmse = 2.085\\nsamples = 14\\nvalue = 22.629'),\n",
       " Text(82.22517711171662, 104.19, 'X[12] <= 8.99\\nmse = 1.593\\nsamples = 10\\nvalue = 23.15'),\n",
       " Text(78.57613079019075, 95.13, 'X[2] <= 13.375\\nmse = 0.719\\nsamples = 6\\nvalue = 22.333'),\n",
       " Text(76.14343324250682, 86.07, 'X[0] <= 0.083\\nmse = 0.1\\nsamples = 4\\nvalue = 21.8'),\n",
       " Text(74.19727520435967, 77.00999999999999, 'X[9] <= 258.5\\nmse = 0.01\\nsamples = 2\\nvalue = 22.1'),\n",
       " Text(73.2241961852861, 67.94999999999999, 'mse = 0.0\\nsamples = 1\\nvalue = 22.2'),\n",
       " Text(75.17035422343325, 67.94999999999999, 'mse = -0.0\\nsamples = 1\\nvalue = 22.0'),\n",
       " Text(78.08959128065395, 77.00999999999999, 'X[11] <= 388.31\\nmse = 0.01\\nsamples = 2\\nvalue = 21.5'),\n",
       " Text(77.11651226158038, 67.94999999999999, 'mse = 0.0\\nsamples = 1\\nvalue = 21.4'),\n",
       " Text(79.06267029972753, 67.94999999999999, 'mse = 0.0\\nsamples = 1\\nvalue = 21.6'),\n",
       " Text(81.00882833787466, 86.07, 'X[0] <= 0.062\\nmse = 0.25\\nsamples = 2\\nvalue = 23.4'),\n",
       " Text(80.0357493188011, 77.00999999999999, 'mse = 0.0\\nsamples = 1\\nvalue = 22.9'),\n",
       " Text(81.98190735694823, 77.00999999999999, 'mse = 0.0\\nsamples = 1\\nvalue = 23.9'),\n",
       " Text(85.8742234332425, 95.13, 'X[0] <= 0.145\\nmse = 0.402\\nsamples = 4\\nvalue = 24.375'),\n",
       " Text(84.90114441416894, 86.07, 'X[11] <= 396.2\\nmse = 0.023\\nsamples = 2\\nvalue = 23.75'),\n",
       " Text(83.92806539509537, 77.00999999999999, 'mse = 0.0\\nsamples = 1\\nvalue = 23.6'),\n",
       " Text(85.8742234332425, 77.00999999999999, 'mse = 0.0\\nsamples = 1\\nvalue = 23.9'),\n",
       " Text(86.84730245231609, 86.07, 'mse = 0.0\\nsamples = 2\\nvalue = 25.0'),\n",
       " Text(90.73961852861036, 104.19, 'X[9] <= 365.0\\nmse = 0.937\\nsamples = 4\\nvalue = 21.325'),\n",
       " Text(89.76653950953678, 95.13, 'X[5] <= 6.192\\nmse = 0.216\\nsamples = 3\\nvalue = 21.833'),\n",
       " Text(88.79346049046322, 86.07, 'mse = 0.0\\nsamples = 1\\nvalue = 21.2'),\n",
       " Text(90.73961852861036, 86.07, 'X[1] <= 53.75\\nmse = 0.023\\nsamples = 2\\nvalue = 22.15'),\n",
       " Text(89.76653950953678, 77.00999999999999, 'mse = 0.0\\nsamples = 1\\nvalue = 22.3'),\n",
       " Text(91.71269754768393, 77.00999999999999, 'mse = 0.0\\nsamples = 1\\nvalue = 22.0'),\n",
       " Text(91.71269754768393, 95.13, 'mse = 0.0\\nsamples = 1\\nvalue = 19.8'),\n",
       " Text(95.60501362397821, 113.24999999999999, 'X[5] <= 6.464\\nmse = 0.672\\nsamples = 4\\nvalue = 25.05'),\n",
       " Text(94.63193460490464, 104.19, 'X[12] <= 8.475\\nmse = 0.087\\nsamples = 3\\nvalue = 24.6'),\n",
       " Text(93.65885558583106, 95.13, 'mse = 0.0\\nsamples = 1\\nvalue = 25.0'),\n",
       " Text(95.60501362397821, 95.13, 'X[0] <= 0.252\\nmse = 0.01\\nsamples = 2\\nvalue = 24.4'),\n",
       " Text(94.63193460490464, 86.07, 'mse = 0.0\\nsamples = 1\\nvalue = 24.5'),\n",
       " Text(96.57809264305178, 86.07, 'mse = 0.0\\nsamples = 1\\nvalue = 24.3'),\n",
       " Text(96.57809264305178, 104.19, 'mse = -0.0\\nsamples = 1\\nvalue = 26.4'),\n",
       " Text(108.31585831062671, 131.37, 'X[11] <= 197.52\\nmse = 3.282\\nsamples = 30\\nvalue = 20.933'),\n",
       " Text(106.36970027247956, 122.30999999999999, 'X[5] <= 6.415\\nmse = 1.562\\nsamples = 2\\nvalue = 17.35'),\n",
       " Text(105.396621253406, 113.24999999999999, 'mse = 0.0\\nsamples = 1\\nvalue = 18.6'),\n",
       " Text(107.34277929155314, 113.24999999999999, 'mse = 0.0\\nsamples = 1\\nvalue = 16.1'),\n",
       " Text(110.26201634877384, 122.30999999999999, 'X[5] <= 6.074\\nmse = 2.422\\nsamples = 28\\nvalue = 21.189'),\n",
       " Text(109.28893732970027, 113.24999999999999, 'mse = 0.0\\nsamples = 1\\nvalue = 24.4'),\n",
       " Text(111.23509536784742, 113.24999999999999, 'X[12] <= 14.505\\nmse = 2.116\\nsamples = 27\\nvalue = 21.07'),\n",
       " Text(110.26201634877384, 104.19, 'X[5] <= 6.318\\nmse = 1.744\\nsamples = 26\\nvalue = 21.2'),\n",
       " Text(104.48435967302453, 95.13, 'X[6] <= 83.8\\nmse = 1.313\\nsamples = 20\\nvalue = 20.85'),\n",
       " Text(98.76752043596731, 86.07, 'X[4] <= 0.478\\nmse = 1.032\\nsamples = 16\\nvalue = 21.162'),\n",
       " Text(93.65885558583106, 77.00999999999999, 'X[12] <= 11.28\\nmse = 0.089\\nsamples = 6\\nvalue = 20.35'),\n",
       " Text(91.71269754768393, 67.94999999999999, 'X[6] <= 61.55\\nmse = 0.016\\nsamples = 3\\nvalue = 20.633'),\n",
       " Text(90.73961852861036, 58.889999999999986, 'mse = 0.0\\nsamples = 1\\nvalue = 20.8'),\n",
       " Text(92.6857765667575, 58.889999999999986, 'X[4] <= 0.447\\nmse = 0.003\\nsamples = 2\\nvalue = 20.55'),\n",
       " Text(91.71269754768393, 49.829999999999984, 'mse = 0.0\\nsamples = 1\\nvalue = 20.5'),\n",
       " Text(93.65885558583106, 49.829999999999984, 'mse = 0.0\\nsamples = 1\\nvalue = 20.6'),\n",
       " Text(95.60501362397821, 67.94999999999999, 'X[2] <= 8.88\\nmse = 0.002\\nsamples = 3\\nvalue = 20.067'),\n",
       " Text(94.63193460490464, 58.889999999999986, 'mse = 0.0\\nsamples = 2\\nvalue = 20.1'),\n",
       " Text(96.57809264305178, 58.889999999999986, 'mse = -0.0\\nsamples = 1\\nvalue = 20.0'),\n",
       " Text(103.87618528610355, 77.00999999999999, 'X[12] <= 13.605\\nmse = 0.965\\nsamples = 10\\nvalue = 21.65'),\n",
       " Text(102.90310626702998, 67.94999999999999, 'X[0] <= 3.967\\nmse = 0.501\\nsamples = 9\\nvalue = 21.889'),\n",
       " Text(98.52425068119892, 58.889999999999986, 'X[2] <= 9.23\\nmse = 0.19\\nsamples = 5\\nvalue = 21.46'),\n",
       " Text(96.57809264305178, 49.829999999999984, 'X[6] <= 49.05\\nmse = 0.063\\nsamples = 2\\nvalue = 21.95'),\n",
       " Text(95.60501362397821, 40.76999999999998, 'mse = 0.0\\nsamples = 1\\nvalue = 22.2'),\n",
       " Text(97.55117166212534, 40.76999999999998, 'mse = 0.0\\nsamples = 1\\nvalue = 21.7'),\n",
       " Text(100.47040871934605, 49.829999999999984, 'X[5] <= 6.145\\nmse = 0.009\\nsamples = 3\\nvalue = 21.133'),\n",
       " Text(99.49732970027249, 40.76999999999998, 'mse = 0.0\\nsamples = 1\\nvalue = 21.0'),\n",
       " Text(101.44348773841962, 40.76999999999998, 'X[6] <= 62.2\\nmse = 0.0\\nsamples = 2\\nvalue = 21.2'),\n",
       " Text(100.47040871934605, 31.70999999999998, 'mse = 0.0\\nsamples = 1\\nvalue = 21.2'),\n",
       " Text(102.41656675749319, 31.70999999999998, 'mse = 0.0\\nsamples = 1\\nvalue = 21.2'),\n",
       " Text(107.28196185286104, 58.889999999999986, 'X[0] <= 6.832\\nmse = 0.372\\nsamples = 4\\nvalue = 22.425'),\n",
       " Text(106.30888283378746, 49.829999999999984, 'X[0] <= 5.513\\nmse = 0.029\\nsamples = 3\\nvalue = 22.767'),\n",
       " Text(105.3358038147139, 40.76999999999998, 'X[3] <= 0.5\\nmse = 0.003\\nsamples = 2\\nvalue = 22.65'),\n",
       " Text(104.36272479564033, 31.70999999999998, 'mse = 0.0\\nsamples = 1\\nvalue = 22.6'),\n",
       " Text(106.30888283378746, 31.70999999999998, 'mse = 0.0\\nsamples = 1\\nvalue = 22.7'),\n",
       " Text(107.28196185286104, 40.76999999999998, 'mse = 0.0\\nsamples = 1\\nvalue = 23.0'),\n",
       " Text(108.25504087193461, 49.829999999999984, 'mse = -0.0\\nsamples = 1\\nvalue = 21.4'),\n",
       " Text(104.84926430517712, 67.94999999999999, 'mse = 0.0\\nsamples = 1\\nvalue = 19.5'),\n",
       " Text(110.20119891008174, 86.07, 'X[5] <= 6.253\\nmse = 0.485\\nsamples = 4\\nvalue = 19.6'),\n",
       " Text(109.22811989100818, 77.00999999999999, 'X[7] <= 2.209\\nmse = 0.109\\nsamples = 3\\nvalue = 19.967'),\n",
       " Text(108.25504087193461, 67.94999999999999, 'mse = 0.0\\nsamples = 1\\nvalue = 20.4'),\n",
       " Text(110.20119891008174, 67.94999999999999, 'X[12] <= 13.53\\nmse = 0.022\\nsamples = 2\\nvalue = 19.75'),\n",
       " Text(109.22811989100818, 58.889999999999986, 'mse = 0.0\\nsamples = 1\\nvalue = 19.6'),\n",
       " Text(111.17427792915532, 58.889999999999986, 'mse = 0.0\\nsamples = 1\\nvalue = 19.9'),\n",
       " Text(111.17427792915532, 77.00999999999999, 'mse = 0.0\\nsamples = 1\\nvalue = 18.5'),\n",
       " Text(116.03967302452317, 95.13, 'X[0] <= 3.709\\nmse = 1.409\\nsamples = 6\\nvalue = 22.367'),\n",
       " Text(114.09351498637602, 86.07, 'X[1] <= 15.0\\nmse = 0.327\\nsamples = 4\\nvalue = 23.075'),\n",
       " Text(113.12043596730246, 77.00999999999999, 'X[7] <= 2.498\\nmse = 0.096\\nsamples = 3\\nvalue = 23.367'),\n",
       " Text(112.14735694822889, 67.94999999999999, 'mse = 0.0\\nsamples = 1\\nvalue = 23.8'),\n",
       " Text(114.09351498637602, 67.94999999999999, 'X[9] <= 485.0\\nmse = 0.003\\nsamples = 2\\nvalue = 23.15'),\n",
       " Text(113.12043596730246, 58.889999999999986, 'mse = 0.0\\nsamples = 1\\nvalue = 23.1'),\n",
       " Text(115.0665940054496, 58.889999999999986, 'mse = 0.0\\nsamples = 1\\nvalue = 23.2'),\n",
       " Text(115.0665940054496, 77.00999999999999, 'mse = 0.0\\nsamples = 1\\nvalue = 22.2'),\n",
       " Text(117.9858310626703, 86.07, 'X[7] <= 2.653\\nmse = 0.562\\nsamples = 2\\nvalue = 20.95'),\n",
       " Text(117.01275204359673, 77.00999999999999, 'mse = 0.0\\nsamples = 1\\nvalue = 21.7'),\n",
       " Text(118.95891008174388, 77.00999999999999, 'mse = 0.0\\nsamples = 1\\nvalue = 20.2'),\n",
       " Text(112.20817438692099, 104.19, 'mse = 0.0\\nsamples = 1\\nvalue = 17.7'),\n",
       " Text(116.10049046321527, 158.55, 'X[9] <= 290.0\\nmse = 7.422\\nsamples = 10\\nvalue = 18.5'),\n",
       " Text(115.1274114441417, 149.49, 'mse = 0.0\\nsamples = 1\\nvalue = 11.9'),\n",
       " Text(117.07356948228883, 149.49, 'X[12] <= 13.595\\nmse = 2.869\\nsamples = 9\\nvalue = 19.233'),\n",
       " Text(115.1274114441417, 140.43, 'X[11] <= 384.28\\nmse = 2.304\\nsamples = 7\\nvalue = 19.786'),\n",
       " Text(114.15433242506812, 131.37, 'mse = 0.0\\nsamples = 2\\nvalue = 18.2'),\n",
       " Text(116.10049046321527, 131.37, 'X[11] <= 390.4\\nmse = 1.818\\nsamples = 5\\nvalue = 20.42'),\n",
       " Text(115.1274114441417, 122.30999999999999, 'mse = 0.0\\nsamples = 1\\nvalue = 23.0'),\n",
       " Text(117.07356948228883, 122.30999999999999, 'X[10] <= 21.1\\nmse = 0.192\\nsamples = 4\\nvalue = 19.775'),\n",
       " Text(115.1274114441417, 113.24999999999999, 'X[6] <= 59.15\\nmse = 0.062\\nsamples = 2\\nvalue = 20.15'),\n",
       " Text(114.15433242506812, 104.19, 'mse = 0.0\\nsamples = 1\\nvalue = 19.9'),\n",
       " Text(116.10049046321527, 104.19, 'mse = -0.0\\nsamples = 1\\nvalue = 20.4'),\n",
       " Text(119.01972752043598, 113.24999999999999, 'X[5] <= 6.392\\nmse = 0.04\\nsamples = 2\\nvalue = 19.4'),\n",
       " Text(118.0466485013624, 104.19, 'mse = 0.0\\nsamples = 1\\nvalue = 19.6'),\n",
       " Text(119.99280653950954, 104.19, 'mse = 0.0\\nsamples = 1\\nvalue = 19.2'),\n",
       " Text(119.01972752043598, 140.43, 'X[12] <= 14.63\\nmse = 0.04\\nsamples = 2\\nvalue = 17.3'),\n",
       " Text(118.0466485013624, 131.37, 'mse = 0.0\\nsamples = 1\\nvalue = 17.1'),\n",
       " Text(119.99280653950954, 131.37, 'mse = 0.0\\nsamples = 1\\nvalue = 17.5'),\n",
       " Text(139.33275204359674, 185.73, 'X[7] <= 1.684\\nmse = 22.68\\nsamples = 38\\nvalue = 28.163'),\n",
       " Text(138.35967302452318, 176.67, 'mse = 0.0\\nsamples = 1\\nvalue = 50.0'),\n",
       " Text(140.3058310626703, 176.67, 'X[9] <= 269.0\\nmse = 10.057\\nsamples = 37\\nvalue = 27.573'),\n",
       " Text(128.50724795640326, 167.60999999999999, 'X[10] <= 18.35\\nmse = 3.892\\nsamples = 14\\nvalue = 30.164'),\n",
       " Text(124.3716621253406, 158.55, 'X[11] <= 392.415\\nmse = 1.437\\nsamples = 9\\nvalue = 31.411'),\n",
       " Text(121.93896457765668, 149.49, 'X[9] <= 264.5\\nmse = 0.25\\nsamples = 2\\nvalue = 29.6'),\n",
       " Text(120.96588555858311, 140.43, 'mse = 0.0\\nsamples = 1\\nvalue = 30.1'),\n",
       " Text(122.91204359673026, 140.43, 'mse = 0.0\\nsamples = 1\\nvalue = 29.1'),\n",
       " Text(126.80435967302454, 149.49, 'X[4] <= 0.438\\nmse = 0.571\\nsamples = 7\\nvalue = 31.929'),\n",
       " Text(124.85820163487739, 140.43, 'X[5] <= 6.808\\nmse = 0.109\\nsamples = 3\\nvalue = 31.167'),\n",
       " Text(123.88512261580382, 131.37, 'X[2] <= 2.94\\nmse = 0.023\\nsamples = 2\\nvalue = 30.95'),\n",
       " Text(122.91204359673026, 122.30999999999999, 'mse = 0.0\\nsamples = 1\\nvalue = 31.1'),\n",
       " Text(124.85820163487739, 122.30999999999999, 'mse = -0.0\\nsamples = 1\\nvalue = 30.8'),\n",
       " Text(125.83128065395096, 131.37, 'mse = 0.0\\nsamples = 1\\nvalue = 31.6'),\n",
       " Text(128.75051771117168, 140.43, 'X[6] <= 30.25\\nmse = 0.155\\nsamples = 4\\nvalue = 32.5'),\n",
       " Text(127.7774386920981, 131.37, 'mse = 0.0\\nsamples = 1\\nvalue = 33.1'),\n",
       " Text(129.72359673024525, 131.37, 'X[12] <= 3.255\\nmse = 0.047\\nsamples = 3\\nvalue = 32.3'),\n",
       " Text(128.75051771117168, 122.30999999999999, 'mse = 0.0\\nsamples = 1\\nvalue = 32.0'),\n",
       " Text(130.6966757493188, 122.30999999999999, 'X[2] <= 4.435\\nmse = 0.002\\nsamples = 2\\nvalue = 32.45'),\n",
       " Text(129.72359673024525, 113.24999999999999, 'mse = 0.0\\nsamples = 1\\nvalue = 32.5'),\n",
       " Text(131.66975476839238, 113.24999999999999, 'mse = -0.0\\nsamples = 1\\nvalue = 32.4'),\n",
       " Text(132.64283378746595, 158.55, 'X[1] <= 16.5\\nmse = 0.478\\nsamples = 5\\nvalue = 27.92'),\n",
       " Text(131.66975476839238, 149.49, 'mse = 0.0\\nsamples = 1\\nvalue = 26.6'),\n",
       " Text(133.6159128065395, 149.49, 'X[6] <= 25.65\\nmse = 0.053\\nsamples = 4\\nvalue = 28.25'),\n",
       " Text(132.64283378746595, 140.43, 'mse = 0.0\\nsamples = 1\\nvalue = 27.9'),\n",
       " Text(134.58899182561308, 140.43, 'X[6] <= 64.2\\nmse = 0.016\\nsamples = 3\\nvalue = 28.367'),\n",
       " Text(133.6159128065395, 131.37, 'X[12] <= 6.13\\nmse = 0.003\\nsamples = 2\\nvalue = 28.45'),\n",
       " Text(132.64283378746595, 122.30999999999999, 'mse = 0.0\\nsamples = 1\\nvalue = 28.5'),\n",
       " Text(134.58899182561308, 122.30999999999999, 'mse = 0.0\\nsamples = 1\\nvalue = 28.4'),\n",
       " Text(135.56207084468664, 131.37, 'mse = 0.0\\nsamples = 1\\nvalue = 28.2'),\n",
       " Text(152.10441416893732, 167.60999999999999, 'X[7] <= 3.939\\nmse = 7.233\\nsamples = 23\\nvalue = 25.996'),\n",
       " Text(144.31978201634877, 158.55, 'X[10] <= 18.2\\nmse = 8.173\\nsamples = 11\\nvalue = 27.2'),\n",
       " Text(140.4274659400545, 149.49, 'X[11] <= 393.325\\nmse = 2.071\\nsamples = 6\\nvalue = 29.283'),\n",
       " Text(138.48130790190737, 140.43, 'X[7] <= 3.347\\nmse = 0.315\\nsamples = 4\\nvalue = 28.4'),\n",
       " Text(137.5082288828338, 131.37, 'mse = 0.0\\nsamples = 1\\nvalue = 27.5'),\n",
       " Text(139.45438692098094, 131.37, 'X[7] <= 3.574\\nmse = 0.06\\nsamples = 3\\nvalue = 28.7'),\n",
       " Text(138.48130790190737, 122.30999999999999, 'X[5] <= 6.634\\nmse = 0.023\\nsamples = 2\\nvalue = 28.55'),\n",
       " Text(137.5082288828338, 113.24999999999999, 'mse = 0.0\\nsamples = 1\\nvalue = 28.4'),\n",
       " Text(139.45438692098094, 113.24999999999999, 'mse = 0.0\\nsamples = 1\\nvalue = 28.7'),\n",
       " Text(140.4274659400545, 122.30999999999999, 'mse = 0.0\\nsamples = 1\\nvalue = 29.0'),\n",
       " Text(142.37362397820164, 140.43, 'X[2] <= 4.82\\nmse = 0.903\\nsamples = 2\\nvalue = 31.05'),\n",
       " Text(141.40054495912807, 131.37, 'mse = 0.0\\nsamples = 1\\nvalue = 32.0'),\n",
       " Text(143.3467029972752, 131.37, 'mse = 0.0\\nsamples = 1\\nvalue = 30.1'),\n",
       " Text(148.21209809264306, 149.49, 'X[4] <= 0.526\\nmse = 4.036\\nsamples = 5\\nvalue = 24.7'),\n",
       " Text(146.26594005449593, 140.43, 'X[12] <= 8.545\\nmse = 0.25\\nsamples = 2\\nvalue = 27.0'),\n",
       " Text(145.29286103542236, 131.37, 'mse = 0.0\\nsamples = 1\\nvalue = 26.5'),\n",
       " Text(147.2390190735695, 131.37, 'mse = 0.0\\nsamples = 1\\nvalue = 27.5'),\n",
       " Text(150.1582561307902, 140.43, 'X[7] <= 2.86\\nmse = 0.682\\nsamples = 3\\nvalue = 23.167'),\n",
       " Text(149.18517711171663, 131.37, 'mse = 0.0\\nsamples = 1\\nvalue = 22.0'),\n",
       " Text(151.13133514986376, 131.37, 'X[6] <= 81.1\\nmse = 0.003\\nsamples = 2\\nvalue = 23.75'),\n",
       " Text(150.1582561307902, 122.30999999999999, 'mse = 0.0\\nsamples = 1\\nvalue = 23.7'),\n",
       " Text(152.10441416893732, 122.30999999999999, 'mse = 0.0\\nsamples = 1\\nvalue = 23.8'),\n",
       " Text(159.88904632152588, 158.55, 'X[6] <= 37.45\\nmse = 3.824\\nsamples = 12\\nvalue = 24.892'),\n",
       " Text(155.99673024523162, 149.49, 'X[9] <= 291.0\\nmse = 2.14\\nsamples = 4\\nvalue = 27.0'),\n",
       " Text(154.05057220708449, 140.43, 'X[1] <= 12.5\\nmse = 0.09\\nsamples = 2\\nvalue = 28.3'),\n",
       " Text(153.07749318801092, 131.37, 'mse = 0.0\\nsamples = 1\\nvalue = 28.6'),\n",
       " Text(155.02365122615805, 131.37, 'mse = 0.0\\nsamples = 1\\nvalue = 28.0'),\n",
       " Text(157.94288828337875, 140.43, 'X[9] <= 314.0\\nmse = 0.81\\nsamples = 2\\nvalue = 25.7'),\n",
       " Text(156.96980926430518, 131.37, 'mse = 0.0\\nsamples = 1\\nvalue = 24.8'),\n",
       " Text(158.91596730245232, 131.37, 'mse = -0.0\\nsamples = 1\\nvalue = 26.6'),\n",
       " Text(163.78136239782017, 149.49, 'X[0] <= 0.12\\nmse = 1.332\\nsamples = 8\\nvalue = 23.838'),\n",
       " Text(161.83520435967304, 140.43, 'X[12] <= 8.36\\nmse = 1.122\\nsamples = 6\\nvalue = 23.433'),\n",
       " Text(160.86212534059948, 131.37, 'X[11] <= 393.245\\nmse = 0.143\\nsamples = 4\\nvalue = 24.15'),\n",
       " Text(159.88904632152588, 122.30999999999999, 'mse = 0.0\\nsamples = 1\\nvalue = 24.8'),\n",
       " Text(161.83520435967304, 122.30999999999999, 'X[0] <= 0.016\\nmse = 0.002\\nsamples = 3\\nvalue = 23.933'),\n",
       " Text(160.86212534059948, 113.24999999999999, 'mse = 0.0\\nsamples = 1\\nvalue = 24.0'),\n",
       " Text(162.8082833787466, 113.24999999999999, 'mse = 0.0\\nsamples = 2\\nvalue = 23.9'),\n",
       " Text(162.8082833787466, 131.37, 'mse = 0.0\\nsamples = 2\\nvalue = 22.0'),\n",
       " Text(165.7275204359673, 140.43, 'X[5] <= 6.697\\nmse = 0.003\\nsamples = 2\\nvalue = 25.05'),\n",
       " Text(164.75444141689374, 131.37, 'mse = 0.0\\nsamples = 1\\nvalue = 25.1'),\n",
       " Text(166.70059945504087, 131.37, 'mse = 0.0\\nsamples = 1\\nvalue = 25.0'),\n",
       " Text(222.6982561307902, 194.79, 'X[0] <= 6.03\\nmse = 16.675\\nsamples = 111\\nvalue = 14.761'),\n",
       " Text(197.62626702997275, 185.73, 'X[0] <= 0.615\\nmse = 8.313\\nsamples = 60\\nvalue = 17.22'),\n",
       " Text(183.30376021798367, 176.67, 'X[6] <= 94.05\\nmse = 6.259\\nsamples = 35\\nvalue = 18.497'),\n",
       " Text(173.63378746594006, 167.60999999999999, 'X[6] <= 55.9\\nmse = 4.139\\nsamples = 21\\nvalue = 19.681'),\n",
       " Text(167.67367847411444, 158.55, 'X[7] <= 3.62\\nmse = 0.687\\nsamples = 3\\nvalue = 22.6'),\n",
       " Text(166.70059945504087, 149.49, 'mse = 0.0\\nsamples = 1\\nvalue = 23.7'),\n",
       " Text(168.646757493188, 149.49, 'X[0] <= 0.155\\nmse = 0.123\\nsamples = 2\\nvalue = 22.05'),\n",
       " Text(167.67367847411444, 140.43, 'mse = 0.0\\nsamples = 1\\nvalue = 21.7'),\n",
       " Text(169.6198365122616, 140.43, 'mse = 0.0\\nsamples = 1\\nvalue = 22.4'),\n",
       " Text(179.59389645776568, 158.55, 'X[4] <= 0.583\\nmse = 3.057\\nsamples = 18\\nvalue = 19.194'),\n",
       " Text(175.94485013623978, 149.49, 'X[2] <= 10.3\\nmse = 2.136\\nsamples = 16\\nvalue = 19.55'),\n",
       " Text(171.56599455040873, 140.43, 'X[12] <= 18.73\\nmse = 0.83\\nsamples = 10\\nvalue = 18.7'),\n",
       " Text(170.59291553133517, 131.37, 'X[11] <= 390.965\\nmse = 0.378\\nsamples = 9\\nvalue = 18.933'),\n",
       " Text(167.67367847411444, 122.30999999999999, 'X[9] <= 307.5\\nmse = 0.157\\nsamples = 4\\nvalue = 18.375'),\n",
       " Text(166.70059945504087, 113.24999999999999, 'mse = 0.0\\nsamples = 1\\nvalue = 17.8'),\n",
       " Text(168.646757493188, 113.24999999999999, 'X[9] <= 320.5\\nmse = 0.062\\nsamples = 3\\nvalue = 18.567'),\n",
       " Text(167.67367847411444, 104.19, 'mse = 0.0\\nsamples = 1\\nvalue = 18.9'),\n",
       " Text(169.6198365122616, 104.19, 'X[5] <= 5.766\\nmse = 0.01\\nsamples = 2\\nvalue = 18.4'),\n",
       " Text(168.646757493188, 95.13, 'mse = 0.0\\nsamples = 1\\nvalue = 18.5'),\n",
       " Text(170.59291553133517, 95.13, 'mse = 0.0\\nsamples = 1\\nvalue = 18.3'),\n",
       " Text(173.51215258855586, 122.30999999999999, 'X[10] <= 17.85\\nmse = 0.106\\nsamples = 5\\nvalue = 19.38'),\n",
       " Text(172.5390735694823, 113.24999999999999, 'mse = 0.0\\nsamples = 1\\nvalue = 18.8'),\n",
       " Text(174.48523160762943, 113.24999999999999, 'X[2] <= 9.23\\nmse = 0.027\\nsamples = 4\\nvalue = 19.525'),\n",
       " Text(173.51215258855586, 104.19, 'X[7] <= 2.378\\nmse = 0.002\\nsamples = 3\\nvalue = 19.433'),\n",
       " Text(172.5390735694823, 95.13, 'mse = 0.0\\nsamples = 1\\nvalue = 19.5'),\n",
       " Text(174.48523160762943, 95.13, 'mse = -0.0\\nsamples = 2\\nvalue = 19.4'),\n",
       " Text(175.458310626703, 104.19, 'mse = 0.0\\nsamples = 1\\nvalue = 19.8'),\n",
       " Text(172.5390735694823, 131.37, 'mse = 0.0\\nsamples = 1\\nvalue = 16.6'),\n",
       " Text(180.32370572207086, 140.43, 'X[12] <= 21.02\\nmse = 1.102\\nsamples = 6\\nvalue = 20.967'),\n",
       " Text(179.3506267029973, 131.37, 'X[2] <= 13.905\\nmse = 0.656\\nsamples = 5\\nvalue = 21.3'),\n",
       " Text(177.40446866485016, 122.30999999999999, 'X[3] <= 0.5\\nmse = 0.187\\nsamples = 3\\nvalue = 21.9'),\n",
       " Text(176.43138964577656, 113.24999999999999, 'mse = 0.0\\nsamples = 1\\nvalue = 22.5'),\n",
       " Text(178.37754768392372, 113.24999999999999, 'X[4] <= 0.52\\nmse = 0.01\\nsamples = 2\\nvalue = 21.6'),\n",
       " Text(177.40446866485016, 104.19, 'mse = 0.0\\nsamples = 1\\nvalue = 21.7'),\n",
       " Text(179.3506267029973, 104.19, 'mse = -0.0\\nsamples = 1\\nvalue = 21.5'),\n",
       " Text(181.29678474114442, 122.30999999999999, 'X[8] <= 3.0\\nmse = 0.01\\nsamples = 2\\nvalue = 20.4'),\n",
       " Text(180.32370572207086, 113.24999999999999, 'mse = 0.0\\nsamples = 1\\nvalue = 20.5'),\n",
       " Text(182.269863760218, 113.24999999999999, 'mse = 0.0\\nsamples = 1\\nvalue = 20.3'),\n",
       " Text(181.29678474114442, 131.37, 'mse = 0.0\\nsamples = 1\\nvalue = 19.3'),\n",
       " Text(183.24294277929155, 149.49, 'X[6] <= 83.1\\nmse = 1.323\\nsamples = 2\\nvalue = 16.35'),\n",
       " Text(182.269863760218, 140.43, 'mse = 0.0\\nsamples = 1\\nvalue = 17.5'),\n",
       " Text(184.21602179836512, 140.43, 'mse = -0.0\\nsamples = 1\\nvalue = 15.2'),\n",
       " Text(192.97373297002727, 167.60999999999999, 'X[11] <= 393.285\\nmse = 4.185\\nsamples = 14\\nvalue = 16.721'),\n",
       " Text(189.08141689373298, 158.55, 'X[5] <= 5.856\\nmse = 1.908\\nsamples = 7\\nvalue = 15.371'),\n",
       " Text(187.13525885558585, 149.49, 'X[0] <= 0.181\\nmse = 0.337\\nsamples = 4\\nvalue = 16.425'),\n",
       " Text(186.16217983651228, 140.43, 'mse = 0.0\\nsamples = 1\\nvalue = 17.3'),\n",
       " Text(188.1083378746594, 140.43, 'X[2] <= 23.77\\nmse = 0.109\\nsamples = 3\\nvalue = 16.133'),\n",
       " Text(187.13525885558585, 131.37, 'X[1] <= 6.25\\nmse = 0.022\\nsamples = 2\\nvalue = 16.35'),\n",
       " Text(186.16217983651228, 122.30999999999999, 'mse = 0.0\\nsamples = 1\\nvalue = 16.2'),\n",
       " Text(188.1083378746594, 122.30999999999999, 'mse = -0.0\\nsamples = 1\\nvalue = 16.5'),\n",
       " Text(189.08141689373298, 131.37, 'mse = -0.0\\nsamples = 1\\nvalue = 15.7'),\n",
       " Text(191.0275749318801, 149.49, 'X[6] <= 96.25\\nmse = 0.549\\nsamples = 3\\nvalue = 13.967'),\n",
       " Text(190.05449591280654, 140.43, 'mse = 0.0\\nsamples = 1\\nvalue = 15.0'),\n",
       " Text(192.00065395095368, 140.43, 'X[5] <= 5.92\\nmse = 0.023\\nsamples = 2\\nvalue = 13.45'),\n",
       " Text(191.0275749318801, 131.37, 'mse = 0.0\\nsamples = 1\\nvalue = 13.3'),\n",
       " Text(192.97373297002727, 131.37, 'mse = 0.0\\nsamples = 1\\nvalue = 13.6'),\n",
       " Text(196.86604904632154, 158.55, 'X[6] <= 95.35\\nmse = 2.816\\nsamples = 7\\nvalue = 18.071'),\n",
       " Text(195.89297002724797, 149.49, 'mse = 0.0\\nsamples = 1\\nvalue = 14.4'),\n",
       " Text(197.8391280653951, 149.49, 'X[5] <= 5.971\\nmse = 0.665\\nsamples = 6\\nvalue = 18.683'),\n",
       " Text(195.89297002724797, 140.43, 'X[9] <= 330.5\\nmse = 0.062\\nsamples = 2\\nvalue = 19.75'),\n",
       " Text(194.9198910081744, 131.37, 'mse = 0.0\\nsamples = 1\\nvalue = 20.0'),\n",
       " Text(196.86604904632154, 131.37, 'mse = 0.0\\nsamples = 1\\nvalue = 19.5'),\n",
       " Text(199.78528610354223, 140.43, 'X[7] <= 2.329\\nmse = 0.113\\nsamples = 4\\nvalue = 18.15'),\n",
       " Text(198.81220708446867, 131.37, 'X[6] <= 98.05\\nmse = 0.016\\nsamples = 3\\nvalue = 17.967'),\n",
       " Text(197.8391280653951, 122.30999999999999, 'mse = 0.0\\nsamples = 1\\nvalue = 17.8'),\n",
       " Text(199.78528610354223, 122.30999999999999, 'X[5] <= 6.383\\nmse = 0.002\\nsamples = 2\\nvalue = 18.05'),\n",
       " Text(198.81220708446867, 113.24999999999999, 'mse = 0.0\\nsamples = 1\\nvalue = 18.1'),\n",
       " Text(200.7583651226158, 113.24999999999999, 'mse = 0.0\\nsamples = 1\\nvalue = 18.0'),\n",
       " Text(200.7583651226158, 131.37, 'mse = -0.0\\nsamples = 1\\nvalue = 18.7'),\n",
       " Text(211.94877384196187, 176.67, 'X[0] <= 4.223\\nmse = 5.708\\nsamples = 25\\nvalue = 15.432'),\n",
       " Text(205.13722070844688, 167.60999999999999, 'X[5] <= 4.914\\nmse = 2.195\\nsamples = 17\\nvalue = 14.6'),\n",
       " Text(204.1641416893733, 158.55, 'mse = 0.0\\nsamples = 1\\nvalue = 11.8'),\n",
       " Text(206.11029972752044, 158.55, 'X[0] <= 0.795\\nmse = 1.812\\nsamples = 16\\nvalue = 14.775'),\n",
       " Text(202.70452316076296, 149.49, 'X[12] <= 15.555\\nmse = 0.25\\nsamples = 2\\nvalue = 16.1'),\n",
       " Text(201.7314441416894, 140.43, 'mse = 0.0\\nsamples = 1\\nvalue = 16.6'),\n",
       " Text(203.67760217983653, 140.43, 'mse = -0.0\\nsamples = 1\\nvalue = 15.6'),\n",
       " Text(209.51607629427795, 149.49, 'X[9] <= 355.0\\nmse = 1.748\\nsamples = 14\\nvalue = 14.586'),\n",
       " Text(205.62376021798366, 140.43, 'X[0] <= 1.043\\nmse = 0.502\\nsamples = 5\\nvalue = 13.62'),\n",
       " Text(203.67760217983653, 131.37, 'X[7] <= 4.454\\nmse = 0.202\\nsamples = 2\\nvalue = 14.35'),\n",
       " Text(202.70452316076296, 122.30999999999999, 'mse = 0.0\\nsamples = 1\\nvalue = 14.8'),\n",
       " Text(204.6506811989101, 122.30999999999999, 'mse = -0.0\\nsamples = 1\\nvalue = 13.9'),\n",
       " Text(207.5699182561308, 131.37, 'X[11] <= 304.24\\nmse = 0.109\\nsamples = 3\\nvalue = 13.133'),\n",
       " Text(206.59683923705722, 122.30999999999999, 'X[0] <= 1.5\\nmse = 0.023\\nsamples = 2\\nvalue = 13.35'),\n",
       " Text(205.62376021798366, 113.24999999999999, 'mse = 0.0\\nsamples = 1\\nvalue = 13.2'),\n",
       " Text(207.5699182561308, 113.24999999999999, 'mse = 0.0\\nsamples = 1\\nvalue = 13.5'),\n",
       " Text(208.54299727520436, 122.30999999999999, 'mse = -0.0\\nsamples = 1\\nvalue = 12.7'),\n",
       " Text(213.40839237057222, 140.43, 'X[6] <= 93.9\\nmse = 1.635\\nsamples = 9\\nvalue = 15.122'),\n",
       " Text(211.46223433242508, 131.37, 'X[7] <= 1.638\\nmse = 1.21\\nsamples = 2\\nvalue = 16.7'),\n",
       " Text(210.48915531335152, 122.30999999999999, 'mse = 0.0\\nsamples = 1\\nvalue = 17.8'),\n",
       " Text(212.43531335149865, 122.30999999999999, 'mse = 0.0\\nsamples = 1\\nvalue = 15.6'),\n",
       " Text(215.35455040871935, 131.37, 'X[11] <= 128.95\\nmse = 0.842\\nsamples = 7\\nvalue = 14.671'),\n",
       " Text(214.38147138964578, 122.30999999999999, 'mse = 0.0\\nsamples = 1\\nvalue = 13.1'),\n",
       " Text(216.3276294277929, 122.30999999999999, 'X[12] <= 27.11\\nmse = 0.502\\nsamples = 6\\nvalue = 14.933'),\n",
       " Text(215.35455040871935, 113.24999999999999, 'mse = 0.0\\nsamples = 3\\nvalue = 15.6'),\n",
       " Text(217.3007084468665, 113.24999999999999, 'X[0] <= 2.374\\nmse = 0.116\\nsamples = 3\\nvalue = 14.267'),\n",
       " Text(216.3276294277929, 104.19, 'X[9] <= 420.0\\nmse = 0.01\\nsamples = 2\\nvalue = 14.5'),\n",
       " Text(215.35455040871935, 95.13, 'mse = 0.0\\nsamples = 1\\nvalue = 14.6'),\n",
       " Text(217.3007084468665, 95.13, 'mse = -0.0\\nsamples = 1\\nvalue = 14.4'),\n",
       " Text(218.27378746594007, 104.19, 'mse = 0.0\\nsamples = 1\\nvalue = 13.8'),\n",
       " Text(218.76032697547686, 167.60999999999999, 'X[5] <= 6.258\\nmse = 8.575\\nsamples = 8\\nvalue = 17.2'),\n",
       " Text(215.35455040871935, 158.55, 'X[11] <= 387.035\\nmse = 4.02\\nsamples = 3\\nvalue = 20.5'),\n",
       " Text(214.38147138964578, 149.49, 'mse = 0.0\\nsamples = 1\\nvalue = 23.2'),\n",
       " Text(216.3276294277929, 149.49, 'X[4] <= 0.66\\nmse = 0.562\\nsamples = 2\\nvalue = 19.15'),\n",
       " Text(215.35455040871935, 140.43, 'mse = 0.0\\nsamples = 1\\nvalue = 19.9'),\n",
       " Text(217.3007084468665, 140.43, 'mse = 0.0\\nsamples = 1\\nvalue = 18.4'),\n",
       " Text(222.16610354223434, 158.55, 'X[11] <= 177.71\\nmse = 0.854\\nsamples = 5\\nvalue = 15.22'),\n",
       " Text(220.2199455040872, 149.49, 'X[0] <= 5.167\\nmse = 0.01\\nsamples = 2\\nvalue = 14.2'),\n",
       " Text(219.24686648501364, 140.43, 'mse = 0.0\\nsamples = 1\\nvalue = 14.1'),\n",
       " Text(221.19302452316077, 140.43, 'mse = 0.0\\nsamples = 1\\nvalue = 14.3'),\n",
       " Text(224.11226158038147, 149.49, 'X[0] <= 5.266\\nmse = 0.26\\nsamples = 3\\nvalue = 15.9'),\n",
       " Text(223.1391825613079, 140.43, 'X[7] <= 2.483\\nmse = 0.023\\nsamples = 2\\nvalue = 16.25'),\n",
       " Text(222.16610354223434, 131.37, 'mse = 0.0\\nsamples = 1\\nvalue = 16.1'),\n",
       " Text(224.11226158038147, 131.37, 'mse = 0.0\\nsamples = 1\\nvalue = 16.4'),\n",
       " Text(225.08534059945507, 140.43, 'mse = -0.0\\nsamples = 1\\nvalue = 15.2'),\n",
       " Text(247.77024523160765, 185.73, 'X[0] <= 10.452\\nmse = 11.033\\nsamples = 51\\nvalue = 11.869'),\n",
       " Text(238.9517166212534, 176.67, 'X[4] <= 0.727\\nmse = 3.19\\nsamples = 21\\nvalue = 13.919'),\n",
       " Text(235.30267029972754, 167.60999999999999, 'X[12] <= 25.48\\nmse = 1.976\\nsamples = 18\\nvalue = 13.444'),\n",
       " Text(234.32959128065397, 158.55, 'X[7] <= 2.076\\nmse = 1.214\\nsamples = 17\\nvalue = 13.224'),\n",
       " Text(229.9507356948229, 149.49, 'X[5] <= 5.834\\nmse = 0.61\\nsamples = 8\\nvalue = 12.338'),\n",
       " Text(227.0314986376022, 140.43, 'X[0] <= 8.072\\nmse = 0.14\\nsamples = 4\\nvalue = 11.7'),\n",
       " Text(226.05841961852863, 131.37, 'mse = 0.0\\nsamples = 1\\nvalue = 12.3'),\n",
       " Text(228.00457765667576, 131.37, 'X[12] <= 19.005\\nmse = 0.027\\nsamples = 3\\nvalue = 11.5'),\n",
       " Text(227.0314986376022, 122.30999999999999, 'mse = 0.0\\nsamples = 1\\nvalue = 11.7'),\n",
       " Text(228.97765667574933, 122.30999999999999, 'X[12] <= 22.225\\nmse = 0.01\\nsamples = 2\\nvalue = 11.4'),\n",
       " Text(228.00457765667576, 113.24999999999999, 'mse = 0.0\\nsamples = 1\\nvalue = 11.5'),\n",
       " Text(229.9507356948229, 113.24999999999999, 'mse = -0.0\\nsamples = 1\\nvalue = 11.3'),\n",
       " Text(232.8699727520436, 140.43, 'X[6] <= 99.4\\nmse = 0.267\\nsamples = 4\\nvalue = 12.975'),\n",
       " Text(231.89689373297003, 131.37, 'X[12] <= 19.18\\nmse = 0.016\\nsamples = 3\\nvalue = 13.267'),\n",
       " Text(230.92381471389646, 122.30999999999999, 'mse = 0.0\\nsamples = 1\\nvalue = 13.1'),\n",
       " Text(232.8699727520436, 122.30999999999999, 'X[4] <= 0.643\\nmse = 0.003\\nsamples = 2\\nvalue = 13.35'),\n",
       " Text(231.89689373297003, 113.24999999999999, 'mse = 0.0\\nsamples = 1\\nvalue = 13.4'),\n",
       " Text(233.8430517711172, 113.24999999999999, 'mse = -0.0\\nsamples = 1\\nvalue = 13.3'),\n",
       " Text(233.8430517711172, 131.37, 'mse = 0.0\\nsamples = 1\\nvalue = 12.1'),\n",
       " Text(238.70844686648502, 149.49, 'X[0] <= 7.639\\nmse = 0.432\\nsamples = 9\\nvalue = 14.011'),\n",
       " Text(236.7622888283379, 140.43, 'X[11] <= 303.485\\nmse = 0.029\\nsamples = 3\\nvalue = 13.233'),\n",
       " Text(235.78920980926432, 131.37, 'X[0] <= 6.555\\nmse = 0.002\\nsamples = 2\\nvalue = 13.35'),\n",
       " Text(234.81613079019075, 122.30999999999999, 'mse = 0.0\\nsamples = 1\\nvalue = 13.3'),\n",
       " Text(236.7622888283379, 122.30999999999999, 'mse = -0.0\\nsamples = 1\\nvalue = 13.4'),\n",
       " Text(237.73536784741145, 131.37, 'mse = 0.0\\nsamples = 1\\nvalue = 13.0'),\n",
       " Text(240.65460490463215, 140.43, 'X[6] <= 94.2\\nmse = 0.18\\nsamples = 6\\nvalue = 14.4'),\n",
       " Text(239.68152588555859, 131.37, 'mse = 0.0\\nsamples = 2\\nvalue = 14.9'),\n",
       " Text(241.62768392370575, 131.37, 'X[0] <= 10.148\\nmse = 0.082\\nsamples = 4\\nvalue = 14.15'),\n",
       " Text(240.65460490463215, 122.30999999999999, 'X[7] <= 2.346\\nmse = 0.02\\nsamples = 3\\nvalue = 14.0'),\n",
       " Text(239.68152588555859, 113.24999999999999, 'mse = 0.0\\nsamples = 2\\nvalue = 14.1'),\n",
       " Text(241.62768392370575, 113.24999999999999, 'mse = -0.0\\nsamples = 1\\nvalue = 13.8'),\n",
       " Text(242.6007629427793, 122.30999999999999, 'mse = 0.0\\nsamples = 1\\nvalue = 14.6'),\n",
       " Text(236.2757493188011, 158.55, 'mse = 0.0\\nsamples = 1\\nvalue = 17.2'),\n",
       " Text(242.6007629427793, 167.60999999999999, 'X[11] <= 386.345\\nmse = 1.016\\nsamples = 3\\nvalue = 16.767'),\n",
       " Text(241.62768392370575, 158.55, 'X[11] <= 381.845\\nmse = 0.122\\nsamples = 2\\nvalue = 17.45'),\n",
       " Text(240.65460490463215, 149.49, 'mse = 0.0\\nsamples = 1\\nvalue = 17.8'),\n",
       " Text(242.6007629427793, 149.49, 'mse = -0.0\\nsamples = 1\\nvalue = 17.1'),\n",
       " Text(243.57384196185288, 158.55, 'mse = 0.0\\nsamples = 1\\nvalue = 15.4'),\n",
       " Text(256.5887738419619, 176.67, 'X[4] <= 0.675\\nmse = 11.52\\nsamples = 30\\nvalue = 10.433'),\n",
       " Text(246.49307901907358, 167.60999999999999, 'X[12] <= 17.885\\nmse = 5.556\\nsamples = 9\\nvalue = 14.233'),\n",
       " Text(245.52, 158.55, 'mse = 0.0\\nsamples = 1\\nvalue = 10.2'),\n",
       " Text(247.46615803814714, 158.55, 'X[7] <= 1.457\\nmse = 3.962\\nsamples = 8\\nvalue = 14.738'),\n",
       " Text(245.52, 149.49, 'X[4] <= 0.663\\nmse = 0.572\\nsamples = 5\\nvalue = 13.3'),\n",
       " Text(244.54692098092644, 140.43, 'mse = 0.0\\nsamples = 1\\nvalue = 11.9'),\n",
       " Text(246.49307901907358, 140.43, 'X[0] <= 21.073\\nmse = 0.102\\nsamples = 4\\nvalue = 13.65'),\n",
       " Text(245.52, 131.37, 'X[7] <= 1.26\\nmse = 0.002\\nsamples = 3\\nvalue = 13.833'),\n",
       " Text(244.54692098092644, 122.30999999999999, 'mse = 0.0\\nsamples = 2\\nvalue = 13.8'),\n",
       " Text(246.49307901907358, 122.30999999999999, 'mse = 0.0\\nsamples = 1\\nvalue = 13.9'),\n",
       " Text(247.46615803814714, 131.37, 'mse = -0.0\\nsamples = 1\\nvalue = 13.1'),\n",
       " Text(249.4123160762943, 149.49, 'X[12] <= 20.65\\nmse = 0.429\\nsamples = 3\\nvalue = 17.133'),\n",
       " Text(248.4392370572207, 140.43, 'mse = 0.0\\nsamples = 1\\nvalue = 16.3'),\n",
       " Text(250.38539509536787, 140.43, 'X[11] <= 31.92\\nmse = 0.122\\nsamples = 2\\nvalue = 17.55'),\n",
       " Text(249.4123160762943, 131.37, 'mse = 0.0\\nsamples = 1\\nvalue = 17.9'),\n",
       " Text(251.35847411444144, 131.37, 'mse = 0.0\\nsamples = 1\\nvalue = 17.2'),\n",
       " Text(266.68446866485016, 167.60999999999999, 'X[0] <= 15.616\\nmse = 5.235\\nsamples = 21\\nvalue = 8.805'),\n",
       " Text(258.1700272479564, 158.55, 'X[6] <= 93.95\\nmse = 3.376\\nsamples = 10\\nvalue = 10.25'),\n",
       " Text(255.2507901907357, 149.49, 'X[0] <= 14.049\\nmse = 0.557\\nsamples = 4\\nvalue = 8.475'),\n",
       " Text(254.27771117166213, 140.43, 'X[4] <= 0.699\\nmse = 0.18\\nsamples = 3\\nvalue = 8.1'),\n",
       " Text(253.30463215258857, 131.37, 'mse = 0.0\\nsamples = 1\\nvalue = 7.5'),\n",
       " Text(255.2507901907357, 131.37, 'mse = 0.0\\nsamples = 2\\nvalue = 8.4'),\n",
       " Text(256.22386920980927, 140.43, 'mse = -0.0\\nsamples = 1\\nvalue = 9.6'),\n",
       " Text(261.0892643051771, 149.49, 'X[6] <= 95.7\\nmse = 1.756\\nsamples = 6\\nvalue = 11.433'),\n",
       " Text(258.1700272479564, 140.43, 'X[0] <= 10.916\\nmse = 0.429\\nsamples = 3\\nvalue = 12.633'),\n",
       " Text(257.19694822888283, 131.37, 'mse = 0.0\\nsamples = 1\\nvalue = 11.8'),\n",
       " Text(259.14310626702996, 131.37, 'X[11] <= 253.375\\nmse = 0.122\\nsamples = 2\\nvalue = 13.05'),\n",
       " Text(258.1700272479564, 122.30999999999999, 'mse = 0.0\\nsamples = 1\\nvalue = 13.4'),\n",
       " Text(260.11618528610353, 122.30999999999999, 'mse = 0.0\\nsamples = 1\\nvalue = 12.7'),\n",
       " Text(264.00850136239785, 140.43, 'X[4] <= 0.72\\nmse = 0.202\\nsamples = 3\\nvalue = 10.233'),\n",
       " Text(263.0354223433243, 131.37, 'X[5] <= 4.958\\nmse = 0.063\\nsamples = 2\\nvalue = 9.95'),\n",
       " Text(262.0623433242507, 122.30999999999999, 'mse = 0.0\\nsamples = 1\\nvalue = 10.2'),\n",
       " Text(264.00850136239785, 122.30999999999999, 'mse = 0.0\\nsamples = 1\\nvalue = 9.7'),\n",
       " Text(264.9815803814714, 131.37, 'mse = -0.0\\nsamples = 1\\nvalue = 10.8'),\n",
       " Text(275.19891008174386, 158.55, 'X[5] <= 5.401\\nmse = 3.299\\nsamples = 11\\nvalue = 7.491'),\n",
       " Text(270.8200544959128, 149.49, 'X[12] <= 29.545\\nmse = 2.132\\nsamples = 6\\nvalue = 8.467'),\n",
       " Text(267.9008174386921, 140.43, 'X[12] <= 23.205\\nmse = 1.029\\nsamples = 3\\nvalue = 9.733'),\n",
       " Text(266.92773841961855, 131.37, 'mse = 0.0\\nsamples = 1\\nvalue = 8.3'),\n",
       " Text(268.8738964577657, 131.37, 'X[6] <= 94.55\\nmse = 0.002\\nsamples = 2\\nvalue = 10.45'),\n",
       " Text(267.9008174386921, 122.30999999999999, 'mse = 0.0\\nsamples = 1\\nvalue = 10.4'),\n",
       " Text(269.84697547683925, 122.30999999999999, 'mse = 0.0\\nsamples = 1\\nvalue = 10.5'),\n",
       " Text(273.7392915531335, 140.43, 'X[12] <= 34.485\\nmse = 0.027\\nsamples = 3\\nvalue = 7.2'),\n",
       " Text(272.76621253405995, 131.37, 'X[6] <= 93.8\\nmse = 0.01\\nsamples = 2\\nvalue = 7.3'),\n",
       " Text(271.7931335149864, 122.30999999999999, 'mse = 0.0\\nsamples = 1\\nvalue = 7.4'),\n",
       " Text(273.7392915531335, 122.30999999999999, 'mse = -0.0\\nsamples = 1\\nvalue = 7.2'),\n",
       " Text(274.7123705722071, 131.37, 'mse = 0.0\\nsamples = 1\\nvalue = 7.0'),\n",
       " Text(279.57776566757497, 149.49, 'X[4] <= 0.686\\nmse = 2.186\\nsamples = 5\\nvalue = 6.32'),\n",
       " Text(277.63160762942783, 140.43, 'X[0] <= 45.809\\nmse = 0.64\\nsamples = 2\\nvalue = 8.0'),\n",
       " Text(276.6585286103542, 131.37, 'mse = 0.0\\nsamples = 1\\nvalue = 7.2'),\n",
       " Text(278.6046866485014, 131.37, 'mse = 0.0\\nsamples = 1\\nvalue = 8.8'),\n",
       " Text(281.5239237057221, 140.43, 'X[0] <= 31.699\\nmse = 0.08\\nsamples = 3\\nvalue = 5.2'),\n",
       " Text(280.55084468664853, 131.37, 'mse = 0.0\\nsamples = 1\\nvalue = 5.6'),\n",
       " Text(282.49700272479566, 131.37, 'mse = 0.0\\nsamples = 2\\nvalue = 5.0'),\n",
       " Text(313.51769754768395, 203.85, 'X[5] <= 7.437\\nmse = 71.999\\nsamples = 56\\nvalue = 36.714'),\n",
       " Text(299.35103542234333, 194.79, 'X[4] <= 0.659\\nmse = 37.185\\nsamples = 35\\nvalue = 32.289'),\n",
       " Text(297.4048773841962, 185.73, 'X[7] <= 1.549\\nmse = 23.093\\nsamples = 33\\nvalue = 33.252'),\n",
       " Text(296.43179836512263, 176.67, 'mse = 0.0\\nsamples = 1\\nvalue = 50.0'),\n",
       " Text(298.37795640326976, 176.67, 'X[4] <= 0.488\\nmse = 14.775\\nsamples = 32\\nvalue = 32.728'),\n",
       " Text(289.2021253405995, 167.60999999999999, 'X[4] <= 0.402\\nmse = 4.571\\nsamples = 20\\nvalue = 34.565'),\n",
       " Text(285.3554223433243, 158.55, 'X[1] <= 80.0\\nmse = 2.56\\nsamples = 2\\nvalue = 30.6'),\n",
       " Text(284.3823433242507, 149.49, 'mse = 0.0\\nsamples = 1\\nvalue = 29.0'),\n",
       " Text(286.32850136239784, 149.49, 'mse = 0.0\\nsamples = 1\\nvalue = 32.2'),\n",
       " Text(293.0488283378747, 158.55, 'X[5] <= 7.252\\nmse = 2.854\\nsamples = 18\\nvalue = 35.006'),\n",
       " Text(288.274659400545, 149.49, 'X[0] <= 0.023\\nmse = 2.567\\nsamples = 14\\nvalue = 35.5'),\n",
       " Text(285.41623978201636, 140.43, 'X[2] <= 1.425\\nmse = 0.002\\nsamples = 2\\nvalue = 32.95'),\n",
       " Text(284.4431607629428, 131.37, 'mse = 0.0\\nsamples = 1\\nvalue = 33.0'),\n",
       " Text(286.3893188010899, 131.37, 'mse = -0.0\\nsamples = 1\\nvalue = 32.9'),\n",
       " Text(291.1330790190736, 140.43, 'X[2] <= 5.52\\nmse = 1.73\\nsamples = 12\\nvalue = 35.925'),\n",
       " Text(288.33547683923706, 131.37, 'X[4] <= 0.48\\nmse = 0.964\\nsamples = 10\\nvalue = 36.33'),\n",
       " Text(285.65950953678475, 122.30999999999999, 'X[0] <= 0.046\\nmse = 0.709\\nsamples = 8\\nvalue = 36.025'),\n",
       " Text(283.22681198910084, 113.24999999999999, 'X[4] <= 0.423\\nmse = 0.063\\nsamples = 2\\nvalue = 35.15'),\n",
       " Text(282.2537329700273, 104.19, 'mse = 0.0\\nsamples = 1\\nvalue = 34.9'),\n",
       " Text(284.1998910081744, 104.19, 'mse = 0.0\\nsamples = 1\\nvalue = 35.4'),\n",
       " Text(288.09220708446867, 113.24999999999999, 'X[12] <= 5.215\\nmse = 0.585\\nsamples = 6\\nvalue = 36.317'),\n",
       " Text(286.14604904632154, 104.19, 'X[5] <= 7.163\\nmse = 0.14\\nsamples = 3\\nvalue = 36.9'),\n",
       " Text(285.17297002724797, 95.13, 'X[6] <= 24.6\\nmse = 0.023\\nsamples = 2\\nvalue = 37.15'),\n",
       " Text(284.1998910081744, 86.07, 'mse = 0.0\\nsamples = 1\\nvalue = 37.0'),\n",
       " Text(286.14604904632154, 86.07, 'mse = 0.0\\nsamples = 1\\nvalue = 37.3'),\n",
       " Text(287.1191280653951, 95.13, 'mse = -0.0\\nsamples = 1\\nvalue = 36.4'),\n",
       " Text(290.0383651226158, 104.19, 'X[9] <= 310.0\\nmse = 0.349\\nsamples = 3\\nvalue = 35.733'),\n",
       " Text(289.06528610354223, 95.13, 'X[4] <= 0.465\\nmse = 0.002\\nsamples = 2\\nvalue = 36.15'),\n",
       " Text(288.09220708446867, 86.07, 'mse = 0.0\\nsamples = 1\\nvalue = 36.2'),\n",
       " Text(290.0383651226158, 86.07, 'mse = -0.0\\nsamples = 1\\nvalue = 36.1'),\n",
       " Text(291.01144414168937, 95.13, 'mse = -0.0\\nsamples = 1\\nvalue = 34.9'),\n",
       " Text(291.01144414168937, 122.30999999999999, 'X[0] <= 0.074\\nmse = 0.123\\nsamples = 2\\nvalue = 37.55'),\n",
       " Text(290.0383651226158, 113.24999999999999, 'mse = 0.0\\nsamples = 1\\nvalue = 37.2'),\n",
       " Text(291.98452316076293, 113.24999999999999, 'mse = 0.0\\nsamples = 1\\nvalue = 37.9'),\n",
       " Text(293.9306811989101, 131.37, 'X[0] <= 0.064\\nmse = 0.64\\nsamples = 2\\nvalue = 33.9'),\n",
       " Text(292.9576021798365, 122.30999999999999, 'mse = 0.0\\nsamples = 1\\nvalue = 34.7'),\n",
       " Text(294.9037602179837, 122.30999999999999, 'mse = -0.0\\nsamples = 1\\nvalue = 33.1'),\n",
       " Text(297.8229972752044, 149.49, 'X[2] <= 2.535\\nmse = 0.007\\nsamples = 4\\nvalue = 33.275'),\n",
       " Text(296.8499182561308, 140.43, 'X[5] <= 7.354\\nmse = 0.003\\nsamples = 2\\nvalue = 33.35'),\n",
       " Text(295.87683923705725, 131.37, 'mse = 0.0\\nsamples = 1\\nvalue = 33.3'),\n",
       " Text(297.8229972752044, 131.37, 'mse = 0.0\\nsamples = 1\\nvalue = 33.4'),\n",
       " Text(298.79607629427795, 140.43, 'mse = 0.0\\nsamples = 2\\nvalue = 33.2'),\n",
       " Text(307.55378746594005, 167.60999999999999, 'X[5] <= 7.121\\nmse = 16.784\\nsamples = 12\\nvalue = 29.667'),\n",
       " Text(303.6614713896458, 158.55, 'X[6] <= 72.3\\nmse = 5.485\\nsamples = 6\\nvalue = 26.283'),\n",
       " Text(301.71531335149865, 149.49, 'X[0] <= 2.35\\nmse = 0.303\\nsamples = 2\\nvalue = 29.25'),\n",
       " Text(300.7422343324251, 140.43, 'mse = 0.0\\nsamples = 1\\nvalue = 28.7'),\n",
       " Text(302.6883923705722, 140.43, 'mse = 0.0\\nsamples = 1\\nvalue = 29.8'),\n",
       " Text(305.6076294277929, 149.49, 'X[11] <= 393.49\\nmse = 1.475\\nsamples = 4\\nvalue = 24.8'),\n",
       " Text(304.63455040871935, 140.43, 'mse = 0.0\\nsamples = 1\\nvalue = 26.7'),\n",
       " Text(306.5807084468665, 140.43, 'X[6] <= 81.65\\nmse = 0.362\\nsamples = 3\\nvalue = 24.167'),\n",
       " Text(305.6076294277929, 131.37, 'mse = 0.0\\nsamples = 1\\nvalue = 25.0'),\n",
       " Text(307.55378746594005, 131.37, 'X[7] <= 2.795\\nmse = 0.023\\nsamples = 2\\nvalue = 23.75'),\n",
       " Text(306.5807084468665, 122.30999999999999, 'mse = 0.0\\nsamples = 1\\nvalue = 23.9'),\n",
       " Text(308.5268664850136, 122.30999999999999, 'mse = 0.0\\nsamples = 1\\nvalue = 23.6'),\n",
       " Text(311.44610354223437, 158.55, 'X[7] <= 2.004\\nmse = 5.189\\nsamples = 6\\nvalue = 33.05'),\n",
       " Text(309.49994550408724, 149.49, 'X[0] <= 0.607\\nmse = 0.062\\nsamples = 2\\nvalue = 36.25'),\n",
       " Text(308.5268664850136, 140.43, 'mse = 0.0\\nsamples = 1\\nvalue = 36.5'),\n",
       " Text(310.4730245231608, 140.43, 'mse = 0.0\\nsamples = 1\\nvalue = 36.0'),\n",
       " Text(313.3922615803815, 149.49, 'X[0] <= 0.669\\nmse = 0.072\\nsamples = 4\\nvalue = 31.45'),\n",
       " Text(312.41918256130793, 140.43, 'X[4] <= 0.506\\nmse = 0.007\\nsamples = 3\\nvalue = 31.6'),\n",
       " Text(311.44610354223437, 131.37, 'X[11] <= 374.11\\nmse = 0.002\\nsamples = 2\\nvalue = 31.65'),\n",
       " Text(310.4730245231608, 122.30999999999999, 'mse = 0.0\\nsamples = 1\\nvalue = 31.6'),\n",
       " Text(312.41918256130793, 122.30999999999999, 'mse = 0.0\\nsamples = 1\\nvalue = 31.7'),\n",
       " Text(313.3922615803815, 131.37, 'mse = -0.0\\nsamples = 1\\nvalue = 31.5'),\n",
       " Text(314.36534059945507, 140.43, 'mse = 0.0\\nsamples = 1\\nvalue = 31.0'),\n",
       " Text(301.29719346049046, 185.73, 'X[6] <= 98.6\\nmse = 1.96\\nsamples = 2\\nvalue = 16.4'),\n",
       " Text(300.3241144414169, 176.67, 'mse = 0.0\\nsamples = 1\\nvalue = 15.0'),\n",
       " Text(302.270272479564, 176.67, 'mse = 0.0\\nsamples = 1\\nvalue = 17.8'),\n",
       " Text(327.6843596730245, 194.79, 'X[0] <= 2.654\\nmse = 42.97\\nsamples = 21\\nvalue = 44.09'),\n",
       " Text(326.71128065395095, 185.73, 'X[12] <= 6.245\\nmse = 19.267\\nsamples = 20\\nvalue = 45.2'),\n",
       " Text(321.54179836512265, 176.67, 'X[7] <= 2.58\\nmse = 13.75\\nsamples = 17\\nvalue = 46.229'),\n",
       " Text(317.77111716621255, 167.60999999999999, 'X[7] <= 2.165\\nmse = 0.27\\nsamples = 4\\nvalue = 49.7'),\n",
       " Text(316.798038147139, 158.55, 'mse = 0.0\\nsamples = 3\\nvalue = 50.0'),\n",
       " Text(318.7441961852861, 158.55, 'mse = -0.0\\nsamples = 1\\nvalue = 48.8'),\n",
       " Text(325.3124795640327, 167.60999999999999, 'X[0] <= 0.35\\nmse = 13.052\\nsamples = 13\\nvalue = 45.162'),\n",
       " Text(320.69035422343325, 158.55, 'X[5] <= 7.826\\nmse = 7.447\\nsamples = 9\\nvalue = 46.833'),\n",
       " Text(318.25765667574933, 149.49, 'X[4] <= 0.429\\nmse = 2.675\\nsamples = 4\\nvalue = 44.6'),\n",
       " Text(316.3114986376022, 140.43, 'X[0] <= 0.019\\nmse = 0.723\\nsamples = 2\\nvalue = 43.15'),\n",
       " Text(315.33841961852863, 131.37, 'mse = 0.0\\nsamples = 1\\nvalue = 44.0'),\n",
       " Text(317.28457765667576, 131.37, 'mse = 0.0\\nsamples = 1\\nvalue = 42.3'),\n",
       " Text(320.20381471389646, 140.43, 'X[12] <= 3.84\\nmse = 0.422\\nsamples = 2\\nvalue = 46.05'),\n",
       " Text(319.2307356948229, 131.37, 'mse = 0.0\\nsamples = 1\\nvalue = 45.4'),\n",
       " Text(321.17689373297003, 131.37, 'mse = 0.0\\nsamples = 1\\nvalue = 46.7'),\n",
       " Text(323.12305177111716, 149.49, 'X[7] <= 3.047\\nmse = 4.082\\nsamples = 5\\nvalue = 48.62'),\n",
       " Text(322.1499727520436, 140.43, 'mse = 0.0\\nsamples = 1\\nvalue = 44.8'),\n",
       " Text(324.0961307901907, 140.43, 'X[2] <= 4.44\\nmse = 0.542\\nsamples = 4\\nvalue = 49.575'),\n",
       " Text(323.12305177111716, 131.37, 'mse = 0.0\\nsamples = 3\\nvalue = 50.0'),\n",
       " Text(325.0692098092643, 131.37, 'mse = -0.0\\nsamples = 1\\nvalue = 48.3'),\n",
       " Text(329.9346049046322, 158.55, 'X[6] <= 79.9\\nmse = 5.225\\nsamples = 4\\nvalue = 41.4'),\n",
       " Text(328.9615258855586, 149.49, 'X[8] <= 7.5\\nmse = 0.549\\nsamples = 3\\nvalue = 42.667'),\n",
       " Text(327.98844686648505, 140.43, 'X[7] <= 5.889\\nmse = 0.122\\nsamples = 2\\nvalue = 43.15'),\n",
       " Text(327.0153678474115, 131.37, 'mse = 0.0\\nsamples = 1\\nvalue = 43.5'),\n",
       " Text(328.9615258855586, 131.37, 'mse = 0.0\\nsamples = 1\\nvalue = 42.8'),\n",
       " Text(329.9346049046322, 140.43, 'mse = -0.0\\nsamples = 1\\nvalue = 41.7'),\n",
       " Text(330.90768392370575, 149.49, 'mse = 0.0\\nsamples = 1\\nvalue = 37.6'),\n",
       " Text(331.8807629427793, 176.67, 'X[12] <= 6.92\\nmse = 10.496\\nsamples = 3\\nvalue = 39.367'),\n",
       " Text(330.90768392370575, 167.60999999999999, 'mse = 0.0\\nsamples = 1\\nvalue = 35.2'),\n",
       " Text(332.8538419618529, 167.60999999999999, 'X[9] <= 228.5\\nmse = 2.723\\nsamples = 2\\nvalue = 41.45'),\n",
       " Text(331.8807629427793, 158.55, 'mse = 0.0\\nsamples = 1\\nvalue = 39.8'),\n",
       " Text(333.82692098092645, 158.55, 'mse = -0.0\\nsamples = 1\\nvalue = 43.1'),\n",
       " Text(328.6574386920981, 185.73, 'mse = 0.0\\nsamples = 1\\nvalue = 21.9')]"
      ]
     },
     "execution_count": 13,
     "metadata": {},
     "output_type": "execute_result"
    },
    {
     "data": {
      "image/png": "[encoded data removed]",
      "text/plain": [
       "<Figure size 432x288 with 1 Axes>"
      ]
     },
     "metadata": {
      "needs_background": "light"
     },
     "output_type": "display_data"
    }
   ],
   "source": [
    "from sklearn import tree\n",
    "\n",
    "model_tree = tree.DecisionTreeRegressor()\n",
    "model_tree = model_tree.fit(X_train, y_train)\n",
    "tree.plot_tree(model_tree)"
   ]
  },
  {
   "cell_type": "code",
   "execution_count": 14,
   "id": "cef70db4-ee8e-4dcd-8515-399d3425ea2b",
   "metadata": {},
   "outputs": [
    {
     "name": "stdout",
     "output_type": "stream",
     "text": [
      "의사결정나무 모형 성능: 26.542\n"
     ]
    }
   ],
   "source": [
    "y_pred_tree = model_tree.predict(X_test)\n",
    "mse_tree = mean_squared_error(y_test, y_pred_tree)\n",
    "print(\"의사결정나무 모형 성능: {}\".format(round(mse_tree, 3)))"
   ]
  },
  {
   "cell_type": "markdown",
   "id": "a784a422-f921-4f75-9318-673543d40bea",
   "metadata": {},
   "source": [
    "### 가지치기 (Pruning)\n",
    "- `max_depth`로 최대 깊이 설정"
   ]
  },
  {
   "cell_type": "code",
   "execution_count": 17,
   "id": "fc308a87-3cae-4156-b0bd-080ea528f197",
   "metadata": {},
   "outputs": [
    {
     "data": {
      "text/plain": [
       "[Text(192.31071428571428, 199.32, 'X[5] <= 6.945\\nmse = 77.162\\nsamples = 354\\nvalue = 22.602'),\n",
       " Text(105.62142857142857, 163.07999999999998, 'X[12] <= 14.75\\nmse = 33.675\\nsamples = 298\\nvalue = 19.95'),\n",
       " Text(51.81428571428572, 126.83999999999999, 'X[5] <= 6.552\\nmse = 18.296\\nsamples = 187\\nvalue = 23.03'),\n",
       " Text(31.885714285714286, 90.6, 'X[12] <= 7.57\\nmse = 8.746\\nsamples = 149\\nvalue = 21.721'),\n",
       " Text(15.942857142857143, 54.359999999999985, 'X[11] <= 393.285\\nmse = 3.27\\nsamples = 33\\nvalue = 24.073'),\n",
       " Text(7.9714285714285715, 18.119999999999976, 'mse = 2.327\\nsamples = 19\\nvalue = 23.337'),\n",
       " Text(23.914285714285715, 18.119999999999976, 'mse = 2.819\\nsamples = 14\\nvalue = 25.071'),\n",
       " Text(47.82857142857143, 54.359999999999985, 'X[9] <= 208.0\\nmse = 8.283\\nsamples = 116\\nvalue = 21.053'),\n",
       " Text(39.85714285714286, 18.119999999999976, 'mse = 42.54\\nsamples = 3\\nvalue = 28.7'),\n",
       " Text(55.8, 18.119999999999976, 'mse = 5.78\\nsamples = 113\\nvalue = 20.85'),\n",
       " Text(71.74285714285715, 90.6, 'X[7] <= 1.684\\nmse = 22.68\\nsamples = 38\\nvalue = 28.163'),\n",
       " Text(63.77142857142857, 54.359999999999985, 'mse = 0.0\\nsamples = 1\\nvalue = 50.0'),\n",
       " Text(79.71428571428572, 54.359999999999985, 'X[9] <= 269.0\\nmse = 10.057\\nsamples = 37\\nvalue = 27.573'),\n",
       " Text(71.74285714285715, 18.119999999999976, 'mse = 3.892\\nsamples = 14\\nvalue = 30.164'),\n",
       " Text(87.68571428571428, 18.119999999999976, 'mse = 7.233\\nsamples = 23\\nvalue = 25.996'),\n",
       " Text(159.42857142857144, 126.83999999999999, 'X[0] <= 6.03\\nmse = 16.675\\nsamples = 111\\nvalue = 14.761'),\n",
       " Text(127.54285714285714, 90.6, 'X[0] <= 0.615\\nmse = 8.313\\nsamples = 60\\nvalue = 17.22'),\n",
       " Text(111.6, 54.359999999999985, 'X[6] <= 94.05\\nmse = 6.259\\nsamples = 35\\nvalue = 18.497'),\n",
       " Text(103.62857142857143, 18.119999999999976, 'mse = 4.139\\nsamples = 21\\nvalue = 19.681'),\n",
       " Text(119.57142857142857, 18.119999999999976, 'mse = 4.185\\nsamples = 14\\nvalue = 16.721'),\n",
       " Text(143.4857142857143, 54.359999999999985, 'X[0] <= 4.223\\nmse = 5.708\\nsamples = 25\\nvalue = 15.432'),\n",
       " Text(135.5142857142857, 18.119999999999976, 'mse = 2.195\\nsamples = 17\\nvalue = 14.6'),\n",
       " Text(151.45714285714286, 18.119999999999976, 'mse = 8.575\\nsamples = 8\\nvalue = 17.2'),\n",
       " Text(191.31428571428572, 90.6, 'X[0] <= 10.452\\nmse = 11.033\\nsamples = 51\\nvalue = 11.869'),\n",
       " Text(175.37142857142857, 54.359999999999985, 'X[4] <= 0.727\\nmse = 3.19\\nsamples = 21\\nvalue = 13.919'),\n",
       " Text(167.4, 18.119999999999976, 'mse = 1.976\\nsamples = 18\\nvalue = 13.444'),\n",
       " Text(183.34285714285716, 18.119999999999976, 'mse = 1.016\\nsamples = 3\\nvalue = 16.767'),\n",
       " Text(207.25714285714287, 54.359999999999985, 'X[4] <= 0.675\\nmse = 11.52\\nsamples = 30\\nvalue = 10.433'),\n",
       " Text(199.28571428571428, 18.119999999999976, 'mse = 5.556\\nsamples = 9\\nvalue = 14.233'),\n",
       " Text(215.22857142857143, 18.119999999999976, 'mse = 5.235\\nsamples = 21\\nvalue = 8.805'),\n",
       " Text(279.0, 163.07999999999998, 'X[5] <= 7.437\\nmse = 71.999\\nsamples = 56\\nvalue = 36.714'),\n",
       " Text(247.11428571428573, 126.83999999999999, 'X[12] <= 12.55\\nmse = 37.185\\nsamples = 35\\nvalue = 32.289'),\n",
       " Text(231.17142857142858, 90.6, 'X[7] <= 1.549\\nmse = 23.093\\nsamples = 33\\nvalue = 33.252'),\n",
       " Text(223.2, 54.359999999999985, 'mse = 0.0\\nsamples = 1\\nvalue = 50.0'),\n",
       " Text(239.14285714285714, 54.359999999999985, 'X[4] <= 0.488\\nmse = 14.775\\nsamples = 32\\nvalue = 32.728'),\n",
       " Text(231.17142857142858, 18.119999999999976, 'mse = 4.571\\nsamples = 20\\nvalue = 34.565'),\n",
       " Text(247.11428571428573, 18.119999999999976, 'mse = 16.784\\nsamples = 12\\nvalue = 29.667'),\n",
       " Text(263.0571428571429, 90.6, 'X[11] <= 386.385\\nmse = 1.96\\nsamples = 2\\nvalue = 16.4'),\n",
       " Text(255.0857142857143, 54.359999999999985, 'mse = 0.0\\nsamples = 1\\nvalue = 17.8'),\n",
       " Text(271.0285714285714, 54.359999999999985, 'mse = 0.0\\nsamples = 1\\nvalue = 15.0'),\n",
       " Text(310.8857142857143, 126.83999999999999, 'X[0] <= 2.654\\nmse = 42.97\\nsamples = 21\\nvalue = 44.09'),\n",
       " Text(302.9142857142857, 90.6, 'X[12] <= 6.245\\nmse = 19.267\\nsamples = 20\\nvalue = 45.2'),\n",
       " Text(286.9714285714286, 54.359999999999985, 'X[4] <= 0.59\\nmse = 13.75\\nsamples = 17\\nvalue = 46.229'),\n",
       " Text(279.0, 18.119999999999976, 'mse = 13.052\\nsamples = 13\\nvalue = 45.162'),\n",
       " Text(294.9428571428571, 18.119999999999976, 'mse = 0.27\\nsamples = 4\\nvalue = 49.7'),\n",
       " Text(318.8571428571429, 54.359999999999985, 'X[3] <= 0.5\\nmse = 10.496\\nsamples = 3\\nvalue = 39.367'),\n",
       " Text(310.8857142857143, 18.119999999999976, 'mse = 2.722\\nsamples = 2\\nvalue = 41.45'),\n",
       " Text(326.8285714285714, 18.119999999999976, 'mse = -0.0\\nsamples = 1\\nvalue = 35.2'),\n",
       " Text(318.8571428571429, 90.6, 'mse = 0.0\\nsamples = 1\\nvalue = 21.9')]"
      ]
     },
     "execution_count": 17,
     "metadata": {},
     "output_type": "execute_result"
    },
    {
     "data": {
      "image/png": "[encoded data removed]",
      "text/plain": [
       "<Figure size 432x288 with 1 Axes>"
      ]
     },
     "metadata": {
      "needs_background": "light"
     },
     "output_type": "display_data"
    }
   ],
   "source": [
    "model_tree = tree.DecisionTreeRegressor(max_depth=5)\n",
    "model_tree = model_tree.fit(X_train, y_train)\n",
    "tree.plot_tree(model_tree) "
   ]
  },
  {
   "cell_type": "code",
   "execution_count": 18,
   "id": "2900b83a-8578-4be3-a424-326171a9d9e6",
   "metadata": {},
   "outputs": [
    {
     "name": "stdout",
     "output_type": "stream",
     "text": [
      "가지치기 후의 의사결정나무 모형 성능: 31.736\n"
     ]
    }
   ],
   "source": [
    "y_pred_tree = model_tree.predict(X_test)\n",
    "mse_tree = mean_squared_error(y_test, y_pred_tree)\n",
    "print(\"가지치기 후의 의사결정나무 모형 성능: {}\".format(round(mse_tree, 3)))"
   ]
  },
  {
   "cell_type": "markdown",
   "id": "9cfbe430-9803-4b9d-8ab5-72069dde91dc",
   "metadata": {},
   "source": [
    "## 5. 랜덤포레스트 (Random Forest)\n",
    "- 트리 모형 개수만큼의 예측값들로 평균을 계산하여 최종 에측값으로 결정"
   ]
  },
  {
   "cell_type": "code",
   "execution_count": 19,
   "id": "d845a688-535e-4d30-b3e5-a447d7c2e03e",
   "metadata": {},
   "outputs": [],
   "source": [
    "from sklearn.ensemble import RandomForestRegressor\n",
    "\n",
    "model_rf = RandomForestRegressor()\n",
    "model_rf = model_rf.fit(X_train, y_train)"
   ]
  },
  {
   "cell_type": "code",
   "execution_count": 20,
   "id": "ea71d9fa-8687-4fb2-ab2f-26afd248e188",
   "metadata": {},
   "outputs": [
    {
     "name": "stdout",
     "output_type": "stream",
     "text": [
      "랜덤포레스트 모형 성능: 19.977\n"
     ]
    }
   ],
   "source": [
    "y_pred_rf = model_rf.predict(X_test)\n",
    "mse_rf = mean_squared_error(y_test, y_pred_rf)\n",
    "print(\"랜덤포레스트 모형 성능: {}\".format(round(mse_rf, 3)))"
   ]
  },
  {
   "cell_type": "markdown",
   "id": "715944c7-eac8-4855-b1cb-0aad2b75d2ad",
   "metadata": {},
   "source": [
    "# 머신러닝 모형 성능 끌어올리기 - 하이퍼파라미터 튜닝\n",
    "### Cross-validation (교차검증)\n",
    "\n",
    "![](https://miro.medium.com/max/1400/0*KH3dnbGNcmyV_ODL.png)"
   ]
  },
  {
   "cell_type": "markdown",
   "id": "2499f6c7-13b5-4f20-b29c-c5c6bd2cb30c",
   "metadata": {},
   "source": [
    "## 랜덤포레스트 - 하이퍼파라미터 튜닝"
   ]
  },
  {
   "cell_type": "code",
   "execution_count": 21,
   "id": "e57cd9cd-e5fa-421f-a8a9-f8371ade6594",
   "metadata": {},
   "outputs": [
    {
     "name": "stdout",
     "output_type": "stream",
     "text": [
      "Fitting 3 folds for each of 216 candidates, totalling 648 fits\n"
     ]
    },
    {
     "data": {
      "text/plain": [
       "GridSearchCV(cv=3, estimator=RandomForestRegressor(), n_jobs=-1,\n",
       "             param_grid={'bootstrap': [True, False],\n",
       "                         'max_depth': [50, 100, 150],\n",
       "                         'max_features': [0.5, 'auto', 'sqrt', 'log2'],\n",
       "                         'min_samples_leaf': [1, 2, 4],\n",
       "                         'n_estimators': [100, 500, 1000]},\n",
       "             verbose=2)"
      ]
     },
     "execution_count": 21,
     "metadata": {},
     "output_type": "execute_result"
    }
   ],
   "source": [
    "from sklearn.model_selection import GridSearchCV\n",
    "\n",
    "# 하이퍼파라미터 후보\n",
    "param_grid = {\n",
    "    'bootstrap': [True, False],\n",
    "    'max_depth': [50, 100, 150],\n",
    "    'max_features': [0.5, \"auto\", \"sqrt\", \"log2\"],\n",
    "    'min_samples_leaf': [1, 2, 4],\n",
    "    'n_estimators': [100, 500, 1000]\n",
    "}\n",
    "\n",
    "# 그리드 서치\n",
    "grid_search = GridSearchCV(estimator = model_rf, param_grid = param_grid,\n",
    "                          cv = 3, n_jobs = -1, verbose = 2)\n",
    "\n",
    "# 찾은 하이퍼파리미터로 모형 학습\n",
    "grid_search.fit(X_train, y_train)"
   ]
  },
  {
   "cell_type": "code",
   "execution_count": 22,
   "id": "3c2d652c-1100-4e83-a001-e476df3be540",
   "metadata": {},
   "outputs": [
    {
     "data": {
      "text/plain": [
       "{'bootstrap': False,\n",
       " 'max_depth': 100,\n",
       " 'max_features': 'sqrt',\n",
       " 'min_samples_leaf': 1,\n",
       " 'n_estimators': 1000}"
      ]
     },
     "execution_count": 22,
     "metadata": {},
     "output_type": "execute_result"
    }
   ],
   "source": [
    "# 최적 하이퍼파라미터\n",
    "grid_search.best_params_"
   ]
  },
  {
   "cell_type": "code",
   "execution_count": 23,
   "id": "b3ce5d8d-baee-4474-84c1-55be507121f4",
   "metadata": {},
   "outputs": [
    {
     "name": "stdout",
     "output_type": "stream",
     "text": [
      "하이퍼파라미터 튜닝 후 랜덤포레스트 모형 성능: 18.666\n"
     ]
    }
   ],
   "source": [
    "# 모형 성능 평가\n",
    "y_pred_rf = grid_search.predict(X_test)\n",
    "mse_rf = mean_squared_error(y_test, y_pred_rf)\n",
    "print(\"하이퍼파라미터 튜닝 후 랜덤포레스트 모형 성능: {}\".format(round(mse_rf, 3)))"
   ]
  },
  {
   "cell_type": "markdown",
   "id": "1c9f7f25-4331-4919-b22b-c143440e0391",
   "metadata": {},
   "source": [
    "## SVM - 하이퍼파라미터 튜닝"
   ]
  },
  {
   "cell_type": "code",
   "execution_count": 24,
   "id": "06f08d1b-74c9-4bf4-bd4a-a78d825c5a26",
   "metadata": {},
   "outputs": [
    {
     "name": "stdout",
     "output_type": "stream",
     "text": [
      "하이퍼파라미터 튜닝 전 SVM 모형 성능: 83.666\n"
     ]
    }
   ],
   "source": [
    "model_svm = SVR(kernel='rbf')\n",
    "model_svm = model_svm.fit(X_train, y_train)\n",
    "\n",
    "y_pred_svm = model_svm.predict(X_test)\n",
    "mse_svm = mean_squared_error(y_test, y_pred_svm)\n",
    "print(\"하이퍼파라미터 튜닝 전 SVM 모형 성능: {}\".format(round(mse_svm, 3)))"
   ]
  },
  {
   "cell_type": "code",
   "execution_count": 25,
   "id": "b318d5cf-73a1-4299-842d-7df59eb4b0ad",
   "metadata": {},
   "outputs": [
    {
     "name": "stdout",
     "output_type": "stream",
     "text": [
      "Fitting 5 folds for each of 35 candidates, totalling 175 fits\n"
     ]
    },
    {
     "data": {
      "text/plain": [
       "GridSearchCV(cv=5, estimator=SVR(), n_jobs=-1,\n",
       "             param_grid={'C': [0.1, 1, 10, 100, 1000, 10000, 100000],\n",
       "                         'epsilon': [0.001, 0.01, 0.1, 1, 10]},\n",
       "             verbose=2)"
      ]
     },
     "execution_count": 25,
     "metadata": {},
     "output_type": "execute_result"
    }
   ],
   "source": [
    "from sklearn.model_selection import GridSearchCV\n",
    "\n",
    "# 하이퍼파라미터 후보\n",
    "param_grid = {\n",
    "    'C': [10 ** i for i in  range(-1, 6, 1)],\n",
    "    \"epsilon\": [0.001, 0.01, 0.1, 1, 10]\n",
    "}\n",
    "\n",
    "# 그리드 서치\n",
    "grid_search = GridSearchCV(estimator = model_svm, param_grid = param_grid,\n",
    "                           cv = 5, n_jobs = -1, verbose = 2)\n",
    "\n",
    "# 찾은 하이퍼파리미터로 모형 학습\n",
    "grid_search.fit(X_train, y_train)"
   ]
  },
  {
   "cell_type": "code",
   "execution_count": 26,
   "id": "785b9f95-3ba1-47ec-8352-c4f82dca3d30",
   "metadata": {},
   "outputs": [
    {
     "data": {
      "text/plain": [
       "{'C': 100000, 'epsilon': 1}"
      ]
     },
     "execution_count": 26,
     "metadata": {},
     "output_type": "execute_result"
    }
   ],
   "source": [
    "# 최적 하이퍼파라미터\n",
    "grid_search.best_params_"
   ]
  },
  {
   "cell_type": "code",
   "execution_count": 27,
   "id": "b45fa7c8-1bec-4e3c-831d-f2185ebea69d",
   "metadata": {},
   "outputs": [
    {
     "name": "stdout",
     "output_type": "stream",
     "text": [
      "하이퍼파라미터 튜닝 후의 SVM 모형 성능: 23.195\n"
     ]
    }
   ],
   "source": [
    "# 모형 성능 평가\n",
    "y_pred_svm = grid_search.predict(X_test)\n",
    "mse_svm = mean_squared_error(y_test, y_pred_svm)\n",
    "print(\"하이퍼파라미터 튜닝 후의 SVM 모형 성능: {}\".format(round(mse_svm, 3)))"
   ]
  },
  {
   "cell_type": "code",
   "execution_count": null,
   "id": "56bce110-62ca-4269-8bf5-32db65e032c4",
   "metadata": {},
   "outputs": [],
   "source": []
  }
 ],
 "metadata": {
  "kernelspec": {
   "display_name": "Python 3",
   "language": "python",
   "name": "python3"
  },
  "language_info": {
   "codemirror_mode": {
    "name": "ipython",
    "version": 3
   },
   "file_extension": ".py",
   "mimetype": "text/x-python",
   "name": "python",
   "nbconvert_exporter": "python",
   "pygments_lexer": "ipython3",
   "version": "3.8.8"
  }
 },
 "nbformat": 4,
 "nbformat_minor": 5
}
