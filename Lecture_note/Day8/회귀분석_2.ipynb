{
 "cells": [
  {
   "cell_type": "code",
   "execution_count": 1,
   "id": "dc54bd23-0bb1-4a9e-83b0-63b48b00b4ea",
   "metadata": {},
   "outputs": [],
   "source": [
    "# 라이브러리 불러오기\n",
    "import numpy as np\n",
    "import pandas as pd\n",
    "import matplotlib.pyplot as plt\n",
    "import seaborn as sns\n",
    "from scipy import stats\n",
    "from sklearn.linear_model import LinearRegression\n",
    "import statsmodels.api as sm\n",
    "\n",
    "# matplotlib 설정\n",
    "plt.rc('font', family = 'AppleGothic')\n",
    "plt.rcParams['axes.unicode_minus'] = False\n",
    "%matplotlib inline"
   ]
  },
  {
   "cell_type": "markdown",
   "id": "3b05bd41-b82d-462a-8fbc-ad3f3b3c1c75",
   "metadata": {},
   "source": [
    "# 3. 중회귀모형 (Multiple linear regression)\n",
    "$$ y_i = \\beta_0 + \\beta_1 x_{1i} + \\dots + \\beta_k x_{ki} + \\epsilon_i, ~~ i=1,\\dots, n $$\n",
    "- $\\beta_0,\\beta_1,\\dots, \\beta_k$ : 회귀모수\n",
    "- $x_{1i}, \\dots, x_{ki}$ : 설명변수 (독립변수)\n",
    "- $y_1, \\dots, y_n$ : 반응변수 (종속변수)\n",
    "- $\\epsilon_1, \\dots, \\epsilon_n$ : 서로 독립인 $N(0, \\sigma^2)$인 확률변수 (오차항)"
   ]
  },
  {
   "cell_type": "markdown",
   "id": "a1518100-6488-47cc-892b-c83c2e847de9",
   "metadata": {},
   "source": [
    "## 데이터 생성"
   ]
  },
  {
   "cell_type": "code",
   "execution_count": 76,
   "id": "82a46b19-973a-4981-84c7-bc5add78ae1c",
   "metadata": {},
   "outputs": [
    {
     "data": {
      "text/plain": [
       "((100, 3), (100, 1))"
      ]
     },
     "execution_count": 76,
     "metadata": {},
     "output_type": "execute_result"
    }
   ],
   "source": [
    "# 데이터 100개 생성\n",
    "from sklearn.datasets import make_regression\n",
    "\n",
    "X, y = make_regression(\n",
    "    n_samples=100, n_features=3, noise=30, random_state=1\n",
    ")\n",
    "y = y.reshape(-1, 1)\n",
    "X.shape, y.shape"
   ]
  },
  {
   "cell_type": "code",
   "execution_count": 69,
   "id": "b92afb83-6e87-415e-9210-7eefaf27561b",
   "metadata": {},
   "outputs": [
    {
     "data": {
      "text/plain": [
       "array([[-8.90562121e+01, -8.45205641e-01, -1.26645989e-02,\n",
       "        -6.71246131e-01],\n",
       "       [ 2.13351170e+02,  8.36004719e-01,  7.58805660e-01,\n",
       "         1.54335911e+00],\n",
       "       [-1.15075744e+02, -3.52249846e-01, -3.49342722e-01,\n",
       "        -1.14251820e+00],\n",
       "       [ 3.26434331e+02,  1.13162939e+00,  2.18557541e+00,\n",
       "         1.51981682e+00],\n",
       "       [-3.13579636e+01,  9.00855949e-01, -1.22890226e-01,\n",
       "        -6.83727859e-01]])"
      ]
     },
     "execution_count": 69,
     "metadata": {},
     "output_type": "execute_result"
    }
   ],
   "source": [
    "# 데이터를 열 단위로 붙이기\n",
    "data = np.concatenate([y, X], axis = 1)\n",
    "data[0:5, :]"
   ]
  },
  {
   "cell_type": "code",
   "execution_count": 70,
   "id": "a7c2cbcb-6534-4b22-b214-e557d0d0cd61",
   "metadata": {},
   "outputs": [
    {
     "data": {
      "text/html": [
       "<div>\n",
       "<style scoped>\n",
       "    .dataframe tbody tr th:only-of-type {\n",
       "        vertical-align: middle;\n",
       "    }\n",
       "\n",
       "    .dataframe tbody tr th {\n",
       "        vertical-align: top;\n",
       "    }\n",
       "\n",
       "    .dataframe thead th {\n",
       "        text-align: right;\n",
       "    }\n",
       "</style>\n",
       "<table border=\"1\" class=\"dataframe\">\n",
       "  <thead>\n",
       "    <tr style=\"text-align: right;\">\n",
       "      <th></th>\n",
       "      <th>y</th>\n",
       "      <th>x1</th>\n",
       "      <th>x2</th>\n",
       "      <th>x3</th>\n",
       "    </tr>\n",
       "  </thead>\n",
       "  <tbody>\n",
       "    <tr>\n",
       "      <th>0</th>\n",
       "      <td>-89.056212</td>\n",
       "      <td>-0.845206</td>\n",
       "      <td>-0.012665</td>\n",
       "      <td>-0.671246</td>\n",
       "    </tr>\n",
       "    <tr>\n",
       "      <th>1</th>\n",
       "      <td>213.351170</td>\n",
       "      <td>0.836005</td>\n",
       "      <td>0.758806</td>\n",
       "      <td>1.543359</td>\n",
       "    </tr>\n",
       "    <tr>\n",
       "      <th>2</th>\n",
       "      <td>-115.075744</td>\n",
       "      <td>-0.352250</td>\n",
       "      <td>-0.349343</td>\n",
       "      <td>-1.142518</td>\n",
       "    </tr>\n",
       "    <tr>\n",
       "      <th>3</th>\n",
       "      <td>326.434331</td>\n",
       "      <td>1.131629</td>\n",
       "      <td>2.185575</td>\n",
       "      <td>1.519817</td>\n",
       "    </tr>\n",
       "    <tr>\n",
       "      <th>4</th>\n",
       "      <td>-31.357964</td>\n",
       "      <td>0.900856</td>\n",
       "      <td>-0.122890</td>\n",
       "      <td>-0.683728</td>\n",
       "    </tr>\n",
       "    <tr>\n",
       "      <th>...</th>\n",
       "      <td>...</td>\n",
       "      <td>...</td>\n",
       "      <td>...</td>\n",
       "      <td>...</td>\n",
       "    </tr>\n",
       "    <tr>\n",
       "      <th>95</th>\n",
       "      <td>-121.416709</td>\n",
       "      <td>2.190700</td>\n",
       "      <td>-0.646917</td>\n",
       "      <td>-1.896361</td>\n",
       "    </tr>\n",
       "    <tr>\n",
       "      <th>96</th>\n",
       "      <td>-74.072164</td>\n",
       "      <td>0.350546</td>\n",
       "      <td>-0.038696</td>\n",
       "      <td>-1.312283</td>\n",
       "    </tr>\n",
       "    <tr>\n",
       "      <th>97</th>\n",
       "      <td>20.861106</td>\n",
       "      <td>0.315159</td>\n",
       "      <td>-0.859516</td>\n",
       "      <td>0.846161</td>\n",
       "    </tr>\n",
       "    <tr>\n",
       "      <th>98</th>\n",
       "      <td>-4.193000</td>\n",
       "      <td>-0.638730</td>\n",
       "      <td>0.077340</td>\n",
       "      <td>0.423494</td>\n",
       "    </tr>\n",
       "    <tr>\n",
       "      <th>99</th>\n",
       "      <td>83.129163</td>\n",
       "      <td>-1.615772</td>\n",
       "      <td>0.408901</td>\n",
       "      <td>1.121418</td>\n",
       "    </tr>\n",
       "  </tbody>\n",
       "</table>\n",
       "<p>100 rows × 4 columns</p>\n",
       "</div>"
      ],
      "text/plain": [
       "             y        x1        x2        x3\n",
       "0   -89.056212 -0.845206 -0.012665 -0.671246\n",
       "1   213.351170  0.836005  0.758806  1.543359\n",
       "2  -115.075744 -0.352250 -0.349343 -1.142518\n",
       "3   326.434331  1.131629  2.185575  1.519817\n",
       "4   -31.357964  0.900856 -0.122890 -0.683728\n",
       "..         ...       ...       ...       ...\n",
       "95 -121.416709  2.190700 -0.646917 -1.896361\n",
       "96  -74.072164  0.350546 -0.038696 -1.312283\n",
       "97   20.861106  0.315159 -0.859516  0.846161\n",
       "98   -4.193000 -0.638730  0.077340  0.423494\n",
       "99   83.129163 -1.615772  0.408901  1.121418\n",
       "\n",
       "[100 rows x 4 columns]"
      ]
     },
     "execution_count": 70,
     "metadata": {},
     "output_type": "execute_result"
    }
   ],
   "source": [
    "# 데이터프레임으로 변환\n",
    "data = pd.DataFrame(data, columns=[\"y\",\"x1\",\"x2\",\"x3\"])\n",
    "data"
   ]
  },
  {
   "cell_type": "code",
   "execution_count": 71,
   "id": "ed17d754-5ebe-410f-9f6d-fcf6cc0bdcc6",
   "metadata": {},
   "outputs": [
    {
     "data": {
      "image/png": "[encoded data removed]",
      "text/plain": [
       "<Figure size 720x720 with 20 Axes>"
      ]
     },
     "metadata": {
      "needs_background": "light"
     },
     "output_type": "display_data"
    }
   ],
   "source": [
    "# 산점도 그리기\n",
    "sns.pairplot(data)\n",
    "plt.show()"
   ]
  },
  {
   "cell_type": "markdown",
   "id": "5fa196a5-d779-4c3b-b82a-01495d983d28",
   "metadata": {},
   "source": [
    "## 중회귀모형 적합"
   ]
  },
  {
   "cell_type": "code",
   "execution_count": 74,
   "id": "c5f39abc-b0bc-4a4a-bd3a-be8a2b64b285",
   "metadata": {},
   "outputs": [
    {
     "name": "stdout",
     "output_type": "stream",
     "text": [
      "                            OLS Regression Results                            \n",
      "==============================================================================\n",
      "Dep. Variable:                      y   R-squared:                       0.942\n",
      "Model:                            OLS   Adj. R-squared:                  0.941\n",
      "Method:                 Least Squares   F-statistic:                     524.2\n",
      "Date:                Thu, 08 Jul 2021   Prob (F-statistic):           2.30e-59\n",
      "Time:                        15:44:15   Log-Likelihood:                -470.68\n",
      "No. Observations:                 100   AIC:                             949.4\n",
      "Df Residuals:                      96   BIC:                             959.8\n",
      "Df Model:                           3                                         \n",
      "Covariance Type:            nonrobust                                         \n",
      "==============================================================================\n",
      "                 coef    std err          t      P>|t|      [0.025      0.975]\n",
      "------------------------------------------------------------------------------\n",
      "Intercept     -3.0329      2.773     -1.094      0.277      -8.537       2.471\n",
      "x1            43.4412      2.755     15.769      0.000      37.973      48.910\n",
      "x2            98.5923      3.046     32.365      0.000      92.546     104.639\n",
      "x3            62.2004      2.970     20.943      0.000      56.305      68.096\n",
      "==============================================================================\n",
      "Omnibus:                        0.301   Durbin-Watson:                   2.147\n",
      "Prob(Omnibus):                  0.860   Jarque-Bera (JB):                0.454\n",
      "Skew:                          -0.104   Prob(JB):                        0.797\n",
      "Kurtosis:                       2.744   Cond. No.                         1.24\n",
      "==============================================================================\n",
      "\n",
      "Notes:\n",
      "[1] Standard Errors assume that the covariance matrix of the errors is correctly specified.\n"
     ]
    }
   ],
   "source": [
    "# 회귀분석 적합\n",
    "model = sm.OLS.from_formula(\"y ~ x1 + x2 + x3\", data = data)\n",
    "result = model.fit()\n",
    "print(result.summary())"
   ]
  },
  {
   "cell_type": "code",
   "execution_count": 75,
   "id": "a6d16cf3-6c8e-4c19-8532-924ce9fb0b10",
   "metadata": {},
   "outputs": [
    {
     "name": "stdout",
     "output_type": "stream",
     "text": [
      "                            OLS Regression Results                            \n",
      "==============================================================================\n",
      "Dep. Variable:                      y   R-squared:                       0.942\n",
      "Model:                            OLS   Adj. R-squared:                  0.941\n",
      "Method:                 Least Squares   F-statistic:                     524.2\n",
      "Date:                Thu, 08 Jul 2021   Prob (F-statistic):           2.30e-59\n",
      "Time:                        15:44:15   Log-Likelihood:                -470.68\n",
      "No. Observations:                 100   AIC:                             949.4\n",
      "Df Residuals:                      96   BIC:                             959.8\n",
      "Df Model:                           3                                         \n",
      "Covariance Type:            nonrobust                                         \n",
      "==============================================================================\n",
      "                 coef    std err          t      P>|t|      [0.025      0.975]\n",
      "------------------------------------------------------------------------------\n",
      "const         -3.0329      2.773     -1.094      0.277      -8.537       2.471\n",
      "x1            43.4412      2.755     15.769      0.000      37.973      48.910\n",
      "x2            98.5923      3.046     32.365      0.000      92.546     104.639\n",
      "x3            62.2004      2.970     20.943      0.000      56.305      68.096\n",
      "==============================================================================\n",
      "Omnibus:                        0.301   Durbin-Watson:                   2.147\n",
      "Prob(Omnibus):                  0.860   Jarque-Bera (JB):                0.454\n",
      "Skew:                          -0.104   Prob(JB):                        0.797\n",
      "Kurtosis:                       2.744   Cond. No.                         1.24\n",
      "==============================================================================\n",
      "\n",
      "Notes:\n",
      "[1] Standard Errors assume that the covariance matrix of the errors is correctly specified.\n"
     ]
    }
   ],
   "source": [
    "# 또는 numpy array로 바로 적합\n",
    "X_1 = sm.add_constant(X)   # 1로 이루어진 열 추가\n",
    "\n",
    "model = sm.OLS(y, X_1)\n",
    "result = model.fit()\n",
    "print(result.summary())"
   ]
  },
  {
   "cell_type": "markdown",
   "id": "f8781acf-987b-436c-a649-a3cd82257edc",
   "metadata": {},
   "source": [
    "### 중회귀모형에 대한 추론 (F-검정)\n",
    "\n",
    "- $H_0: \\beta_1 = \\beta_2 = \\dots \\beta_k = 0 ~~~ \\text{vs} ~~~ H_1: \\text{Not } H_0$\n",
    "\n",
    "- 위의 결과에서 F-통계량 = 524.2이고 p-value < 0.05이기 때문에 유의수준 5%에서 회귀모형이 유의하다.\n",
    "\n",
    "- 중회귀모형에서는 단순선형회귀모형에서와 달리 회귀계수에 대한 유의성 검정과 회귀모형의 유의성 검정이 다름 (가설이 다름)"
   ]
  },
  {
   "cell_type": "markdown",
   "id": "707107da-311b-404f-b281-8cb7cd1c8e7c",
   "metadata": {},
   "source": [
    "### 개별 회귀계수 $\\beta_i$에 대한 추론 (t-검정)\n",
    "\n",
    "- $H_0: \\beta_i = 0$ vs $H_1: \\beta_i \\ne 0, ~~ i = 1, \\dots, k$\n",
    "\n",
    "- $\\hat\\beta_1 = 43.4412$ 이고 p-value < 0.05 이기 때문에 유의수준 0.05 하에서 귀무가설을 기각한다. (x1의 효과가 유의미하다.)\n",
    "\n",
    "- $\\hat\\beta_2 = 98.5923$ 이고 p-value < 0.05 이기 때문에 유의수준 0.05 하에서 귀무가설을 기각한다. (x2의 효과가 유의미하다.)\n",
    "\n",
    "- $\\hat\\beta_3 = 62.2004$ 이고 p-value < 0.05 이기 때문에 유의수준 0.05 하에서 귀무가설을 기각한다. (x3의 효과가 유의미하다.)"
   ]
  },
  {
   "cell_type": "markdown",
   "id": "ad18d260-f516-4fc7-843c-66739038793b",
   "metadata": {},
   "source": [
    "### 회귀분석 결과에 대한 해석\n",
    "- $\\hat\\beta_0 = -3.03, ~~ \\hat\\beta_1 = 43.44, ~~ \\hat\\beta_2 = 98.59, ~~ \\hat\\beta = 62.20$ 이고 따라서 추정된 회귀식은 다음과 같다.\n",
    "    $$\\hat y = -3.03 + 43.44x_1 + 98.59x_2 + 62.20x_3$$\n",
    "\n",
    "- 회귀계수에 대한 해석은 단순회귀모형에서와 동일\n",
    "    - x1이 1단위 증가하면, y는 43.44 증가한다.\n",
    "    - x2이 1단위 증가하면, y는 98.59 증가한다.\n",
    "    - x3이 1단위 증가하면, y는 62.20 증가한다.\n",
    "\n",
    "- 결정계수 $R^2 = 0.942$, 수정결정계수 $\\text{adjusted }R^2 = 0.941$ 로 총 변동 중 회귀모형에 의해 설명되는 비율은 약 94.2%이다.\n",
    "    - 단순회귀모형에서는 $R^2$와 $\\text{adjusted }R^2$가 동일하지만, 중회귀에서는 다른 값을 가짐 \n",
    "    - 중회귀에서 $R^2$는 독립변수 개수가 많아질수록 높아지는 경향이 있어, 이를 보완한 $\\text{adjusted }R^2$을 고려"
   ]
  },
  {
   "cell_type": "markdown",
   "id": "8dfe8b24-4a0c-4dad-87e6-bf327a1224da",
   "metadata": {},
   "source": [
    "# 4. 잔차분석 (Residual analysis)\n",
    "\n",
    "잔차(residual)를 이용하여 다음의 가정을 확인\n",
    "\n",
    "- 정규성\n",
    "- 등분산성\n",
    "- 독립성"
   ]
  },
  {
   "cell_type": "markdown",
   "id": "c911ef5c-7fcf-4c7d-8de1-c4ba770777d4",
   "metadata": {},
   "source": [
    "## 회귀분석 결과에서 잔차 가져오기"
   ]
  },
  {
   "cell_type": "code",
   "execution_count": 79,
   "id": "9a411682-a850-4ad0-a91f-ac9bd7105584",
   "metadata": {},
   "outputs": [
    {
     "data": {
      "text/plain": [
       "array([ -6.30619797,   9.25703587,   8.76685724, -29.70632973,\n",
       "       -12.81520805,  44.55718366,  31.96530005,   1.88691264,\n",
       "        -9.77156168,   4.73510416,  -1.60980157, -46.08682722,\n",
       "        34.958394  , -15.57799384, -52.27927421,  -5.99870827,\n",
       "         0.59312675, -30.15569887,  34.01048007,  15.64915353,\n",
       "       -28.15557977,  27.55157892,   2.4684856 ,  35.99305113,\n",
       "        27.54987231,  26.7596183 , -24.02143179,   9.30804539,\n",
       "         3.53300444,  -8.41536396, -10.25855829,  30.12013014,\n",
       "        -5.2416021 , -28.38729303,   0.42748466,  57.6880076 ,\n",
       "       -53.15161313,  16.85027906,  -9.37344782,  14.74069241,\n",
       "       -13.26668171,  24.22103666,  63.35920948, -44.23405945,\n",
       "       -29.28940184,  -3.19263221,  52.47619065, -23.39087912,\n",
       "       -52.42320946,   6.30377601,  25.1560155 , -25.03501009,\n",
       "       -53.05999928,  18.62859347, -24.00732036, -69.28489022,\n",
       "        17.83276335, -22.44221428, -44.53939909,  -8.32915485,\n",
       "        31.02023261,  17.51092115,   1.70991298,  -6.35917206,\n",
       "        -9.17899368,  34.46378516, -12.93748773,   0.56723676,\n",
       "        -2.12486131,  10.01398631, -39.68920434,   1.75439894,\n",
       "       -27.49558458,   2.73444518,  30.14358622,  11.22325037,\n",
       "        16.42408695,  25.18809219,  12.27568024, -10.67711151,\n",
       "        -5.17253405,   8.2442869 ,  10.94658351,   9.54827765,\n",
       "         8.23891787, -29.01807933,  40.57234824,  17.71530746,\n",
       "       -12.97635237, -27.27008294,   6.1131527 , -30.14376759,\n",
       "       -15.47985754,  31.04149668,  -5.04375451, -31.8151023 ,\n",
       "        -0.82784158,  42.31324742,  -7.37955864,  46.28607279])"
      ]
     },
     "execution_count": 79,
     "metadata": {},
     "output_type": "execute_result"
    }
   ],
   "source": [
    "resid = result.resid\n",
    "resid"
   ]
  },
  {
   "cell_type": "markdown",
   "id": "c16d81e5-3ec5-4271-95d7-667b3ab0078b",
   "metadata": {},
   "source": [
    "## 정규성 가정\n",
    "- 히스토그램이 종모양을 따르는지 확인\n",
    "- 또는 Q-Q plot (Quantile-Quantile plot)이 직선으로 나타나는지 확인"
   ]
  },
  {
   "cell_type": "code",
   "execution_count": 84,
   "id": "43be8ef2-73ae-443d-ad2a-ab654849738a",
   "metadata": {},
   "outputs": [
    {
     "data": {
      "image/png": "[encoded data removed]",
      "text/plain": [
       "<Figure size 360x360 with 1 Axes>"
      ]
     },
     "metadata": {
      "needs_background": "light"
     },
     "output_type": "display_data"
    }
   ],
   "source": [
    "# 히스토그램\n",
    "sns.displot(resid, kde = True)\n",
    "plt.show()"
   ]
  },
  {
   "cell_type": "code",
   "execution_count": 108,
   "id": "28aa2d00-2929-497f-9325-0e4812eb85f8",
   "metadata": {},
   "outputs": [
    {
     "data": {
      "image/png": "[encoded data removed]",
      "text/plain": [
       "<Figure size 432x288 with 1 Axes>"
      ]
     },
     "metadata": {
      "needs_background": "light"
     },
     "output_type": "display_data"
    }
   ],
   "source": [
    "# Q-Q plot\n",
    "sr = stats.zscore(resid)\n",
    "(x_axis, y_axis), _ = stats.probplot(sr)\n",
    "plt.scatter(x_axis, y_axis)\n",
    "plt.plot([-3, 3], [-3, 3], '--', color='grey')\n",
    "plt.show()"
   ]
  },
  {
   "cell_type": "markdown",
   "id": "ccb00fae-e74f-4cc8-93e7-2b967df29a6b",
   "metadata": {},
   "source": [
    "## 등분산성 가정\n",
    "- 잔차들의 퍼짐 정도가 변하는지 확인"
   ]
  },
  {
   "cell_type": "markdown",
   "id": "10a389a5-9c8e-4abe-8c89-390b3fa95230",
   "metadata": {},
   "source": [
    "## 독립성 가정\n",
    "- 잔차들이 랜덤하게 분포되어 있는지 확인"
   ]
  },
  {
   "cell_type": "code",
   "execution_count": 93,
   "id": "e072addd-28cb-4e6f-8a63-8ffb04a3d80d",
   "metadata": {},
   "outputs": [
    {
     "data": {
      "image/png": "[encoded data removed]",
      "text/plain": [
       "<Figure size 432x288 with 1 Axes>"
      ]
     },
     "metadata": {
      "needs_background": "light"
     },
     "output_type": "display_data"
    }
   ],
   "source": [
    "idx = range(1, len(resid)+1, 1)\n",
    "plt.scatter(idx, resid)\n",
    "plt.title(\"관측순서 vs 잔차\")\n",
    "plt.xlabel(\"관측순서\")\n",
    "plt.ylabel(\"잔차\")\n",
    "plt.show()"
   ]
  },
  {
   "cell_type": "markdown",
   "id": "5cdb20cd-00d0-4aa8-88ef-f45785445002",
   "metadata": {},
   "source": [
    "# 5. 범주형 독립변수\n",
    "- 독립변수가 실수값의 형태가 아닌, 특정 그룹을 나타내는 경우\n",
    "- 각 그룹을 0과 1의 값을 가지는 더미변수(dummy variable)로 코딩하여 회귀분석을 하고 효과를 해석할 수 있음\n",
    "\n",
    "### 그룹이 2개인 경우\n",
    "- 예를 들어, \"성별\"이라는 독립변수가 있고 \"남성\"와 \"여성\"의 값을 가지고 있다고 하자.\n",
    "- 여기서 기준이 될 값을 0으로 두고 다른 변수를 1로 코딩하여 변수를 생성.\n",
    "- 만약 \"남성\"를 0, \"여성\"을 1로 두었을 때, 이 변수의 회귀계수의 값은 남성 대비 여성의 효과를 나타낸다.\n",
    "\n",
    "### 그룹이 3개 이상인 경우\n",
    "- 그룹이 3개 이상인 경우에는 (그룹의 개수 - 1)개의 더미변수가 필요\n",
    "- 예를 들어, \"학급\"이라는 변수가 \"1반\",\"2반\",...,\"5반\"으로 구성되어 있다고 하자.\n",
    "- 여기서 기준 그룹을 \"1반\"으로 결정하고, 나머지 그룹을 나타내는 4개의 더미변수를 생성\n",
    "    - 더미변수1: \"1반\"은 0, \"2반\"은 1\n",
    "    - 더미변수2: \"1반\"은 0, \"3반\"은 1\n",
    "    - 더미변수3: \"1반\"은 0, \"4반\"은 1\n",
    "    - 더미변수4: \"1반\"은 0, \"5반\"은 1"
   ]
  },
  {
   "cell_type": "code",
   "execution_count": 124,
   "id": "300f9586-e3ae-433b-ba91-8f6777819e73",
   "metadata": {},
   "outputs": [
    {
     "data": {
      "text/html": [
       "<div>\n",
       "<style scoped>\n",
       "    .dataframe tbody tr th:only-of-type {\n",
       "        vertical-align: middle;\n",
       "    }\n",
       "\n",
       "    .dataframe tbody tr th {\n",
       "        vertical-align: top;\n",
       "    }\n",
       "\n",
       "    .dataframe thead th {\n",
       "        text-align: right;\n",
       "    }\n",
       "</style>\n",
       "<table border=\"1\" class=\"dataframe\">\n",
       "  <thead>\n",
       "    <tr style=\"text-align: right;\">\n",
       "      <th></th>\n",
       "      <th>y</th>\n",
       "      <th>x</th>\n",
       "      <th>comp</th>\n",
       "    </tr>\n",
       "  </thead>\n",
       "  <tbody>\n",
       "    <tr>\n",
       "      <th>0</th>\n",
       "      <td>2.48</td>\n",
       "      <td>3.52</td>\n",
       "      <td>A</td>\n",
       "    </tr>\n",
       "    <tr>\n",
       "      <th>1</th>\n",
       "      <td>2.27</td>\n",
       "      <td>2.58</td>\n",
       "      <td>A</td>\n",
       "    </tr>\n",
       "    <tr>\n",
       "      <th>2</th>\n",
       "      <td>2.47</td>\n",
       "      <td>3.31</td>\n",
       "      <td>A</td>\n",
       "    </tr>\n",
       "    <tr>\n",
       "      <th>3</th>\n",
       "      <td>2.77</td>\n",
       "      <td>4.07</td>\n",
       "      <td>A</td>\n",
       "    </tr>\n",
       "    <tr>\n",
       "      <th>4</th>\n",
       "      <td>2.98</td>\n",
       "      <td>4.62</td>\n",
       "      <td>A</td>\n",
       "    </tr>\n",
       "    <tr>\n",
       "      <th>5</th>\n",
       "      <td>3.05</td>\n",
       "      <td>3.98</td>\n",
       "      <td>A</td>\n",
       "    </tr>\n",
       "    <tr>\n",
       "      <th>6</th>\n",
       "      <td>3.18</td>\n",
       "      <td>4.29</td>\n",
       "      <td>B</td>\n",
       "    </tr>\n",
       "    <tr>\n",
       "      <th>7</th>\n",
       "      <td>3.46</td>\n",
       "      <td>4.83</td>\n",
       "      <td>B</td>\n",
       "    </tr>\n",
       "    <tr>\n",
       "      <th>8</th>\n",
       "      <td>3.03</td>\n",
       "      <td>3.71</td>\n",
       "      <td>B</td>\n",
       "    </tr>\n",
       "    <tr>\n",
       "      <th>9</th>\n",
       "      <td>3.25</td>\n",
       "      <td>4.61</td>\n",
       "      <td>B</td>\n",
       "    </tr>\n",
       "    <tr>\n",
       "      <th>10</th>\n",
       "      <td>2.67</td>\n",
       "      <td>3.90</td>\n",
       "      <td>B</td>\n",
       "    </tr>\n",
       "    <tr>\n",
       "      <th>11</th>\n",
       "      <td>2.53</td>\n",
       "      <td>3.20</td>\n",
       "      <td>B</td>\n",
       "    </tr>\n",
       "  </tbody>\n",
       "</table>\n",
       "</div>"
      ],
      "text/plain": [
       "       y     x comp\n",
       "0   2.48  3.52    A\n",
       "1   2.27  2.58    A\n",
       "2   2.47  3.31    A\n",
       "3   2.77  4.07    A\n",
       "4   2.98  4.62    A\n",
       "5   3.05  3.98    A\n",
       "6   3.18  4.29    B\n",
       "7   3.46  4.83    B\n",
       "8   3.03  3.71    B\n",
       "9   3.25  4.61    B\n",
       "10  2.67  3.90    B\n",
       "11  2.53  3.20    B"
      ]
     },
     "execution_count": 124,
     "metadata": {},
     "output_type": "execute_result"
    }
   ],
   "source": [
    "# 예제 데이터 생성\n",
    "df = pd.DataFrame({\n",
    "    \"y\": [2.48, 2.27, 2.47, 2.77, 2.98, 3.05, 3.18, 3.46, 3.03, 3.25, 2.67, 2.53],\n",
    "    \"x\": [3.52, 2.58, 3.31, 4.07, 4.62, 3.98, 4.29, 4.83, 3.71, 4.61, 3.90, 3.20],\n",
    "    \"comp\": [\"A\",\"A\",\"A\",\"A\",\"A\",\"A\",\"B\",\"B\",\"B\",\"B\",\"B\",\"B\"]\n",
    "})\n",
    "df"
   ]
  },
  {
   "cell_type": "markdown",
   "id": "aa906c4b-3cd2-4db6-ad3a-bd3e162c0716",
   "metadata": {},
   "source": [
    "#### 모형 적합\n",
    "- 범주형 독립변수의 경우, statsmodel에서 formula를 사용하면 함수가 자동적으로 더미변수화 하여 회귀모형을 적합해줌\n",
    "- 기준변수는 알파벳순으로 빠른 것이 기준이 됨"
   ]
  },
  {
   "cell_type": "code",
   "execution_count": 123,
   "id": "38103045-d645-4620-9252-65f6ddd1d641",
   "metadata": {},
   "outputs": [
    {
     "name": "stdout",
     "output_type": "stream",
     "text": [
      "                            OLS Regression Results                            \n",
      "==============================================================================\n",
      "Dep. Variable:                      y   R-squared:                       0.846\n",
      "Model:                            OLS   Adj. R-squared:                  0.812\n",
      "Method:                 Least Squares   F-statistic:                     24.68\n",
      "Date:                Fri, 09 Jul 2021   Prob (F-statistic):           0.000222\n",
      "Time:                        15:10:18   Log-Likelihood:                 6.7108\n",
      "No. Observations:                  12   AIC:                            -7.422\n",
      "Df Residuals:                       9   BIC:                            -5.967\n",
      "Df Model:                           2                                         \n",
      "Covariance Type:            nonrobust                                         \n",
      "==============================================================================\n",
      "                 coef    std err          t      P>|t|      [0.025      0.975]\n",
      "------------------------------------------------------------------------------\n",
      "Intercept      0.9997      0.290      3.448      0.007       0.344       1.656\n",
      "comp[T.B]      0.1639      0.097      1.682      0.127      -0.057       0.384\n",
      "x              0.4539      0.077      5.913      0.000       0.280       0.628\n",
      "==============================================================================\n",
      "Omnibus:                        0.013   Durbin-Watson:                   1.608\n",
      "Prob(Omnibus):                  0.994   Jarque-Bera (JB):                0.232\n",
      "Skew:                           0.010   Prob(JB):                        0.890\n",
      "Kurtosis:                       2.319   Cond. No.                         26.6\n",
      "==============================================================================\n",
      "\n",
      "Notes:\n",
      "[1] Standard Errors assume that the covariance matrix of the errors is correctly specified.\n"
     ]
    },
    {
     "name": "stderr",
     "output_type": "stream",
     "text": [
      "/Users/hyunsung/opt/anaconda3/lib/python3.8/site-packages/scipy/stats/stats.py:1603: UserWarning: kurtosistest only valid for n>=20 ... continuing anyway, n=12\n",
      "  warnings.warn(\"kurtosistest only valid for n>=20 ... continuing \"\n"
     ]
    }
   ],
   "source": [
    "# 회귀모형 적합\n",
    "model = sm.OLS.from_formula(\"y ~ x + comp\", df)\n",
    "result = model.fit()\n",
    "print(result.summary())"
   ]
  },
  {
   "cell_type": "markdown",
   "id": "0da24075-0d7b-4043-9ed8-27876e3b7bb8",
   "metadata": {},
   "source": [
    "### 회귀모형에 대한 추론 (F-검정)\n",
    "\n",
    "- $H_0: \\beta_1 = \\beta_2 = 0 ~~~ \\text{vs} ~~~ H_1: \\text{Not } H_0$\n",
    "\n",
    "- 위의 결과에서 F-통계량 = 24.68이고 p-value = 0.0002 < 0.05이기 때문에 유의수준 5%에서 회귀모형이 유의하다."
   ]
  },
  {
   "cell_type": "markdown",
   "id": "453e7bc3-40af-4226-a074-cad67b39f087",
   "metadata": {},
   "source": [
    "### 개별 회귀계수 $\\beta_i$에 대한 추론 (t-검정)\n",
    "\n",
    "#### 연속형 변수의 회귀계수 $\\beta_1$에 대한 추론\n",
    "\n",
    "- $H_0: \\beta_1 = 0$ vs $H_1: \\beta_1 \\ne 0$\n",
    "\n",
    "- $\\hat\\beta_1 = 0.4537$ 이고 p-value < 0.05 이기 때문에 유의수준 0.05 하에서 귀무가설을 기각한다. (x의 효과가 유의미하다.)\n",
    "\n",
    "\n",
    "#### 범주형 변수의 회귀계수 $\\beta_2$에 대한 추론\n",
    "\n",
    "- $H_0: \\beta_2 = 0$ vs $H_1: \\beta_2 \\ne 0$\n",
    "\n",
    "- $\\hat\\beta_2 = 0.1639$ 이고 p-value = 0.127 > 0.05 이기 때문에 유의수준 0.05 하에서 귀무가설을 기각할 수 없다. (comp의 효과가 유의미하지 않다.)\n",
    "\n"
   ]
  },
  {
   "cell_type": "markdown",
   "id": "ad724eca-b042-4883-bbd2-deb87f420d66",
   "metadata": {},
   "source": [
    "### 회귀분석 결과에 대한 해석\n",
    "- $\\hat\\beta_0 = 0.9997, ~~ \\hat\\beta_1 = 0.4539, ~~ \\hat\\beta_2 = 0.1639$ 이고 따라서 추정된 회귀식은 다음과 같다.\n",
    "    $$\\hat y = 0.9997 + 0.4539x + 0.1639 \\text{comp}$$\n",
    "\n",
    "- 연속형 변수 x에 대한 해석\n",
    "    - x가 1단위 증가하면, y는 0.4539 증가한다.\n",
    "\n",
    "- 범주형 변수 comp에 대한 해석\n",
    "    - comp가 0에서 1로 변화하면, y는 0.1639 증가한다. (즉, comp가 \"A\"에 비해 \"B\"일 경우 y는 0.1639 더 높다.)\n",
    "\n",
    "- 결정계수 $R^2 = 0.846$, 수정결정계수 $\\text{adjusted }R^2 = 0.812$ 로 총 변동 중 회귀모형에 의해 설명되는 비율은 약 84.6%이다."
   ]
  },
  {
   "cell_type": "markdown",
   "id": "36f47fa4-6b4c-480d-a4cb-8a2b5fd37596",
   "metadata": {},
   "source": [
    "## 직접 더미변수를 만들고 회귀모형 적합\n",
    "- \"A\"가 기준"
   ]
  },
  {
   "cell_type": "code",
   "execution_count": 139,
   "id": "b6015e65-dea6-4eaf-a781-266d4fafb455",
   "metadata": {},
   "outputs": [
    {
     "data": {
      "text/plain": [
       "[0, 0, 0, 0, 0, 0, 1, 1, 1, 1, 1, 1]"
      ]
     },
     "execution_count": 139,
     "metadata": {},
     "output_type": "execute_result"
    }
   ],
   "source": [
    "# 더미변수 만들기\n",
    "df_1 = df.copy()\n",
    "dummy_var = np.zeros(len(df_1.comp))\n",
    "dummy_var = [1  if i == \"B\" else 0 for i in df_1.comp]\n",
    "dummy_var"
   ]
  },
  {
   "cell_type": "code",
   "execution_count": 148,
   "id": "a43a3216-da6c-4d78-a1a8-9701e5feb2b1",
   "metadata": {},
   "outputs": [
    {
     "data": {
      "text/html": [
       "<div>\n",
       "<style scoped>\n",
       "    .dataframe tbody tr th:only-of-type {\n",
       "        vertical-align: middle;\n",
       "    }\n",
       "\n",
       "    .dataframe tbody tr th {\n",
       "        vertical-align: top;\n",
       "    }\n",
       "\n",
       "    .dataframe thead th {\n",
       "        text-align: right;\n",
       "    }\n",
       "</style>\n",
       "<table border=\"1\" class=\"dataframe\">\n",
       "  <thead>\n",
       "    <tr style=\"text-align: right;\">\n",
       "      <th></th>\n",
       "      <th>A</th>\n",
       "      <th>B</th>\n",
       "    </tr>\n",
       "  </thead>\n",
       "  <tbody>\n",
       "    <tr>\n",
       "      <th>0</th>\n",
       "      <td>1</td>\n",
       "      <td>0</td>\n",
       "    </tr>\n",
       "    <tr>\n",
       "      <th>1</th>\n",
       "      <td>1</td>\n",
       "      <td>0</td>\n",
       "    </tr>\n",
       "    <tr>\n",
       "      <th>2</th>\n",
       "      <td>1</td>\n",
       "      <td>0</td>\n",
       "    </tr>\n",
       "    <tr>\n",
       "      <th>3</th>\n",
       "      <td>1</td>\n",
       "      <td>0</td>\n",
       "    </tr>\n",
       "    <tr>\n",
       "      <th>4</th>\n",
       "      <td>1</td>\n",
       "      <td>0</td>\n",
       "    </tr>\n",
       "    <tr>\n",
       "      <th>5</th>\n",
       "      <td>1</td>\n",
       "      <td>0</td>\n",
       "    </tr>\n",
       "    <tr>\n",
       "      <th>6</th>\n",
       "      <td>0</td>\n",
       "      <td>1</td>\n",
       "    </tr>\n",
       "    <tr>\n",
       "      <th>7</th>\n",
       "      <td>0</td>\n",
       "      <td>1</td>\n",
       "    </tr>\n",
       "    <tr>\n",
       "      <th>8</th>\n",
       "      <td>0</td>\n",
       "      <td>1</td>\n",
       "    </tr>\n",
       "    <tr>\n",
       "      <th>9</th>\n",
       "      <td>0</td>\n",
       "      <td>1</td>\n",
       "    </tr>\n",
       "    <tr>\n",
       "      <th>10</th>\n",
       "      <td>0</td>\n",
       "      <td>1</td>\n",
       "    </tr>\n",
       "    <tr>\n",
       "      <th>11</th>\n",
       "      <td>0</td>\n",
       "      <td>1</td>\n",
       "    </tr>\n",
       "  </tbody>\n",
       "</table>\n",
       "</div>"
      ],
      "text/plain": [
       "    A  B\n",
       "0   1  0\n",
       "1   1  0\n",
       "2   1  0\n",
       "3   1  0\n",
       "4   1  0\n",
       "5   1  0\n",
       "6   0  1\n",
       "7   0  1\n",
       "8   0  1\n",
       "9   0  1\n",
       "10  0  1\n",
       "11  0  1"
      ]
     },
     "execution_count": 148,
     "metadata": {},
     "output_type": "execute_result"
    }
   ],
   "source": [
    "# 또는 pandas의 함수 이용\n",
    "dummy_var = pd.get_dummies(df_1.comp)\n",
    "dummy_var"
   ]
  },
  {
   "cell_type": "code",
   "execution_count": 149,
   "id": "a6da1fef-fd5e-47a8-a75b-990f98ace66c",
   "metadata": {},
   "outputs": [
    {
     "data": {
      "text/plain": [
       "0     0\n",
       "1     0\n",
       "2     0\n",
       "3     0\n",
       "4     0\n",
       "5     0\n",
       "6     1\n",
       "7     1\n",
       "8     1\n",
       "9     1\n",
       "10    1\n",
       "11    1\n",
       "Name: B, dtype: uint8"
      ]
     },
     "execution_count": 149,
     "metadata": {},
     "output_type": "execute_result"
    }
   ],
   "source": [
    "dummy_var = dummy_var.iloc[:, 1]\n",
    "dummy_var"
   ]
  },
  {
   "cell_type": "code",
   "execution_count": 150,
   "id": "20cb0ad8-a37f-4924-957f-cc35232891b6",
   "metadata": {},
   "outputs": [
    {
     "data": {
      "text/html": [
       "<div>\n",
       "<style scoped>\n",
       "    .dataframe tbody tr th:only-of-type {\n",
       "        vertical-align: middle;\n",
       "    }\n",
       "\n",
       "    .dataframe tbody tr th {\n",
       "        vertical-align: top;\n",
       "    }\n",
       "\n",
       "    .dataframe thead th {\n",
       "        text-align: right;\n",
       "    }\n",
       "</style>\n",
       "<table border=\"1\" class=\"dataframe\">\n",
       "  <thead>\n",
       "    <tr style=\"text-align: right;\">\n",
       "      <th></th>\n",
       "      <th>y</th>\n",
       "      <th>x</th>\n",
       "      <th>comp</th>\n",
       "      <th>comp_dummy</th>\n",
       "    </tr>\n",
       "  </thead>\n",
       "  <tbody>\n",
       "    <tr>\n",
       "      <th>0</th>\n",
       "      <td>2.48</td>\n",
       "      <td>3.52</td>\n",
       "      <td>A</td>\n",
       "      <td>0</td>\n",
       "    </tr>\n",
       "    <tr>\n",
       "      <th>1</th>\n",
       "      <td>2.27</td>\n",
       "      <td>2.58</td>\n",
       "      <td>A</td>\n",
       "      <td>0</td>\n",
       "    </tr>\n",
       "    <tr>\n",
       "      <th>2</th>\n",
       "      <td>2.47</td>\n",
       "      <td>3.31</td>\n",
       "      <td>A</td>\n",
       "      <td>0</td>\n",
       "    </tr>\n",
       "    <tr>\n",
       "      <th>3</th>\n",
       "      <td>2.77</td>\n",
       "      <td>4.07</td>\n",
       "      <td>A</td>\n",
       "      <td>0</td>\n",
       "    </tr>\n",
       "    <tr>\n",
       "      <th>4</th>\n",
       "      <td>2.98</td>\n",
       "      <td>4.62</td>\n",
       "      <td>A</td>\n",
       "      <td>0</td>\n",
       "    </tr>\n",
       "    <tr>\n",
       "      <th>5</th>\n",
       "      <td>3.05</td>\n",
       "      <td>3.98</td>\n",
       "      <td>A</td>\n",
       "      <td>0</td>\n",
       "    </tr>\n",
       "    <tr>\n",
       "      <th>6</th>\n",
       "      <td>3.18</td>\n",
       "      <td>4.29</td>\n",
       "      <td>B</td>\n",
       "      <td>1</td>\n",
       "    </tr>\n",
       "    <tr>\n",
       "      <th>7</th>\n",
       "      <td>3.46</td>\n",
       "      <td>4.83</td>\n",
       "      <td>B</td>\n",
       "      <td>1</td>\n",
       "    </tr>\n",
       "    <tr>\n",
       "      <th>8</th>\n",
       "      <td>3.03</td>\n",
       "      <td>3.71</td>\n",
       "      <td>B</td>\n",
       "      <td>1</td>\n",
       "    </tr>\n",
       "    <tr>\n",
       "      <th>9</th>\n",
       "      <td>3.25</td>\n",
       "      <td>4.61</td>\n",
       "      <td>B</td>\n",
       "      <td>1</td>\n",
       "    </tr>\n",
       "    <tr>\n",
       "      <th>10</th>\n",
       "      <td>2.67</td>\n",
       "      <td>3.90</td>\n",
       "      <td>B</td>\n",
       "      <td>1</td>\n",
       "    </tr>\n",
       "    <tr>\n",
       "      <th>11</th>\n",
       "      <td>2.53</td>\n",
       "      <td>3.20</td>\n",
       "      <td>B</td>\n",
       "      <td>1</td>\n",
       "    </tr>\n",
       "  </tbody>\n",
       "</table>\n",
       "</div>"
      ],
      "text/plain": [
       "       y     x comp  comp_dummy\n",
       "0   2.48  3.52    A           0\n",
       "1   2.27  2.58    A           0\n",
       "2   2.47  3.31    A           0\n",
       "3   2.77  4.07    A           0\n",
       "4   2.98  4.62    A           0\n",
       "5   3.05  3.98    A           0\n",
       "6   3.18  4.29    B           1\n",
       "7   3.46  4.83    B           1\n",
       "8   3.03  3.71    B           1\n",
       "9   3.25  4.61    B           1\n",
       "10  2.67  3.90    B           1\n",
       "11  2.53  3.20    B           1"
      ]
     },
     "execution_count": 150,
     "metadata": {},
     "output_type": "execute_result"
    }
   ],
   "source": [
    "# 데이터프레임에 더미변수 추가\n",
    "df_1[\"comp_dummy\"] = dummy_var\n",
    "df_1"
   ]
  },
  {
   "cell_type": "code",
   "execution_count": 151,
   "id": "8ed0fead-d365-49e3-b154-d5c7fb395136",
   "metadata": {},
   "outputs": [
    {
     "name": "stdout",
     "output_type": "stream",
     "text": [
      "                            OLS Regression Results                            \n",
      "==============================================================================\n",
      "Dep. Variable:                      y   R-squared:                       0.846\n",
      "Model:                            OLS   Adj. R-squared:                  0.812\n",
      "Method:                 Least Squares   F-statistic:                     24.68\n",
      "Date:                Fri, 09 Jul 2021   Prob (F-statistic):           0.000222\n",
      "Time:                        15:35:13   Log-Likelihood:                 6.7108\n",
      "No. Observations:                  12   AIC:                            -7.422\n",
      "Df Residuals:                       9   BIC:                            -5.967\n",
      "Df Model:                           2                                         \n",
      "Covariance Type:            nonrobust                                         \n",
      "==============================================================================\n",
      "                 coef    std err          t      P>|t|      [0.025      0.975]\n",
      "------------------------------------------------------------------------------\n",
      "Intercept      0.9997      0.290      3.448      0.007       0.344       1.656\n",
      "x              0.4539      0.077      5.913      0.000       0.280       0.628\n",
      "comp_dummy     0.1639      0.097      1.682      0.127      -0.057       0.384\n",
      "==============================================================================\n",
      "Omnibus:                        0.013   Durbin-Watson:                   1.608\n",
      "Prob(Omnibus):                  0.994   Jarque-Bera (JB):                0.232\n",
      "Skew:                           0.010   Prob(JB):                        0.890\n",
      "Kurtosis:                       2.319   Cond. No.                         26.6\n",
      "==============================================================================\n",
      "\n",
      "Notes:\n",
      "[1] Standard Errors assume that the covariance matrix of the errors is correctly specified.\n"
     ]
    },
    {
     "name": "stderr",
     "output_type": "stream",
     "text": [
      "/Users/hyunsung/opt/anaconda3/lib/python3.8/site-packages/scipy/stats/stats.py:1603: UserWarning: kurtosistest only valid for n>=20 ... continuing anyway, n=12\n",
      "  warnings.warn(\"kurtosistest only valid for n>=20 ... continuing \"\n"
     ]
    }
   ],
   "source": [
    "# 회귀모형 적합\n",
    "model = sm.OLS.from_formula(\"y ~ x + comp_dummy\", df_1)\n",
    "result = model.fit()\n",
    "print(result.summary())"
   ]
  },
  {
   "cell_type": "code",
   "execution_count": null,
   "id": "3757567c-10a4-401f-912b-81014e4eecfe",
   "metadata": {},
   "outputs": [],
   "source": []
  },
  {
   "cell_type": "code",
   "execution_count": null,
   "id": "344f5a9c-237b-42b3-815c-999b44bf257c",
   "metadata": {},
   "outputs": [],
   "source": []
  },
  {
   "cell_type": "code",
   "execution_count": null,
   "id": "06fa5291-0098-43b3-aeb7-6c63746bc3d3",
   "metadata": {},
   "outputs": [],
   "source": []
  },
  {
   "cell_type": "code",
   "execution_count": null,
   "id": "a8220695-abdb-44f7-b5a2-7ab466924fe7",
   "metadata": {},
   "outputs": [],
   "source": []
  },
  {
   "cell_type": "code",
   "execution_count": null,
   "id": "c59c2964-d233-4b32-92fe-dbd78d8a8f3c",
   "metadata": {},
   "outputs": [],
   "source": []
  },
  {
   "cell_type": "code",
   "execution_count": null,
   "id": "9c14115d-2aad-411d-812c-9834220786ce",
   "metadata": {},
   "outputs": [],
   "source": []
  },
  {
   "cell_type": "code",
   "execution_count": null,
   "id": "3c91a3b0-2dc0-410d-818d-e3ee941e95dd",
   "metadata": {},
   "outputs": [],
   "source": []
  },
  {
   "cell_type": "markdown",
   "id": "1bbddf7b-6524-4093-98c6-f05020d09aca",
   "metadata": {},
   "source": [
    "# 5. 변수 선택법 (Variable selection)"
   ]
  },
  {
   "cell_type": "markdown",
   "id": "4d3320e5-a483-4c8e-9e3a-c98d198cae8b",
   "metadata": {},
   "source": [
    "## 변수추가법 (Forward selection)\n",
    "- 절편만 있는 모형에서 가장 중요한 변수부터 차례로 선택하여 모형에 추가하는 방법"
   ]
  },
  {
   "cell_type": "code",
   "execution_count": null,
   "id": "83f5676e-232a-4947-964b-dcd05fdf9013",
   "metadata": {},
   "outputs": [],
   "source": []
  },
  {
   "cell_type": "code",
   "execution_count": null,
   "id": "c3a22303-7ee6-4f9c-afd0-c699fc955844",
   "metadata": {},
   "outputs": [],
   "source": []
  },
  {
   "cell_type": "code",
   "execution_count": null,
   "id": "49cceb58-0db6-46d1-88f4-969c883f1edf",
   "metadata": {},
   "outputs": [],
   "source": []
  },
  {
   "cell_type": "markdown",
   "id": "c05795c8-c3bd-4fb6-a458-ff36ca117213",
   "metadata": {},
   "source": [
    "## 변수제거법 (Backward elimination)\n",
    "- 모든 설명변수를 모형에 포함시킨 경우부터 시작하여, 차례로 변수를 제거해 나감"
   ]
  },
  {
   "cell_type": "code",
   "execution_count": null,
   "id": "210dc4aa-5dec-447b-8a76-ce7c750a6900",
   "metadata": {},
   "outputs": [],
   "source": []
  },
  {
   "cell_type": "code",
   "execution_count": null,
   "id": "c87d141e-dac3-4efc-bf1f-b63f7ebd5e9b",
   "metadata": {},
   "outputs": [],
   "source": []
  },
  {
   "cell_type": "markdown",
   "id": "821ec0ba-22fa-4516-9d70-25ae1e837d58",
   "metadata": {},
   "source": [
    "## 변수증감법 (Stepwise selection)\n",
    "- 새로운 변수를 선택하면 기존에 선택된 변수 가운데 제거할 변수가 있는지 확인하는 일을 반복하면서 변수선택과 변수제거를 반복적으로 시행하는 방법으로, 응용분야에서 가장 많이 사용되는 변수선택법"
   ]
  },
  {
   "cell_type": "code",
   "execution_count": null,
   "id": "5a3609a9-6615-4b90-8c5a-c656ea18fec2",
   "metadata": {},
   "outputs": [],
   "source": []
  },
  {
   "cell_type": "code",
   "execution_count": null,
   "id": "9fe7272f-1c6b-4655-8fcd-7201d019d7e8",
   "metadata": {},
   "outputs": [],
   "source": []
  },
  {
   "cell_type": "code",
   "execution_count": null,
   "id": "ca995909-6703-4a73-a0ca-02fb34d2425c",
   "metadata": {},
   "outputs": [],
   "source": []
  }
 ],
 "metadata": {
  "kernelspec": {
   "display_name": "Python 3",
   "language": "python",
   "name": "python3"
  },
  "language_info": {
   "codemirror_mode": {
    "name": "ipython",
    "version": 3
   },
   "file_extension": ".py",
   "mimetype": "text/x-python",
   "name": "python",
   "nbconvert_exporter": "python",
   "pygments_lexer": "ipython3",
   "version": "3.8.8"
  }
 },
 "nbformat": 4,
 "nbformat_minor": 5
}
