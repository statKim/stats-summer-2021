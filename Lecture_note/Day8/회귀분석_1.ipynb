{
 "cells": [
  {
   "cell_type": "markdown",
   "id": "6902d41f-0249-4085-b9e5-6849c26f379c",
   "metadata": {},
   "source": [
    "# 회귀분석 (Regression)\n",
    "1. 상관분석 (Correlation analysis)\n",
    "2. 단순선형회귀모형 (Simple linear regression)\n",
    "3. 중회귀모형 (Multiple linear regression)\n",
    "4. 잔차분석 (Residual analysis)\n",
    "5. 범주형 독립변수"
   ]
  },
  {
   "cell_type": "code",
   "execution_count": 1,
   "id": "e4cdc5d4-3d96-417c-9a14-d140f32f2b91",
   "metadata": {},
   "outputs": [],
   "source": [
    "# 라이브러리 불러오기\n",
    "import numpy as np\n",
    "import pandas as pd\n",
    "import matplotlib.pyplot as plt\n",
    "import seaborn as sns\n",
    "from scipy import stats\n",
    "\n",
    "# matplotlib 설정\n",
    "plt.rc('font', family = 'AppleGothic')   # Mac\n",
    "# plt.rc('font', family = 'Malgun Gothic')   # Windows\n",
    "plt.rcParams['axes.unicode_minus'] = False\n",
    "%matplotlib inline"
   ]
  },
  {
   "cell_type": "markdown",
   "id": "f534aa1a-75c4-4432-8edc-f3e31b32b0bd",
   "metadata": {},
   "source": [
    "# 1. 상관분석 (Correlation analysis)\n",
    "- 두 연속형 변수 사이의 연관성에 관한 추론"
   ]
  },
  {
   "cell_type": "code",
   "execution_count": 2,
   "id": "ea438ac5-f065-40f7-886f-058fc7d90b35",
   "metadata": {},
   "outputs": [
    {
     "data": {
      "image/png": "[encoded data removed]",
      "text/plain": [
       "<Figure size 432x288 with 1 Axes>"
      ]
     },
     "metadata": {
      "needs_background": "light"
     },
     "output_type": "display_data"
    }
   ],
   "source": [
    "# 데이터 생성\n",
    "x = [3.52, 2.58, 3.31, 4.07, 4.62, 3.98, 4.29, 4.83, 3.71, 4.61, 3.90, 3.20]\n",
    "y = [2.48, 2.27, 2.47, 2.77, 2.98, 3.05, 3.18, 3.46, 3.03, 3.25, 2.67, 2.53]\n",
    "\n",
    "# 산점도\n",
    "plt.scatter(x, y)\n",
    "plt.show()"
   ]
  },
  {
   "cell_type": "markdown",
   "id": "c87771b9-c061-400a-9912-9633e6470252",
   "metadata": {},
   "source": [
    "### 상관계수 계산"
   ]
  },
  {
   "cell_type": "code",
   "execution_count": 3,
   "id": "a014363d-8725-46f5-9a32-744b267ec982",
   "metadata": {},
   "outputs": [
    {
     "data": {
      "text/plain": [
       "array([[0.43937273, 0.21775455],\n",
       "       [0.21775455, 0.13535455]])"
      ]
     },
     "execution_count": 3,
     "metadata": {},
     "output_type": "execute_result"
    }
   ],
   "source": [
    "# 공분산 행렬 계산\n",
    "cov = np.cov(x, y)\n",
    "cov"
   ]
  },
  {
   "cell_type": "code",
   "execution_count": 4,
   "id": "619b30a0-535b-40bd-abf9-de2c48f52b82",
   "metadata": {},
   "outputs": [
    {
     "data": {
      "text/plain": [
       "0.8929235125385305"
      ]
     },
     "execution_count": 4,
     "metadata": {},
     "output_type": "execute_result"
    }
   ],
   "source": [
    "cov[0, 1] / (np.sqrt(cov[0, 0]) * np.sqrt(cov[1, 1]))"
   ]
  },
  {
   "cell_type": "markdown",
   "id": "0639a3ba-f88f-4204-8f60-873c39a66875",
   "metadata": {},
   "source": [
    "### 상관계수 계산(내장함수 이용)\n",
    "- `np.corrcoef(x, y)` : 상관계수 행렬 계산"
   ]
  },
  {
   "cell_type": "code",
   "execution_count": 5,
   "id": "fa9bcd2c-3bbc-49a7-9452-3f61b19d785e",
   "metadata": {},
   "outputs": [
    {
     "data": {
      "text/plain": [
       "array([[1.        , 0.89292351],\n",
       "       [0.89292351, 1.        ]])"
      ]
     },
     "execution_count": 5,
     "metadata": {},
     "output_type": "execute_result"
    }
   ],
   "source": [
    "np.corrcoef(x, y)"
   ]
  },
  {
   "cell_type": "code",
   "execution_count": 7,
   "id": "f008e2e4-7dda-437d-807a-d9f2b770a656",
   "metadata": {},
   "outputs": [
    {
     "data": {
      "text/plain": [
       "0.8929235125385305"
      ]
     },
     "execution_count": 7,
     "metadata": {},
     "output_type": "execute_result"
    }
   ],
   "source": [
    "corr_coef = np.corrcoef(x, y)[0, 1]\n",
    "corr_coef"
   ]
  },
  {
   "cell_type": "markdown",
   "id": "0e845a32-7be0-4366-92f8-bda8e0991a2d",
   "metadata": {},
   "source": [
    "## 산점도를 통한 상관관계"
   ]
  },
  {
   "cell_type": "code",
   "execution_count": 8,
   "id": "f5ae5b8f-d545-4034-a88f-abcce7452c70",
   "metadata": {},
   "outputs": [
    {
     "data": {
      "image/png": "[encoded data removed]",
      "text/plain": [
       "<Figure size 432x288 with 1 Axes>"
      ]
     },
     "metadata": {
      "needs_background": "light"
     },
     "output_type": "display_data"
    }
   ],
   "source": [
    "# 양의 상관관계\n",
    "np.random.seed(100)\n",
    "x = np.linspace(0, 5, 30)\n",
    "y = x + np.random.randn(30)\n",
    "\n",
    "# 산점도\n",
    "plt.scatter(x, y)\n",
    "plt.xlabel(\"x\")\n",
    "plt.ylabel(\"y\")\n",
    "plt.title(\"양의 상관관계\")\n",
    "plt.show()"
   ]
  },
  {
   "cell_type": "code",
   "execution_count": 9,
   "id": "95214ed5-4513-42bb-8a19-0c406dac05ab",
   "metadata": {},
   "outputs": [
    {
     "data": {
      "image/png": "[encoded data removed]",
      "text/plain": [
       "<Figure size 432x288 with 1 Axes>"
      ]
     },
     "metadata": {
      "needs_background": "light"
     },
     "output_type": "display_data"
    }
   ],
   "source": [
    "# 음의 상관관계\n",
    "y = -np.sort(-x) + np.random.randn(30)\n",
    "\n",
    "# 산점도\n",
    "plt.scatter(x, y)\n",
    "plt.xlabel(\"x\")\n",
    "plt.ylabel(\"y\")\n",
    "plt.title(\"음의 상관관계\")\n",
    "plt.show()"
   ]
  },
  {
   "cell_type": "code",
   "execution_count": 10,
   "id": "b0905c2c-6a06-4a6e-b69f-ebe7a68e1164",
   "metadata": {},
   "outputs": [
    {
     "data": {
      "image/png": "[encoded data removed]",
      "text/plain": [
       "<Figure size 432x288 with 1 Axes>"
      ]
     },
     "metadata": {
      "needs_background": "light"
     },
     "output_type": "display_data"
    }
   ],
   "source": [
    "# 독립\n",
    "y = np.random.randn(30)\n",
    "\n",
    "# 산점도\n",
    "plt.scatter(x, y)\n",
    "plt.xlabel(\"x\")\n",
    "plt.ylabel(\"y\")\n",
    "plt.title(\"독립\")\n",
    "plt.show()"
   ]
  },
  {
   "cell_type": "code",
   "execution_count": 11,
   "id": "3c50418d-70b9-445a-a906-6b5172930c1a",
   "metadata": {},
   "outputs": [
    {
     "data": {
      "image/png": "[encoded data removed]",
      "text/plain": [
       "<Figure size 432x288 with 1 Axes>"
      ]
     },
     "metadata": {
      "needs_background": "light"
     },
     "output_type": "display_data"
    }
   ],
   "source": [
    "# 2차의 관계 & r = 0\n",
    "y = -(x-2.5)**2 + 5\n",
    "\n",
    "# 산점도\n",
    "plt.scatter(x, y)\n",
    "plt.xlabel(\"x\")\n",
    "plt.ylabel(\"y\")\n",
    "plt.title(\"2차의 관계 & r = 0\")\n",
    "plt.show()"
   ]
  },
  {
   "cell_type": "code",
   "execution_count": 12,
   "id": "bb4e580c-ad5c-40b1-bb57-b454b5113477",
   "metadata": {},
   "outputs": [
    {
     "data": {
      "image/png": "[encoded data removed]",
      "text/plain": [
       "<Figure size 432x288 with 1 Axes>"
      ]
     },
     "metadata": {
      "needs_background": "light"
     },
     "output_type": "display_data"
    }
   ],
   "source": [
    "# 완전한 양의 상관, r = 1\n",
    "y = x\n",
    "\n",
    "# 산점도\n",
    "plt.scatter(x, y)\n",
    "plt.xlabel(\"x\")\n",
    "plt.ylabel(\"y\")\n",
    "plt.title(\"완전한 양의 상관, r = 1\")\n",
    "plt.show()"
   ]
  },
  {
   "cell_type": "code",
   "execution_count": 13,
   "id": "541af716-1dbe-48df-b382-f7c8c1cd4e48",
   "metadata": {},
   "outputs": [
    {
     "data": {
      "image/png": "[encoded data removed]",
      "text/plain": [
       "<Figure size 432x288 with 1 Axes>"
      ]
     },
     "metadata": {
      "needs_background": "light"
     },
     "output_type": "display_data"
    }
   ],
   "source": [
    "# 완전한 음의 상관, r = -1\n",
    "y = -np.sort(-x)\n",
    "\n",
    "# 산점도\n",
    "plt.scatter(x, y)\n",
    "plt.xlabel(\"x\")\n",
    "plt.ylabel(\"y\")\n",
    "plt.title(\"완전한 음의 상관, r = -1\")\n",
    "plt.show()"
   ]
  },
  {
   "cell_type": "code",
   "execution_count": 14,
   "id": "af44f02e-c334-41fd-9101-d013389ba989",
   "metadata": {},
   "outputs": [
    {
     "data": {
      "image/png": "[encoded data removed]",
      "text/plain": [
       "<Figure size 432x288 with 6 Axes>"
      ]
     },
     "metadata": {
      "needs_background": "light"
     },
     "output_type": "display_data"
    }
   ],
   "source": [
    "np.random.seed(100)\n",
    "\n",
    "# 양의 상관관계\n",
    "plt.subplot(231)\n",
    "x = np.linspace(0, 5, 30)\n",
    "y = x + np.random.randn(30)\n",
    "plt.scatter(x, y)\n",
    "plt.xlabel(\"x\")\n",
    "plt.ylabel(\"y\")\n",
    "plt.title(\"양의 상관관계\")\n",
    "\n",
    "# 음의 상관관계\n",
    "plt.subplot(232)\n",
    "y = -np.sort(-x) + np.random.randn(30)\n",
    "plt.scatter(x, y)\n",
    "plt.xlabel(\"x\")\n",
    "plt.ylabel(\"y\")\n",
    "plt.title(\"음의 상관관계\")\n",
    "\n",
    "# 독립\n",
    "plt.subplot(233)\n",
    "y = np.random.randn(30)\n",
    "plt.scatter(x, y)\n",
    "plt.xlabel(\"x\")\n",
    "plt.ylabel(\"y\")\n",
    "plt.title(\"독립\")\n",
    "\n",
    "# 2차의 관계 & r = 0\n",
    "plt.subplot(234)\n",
    "y = -(x-2.5)**2 + 5\n",
    "plt.scatter(x, y)\n",
    "plt.xlabel(\"x\")\n",
    "plt.ylabel(\"y\")\n",
    "plt.title(\"2차의 관계 & r = 0\")\n",
    "\n",
    "# 완전한 양의 상관, r = 1\n",
    "plt.subplot(235)\n",
    "y = x\n",
    "plt.scatter(x, y)\n",
    "plt.xlabel(\"x\")\n",
    "plt.ylabel(\"y\")\n",
    "plt.title(\"완전한 양의 상관, r = 1\")\n",
    "\n",
    "# 완전한 음의 상관, r = -1\n",
    "plt.subplot(236)\n",
    "y = -np.sort(-x)\n",
    "plt.scatter(x, y)\n",
    "plt.xlabel(\"x\")\n",
    "plt.ylabel(\"y\")\n",
    "plt.title(\"완전한 음의 상관, r = -1\")\n",
    "\n",
    "plt.tight_layout()\n",
    "plt.show()"
   ]
  },
  {
   "cell_type": "markdown",
   "id": "ed436f5b-219a-4b1e-a68e-7b271fbc45a5",
   "metadata": {},
   "source": [
    "## 상관계수 검정\n",
    "- $H_0: \\rho = 0$ vs $H_1: \\rho > 0$\n",
    "- 검정통계량 $T = \\frac{\\sqrt{n-2}r}{\\sqrt{1-r^2}} \\sim t_{n-2}$\n",
    "- `stats.pearsonr(x, y)`\n",
    "\n",
    "#### 키(x)와 몸무게(y) 사이에 상관관계가 있는지 알고 싶다."
   ]
  },
  {
   "cell_type": "code",
   "execution_count": 15,
   "id": "4b858162-b00b-4294-8074-43e15873887b",
   "metadata": {},
   "outputs": [
    {
     "name": "stdout",
     "output_type": "stream",
     "text": [
      "======= 상관계수 검정 결과 =======\n",
      "상관계수: 0.819\n",
      "검정통계량: 4.04\n",
      "p-value: 0.004\n"
     ]
    }
   ],
   "source": [
    "x = [172, 165, 157, 175, 155, 168, 170, 176, 162, 171]\n",
    "y = [63, 66, 56, 70, 55, 59, 60, 75, 53, 68]\n",
    "\n",
    "# 상관계수 검정\n",
    "corr, p_value = stats.pearsonr(x, y)\n",
    "\n",
    "# 검정통계량 계산\n",
    "test_stat = np.sqrt(len(x) - 2)*corr / np.sqrt(1 - corr**2)\n",
    "\n",
    "print(\"======= 상관계수 검정 결과 =======\")\n",
    "print(\"상관계수: {}\".format(round(corr, 3)))\n",
    "print(\"검정통계량: {}\".format(round(test_stat, 3)))\n",
    "print(\"p-value: {}\".format(round(p_value, 3)))"
   ]
  },
  {
   "cell_type": "markdown",
   "id": "eecd56cf-bfb2-495b-a9d3-d38d4b44b036",
   "metadata": {},
   "source": [
    "p-value = 0.004/2 < 0.05이기 때문에 유의수준 0.05하에서 귀무가설을 기각한다.\n",
    "따라서 키와 몸무게에는 선형적인 상관관계가 있다."
   ]
  },
  {
   "cell_type": "markdown",
   "id": "c331cefe-c3f3-4223-af65-1b37e7224dba",
   "metadata": {},
   "source": [
    "# 2. 단순선형회귀모형 (Simple linear regression)\n",
    "$$y_i = \\alpha + \\beta x_i + \\epsilon_i, ~~ i=1,\\dots, n$$\n",
    "- $\\alpha, ~~ \\beta$ : 회귀모수 ($\\alpha$: 상수항, $\\beta$ : 기울기)\n",
    "- $x_1, \\dots, x_n$ : 설명변수 (독립변수)\n",
    "- $y_1, \\dots, y_n$ : 반응변수 (종속변수)\n",
    "- $\\epsilon_1, \\dots, \\epsilon_n$ : 서로 독립인 $N(0, \\sigma^2)$인 확률변수 (오차항)"
   ]
  },
  {
   "cell_type": "markdown",
   "id": "9c0a14d4-4002-4185-a111-172b7d453459",
   "metadata": {},
   "source": [
    "### 광고시간(x; 분)이 판매율(y; %)에 선형적인 영향을 주는지 알고 싶다."
   ]
  },
  {
   "cell_type": "code",
   "execution_count": 16,
   "id": "cca92f82-0981-4e15-8943-5db0a30475be",
   "metadata": {},
   "outputs": [
    {
     "data": {
      "image/png": "[encoded data removed]",
      "text/plain": [
       "<Figure size 432x288 with 1 Axes>"
      ]
     },
     "metadata": {
      "needs_background": "light"
     },
     "output_type": "display_data"
    }
   ],
   "source": [
    "x = np.array([8, 8, 10, 10, 12, 12, 14, 14, 16, 16])\n",
    "y = np.array([75, 80, 84, 77, 79, 85, 86, 90, 87, 89])\n",
    "\n",
    "plt.scatter(x, y)\n",
    "plt.show()"
   ]
  },
  {
   "cell_type": "markdown",
   "id": "67cde5c4-d4f1-42be-9d28-31abc499f91d",
   "metadata": {},
   "source": [
    "## 회귀모형 적합하기\n",
    "1. scikit-learn\n",
    "2. statsmodels"
   ]
  },
  {
   "cell_type": "markdown",
   "id": "badbb252-2afd-4906-ac7a-fc8b2857acd5",
   "metadata": {},
   "source": [
    "### 1. scikit-learn 라이브러리 이용"
   ]
  },
  {
   "cell_type": "code",
   "execution_count": 17,
   "id": "0d52131f-93da-4553-9fb5-3f3cc78b7cb2",
   "metadata": {},
   "outputs": [
    {
     "data": {
      "text/plain": [
       "array([ 8,  8, 10, 10, 12, 12, 14, 14, 16, 16])"
      ]
     },
     "execution_count": 17,
     "metadata": {},
     "output_type": "execute_result"
    }
   ],
   "source": [
    "x"
   ]
  },
  {
   "cell_type": "code",
   "execution_count": 18,
   "id": "6cb53d74-ee8d-4711-abe8-04f0a91109e7",
   "metadata": {},
   "outputs": [
    {
     "data": {
      "text/plain": [
       "array([[ 8],\n",
       "       [ 8],\n",
       "       [10],\n",
       "       [10],\n",
       "       [12],\n",
       "       [12],\n",
       "       [14],\n",
       "       [14],\n",
       "       [16],\n",
       "       [16]])"
      ]
     },
     "execution_count": 18,
     "metadata": {},
     "output_type": "execute_result"
    }
   ],
   "source": [
    "x.reshape(-1, 1)"
   ]
  },
  {
   "cell_type": "code",
   "execution_count": 19,
   "id": "2870f7bd-4fb1-4d34-b430-2e59f94f6315",
   "metadata": {},
   "outputs": [
    {
     "name": "stdout",
     "output_type": "stream",
     "text": [
      "66.10000000000001 [1.425]\n"
     ]
    }
   ],
   "source": [
    "from sklearn.linear_model import LinearRegression\n",
    "\n",
    "X = x.reshape(-1, 1)\n",
    "model = LinearRegression().fit(X, y)\n",
    "print(model.intercept_, model.coef_)"
   ]
  },
  {
   "cell_type": "markdown",
   "id": "b8e52a56-dea4-4016-ae82-38176c5c6c45",
   "metadata": {},
   "source": [
    "#### 최소제곱법으로 계산한 회귀직선\n",
    "$$\n",
    "\\begin{align}\n",
    "\\hat y &= \\hat\\alpha + \\hat\\beta x \\\\\n",
    "       &= 66.10 + 1.425x \n",
    "\\end{align}\n",
    "$$"
   ]
  },
  {
   "cell_type": "code",
   "execution_count": 20,
   "id": "d3a6fd8c-14d4-4dfa-9b3d-0dd2fbbaf5b3",
   "metadata": {},
   "outputs": [
    {
     "data": {
      "image/png": "[encoded data removed]",
      "text/plain": [
       "<Figure size 432x288 with 1 Axes>"
      ]
     },
     "metadata": {
      "needs_background": "light"
     },
     "output_type": "display_data"
    }
   ],
   "source": [
    "# 회귀직선 계산\n",
    "fitted_line = model.intercept_ + model.coef_[0]*X\n",
    "\n",
    "plt.scatter(x, y)\n",
    "plt.plot(x, fitted_line, color = \"red\")\n",
    "plt.show()"
   ]
  },
  {
   "cell_type": "markdown",
   "id": "4d523da9-7e6a-4e44-8472-7f15f3daa008",
   "metadata": {},
   "source": [
    "### 2. statsmodels 라이브러리 이용\n",
    "- `sm.OLS()` : numpy array로 적합할 때\n",
    "- `sm.OLS.from_formula()` : 데이터프레임으로 formula를 이용할 때"
   ]
  },
  {
   "cell_type": "code",
   "execution_count": 21,
   "id": "a008417e-b3fb-40e4-a6ba-abf3c746e052",
   "metadata": {},
   "outputs": [
    {
     "data": {
      "text/plain": [
       "array([[ 8],\n",
       "       [ 8],\n",
       "       [10],\n",
       "       [10],\n",
       "       [12],\n",
       "       [12],\n",
       "       [14],\n",
       "       [14],\n",
       "       [16],\n",
       "       [16]])"
      ]
     },
     "execution_count": 21,
     "metadata": {},
     "output_type": "execute_result"
    }
   ],
   "source": [
    "X"
   ]
  },
  {
   "cell_type": "code",
   "execution_count": 22,
   "id": "84e5f6d2-2b02-4f10-a828-6ac63b4239de",
   "metadata": {},
   "outputs": [
    {
     "data": {
      "text/plain": [
       "array([[ 1.,  8.],\n",
       "       [ 1.,  8.],\n",
       "       [ 1., 10.],\n",
       "       [ 1., 10.],\n",
       "       [ 1., 12.],\n",
       "       [ 1., 12.],\n",
       "       [ 1., 14.],\n",
       "       [ 1., 14.],\n",
       "       [ 1., 16.],\n",
       "       [ 1., 16.]])"
      ]
     },
     "execution_count": 22,
     "metadata": {},
     "output_type": "execute_result"
    }
   ],
   "source": [
    "import statsmodels.api as sm\n",
    "\n",
    "# 다음과 같이 형태를 변환해주어야 함\n",
    "X_1 = sm.add_constant(X)\n",
    "X_1"
   ]
  },
  {
   "cell_type": "code",
   "execution_count": 23,
   "id": "b983c05d-e8e3-4827-84c3-579237e2a3bf",
   "metadata": {},
   "outputs": [
    {
     "name": "stdout",
     "output_type": "stream",
     "text": [
      "                            OLS Regression Results                            \n",
      "==============================================================================\n",
      "Dep. Variable:                      y   R-squared:                       0.678\n",
      "Model:                            OLS   Adj. R-squared:                  0.638\n",
      "Method:                 Least Squares   F-statistic:                     16.85\n",
      "Date:                Mon, 12 Jul 2021   Prob (F-statistic):            0.00342\n",
      "Time:                        07:45:41   Log-Likelihood:                -24.405\n",
      "No. Observations:                  10   AIC:                             52.81\n",
      "Df Residuals:                       8   BIC:                             53.42\n",
      "Df Model:                           1                                         \n",
      "Covariance Type:            nonrobust                                         \n",
      "==============================================================================\n",
      "                 coef    std err          t      P>|t|      [0.025      0.975]\n",
      "------------------------------------------------------------------------------\n",
      "const         66.1000      4.281     15.442      0.000      56.229      75.971\n",
      "x1             1.4250      0.347      4.104      0.003       0.624       2.226\n",
      "==============================================================================\n",
      "Omnibus:                        1.884   Durbin-Watson:                   2.199\n",
      "Prob(Omnibus):                  0.390   Jarque-Bera (JB):                0.803\n",
      "Skew:                          -0.011   Prob(JB):                        0.669\n",
      "Kurtosis:                       1.612   Cond. No.                         54.1\n",
      "==============================================================================\n",
      "\n",
      "Notes:\n",
      "[1] Standard Errors assume that the covariance matrix of the errors is correctly specified.\n"
     ]
    },
    {
     "name": "stderr",
     "output_type": "stream",
     "text": [
      "/Users/hyunsung/opt/anaconda3/lib/python3.8/site-packages/scipy/stats/stats.py:1603: UserWarning: kurtosistest only valid for n>=20 ... continuing anyway, n=10\n",
      "  warnings.warn(\"kurtosistest only valid for n>=20 ... continuing \"\n"
     ]
    }
   ],
   "source": [
    "# 회귀분석 적합\n",
    "model = sm.OLS(y, X_1)\n",
    "result = model.fit()\n",
    "print(result.summary())"
   ]
  },
  {
   "cell_type": "markdown",
   "id": "0da8a6d9-61dd-4c1f-810e-f24e2ee00fc1",
   "metadata": {},
   "source": [
    "#### `sm.OLS.from_formula`"
   ]
  },
  {
   "cell_type": "code",
   "execution_count": 24,
   "id": "d5310ff6-bf08-465d-a3f8-3fcf185c2e33",
   "metadata": {},
   "outputs": [
    {
     "data": {
      "text/html": [
       "<div>\n",
       "<style scoped>\n",
       "    .dataframe tbody tr th:only-of-type {\n",
       "        vertical-align: middle;\n",
       "    }\n",
       "\n",
       "    .dataframe tbody tr th {\n",
       "        vertical-align: top;\n",
       "    }\n",
       "\n",
       "    .dataframe thead th {\n",
       "        text-align: right;\n",
       "    }\n",
       "</style>\n",
       "<table border=\"1\" class=\"dataframe\">\n",
       "  <thead>\n",
       "    <tr style=\"text-align: right;\">\n",
       "      <th></th>\n",
       "      <th>y</th>\n",
       "      <th>x</th>\n",
       "    </tr>\n",
       "  </thead>\n",
       "  <tbody>\n",
       "    <tr>\n",
       "      <th>0</th>\n",
       "      <td>75</td>\n",
       "      <td>8</td>\n",
       "    </tr>\n",
       "    <tr>\n",
       "      <th>1</th>\n",
       "      <td>80</td>\n",
       "      <td>8</td>\n",
       "    </tr>\n",
       "    <tr>\n",
       "      <th>2</th>\n",
       "      <td>84</td>\n",
       "      <td>10</td>\n",
       "    </tr>\n",
       "    <tr>\n",
       "      <th>3</th>\n",
       "      <td>77</td>\n",
       "      <td>10</td>\n",
       "    </tr>\n",
       "    <tr>\n",
       "      <th>4</th>\n",
       "      <td>79</td>\n",
       "      <td>12</td>\n",
       "    </tr>\n",
       "    <tr>\n",
       "      <th>5</th>\n",
       "      <td>85</td>\n",
       "      <td>12</td>\n",
       "    </tr>\n",
       "    <tr>\n",
       "      <th>6</th>\n",
       "      <td>86</td>\n",
       "      <td>14</td>\n",
       "    </tr>\n",
       "    <tr>\n",
       "      <th>7</th>\n",
       "      <td>90</td>\n",
       "      <td>14</td>\n",
       "    </tr>\n",
       "    <tr>\n",
       "      <th>8</th>\n",
       "      <td>87</td>\n",
       "      <td>16</td>\n",
       "    </tr>\n",
       "    <tr>\n",
       "      <th>9</th>\n",
       "      <td>89</td>\n",
       "      <td>16</td>\n",
       "    </tr>\n",
       "  </tbody>\n",
       "</table>\n",
       "</div>"
      ],
      "text/plain": [
       "    y   x\n",
       "0  75   8\n",
       "1  80   8\n",
       "2  84  10\n",
       "3  77  10\n",
       "4  79  12\n",
       "5  85  12\n",
       "6  86  14\n",
       "7  90  14\n",
       "8  87  16\n",
       "9  89  16"
      ]
     },
     "execution_count": 24,
     "metadata": {},
     "output_type": "execute_result"
    }
   ],
   "source": [
    "# 데이터프레임 이용\n",
    "df = pd.DataFrame({\n",
    "    \"y\": y,\n",
    "    \"x\": x\n",
    "})\n",
    "df"
   ]
  },
  {
   "cell_type": "code",
   "execution_count": 25,
   "id": "dd6d18ff-ac19-4268-81f0-d9e81660ed21",
   "metadata": {},
   "outputs": [
    {
     "name": "stdout",
     "output_type": "stream",
     "text": [
      "                            OLS Regression Results                            \n",
      "==============================================================================\n",
      "Dep. Variable:                      y   R-squared:                       0.678\n",
      "Model:                            OLS   Adj. R-squared:                  0.638\n",
      "Method:                 Least Squares   F-statistic:                     16.85\n",
      "Date:                Mon, 12 Jul 2021   Prob (F-statistic):            0.00342\n",
      "Time:                        07:48:55   Log-Likelihood:                -24.405\n",
      "No. Observations:                  10   AIC:                             52.81\n",
      "Df Residuals:                       8   BIC:                             53.42\n",
      "Df Model:                           1                                         \n",
      "Covariance Type:            nonrobust                                         \n",
      "==============================================================================\n",
      "                 coef    std err          t      P>|t|      [0.025      0.975]\n",
      "------------------------------------------------------------------------------\n",
      "Intercept     66.1000      4.281     15.442      0.000      56.229      75.971\n",
      "x              1.4250      0.347      4.104      0.003       0.624       2.226\n",
      "==============================================================================\n",
      "Omnibus:                        1.884   Durbin-Watson:                   2.199\n",
      "Prob(Omnibus):                  0.390   Jarque-Bera (JB):                0.803\n",
      "Skew:                          -0.011   Prob(JB):                        0.669\n",
      "Kurtosis:                       1.612   Cond. No.                         54.1\n",
      "==============================================================================\n",
      "\n",
      "Notes:\n",
      "[1] Standard Errors assume that the covariance matrix of the errors is correctly specified.\n"
     ]
    },
    {
     "name": "stderr",
     "output_type": "stream",
     "text": [
      "/Users/hyunsung/opt/anaconda3/lib/python3.8/site-packages/scipy/stats/stats.py:1603: UserWarning: kurtosistest only valid for n>=20 ... continuing anyway, n=10\n",
      "  warnings.warn(\"kurtosistest only valid for n>=20 ... continuing \"\n"
     ]
    }
   ],
   "source": [
    "# 회귀분석 적합\n",
    "model = sm.OLS.from_formula(\"y ~ x\", data = df)\n",
    "result = model.fit()\n",
    "print(result.summary())"
   ]
  },
  {
   "cell_type": "markdown",
   "id": "ac839678-f283-438f-9c6b-a46506f005b1",
   "metadata": {},
   "source": [
    "### 회귀분석 결과에 대한 해석\n",
    "\n",
    "- $\\hat\\alpha = 66.1, ~~\\hat\\beta = 1.425$ 이고 따라서 추정된 회귀식은 $\\hat y = 66.1 + 1.425 x$ 이다.\n",
    "\n",
    "- x가 1단위 증가하면, y는 1.425 증가한다. 다시 말해, 광고시간이 1분 증가하면 판매율은 1.425% 증가한다고 할 수 있다.\n",
    "\n",
    "- 또한 광고시간이 11분일 때, 예측되는 판매율은 $66.1 + 1.425\\times 11 = 81.775$%이다.\n",
    "\n",
    "- 결정계수 $R^2 = 0.678$로 총 변동 중 회귀모형에 의해 설명되는 비율은 약 67.8%이다."
   ]
  },
  {
   "cell_type": "markdown",
   "id": "9a9c1e1a-9034-4177-8cd9-32ebd9c93fd0",
   "metadata": {},
   "source": [
    "### 회귀계수 $\\beta$에 대한 추론 (t-검정)\n",
    "\n",
    "- $H_0: \\beta = 0$ vs $H_1: \\beta \\ne 0$\n",
    "\n",
    "- $\\hat\\beta = 1.425$ 이고 p-value = 0.003 < 0.05 이기 때문에 유의수준 0.05 하에서 귀무가설을 기각한다. (기울기의 효과가 유의미하다.)"
   ]
  },
  {
   "cell_type": "markdown",
   "id": "d5938566-e59c-4108-ba0d-3fe40dec4063",
   "metadata": {},
   "source": [
    "### 회귀모형에 대한 추론 (F-검정)\n",
    "\n",
    "- $H_0: \\beta = 0$ vs $H_1: \\beta \\ne 0$\n",
    "\n",
    "- 아래 분산분석표로부터 p-value = 0.003 < 0.05 이기 때문에 유의수준 5%에서 회귀모형이 유의하다.\n",
    "\n",
    "- 단순선형회귀에서는 회귀계수에 대한 유의성 검정과 회귀모형의 유의성 검정이 동일"
   ]
  },
  {
   "cell_type": "code",
   "execution_count": 26,
   "id": "2a72cfa4-cf51-4998-8ab3-0fc61f3775c0",
   "metadata": {},
   "outputs": [
    {
     "data": {
      "text/html": [
       "<div>\n",
       "<style scoped>\n",
       "    .dataframe tbody tr th:only-of-type {\n",
       "        vertical-align: middle;\n",
       "    }\n",
       "\n",
       "    .dataframe tbody tr th {\n",
       "        vertical-align: top;\n",
       "    }\n",
       "\n",
       "    .dataframe thead th {\n",
       "        text-align: right;\n",
       "    }\n",
       "</style>\n",
       "<table border=\"1\" class=\"dataframe\">\n",
       "  <thead>\n",
       "    <tr style=\"text-align: right;\">\n",
       "      <th></th>\n",
       "      <th>df</th>\n",
       "      <th>sum_sq</th>\n",
       "      <th>mean_sq</th>\n",
       "      <th>F</th>\n",
       "      <th>PR(&gt;F)</th>\n",
       "    </tr>\n",
       "  </thead>\n",
       "  <tbody>\n",
       "    <tr>\n",
       "      <th>x</th>\n",
       "      <td>1.0</td>\n",
       "      <td>162.45</td>\n",
       "      <td>162.45000</td>\n",
       "      <td>16.845107</td>\n",
       "      <td>0.003418</td>\n",
       "    </tr>\n",
       "    <tr>\n",
       "      <th>Residual</th>\n",
       "      <td>8.0</td>\n",
       "      <td>77.15</td>\n",
       "      <td>9.64375</td>\n",
       "      <td>NaN</td>\n",
       "      <td>NaN</td>\n",
       "    </tr>\n",
       "  </tbody>\n",
       "</table>\n",
       "</div>"
      ],
      "text/plain": [
       "           df  sum_sq    mean_sq          F    PR(>F)\n",
       "x         1.0  162.45  162.45000  16.845107  0.003418\n",
       "Residual  8.0   77.15    9.64375        NaN       NaN"
      ]
     },
     "execution_count": 26,
     "metadata": {},
     "output_type": "execute_result"
    }
   ],
   "source": [
    "sm.stats.anova_lm(result)"
   ]
  },
  {
   "cell_type": "markdown",
   "id": "aeb4acf9-8fd3-450e-b1d8-38110184a597",
   "metadata": {},
   "source": [
    "## 모형으로부터 결과값 가져오기"
   ]
  },
  {
   "cell_type": "markdown",
   "id": "d32aa12a-e17b-46e0-8251-33a5c97739c2",
   "metadata": {},
   "source": [
    "### 회귀계수 추정값"
   ]
  },
  {
   "cell_type": "code",
   "execution_count": 27,
   "id": "957d9315-9b8f-4af1-b0ed-0d98aedffbbd",
   "metadata": {},
   "outputs": [
    {
     "data": {
      "text/plain": [
       "Intercept    66.100\n",
       "x             1.425\n",
       "dtype: float64"
      ]
     },
     "execution_count": 27,
     "metadata": {},
     "output_type": "execute_result"
    }
   ],
   "source": [
    "result.params"
   ]
  },
  {
   "cell_type": "markdown",
   "id": "84aba682-905b-444a-abc9-a5c3a4a63c40",
   "metadata": {},
   "source": [
    "### 회귀직선 추정"
   ]
  },
  {
   "cell_type": "code",
   "execution_count": 28,
   "id": "40cdf2ea-8c99-4864-9339-5d40b2a0948f",
   "metadata": {},
   "outputs": [
    {
     "data": {
      "text/plain": [
       "0    77.50\n",
       "1    77.50\n",
       "2    80.35\n",
       "3    80.35\n",
       "4    83.20\n",
       "5    83.20\n",
       "6    86.05\n",
       "7    86.05\n",
       "8    88.90\n",
       "9    88.90\n",
       "dtype: float64"
      ]
     },
     "execution_count": 28,
     "metadata": {},
     "output_type": "execute_result"
    }
   ],
   "source": [
    "# 또는 fittedvalues에서 추정값을 가져와도 됨\n",
    "result.fittedvalues"
   ]
  },
  {
   "cell_type": "code",
   "execution_count": 29,
   "id": "7446649d-fae2-4cc0-8b0a-b90e0ae7b40c",
   "metadata": {},
   "outputs": [
    {
     "data": {
      "image/png": "[encoded data removed]",
      "text/plain": [
       "<Figure size 432x288 with 1 Axes>"
      ]
     },
     "metadata": {
      "needs_background": "light"
     },
     "output_type": "display_data"
    }
   ],
   "source": [
    "# 산점도와 추정된 회귀직선\n",
    "df.plot.scatter(x = \"x\", y = \"y\")\n",
    "plt.plot(x, result.fittedvalues, color = \"red\")\n",
    "plt.show()"
   ]
  },
  {
   "cell_type": "markdown",
   "id": "80462af0-564b-4261-a44d-b374ba7afa7d",
   "metadata": {},
   "source": [
    "## 새로운 값에 대해 예측"
   ]
  },
  {
   "cell_type": "code",
   "execution_count": 30,
   "id": "4758bf90-b5c4-4f99-9836-456dc9a732e0",
   "metadata": {},
   "outputs": [
    {
     "data": {
      "text/plain": [
       "0    77.50\n",
       "1    77.50\n",
       "2    80.35\n",
       "3    80.35\n",
       "4    83.20\n",
       "5    83.20\n",
       "6    86.05\n",
       "7    86.05\n",
       "8    88.90\n",
       "9    88.90\n",
       "dtype: float64"
      ]
     },
     "execution_count": 30,
     "metadata": {},
     "output_type": "execute_result"
    }
   ],
   "source": [
    "# predict 함수로 새로운 값에 대해 예측할 수 있음\n",
    "result.predict(df.x)"
   ]
  },
  {
   "cell_type": "code",
   "execution_count": 31,
   "id": "7a27d0a4-8309-4104-b832-42f37884e12a",
   "metadata": {},
   "outputs": [
    {
     "data": {
      "text/plain": [
       "0    81.775\n",
       "dtype: float64"
      ]
     },
     "execution_count": 31,
     "metadata": {},
     "output_type": "execute_result"
    }
   ],
   "source": [
    "result.predict({\"x\": 11})"
   ]
  },
  {
   "cell_type": "code",
   "execution_count": null,
   "id": "bf1a34f5-14b1-4ee7-9f6a-dcef8dc114f1",
   "metadata": {},
   "outputs": [],
   "source": []
  }
 ],
 "metadata": {
  "kernelspec": {
   "display_name": "Python 3",
   "language": "python",
   "name": "python3"
  },
  "language_info": {
   "codemirror_mode": {
    "name": "ipython",
    "version": 3
   },
   "file_extension": ".py",
   "mimetype": "text/x-python",
   "name": "python",
   "nbconvert_exporter": "python",
   "pygments_lexer": "ipython3",
   "version": "3.8.8"
  }
 },
 "nbformat": 4,
 "nbformat_minor": 5
}
