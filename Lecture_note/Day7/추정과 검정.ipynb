{
 "cells": [
  {
   "cell_type": "markdown",
   "id": "192f702c-8176-4384-a80e-4614ec53639e",
   "metadata": {},
   "source": [
    "# 추정과 검정\n",
    "- `scipy` 라이브러리에서 적용이 가능"
   ]
  },
  {
   "cell_type": "markdown",
   "id": "0a3faaf7-9c1b-4d4f-a63d-276a2a7bf4d5",
   "metadata": {},
   "source": [
    "# 추정 (Estimation)"
   ]
  },
  {
   "cell_type": "markdown",
   "id": "c2eeeb90-8e5e-492d-b70b-4c3070916fcb",
   "metadata": {},
   "source": [
    "## 1. 점추정"
   ]
  },
  {
   "cell_type": "markdown",
   "id": "728c2a2b-7bb8-432a-8fca-de19bd656dac",
   "metadata": {},
   "source": [
    "평균이 3이고 분산이 4인 정규분포에서 30개 표본 추출"
   ]
  },
  {
   "cell_type": "code",
   "execution_count": 8,
   "id": "d9bc4a83-ae02-4a6c-b6b8-486d2229d976",
   "metadata": {},
   "outputs": [
    {
     "data": {
      "text/plain": [
       "array([ 1.39108339,  3.64186309,  2.94903424,  4.28864766,  2.39840665,\n",
       "        3.77894911,  2.7851254 ,  2.04003385,  4.190071  ,  2.07066495,\n",
       "        4.33456261,  1.38776878,  0.60786033,  2.18807968,  2.63524532,\n",
       "        3.20638579,  2.72315602,  4.41138475,  5.54359055,  1.02650534,\n",
       "        2.33032909,  2.8010366 ,  3.8143842 ,  4.83877508,  3.62423602,\n",
       "        6.06632213,  1.89965227,  2.23370518,  1.35411807,  6.20016674,\n",
       "        2.8614374 ,  3.16641898,  2.34615065,  2.90840562,  2.39107988,\n",
       "        6.84602026,  2.84268199,  1.83586855, -0.23596447,  4.73452163,\n",
       "        0.91912583,  4.30084285,  8.39929171,  4.60404903,  0.80615748,\n",
       "        2.64389111,  2.15425904,  2.3391989 ,  0.77767444,  1.5159885 ,\n",
       "        8.14951839,  5.14642665, -0.73226901,  1.70564615,  5.16448161,\n",
       "        3.35334063,  1.32934353, -0.38999663,  5.26683446,  5.09706145,\n",
       "       -1.25665074,  0.12572121,  3.35587421,  5.78884549,  3.58264037,\n",
       "        2.83598761,  4.28848522,  3.6561599 ,  4.7148655 ,  1.12606144,\n",
       "        3.36014991,  0.15325883,  2.26448844, -0.04657598,  1.7304566 ,\n",
       "        4.97480768,  0.96796076,  7.09144749,  3.49999704,  4.30232506,\n",
       "        0.46795292,  5.7483112 ,  1.78018974,  3.06151589,  4.63931335,\n",
       "        5.90862746,  1.83264711,  3.8306949 ,  4.33405156,  4.7389906 ,\n",
       "        0.59459335,  8.72353835, -2.3631849 ,  0.66237648,  1.83167155,\n",
       "        4.63649939,  6.18087446,  2.48342354,  3.89405808,  6.87683948])"
      ]
     },
     "execution_count": 8,
     "metadata": {},
     "output_type": "execute_result"
    }
   ],
   "source": [
    "import numpy as np\n",
    "\n",
    "# 데이터 생성\n",
    "np.random.seed(1000)\n",
    "x = np.random.normal(3, 2, 30)\n",
    "x"
   ]
  },
  {
   "cell_type": "markdown",
   "id": "048c6259-3089-4480-8193-0150c20a22ff",
   "metadata": {},
   "source": [
    "### 평균 $\\mu$의 추정량 : 표본평균 ($\\bar X$)\n",
    "- `np.mean(데이터)`\n",
    "\n",
    "$\\bar X = \\frac{1}{n} \\sum_{i=1}^n X_i$"
   ]
  },
  {
   "cell_type": "code",
   "execution_count": 9,
   "id": "ac2bd437-e04d-4b8d-a8de-31de5a4ec4ec",
   "metadata": {},
   "outputs": [
    {
     "data": {
      "text/plain": [
       "3.1138792113399565"
      ]
     },
     "execution_count": 9,
     "metadata": {},
     "output_type": "execute_result"
    }
   ],
   "source": [
    "mu_hat = np.mean(x)\n",
    "mu_hat"
   ]
  },
  {
   "cell_type": "markdown",
   "id": "ff8957ed-16c8-4504-beb3-01de5ed86c98",
   "metadata": {},
   "source": [
    "### 분산 $\\sigma^2$의 추정량 : 표본분산 ($S^2$)\n",
    "- `np.var(data, ddof = 1)`\n",
    "- `ddof = 1` 옵션은 분모에 $n-1$로 나누는 부분을 위해 필요\n",
    "\n",
    "$S^2 = \\frac{1}{n-1}\\sum_{i=1}^n (X_i - \\bar X)^2$"
   ]
  },
  {
   "cell_type": "code",
   "execution_count": 10,
   "id": "56ba6521-7881-4927-b972-ca96c19aae76",
   "metadata": {},
   "outputs": [
    {
     "data": {
      "text/plain": [
       "4.474131262830899"
      ]
     },
     "execution_count": 10,
     "metadata": {},
     "output_type": "execute_result"
    }
   ],
   "source": [
    "sigma2_hat = np.var(x, ddof = 1)\n",
    "sigma2_hat"
   ]
  },
  {
   "cell_type": "markdown",
   "id": "3fd26fb8-aa2e-465e-ad62-c305a15fdcec",
   "metadata": {},
   "source": [
    "### 표준편차 $\\sigma$의 추정량 : 표본표준편차 ($S$)\n",
    "- `np.std(data, ddof = 1)`"
   ]
  },
  {
   "cell_type": "code",
   "execution_count": 11,
   "id": "485c7f19-a320-4a82-9c44-dc2ad8d9b87f",
   "metadata": {},
   "outputs": [
    {
     "data": {
      "text/plain": [
       "2.11521423568179"
      ]
     },
     "execution_count": 11,
     "metadata": {},
     "output_type": "execute_result"
    }
   ],
   "source": [
    "sigma_hat = np.std(x, ddof = 1)\n",
    "sigma_hat"
   ]
  },
  {
   "cell_type": "code",
   "execution_count": 12,
   "id": "ec05e530-f62c-4883-a3a9-bb9355750e13",
   "metadata": {},
   "outputs": [
    {
     "data": {
      "text/plain": [
       "2.11521423568179"
      ]
     },
     "execution_count": 12,
     "metadata": {},
     "output_type": "execute_result"
    }
   ],
   "source": [
    "np.sqrt(sigma2_hat)"
   ]
  },
  {
   "cell_type": "markdown",
   "id": "837e2d77-cf7e-4943-ba8b-cc1901af4556",
   "metadata": {},
   "source": [
    "## 2. 구간추정"
   ]
  },
  {
   "cell_type": "markdown",
   "id": "fc4c6253-e447-4ea0-be1e-4ac9bf9bc01b",
   "metadata": {},
   "source": [
    "### 모평균 $\\mu$에 대한 95% 신뢰구간\n",
    "$ \\bar X \\pm z_{0.025} \\frac{\\sigma}{\\sqrt{n}} = \\bar X \\pm 1.96\\frac{\\sigma}{\\sqrt{n}} $"
   ]
  },
  {
   "cell_type": "code",
   "execution_count": 14,
   "id": "d9de7e52-3857-4a04-9f22-5f644a856961",
   "metadata": {},
   "outputs": [
    {
     "data": {
      "text/plain": [
       "array([-1.95996398,  1.95996398])"
      ]
     },
     "execution_count": 14,
     "metadata": {},
     "output_type": "execute_result"
    }
   ],
   "source": [
    "from scipy import stats\n",
    "\n",
    "z = stats.norm(0, 1).ppf([0.025, 1-0.025])\n",
    "n = len(x)\n",
    "\n",
    "z"
   ]
  },
  {
   "cell_type": "code",
   "execution_count": 15,
   "id": "afdc6059-e2df-40e9-ac69-42b9fd420947",
   "metadata": {},
   "outputs": [
    {
     "data": {
      "text/plain": [
       "array([2.69930484, 3.52845358])"
      ]
     },
     "execution_count": 15,
     "metadata": {},
     "output_type": "execute_result"
    }
   ],
   "source": [
    "mu_hat + z*sigma_hat/np.sqrt(n)"
   ]
  },
  {
   "cell_type": "markdown",
   "id": "26f91709-1d4d-4186-af1a-12666add1ade",
   "metadata": {},
   "source": [
    "# 검정 (Test)"
   ]
  },
  {
   "cell_type": "markdown",
   "id": "4be370a6-5618-4807-af0f-e5fcbfff2b09",
   "metadata": {},
   "source": [
    "## 1. 일표본 t-검정 (1 sample t-test)\n",
    "전체 학생 중 10명을 뽑아 키를 재고, 전체 학생들의 평균 키가 175cm인지 아닌지 알고 싶다.\n",
    "- 가설\n",
    "    - $H_0$: 학생들의 평균 키는 175cm이다.\n",
    "    - $H_1$: 학생들의 평균 키는 175cm가 아니다.\n",
    "- 사용함수\n",
    "```python\n",
    "stats.ttest_1samp(데이터, 비교할_평균)\n",
    "```"
   ]
  },
  {
   "cell_type": "code",
   "execution_count": 16,
   "id": "0f772d44-baa0-4546-909a-8fc5e419cc6e",
   "metadata": {},
   "outputs": [],
   "source": [
    "# 라이브러리 불러오기\n",
    "from scipy import stats"
   ]
  },
  {
   "cell_type": "code",
   "execution_count": 17,
   "id": "9851222f-0cb8-4322-9e20-f3c8a69cfbeb",
   "metadata": {},
   "outputs": [],
   "source": [
    "# 데이터 생성\n",
    "data = [177.3, 182.7, 169.6, 176.3, 180.3, 179.4, 178.5, 177.2, 181.8, 176.5]"
   ]
  },
  {
   "cell_type": "code",
   "execution_count": 18,
   "id": "db5658f3-0994-4480-b3ec-1a74c6d554fd",
   "metadata": {},
   "outputs": [
    {
     "data": {
      "text/plain": [
       "Ttest_1sampResult(statistic=2.5544677238820483, pvalue=0.030966923171410254)"
      ]
     },
     "execution_count": 18,
     "metadata": {},
     "output_type": "execute_result"
    }
   ],
   "source": [
    "stats.ttest_1samp(data, 175)"
   ]
  },
  {
   "cell_type": "code",
   "execution_count": 19,
   "id": "4b806a33-059c-41ad-a8fd-a5747ee948f3",
   "metadata": {},
   "outputs": [
    {
     "name": "stdout",
     "output_type": "stream",
     "text": [
      "======= t-test 결과 =======\n",
      "t-test의 검정통계량: 2.554\n",
      "t-test의 p-value: 0.031\n"
     ]
    }
   ],
   "source": [
    "# t-test\n",
    "t_stat, p_value = stats.ttest_1samp(data, 175)\n",
    "\n",
    "print(\"======= t-test 결과 =======\")\n",
    "print(\"t-test의 검정통계량: {}\".format(round(t_stat, 3)))\n",
    "print(\"t-test의 p-value: {}\".format(round(p_value, 3)))"
   ]
  },
  {
   "cell_type": "markdown",
   "id": "4d7057fd-1ee8-47bf-bc4b-b5bf3f48dc53",
   "metadata": {},
   "source": [
    "p-value = 0.031 < 0.05이므로 유의수준 0.05하에서 귀무가설을 기각한다.\n",
    "따라서, 학생들의 평균 키는 175cm가 아니다."
   ]
  },
  {
   "cell_type": "markdown",
   "id": "0523d0a5-1c12-4f76-9a29-7bd0e9a8dc34",
   "metadata": {},
   "source": [
    "## 2. 이표본 t-검정 (독립비교 - 공통분산)\n",
    "새로운 포장 디자인이 판매량을 증가시키는지 여부 조사 (정규분포를 따른다고 가정)\n",
    "- 가설\n",
    "    - $H_0$: 기존과 새로운 포장 디자인에 대한 판매량에 차이가 없다.\n",
    "    - $H_1$: 기존과 새로운 포장 디자인에 대한 판매량에 차이가 있다. (새로운 포장 디자인이 판매량을 증가시킨다)\n",
    "- 사용함수\n",
    "```python\n",
    "stats.ttest_ind(데이터_1, 데이터_2, equal_var = True)\n",
    "```"
   ]
  },
  {
   "cell_type": "code",
   "execution_count": 20,
   "id": "446bcc7a-397a-4aa0-bcfe-26cb981f1e15",
   "metadata": {},
   "outputs": [],
   "source": [
    "# 데이터 생성\n",
    "x = [12, 18, 16, 22, 23, 19, 20, 22, 25, 20]\n",
    "y = [15, 17, 19, 16, 13, 19, 18, 16, 12, 18]"
   ]
  },
  {
   "cell_type": "code",
   "execution_count": 21,
   "id": "a4553f85-56b1-40b0-98e9-35da96e692c8",
   "metadata": {},
   "outputs": [
    {
     "name": "stdout",
     "output_type": "stream",
     "text": [
      "======= t-test 결과 =======\n",
      "t-test의 검정통계량: 2.416\n",
      "t-test의 p-value: 0.027\n"
     ]
    }
   ],
   "source": [
    "# t-test (양측검정)\n",
    "t_stat, p_value = stats.ttest_ind(x, y, \n",
    "                                  equal_var = True)\n",
    "\n",
    "print(\"======= t-test 결과 =======\")\n",
    "print(\"t-test의 검정통계량: {}\".format(round(t_stat, 3)))\n",
    "print(\"t-test의 p-value: {}\".format(round(p_value, 3)))"
   ]
  },
  {
   "cell_type": "markdown",
   "id": "40d80cd8-a372-4d31-8048-eedb2b61c520",
   "metadata": {},
   "source": [
    "#### `stats.ttest_ind()` 함수의 기본 옵션은 양측검정이며, p-value 또한 양측검정인 경우를 보여줌\n",
    "#### 단측검정을 할 경우에는, p-value 결과를 2로 나눈 값을 사용하거나 다음의 옵션을 추가하여 사용하면 됨"
   ]
  },
  {
   "cell_type": "code",
   "execution_count": 22,
   "id": "756769be-876f-400d-8897-68dadfa530c5",
   "metadata": {},
   "outputs": [
    {
     "name": "stdout",
     "output_type": "stream",
     "text": [
      "======= t-test 결과 =======\n",
      "t-test의 검정통계량: 2.416\n",
      "t-test의 p-value: 0.013\n"
     ]
    }
   ],
   "source": [
    "# t-test (단측검정))\n",
    "t_stat, p_value = stats.ttest_ind(x, y, \n",
    "                                  equal_var = True, \n",
    "                                  alternative = \"greater\")\n",
    "\n",
    "print(\"======= t-test 결과 =======\")\n",
    "print(\"t-test의 검정통계량: {}\".format(round(t_stat, 3)))\n",
    "print(\"t-test의 p-value: {}\".format(round(p_value, 3)))"
   ]
  },
  {
   "cell_type": "markdown",
   "id": "e3996107-e1a2-4dfe-af65-9c19c0ce56ca",
   "metadata": {},
   "source": [
    "p-value = 0.013 < 0.05이므로 유의수준 0.05하에서 귀무가설을 기각한다.\n",
    "따라서, 새로운 포장 디자인이 판매량을 증가시킨다."
   ]
  },
  {
   "cell_type": "markdown",
   "id": "1376c9d8-c076-4077-b729-6af80ce3e945",
   "metadata": {},
   "source": [
    "### 검정통계량 직접 계산\n",
    "$ T = \\frac{\\bar{X}_1 - \\bar{X}_2}{s_p \\sqrt{\\frac{1}{n_1} + \\frac{1}{n_2}}} $"
   ]
  },
  {
   "cell_type": "code",
   "execution_count": 23,
   "id": "7a5ffd8e-2919-40ca-be3f-357c3cde8292",
   "metadata": {},
   "outputs": [
    {
     "data": {
      "text/plain": [
       "(10, 10)"
      ]
     },
     "execution_count": 23,
     "metadata": {},
     "output_type": "execute_result"
    }
   ],
   "source": [
    "# 표본 크기\n",
    "n_1 = len(x)\n",
    "n_2 = len(y)\n",
    "n_1, n_2"
   ]
  },
  {
   "cell_type": "code",
   "execution_count": 24,
   "id": "6ccf72c6-c904-457c-a8e4-80fc8d25387e",
   "metadata": {},
   "outputs": [
    {
     "data": {
      "text/plain": [
       "(19.7, 16.3)"
      ]
     },
     "execution_count": 24,
     "metadata": {},
     "output_type": "execute_result"
    }
   ],
   "source": [
    "# 평균 계산\n",
    "xbar_1 = np.mean(x)\n",
    "xbar_2 = np.mean(y)\n",
    "xbar_1, xbar_2"
   ]
  },
  {
   "cell_type": "code",
   "execution_count": 26,
   "id": "8d5ebd52-7cd5-40d8-a424-f720f49a29f5",
   "metadata": {},
   "outputs": [
    {
     "data": {
      "text/plain": [
       "(14.011111111111113, 5.788888888888889)"
      ]
     },
     "execution_count": 26,
     "metadata": {},
     "output_type": "execute_result"
    }
   ],
   "source": [
    "# 표본분산 계산 - ddof는 표본분산에서 분모가 n-1 꼴이기 떄문에 필요\n",
    "s2_1 = np.var(x, ddof = 1)\n",
    "s2_2 = np.var(y, ddof = 1)\n",
    "s2_1, s2_2"
   ]
  },
  {
   "cell_type": "code",
   "execution_count": 27,
   "id": "b8c06691-07a4-4667-94ef-3cf6681ddfb7",
   "metadata": {},
   "outputs": [
    {
     "data": {
      "text/plain": [
       "9.9"
      ]
     },
     "execution_count": 27,
     "metadata": {},
     "output_type": "execute_result"
    }
   ],
   "source": [
    "# 합동표본분산 (pooleld sample variance)\n",
    "s_p2 = ((n_1-1)*s2_1 + (n_2-1)*s2_2) / (n_1+n_2-2)\n",
    "s_p2"
   ]
  },
  {
   "cell_type": "code",
   "execution_count": 28,
   "id": "fcf55161-097d-4e28-90ad-78e82ec4c11a",
   "metadata": {},
   "outputs": [
    {
     "data": {
      "text/plain": [
       "2.416274785363584"
      ]
     },
     "execution_count": 28,
     "metadata": {},
     "output_type": "execute_result"
    }
   ],
   "source": [
    "# 검정통계량 계산\n",
    "t = (xbar_1 - xbar_2) / (np.sqrt(s_p2)*np.sqrt(1/n_1 + 1/n_2))\n",
    "t"
   ]
  },
  {
   "cell_type": "code",
   "execution_count": 29,
   "id": "35360387-9ed2-4ae2-981e-fb50fdfbe035",
   "metadata": {},
   "outputs": [
    {
     "data": {
      "text/plain": [
       "1.7340636066175354"
      ]
     },
     "execution_count": 29,
     "metadata": {},
     "output_type": "execute_result"
    }
   ],
   "source": [
    "# 기각치\n",
    "stats.t.ppf(1-0.05, n_1+n_2-2)"
   ]
  },
  {
   "cell_type": "markdown",
   "id": "57f9a265-db6f-4cc4-9cc7-e6cc456ff68e",
   "metadata": {},
   "source": [
    "검정통계량 = 3.127 > 1.734 = 기각역\n",
    "=> 귀무가설 $H_0$를 기각"
   ]
  },
  {
   "cell_type": "markdown",
   "id": "ba8ddd88-5a7c-4abb-bc3a-9f8c1d6db6a5",
   "metadata": {},
   "source": [
    "## 3. 이표본 t-검정 (두 모집단의 분산이 다를 때) \n",
    "- Satterwaite의 근사식 이용\n",
    "\n",
    "신입사원(x)보다 경력사원(y)의 판매실적이 높다고 할 수 있는가?\n",
    "- 가설\n",
    "    - $H_0$: 신입사원(x)과 경력사원(y)간 판매실적에 차이가 없다.\n",
    "    - $H_1$: 신입사원(x)보다 경력사원(y)의 판매실적이 높다.\n",
    "- 사용함수\n",
    "```python\n",
    "stats.ttest_ind(데이터_1, 데이터_2, equal_var = False)\n",
    "```"
   ]
  },
  {
   "cell_type": "code",
   "execution_count": 30,
   "id": "9a1a1052-a452-4ceb-acbc-f1e032386461",
   "metadata": {},
   "outputs": [],
   "source": [
    "# 데이터 생성\n",
    "x = [12, 23, 18, 36, 20, 17]\n",
    "y = [15, 58, 36, 84, 24, 17]"
   ]
  },
  {
   "cell_type": "code",
   "execution_count": 31,
   "id": "121dbef2-3ac0-47fb-b59d-1389e5d06e12",
   "metadata": {},
   "outputs": [
    {
     "name": "stdout",
     "output_type": "stream",
     "text": [
      "======= t-test 결과 =======\n",
      "t-test의 검정통계량: -1.556\n",
      "t-test의 p-value: 0.086\n"
     ]
    }
   ],
   "source": [
    "# t-test\n",
    "t_stat, p_value = stats.ttest_ind(x, y,\n",
    "                                  equal_var = False,  \n",
    "                                  alternative = \"less\")\n",
    "\n",
    "print(\"======= t-test 결과 =======\")\n",
    "print(\"t-test의 검정통계량: {}\".format(round(t_stat, 3)))\n",
    "print(\"t-test의 p-value: {}\".format(round(p_value, 3)))"
   ]
  },
  {
   "cell_type": "markdown",
   "id": "e4e0c61b-e20e-4777-902e-0a84c7d8a66b",
   "metadata": {},
   "source": [
    "p-value = 0.086 > 0.05이므로 유의수준 0.05하에서 귀무가설을 기각할 수 없다. \n",
    "따라서, 경력사원이 신입사원보다 판매실적이 높다고 할 수 없다."
   ]
  },
  {
   "cell_type": "markdown",
   "id": "b689f9f8-8065-48bd-96b8-93486f2ef31d",
   "metadata": {},
   "source": [
    "## 참고) 가정을 고려하지 않았을 때"
   ]
  },
  {
   "cell_type": "code",
   "execution_count": 32,
   "id": "bced31e1-6fcc-4214-99d1-c23e5023b7ee",
   "metadata": {},
   "outputs": [],
   "source": [
    "# 데이터 생성\n",
    "import numpy as np\n",
    "\n",
    "np.random.seed(1000)\n",
    "x = 1200 + np.random.normal(0, 300, 5)\n",
    "y = 1400 + np.random.normal(0, 100, 10)"
   ]
  },
  {
   "cell_type": "markdown",
   "id": "f43eddb4-3cb1-4e62-924c-7bcbff9e4bfc",
   "metadata": {},
   "source": [
    "### 등분산 검정"
   ]
  },
  {
   "cell_type": "code",
   "execution_count": 33,
   "id": "4ea95414-c9df-4273-8b6d-093290bf6ba0",
   "metadata": {},
   "outputs": [
    {
     "data": {
      "text/plain": [
       "BartlettResult(statistic=5.826944787892073, pvalue=0.015782510057797232)"
      ]
     },
     "execution_count": 33,
     "metadata": {},
     "output_type": "execute_result"
    }
   ],
   "source": [
    "# 등분산성 검정 (정규성 가정 만족할 떼)\n",
    "stats.bartlett(x, y)"
   ]
  },
  {
   "cell_type": "code",
   "execution_count": 34,
   "id": "fedeaab2-808d-4473-8e20-e59566dd65e6",
   "metadata": {},
   "outputs": [
    {
     "data": {
      "text/plain": [
       "LeveneResult(statistic=5.474640653481308, pvalue=0.03590224842873345)"
      ]
     },
     "execution_count": 34,
     "metadata": {},
     "output_type": "execute_result"
    }
   ],
   "source": [
    "# 또는 (정규성과 상관없이)\n",
    "stats.levene(x, y)"
   ]
  },
  {
   "cell_type": "markdown",
   "id": "50515408-fce7-475e-9fbb-4e353cbc2466",
   "metadata": {},
   "source": [
    "등분산 검정에서 p-value가 0.05보다 작기 때문에, 귀무가설(두 집단의 분산은 같다)을 기각한다.\n",
    "따라서 두 집단의 분산은 다르다고 할 수 있다."
   ]
  },
  {
   "cell_type": "code",
   "execution_count": 35,
   "id": "7e348bdc-5a0c-44ad-9b9c-a60adf41d7b7",
   "metadata": {},
   "outputs": [
    {
     "name": "stdout",
     "output_type": "stream",
     "text": [
      "======= t-test 결과 =======\n",
      "t-test의 검정통계량: -2.454\n",
      "t-test의 p-value: 0.063\n"
     ]
    }
   ],
   "source": [
    "# t-test (등분산 가정 X)\n",
    "t_stat, p_value = stats.ttest_ind(x, y, equal_var = False)\n",
    "\n",
    "print(\"======= t-test 결과 =======\")\n",
    "print(\"t-test의 검정통계량: {}\".format(round(t_stat, 3)))\n",
    "print(\"t-test의 p-value: {}\".format(round(p_value, 3)))"
   ]
  },
  {
   "cell_type": "code",
   "execution_count": 36,
   "id": "54286ccf-a9d3-4689-b4a4-98da61d51375",
   "metadata": {},
   "outputs": [
    {
     "name": "stdout",
     "output_type": "stream",
     "text": [
      "======= t-test 결과 =======\n",
      "t-test의 검정통계량: -3.279\n",
      "t-test의 p-value: 0.006\n"
     ]
    }
   ],
   "source": [
    "# t-test (등분산 가정 O) => 잘못된 방법\n",
    "t_stat, p_value = stats.ttest_ind(x, y, equal_var = True)\n",
    "\n",
    "print(\"======= t-test 결과 =======\")\n",
    "print(\"t-test의 검정통계량: {}\".format(round(t_stat, 3)))\n",
    "print(\"t-test의 p-value: {}\".format(round(p_value, 3)))"
   ]
  },
  {
   "cell_type": "markdown",
   "id": "fb8a6a78-48b7-4851-8de6-28db48d221d0",
   "metadata": {},
   "source": [
    "등분산을 가정하지 않았을 때에는 p-value = 0.063으로 유의수준 0.05 하에서 귀무가설을 기각하지 못한다.\n",
    "\n",
    "반면, 등분산을 가정했을 때에는 p-value = 0.006으로 유의수준 0.05 하에서 귀무가설을 기각한다.\n",
    "\n",
    "등분산 가정 여부에 따라 결과가 달라지는 것을 알 수 있다."
   ]
  },
  {
   "cell_type": "markdown",
   "id": "a30b2b38-24f3-4e8d-89b1-e1323dac8225",
   "metadata": {},
   "source": [
    "## 4. 대응표본 t-검정 (paired t-test)\n",
    "다이어트 약의 복용 전/후의 체중에 차이가 있는지 알고 싶다.\n",
    "- 가설\n",
    "    - $H_0$: 복용 전후의 체중 차이가 없다.\n",
    "    - $H_1$: 복용 전후의 체중 차이가 있다.\n",
    "- 사용함수\n",
    "```python\n",
    "stats.ttest_rel(데이터_1, 데이터_2)\n",
    "```"
   ]
  },
  {
   "cell_type": "code",
   "execution_count": 37,
   "id": "6bd019a4-4cf2-4a61-b2dc-ebbf5a4486db",
   "metadata": {},
   "outputs": [],
   "source": [
    "before = [67.2, 67.4, 71.5, 77.6, 86.0, 89.1, 59.5, 81.9, 105.5]\n",
    "after = [62.4, 64.6, 70.4, 62.6, 80.1, 73.2, 58.2, 71.0, 101.0]"
   ]
  },
  {
   "cell_type": "code",
   "execution_count": 38,
   "id": "4f1eb220-ef6c-4e09-96fc-0819b87a4e45",
   "metadata": {},
   "outputs": [
    {
     "name": "stdout",
     "output_type": "stream",
     "text": [
      "======= t-test 결과 =======\n",
      "t-test의 검정통계량: 3.668\n",
      "t-test의 p-value: 0.006\n"
     ]
    }
   ],
   "source": [
    "# t-test\n",
    "t_stat, p_value = stats.ttest_rel(before, after)\n",
    "\n",
    "print(\"======= t-test 결과 =======\")\n",
    "print(\"t-test의 검정통계량: {}\".format(round(t_stat, 3)))\n",
    "print(\"t-test의 p-value: {}\".format(round(p_value, 3)))"
   ]
  },
  {
   "cell_type": "markdown",
   "id": "3f288ba8-931e-4f7b-8d2c-3a0e191768fa",
   "metadata": {},
   "source": [
    "# 실제 데이터 적용\n",
    "### 한 식당의 점심과 저녁의 매출에 차이가 있는지 알고 싶다."
   ]
  },
  {
   "cell_type": "markdown",
   "id": "b7d87134-35d1-4caf-88d1-2657486350fd",
   "metadata": {},
   "source": [
    "## 1. 데이터 불러오기"
   ]
  },
  {
   "cell_type": "code",
   "execution_count": 39,
   "id": "78ce65f3-f34d-450a-9b4d-543561104836",
   "metadata": {},
   "outputs": [
    {
     "data": {
      "text/html": [
       "<div>\n",
       "<style scoped>\n",
       "    .dataframe tbody tr th:only-of-type {\n",
       "        vertical-align: middle;\n",
       "    }\n",
       "\n",
       "    .dataframe tbody tr th {\n",
       "        vertical-align: top;\n",
       "    }\n",
       "\n",
       "    .dataframe thead th {\n",
       "        text-align: right;\n",
       "    }\n",
       "</style>\n",
       "<table border=\"1\" class=\"dataframe\">\n",
       "  <thead>\n",
       "    <tr style=\"text-align: right;\">\n",
       "      <th></th>\n",
       "      <th>total_bill</th>\n",
       "      <th>tip</th>\n",
       "      <th>sex</th>\n",
       "      <th>smoker</th>\n",
       "      <th>day</th>\n",
       "      <th>time</th>\n",
       "      <th>size</th>\n",
       "    </tr>\n",
       "  </thead>\n",
       "  <tbody>\n",
       "    <tr>\n",
       "      <th>0</th>\n",
       "      <td>16.99</td>\n",
       "      <td>1.01</td>\n",
       "      <td>Female</td>\n",
       "      <td>No</td>\n",
       "      <td>Sun</td>\n",
       "      <td>Dinner</td>\n",
       "      <td>2</td>\n",
       "    </tr>\n",
       "    <tr>\n",
       "      <th>1</th>\n",
       "      <td>10.34</td>\n",
       "      <td>1.66</td>\n",
       "      <td>Male</td>\n",
       "      <td>No</td>\n",
       "      <td>Sun</td>\n",
       "      <td>Dinner</td>\n",
       "      <td>3</td>\n",
       "    </tr>\n",
       "    <tr>\n",
       "      <th>2</th>\n",
       "      <td>21.01</td>\n",
       "      <td>3.50</td>\n",
       "      <td>Male</td>\n",
       "      <td>No</td>\n",
       "      <td>Sun</td>\n",
       "      <td>Dinner</td>\n",
       "      <td>3</td>\n",
       "    </tr>\n",
       "    <tr>\n",
       "      <th>3</th>\n",
       "      <td>23.68</td>\n",
       "      <td>3.31</td>\n",
       "      <td>Male</td>\n",
       "      <td>No</td>\n",
       "      <td>Sun</td>\n",
       "      <td>Dinner</td>\n",
       "      <td>2</td>\n",
       "    </tr>\n",
       "    <tr>\n",
       "      <th>4</th>\n",
       "      <td>24.59</td>\n",
       "      <td>3.61</td>\n",
       "      <td>Female</td>\n",
       "      <td>No</td>\n",
       "      <td>Sun</td>\n",
       "      <td>Dinner</td>\n",
       "      <td>4</td>\n",
       "    </tr>\n",
       "    <tr>\n",
       "      <th>...</th>\n",
       "      <td>...</td>\n",
       "      <td>...</td>\n",
       "      <td>...</td>\n",
       "      <td>...</td>\n",
       "      <td>...</td>\n",
       "      <td>...</td>\n",
       "      <td>...</td>\n",
       "    </tr>\n",
       "    <tr>\n",
       "      <th>239</th>\n",
       "      <td>29.03</td>\n",
       "      <td>5.92</td>\n",
       "      <td>Male</td>\n",
       "      <td>No</td>\n",
       "      <td>Sat</td>\n",
       "      <td>Dinner</td>\n",
       "      <td>3</td>\n",
       "    </tr>\n",
       "    <tr>\n",
       "      <th>240</th>\n",
       "      <td>27.18</td>\n",
       "      <td>2.00</td>\n",
       "      <td>Female</td>\n",
       "      <td>Yes</td>\n",
       "      <td>Sat</td>\n",
       "      <td>Dinner</td>\n",
       "      <td>2</td>\n",
       "    </tr>\n",
       "    <tr>\n",
       "      <th>241</th>\n",
       "      <td>22.67</td>\n",
       "      <td>2.00</td>\n",
       "      <td>Male</td>\n",
       "      <td>Yes</td>\n",
       "      <td>Sat</td>\n",
       "      <td>Dinner</td>\n",
       "      <td>2</td>\n",
       "    </tr>\n",
       "    <tr>\n",
       "      <th>242</th>\n",
       "      <td>17.82</td>\n",
       "      <td>1.75</td>\n",
       "      <td>Male</td>\n",
       "      <td>No</td>\n",
       "      <td>Sat</td>\n",
       "      <td>Dinner</td>\n",
       "      <td>2</td>\n",
       "    </tr>\n",
       "    <tr>\n",
       "      <th>243</th>\n",
       "      <td>18.78</td>\n",
       "      <td>3.00</td>\n",
       "      <td>Female</td>\n",
       "      <td>No</td>\n",
       "      <td>Thur</td>\n",
       "      <td>Dinner</td>\n",
       "      <td>2</td>\n",
       "    </tr>\n",
       "  </tbody>\n",
       "</table>\n",
       "<p>244 rows × 7 columns</p>\n",
       "</div>"
      ],
      "text/plain": [
       "     total_bill   tip     sex smoker   day    time  size\n",
       "0         16.99  1.01  Female     No   Sun  Dinner     2\n",
       "1         10.34  1.66    Male     No   Sun  Dinner     3\n",
       "2         21.01  3.50    Male     No   Sun  Dinner     3\n",
       "3         23.68  3.31    Male     No   Sun  Dinner     2\n",
       "4         24.59  3.61  Female     No   Sun  Dinner     4\n",
       "..          ...   ...     ...    ...   ...     ...   ...\n",
       "239       29.03  5.92    Male     No   Sat  Dinner     3\n",
       "240       27.18  2.00  Female    Yes   Sat  Dinner     2\n",
       "241       22.67  2.00    Male    Yes   Sat  Dinner     2\n",
       "242       17.82  1.75    Male     No   Sat  Dinner     2\n",
       "243       18.78  3.00  Female     No  Thur  Dinner     2\n",
       "\n",
       "[244 rows x 7 columns]"
      ]
     },
     "execution_count": 39,
     "metadata": {},
     "output_type": "execute_result"
    }
   ],
   "source": [
    "import seaborn as sns\n",
    "tips = sns.load_dataset(\"tips\")\n",
    "tips"
   ]
  },
  {
   "cell_type": "code",
   "execution_count": 40,
   "id": "cc3588a6-e6d2-41ef-b031-02abfee9edf3",
   "metadata": {},
   "outputs": [
    {
     "data": {
      "text/plain": [
       "['Dinner', 'Lunch']\n",
       "Categories (2, object): ['Dinner', 'Lunch']"
      ]
     },
     "execution_count": 40,
     "metadata": {},
     "output_type": "execute_result"
    }
   ],
   "source": [
    "tips.time.unique()"
   ]
  },
  {
   "cell_type": "code",
   "execution_count": 41,
   "id": "ae07b965-18d9-462e-a996-28a5ce411bb2",
   "metadata": {},
   "outputs": [
    {
     "data": {
      "text/plain": [
       "(176, 68)"
      ]
     },
     "execution_count": 41,
     "metadata": {},
     "output_type": "execute_result"
    }
   ],
   "source": [
    "# 점심과 저녁 데이터로 분리\n",
    "dinner = tips.total_bill[tips.time == \"Dinner\"]\n",
    "lunch = tips.total_bill[tips.time == \"Lunch\"]\n",
    "len(dinner), len(lunch)"
   ]
  },
  {
   "cell_type": "markdown",
   "id": "b09b1d22-d4af-40dd-b5d9-2a5c09229d44",
   "metadata": {},
   "source": [
    "## 2. 등분산 가정 검정"
   ]
  },
  {
   "cell_type": "code",
   "execution_count": 42,
   "id": "caf8ffc7-030c-4674-b4f4-c01e81899946",
   "metadata": {},
   "outputs": [
    {
     "data": {
      "text/plain": [
       "LeveneResult(statistic=2.6906995489829337, pvalue=0.1022346107726258)"
      ]
     },
     "execution_count": 42,
     "metadata": {},
     "output_type": "execute_result"
    }
   ],
   "source": [
    "stats.levene(dinner, lunch)"
   ]
  },
  {
   "cell_type": "markdown",
   "id": "94108067-2e1b-4344-86cb-a2f2d9c572fa",
   "metadata": {},
   "source": [
    "p-value = 0.102로 유의수준 0.05하에서 두 분산은 같다고 할 수 있다."
   ]
  },
  {
   "cell_type": "markdown",
   "id": "4ad88a9b-a9ea-4bdb-8a53-f8ec2f173322",
   "metadata": {},
   "source": [
    "## 3. 등분산 가정을 고려하여 t-test"
   ]
  },
  {
   "cell_type": "code",
   "execution_count": 43,
   "id": "ed22af8f-241c-4aec-a13f-10b4bc150c35",
   "metadata": {},
   "outputs": [
    {
     "name": "stdout",
     "output_type": "stream",
     "text": [
      "======= t-test 결과 =======\n",
      "t-test의 검정통계량: 2.898\n",
      "t-test의 p-value: 0.004\n"
     ]
    }
   ],
   "source": [
    "# t-test (등분산 가정 O)\n",
    "t_stat, p_value = stats.ttest_ind(dinner, lunch, equal_var = True)\n",
    "\n",
    "print(\"======= t-test 결과 =======\")\n",
    "print(\"t-test의 검정통계량: {}\".format(round(t_stat, 3)))\n",
    "print(\"t-test의 p-value: {}\".format(round(p_value, 3)))"
   ]
  },
  {
   "cell_type": "markdown",
   "id": "f4976720-88d1-441e-be0a-bbab821e6732",
   "metadata": {},
   "source": [
    "p-value = 0.004 < 0.05 이므로 유의수준 0.05 하에서 귀무가설을 기각한다.\n",
    "따라서 점심과 저녁의 매출 사이에 차이가 있다."
   ]
  },
  {
   "cell_type": "code",
   "execution_count": null,
   "id": "38fd4804-6e77-48b4-9d82-520a10031cc3",
   "metadata": {},
   "outputs": [],
   "source": []
  }
 ],
 "metadata": {
  "kernelspec": {
   "display_name": "Python 3",
   "language": "python",
   "name": "python3"
  },
  "language_info": {
   "codemirror_mode": {
    "name": "ipython",
    "version": 3
   },
   "file_extension": ".py",
   "mimetype": "text/x-python",
   "name": "python",
   "nbconvert_exporter": "python",
   "pygments_lexer": "ipython3",
   "version": "3.8.8"
  }
 },
 "nbformat": 4,
 "nbformat_minor": 5
}
