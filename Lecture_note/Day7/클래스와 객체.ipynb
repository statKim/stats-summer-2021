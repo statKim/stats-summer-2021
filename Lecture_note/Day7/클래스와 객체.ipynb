{
 "cells": [
  {
   "cell_type": "markdown",
   "id": "495f097f-f57b-41db-ac62-3b3269c44882",
   "metadata": {},
   "source": [
    "# 클래스(Class)와 객체(Object)\n",
    "\n",
    "![](https://wikidocs.net/images/page/28/class_cookie.png)\n",
    "\n",
    "### 위의 그림에서 과자 틀이 \"클래스(class)\", 틀로 만들어진 과자가 \"객체(object)\"\n",
    "\n",
    "## 클래스가 왜 필요할까?\n",
    "- 예를 들어 크롤링을 해주는 크롤러 프로그램을 파이썬으로 만들었는데, 이 크롤러를 한 프로그램에서 2번 사용해야하는 경우가 있다고 하자.\n",
    "- 클래스는 반드시 필요한 것은 아니지만, 편리성과 가독성을 높여줌\n",
    "- 지금까지 사용해왔던 numpy, pandas 등이 모두 여러 클래스를 포함하고 있는 모듈임\n",
    "- 당장 여러분이 클래스를 새로 만들어서 사용할 경우는 많지 않겠지만, python의 많은 모듈들이 클래스로 구성되어 있어 개념을 알고 있으면 사용할 때 이해가 쉬움"
   ]
  },
  {
   "cell_type": "markdown",
   "id": "ec7b3918-6193-4a2d-a078-01c6ae3f1a7d",
   "metadata": {},
   "source": [
    "## 1. 클래스 선언"
   ]
  },
  {
   "cell_type": "code",
   "execution_count": 1,
   "id": "af87fdd6-5df1-4b58-ac56-8787237b716a",
   "metadata": {},
   "outputs": [],
   "source": [
    "# 아무 기능도 없는 가장 기본적인 클래스\n",
    "class MyClass:\n",
    "    pass"
   ]
  },
  {
   "cell_type": "code",
   "execution_count": 2,
   "id": "d49a1529-6c6e-4be8-9717-be114297f78f",
   "metadata": {},
   "outputs": [
    {
     "data": {
      "text/plain": [
       "<__main__.MyClass at 0x7fc5d03844f0>"
      ]
     },
     "execution_count": 2,
     "metadata": {},
     "output_type": "execute_result"
    }
   ],
   "source": [
    "# 클래스를 사용하여 객체 생성\n",
    "a = MyClass()\n",
    "b = MyClass()\n",
    "a"
   ]
  },
  {
   "cell_type": "code",
   "execution_count": 3,
   "id": "a2aad344-79fa-4e78-a3e4-fb121027ddc5",
   "metadata": {},
   "outputs": [
    {
     "data": {
      "text/plain": [
       "__main__.MyClass"
      ]
     },
     "execution_count": 3,
     "metadata": {},
     "output_type": "execute_result"
    }
   ],
   "source": [
    "# 객체의 타입 확인\n",
    "type(a)"
   ]
  },
  {
   "cell_type": "markdown",
   "id": "279f9bf9-1713-4068-813d-e15105b02df0",
   "metadata": {},
   "source": [
    "## 2. 객체변수 추가\n",
    "- 클래스 안에 `setdata`라는 메소드를 생성 (클래스 안에서 구현된 함수를 \"메소드(method)\"라고 부름) \n",
    "- 객체변수는 `self.변수명`의 형태로 주게 됨"
   ]
  },
  {
   "cell_type": "code",
   "execution_count": 4,
   "id": "4ad492a5-3664-4097-bbe8-c59db1240c1d",
   "metadata": {},
   "outputs": [],
   "source": [
    "class MyClass:\n",
    "    def setdata(self, first, second):\n",
    "        self.first = first\n",
    "        self.second = second"
   ]
  },
  {
   "cell_type": "code",
   "execution_count": 5,
   "id": "3f3a1d49-0175-4dc8-abb8-7df349f568de",
   "metadata": {},
   "outputs": [],
   "source": [
    "# MyClass 클래스로 객체 생성\n",
    "a = MyClass()"
   ]
  },
  {
   "cell_type": "code",
   "execution_count": 6,
   "id": "8187388b-7380-45d7-95ad-535233d32725",
   "metadata": {},
   "outputs": [
    {
     "data": {
      "text/plain": [
       "__main__.MyClass"
      ]
     },
     "execution_count": 6,
     "metadata": {},
     "output_type": "execute_result"
    }
   ],
   "source": [
    "type(a)"
   ]
  },
  {
   "cell_type": "code",
   "execution_count": 7,
   "id": "66b72b48-6966-43ee-ab2e-2f01fbcc3eb1",
   "metadata": {},
   "outputs": [],
   "source": [
    "# 객체의 메소드 실행\n",
    "a.setdata(4, 2)"
   ]
  },
  {
   "cell_type": "code",
   "execution_count": 8,
   "id": "b1246034-d7d9-4b42-8b3a-304f45b8344f",
   "metadata": {},
   "outputs": [
    {
     "data": {
      "text/plain": [
       "(4, 2)"
      ]
     },
     "execution_count": 8,
     "metadata": {},
     "output_type": "execute_result"
    }
   ],
   "source": [
    "a.first, a.second"
   ]
  },
  {
   "cell_type": "markdown",
   "id": "1a724e41-ace0-427e-8150-723bdddb5101",
   "metadata": {},
   "source": [
    "### `self`가 필요한 이유\n",
    "- 다음과 같이 `self`에는 객체가 전달되는 자리임\n",
    "- 따라서 클래스 내 메소드의 첫 번째 인자는 보통 `self`가 들어가게됨\n",
    "\n",
    "![](https://wikidocs.net/images/page/12392/setdata.png)"
   ]
  },
  {
   "cell_type": "markdown",
   "id": "2c2ac39c-c765-4970-a5ac-c8519447d693",
   "metadata": {},
   "source": [
    "#### 앞에서 많이 본 형태임!!\n",
    "- 객체변수의 경우는 `req.content`와 같이 크롤링을 할 때에도 사용했었음!!\n",
    "- 메소드의 경우는 `a.sum(), a.mean()` 와 같이 numpy나 pandas에서 자주 사용했었음!!\n",
    "- 즉, ndarray, DataFrame 등은 모두 클래스로 만들어진 객체임!!"
   ]
  },
  {
   "cell_type": "code",
   "execution_count": 9,
   "id": "4941eca7-91fb-4b27-825b-0113b29de0cd",
   "metadata": {},
   "outputs": [
    {
     "ename": "AttributeError",
     "evalue": "'MyClass' object has no attribute 'first'",
     "output_type": "error",
     "traceback": [
      "\u001b[0;31m---------------------------------------------------------------------------\u001b[0m",
      "\u001b[0;31mAttributeError\u001b[0m                            Traceback (most recent call last)",
      "\u001b[0;32m<ipython-input-9-e132c7f04368>\u001b[0m in \u001b[0;36m<module>\u001b[0;34m\u001b[0m\n\u001b[1;32m      1\u001b[0m \u001b[0;31m# 객체에 정의되지 않은 멤버변수를 호촐해서 에러 발생\u001b[0m\u001b[0;34m\u001b[0m\u001b[0;34m\u001b[0m\u001b[0;34m\u001b[0m\u001b[0m\n\u001b[1;32m      2\u001b[0m \u001b[0mb\u001b[0m \u001b[0;34m=\u001b[0m \u001b[0mMyClass\u001b[0m\u001b[0;34m(\u001b[0m\u001b[0;34m)\u001b[0m\u001b[0;34m\u001b[0m\u001b[0;34m\u001b[0m\u001b[0m\n\u001b[0;32m----> 3\u001b[0;31m \u001b[0mb\u001b[0m\u001b[0;34m.\u001b[0m\u001b[0mfirst\u001b[0m\u001b[0;34m\u001b[0m\u001b[0;34m\u001b[0m\u001b[0m\n\u001b[0m",
      "\u001b[0;31mAttributeError\u001b[0m: 'MyClass' object has no attribute 'first'"
     ]
    }
   ],
   "source": [
    "# 객체에 정의되지 않은 멤버변수를 호촐해서 에러 발생\n",
    "b = MyClass()\n",
    "b.first"
   ]
  },
  {
   "cell_type": "markdown",
   "id": "24baf37f-4f99-4ccd-b5f4-5dd638f257f0",
   "metadata": {},
   "source": [
    "## 3. 생성자 (Constructor)\n",
    "- 객체를 생성할 때 자동으로 호출되는 메소드\n",
    "- 객체를 생성하면서 동시에 초기값을 부여하고 싶을 때 사용\n",
    "- 클래스 안에 `__init__(self)`라는 메소드를 생성\n",
    "    - 클래스 자체적으로 초기값을 부여할 때\n",
    "    ```python\n",
    "    def __init__(self):\n",
    "        self.변수 = 초기값\n",
    "    ```\n",
    "    - 초기값을 입력받아 부여할 떄\n",
    "    ```python\n",
    "    def __init__(self, 변수):\n",
    "        self.변수 = 변수\n",
    "    ```"
   ]
  },
  {
   "cell_type": "code",
   "execution_count": 10,
   "id": "48756c96-a081-41bc-a81f-82825676bc4b",
   "metadata": {},
   "outputs": [],
   "source": [
    "# 클래스 자체적으로 초기값을 부여\n",
    "class MyClass:\n",
    "    def __init__(self):\n",
    "        self.var_1 = 100\n",
    "        self.var_2 = 200"
   ]
  },
  {
   "cell_type": "code",
   "execution_count": 11,
   "id": "273f66c9-8a08-4f1b-b3f5-cbad8d1c392f",
   "metadata": {},
   "outputs": [],
   "source": [
    "# 클래스로 객체 생성\n",
    "a = MyClass()"
   ]
  },
  {
   "cell_type": "code",
   "execution_count": 12,
   "id": "0fdf7b35-5e73-4054-a324-eb39285230f6",
   "metadata": {},
   "outputs": [
    {
     "data": {
      "text/plain": [
       "(100, 200)"
      ]
     },
     "execution_count": 12,
     "metadata": {},
     "output_type": "execute_result"
    }
   ],
   "source": [
    "# 객체변수에 접근\n",
    "a.var_1, a.var_2"
   ]
  },
  {
   "cell_type": "code",
   "execution_count": 13,
   "id": "1bf7948e-f182-437f-b702-6aab1d0d66aa",
   "metadata": {},
   "outputs": [],
   "source": [
    "# 초기값을 입력받는 클래스\n",
    "class MyClass:\n",
    "    def __init__(self, var_1, var_2):\n",
    "        self.var_1 = var_1\n",
    "        self.var_2 = var_2"
   ]
  },
  {
   "cell_type": "code",
   "execution_count": 14,
   "id": "2d9ea3d4-3125-4405-907c-f623377407fb",
   "metadata": {},
   "outputs": [
    {
     "ename": "TypeError",
     "evalue": "__init__() missing 2 required positional arguments: 'var_1' and 'var_2'",
     "output_type": "error",
     "traceback": [
      "\u001b[0;31m---------------------------------------------------------------------------\u001b[0m",
      "\u001b[0;31mTypeError\u001b[0m                                 Traceback (most recent call last)",
      "\u001b[0;32m<ipython-input-14-3d678bdc65c9>\u001b[0m in \u001b[0;36m<module>\u001b[0;34m\u001b[0m\n\u001b[1;32m      1\u001b[0m \u001b[0;31m# 생성자로 인해 2개의 인자가 필요한데 아무 인자도 넣지 않고 클래스를 호출하면 에러가 발생\u001b[0m\u001b[0;34m\u001b[0m\u001b[0;34m\u001b[0m\u001b[0;34m\u001b[0m\u001b[0m\n\u001b[0;32m----> 2\u001b[0;31m \u001b[0ma\u001b[0m \u001b[0;34m=\u001b[0m \u001b[0mMyClass\u001b[0m\u001b[0;34m(\u001b[0m\u001b[0;34m)\u001b[0m\u001b[0;34m\u001b[0m\u001b[0;34m\u001b[0m\u001b[0m\n\u001b[0m",
      "\u001b[0;31mTypeError\u001b[0m: __init__() missing 2 required positional arguments: 'var_1' and 'var_2'"
     ]
    }
   ],
   "source": [
    "# 생성자로 인해 2개의 인자가 필요한데 아무 인자도 넣지 않고 클래스를 호출하면 에러가 발생\n",
    "a = MyClass()"
   ]
  },
  {
   "cell_type": "code",
   "execution_count": 15,
   "id": "b52ef7e8-292c-44c1-af91-0da54d4b9f60",
   "metadata": {},
   "outputs": [],
   "source": [
    "# 초기값으로 30과 50을 주고 객체 생성\n",
    "a = MyClass(30, 50)"
   ]
  },
  {
   "cell_type": "code",
   "execution_count": 16,
   "id": "1655adf6-1ae5-4e2c-a9a6-781903454c6b",
   "metadata": {},
   "outputs": [
    {
     "data": {
      "text/plain": [
       "(30, 50)"
      ]
     },
     "execution_count": 16,
     "metadata": {},
     "output_type": "execute_result"
    }
   ],
   "source": [
    "# 객체변수에 접근\n",
    "a.var_1, a.var_2"
   ]
  },
  {
   "cell_type": "code",
   "execution_count": 17,
   "id": "c3c53c86-1d63-4b6f-940b-b2a28e22bfc3",
   "metadata": {},
   "outputs": [
    {
     "data": {
      "text/plain": [
       "(100, 5000)"
      ]
     },
     "execution_count": 17,
     "metadata": {},
     "output_type": "execute_result"
    }
   ],
   "source": [
    "a = MyClass(100, 5000)\n",
    "a.var_1, a.var_2"
   ]
  },
  {
   "cell_type": "markdown",
   "id": "e02fb88f-c7dc-4592-a2a6-034bf8d09d17",
   "metadata": {},
   "source": [
    "## 4. 메소드 추가"
   ]
  },
  {
   "cell_type": "code",
   "execution_count": 18,
   "id": "287fcb26-46b3-4750-9b0c-4589402a2aec",
   "metadata": {},
   "outputs": [],
   "source": [
    "class MyClass:\n",
    "    def __init__(self, var_1, var_2):\n",
    "        self.var_1 = var_1\n",
    "        self.var_2 = var_2\n",
    "        \n",
    "    def add(self):\n",
    "        result = self.var_1 + self.var_2\n",
    "        return result"
   ]
  },
  {
   "cell_type": "code",
   "execution_count": 19,
   "id": "ff35a538-bdb5-419b-9fc1-2b814cd9640f",
   "metadata": {},
   "outputs": [],
   "source": [
    "# 초기값으로 30과 50을 주고 객체 생성\n",
    "a = MyClass(30, 50)"
   ]
  },
  {
   "cell_type": "code",
   "execution_count": 20,
   "id": "b5067726-d383-49e7-bcbf-264bde686b69",
   "metadata": {},
   "outputs": [
    {
     "data": {
      "text/plain": [
       "80"
      ]
     },
     "execution_count": 20,
     "metadata": {},
     "output_type": "execute_result"
    }
   ],
   "source": [
    "# 메소드 사용\n",
    "a.add()"
   ]
  },
  {
   "cell_type": "code",
   "execution_count": null,
   "id": "7832ce11-370c-4727-804e-d2a5be19317f",
   "metadata": {},
   "outputs": [],
   "source": []
  }
 ],
 "metadata": {
  "kernelspec": {
   "display_name": "Python 3",
   "language": "python",
   "name": "python3"
  },
  "language_info": {
   "codemirror_mode": {
    "name": "ipython",
    "version": 3
   },
   "file_extension": ".py",
   "mimetype": "text/x-python",
   "name": "python",
   "nbconvert_exporter": "python",
   "pygments_lexer": "ipython3",
   "version": "3.8.8"
  }
 },
 "nbformat": 4,
 "nbformat_minor": 5
}
